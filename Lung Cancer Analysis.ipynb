{
 "cells": [
  {
   "attachments": {},
   "cell_type": "markdown",
   "metadata": {},
   "source": [
    "Problem: What is the most reliable factor in predicting lung cancer?"
   ]
  },
  {
   "attachments": {},
   "cell_type": "markdown",
   "metadata": {},
   "source": [
    "## Import Libraries"
   ]
  },
  {
   "cell_type": "code",
   "execution_count": 70,
   "metadata": {},
   "outputs": [],
   "source": [
    "import numpy as np\n",
    "import pandas as pd\n",
    "import seaborn as sb\n",
    "import matplotlib.pyplot as plt\n",
    "import plotly.express as px\n",
    "\n",
    "sb.set()\n",
    "lung = pd.read_csv('cancer patient data sets.csv')"
   ]
  },
  {
   "attachments": {},
   "cell_type": "markdown",
   "metadata": {},
   "source": [
    "## Factors and Examples"
   ]
  },
  {
   "cell_type": "code",
   "execution_count": 31,
   "metadata": {},
   "outputs": [
    {
     "data": {
      "text/html": [
       "<div>\n",
       "<style scoped>\n",
       "    .dataframe tbody tr th:only-of-type {\n",
       "        vertical-align: middle;\n",
       "    }\n",
       "\n",
       "    .dataframe tbody tr th {\n",
       "        vertical-align: top;\n",
       "    }\n",
       "\n",
       "    .dataframe thead th {\n",
       "        text-align: right;\n",
       "    }\n",
       "</style>\n",
       "<table border=\"1\" class=\"dataframe\">\n",
       "  <thead>\n",
       "    <tr style=\"text-align: right;\">\n",
       "      <th></th>\n",
       "      <th>index</th>\n",
       "      <th>Patient Id</th>\n",
       "      <th>Age</th>\n",
       "      <th>Gender</th>\n",
       "      <th>Air Pollution</th>\n",
       "      <th>Alcohol use</th>\n",
       "      <th>Dust Allergy</th>\n",
       "      <th>OccuPational Hazards</th>\n",
       "      <th>Genetic Risk</th>\n",
       "      <th>chronic Lung Disease</th>\n",
       "      <th>...</th>\n",
       "      <th>Fatigue</th>\n",
       "      <th>Weight Loss</th>\n",
       "      <th>Shortness of Breath</th>\n",
       "      <th>Wheezing</th>\n",
       "      <th>Swallowing Difficulty</th>\n",
       "      <th>Clubbing of Finger Nails</th>\n",
       "      <th>Frequent Cold</th>\n",
       "      <th>Dry Cough</th>\n",
       "      <th>Snoring</th>\n",
       "      <th>Level</th>\n",
       "    </tr>\n",
       "  </thead>\n",
       "  <tbody>\n",
       "    <tr>\n",
       "      <th>0</th>\n",
       "      <td>0</td>\n",
       "      <td>P1</td>\n",
       "      <td>33</td>\n",
       "      <td>1</td>\n",
       "      <td>2</td>\n",
       "      <td>4</td>\n",
       "      <td>5</td>\n",
       "      <td>4</td>\n",
       "      <td>3</td>\n",
       "      <td>2</td>\n",
       "      <td>...</td>\n",
       "      <td>3</td>\n",
       "      <td>4</td>\n",
       "      <td>2</td>\n",
       "      <td>2</td>\n",
       "      <td>3</td>\n",
       "      <td>1</td>\n",
       "      <td>2</td>\n",
       "      <td>3</td>\n",
       "      <td>4</td>\n",
       "      <td>Low</td>\n",
       "    </tr>\n",
       "    <tr>\n",
       "      <th>1</th>\n",
       "      <td>1</td>\n",
       "      <td>P10</td>\n",
       "      <td>17</td>\n",
       "      <td>1</td>\n",
       "      <td>3</td>\n",
       "      <td>1</td>\n",
       "      <td>5</td>\n",
       "      <td>3</td>\n",
       "      <td>4</td>\n",
       "      <td>2</td>\n",
       "      <td>...</td>\n",
       "      <td>1</td>\n",
       "      <td>3</td>\n",
       "      <td>7</td>\n",
       "      <td>8</td>\n",
       "      <td>6</td>\n",
       "      <td>2</td>\n",
       "      <td>1</td>\n",
       "      <td>7</td>\n",
       "      <td>2</td>\n",
       "      <td>Medium</td>\n",
       "    </tr>\n",
       "    <tr>\n",
       "      <th>2</th>\n",
       "      <td>2</td>\n",
       "      <td>P100</td>\n",
       "      <td>35</td>\n",
       "      <td>1</td>\n",
       "      <td>4</td>\n",
       "      <td>5</td>\n",
       "      <td>6</td>\n",
       "      <td>5</td>\n",
       "      <td>5</td>\n",
       "      <td>4</td>\n",
       "      <td>...</td>\n",
       "      <td>8</td>\n",
       "      <td>7</td>\n",
       "      <td>9</td>\n",
       "      <td>2</td>\n",
       "      <td>1</td>\n",
       "      <td>4</td>\n",
       "      <td>6</td>\n",
       "      <td>7</td>\n",
       "      <td>2</td>\n",
       "      <td>High</td>\n",
       "    </tr>\n",
       "    <tr>\n",
       "      <th>3</th>\n",
       "      <td>3</td>\n",
       "      <td>P1000</td>\n",
       "      <td>37</td>\n",
       "      <td>1</td>\n",
       "      <td>7</td>\n",
       "      <td>7</td>\n",
       "      <td>7</td>\n",
       "      <td>7</td>\n",
       "      <td>6</td>\n",
       "      <td>7</td>\n",
       "      <td>...</td>\n",
       "      <td>4</td>\n",
       "      <td>2</td>\n",
       "      <td>3</td>\n",
       "      <td>1</td>\n",
       "      <td>4</td>\n",
       "      <td>5</td>\n",
       "      <td>6</td>\n",
       "      <td>7</td>\n",
       "      <td>5</td>\n",
       "      <td>High</td>\n",
       "    </tr>\n",
       "    <tr>\n",
       "      <th>4</th>\n",
       "      <td>4</td>\n",
       "      <td>P101</td>\n",
       "      <td>46</td>\n",
       "      <td>1</td>\n",
       "      <td>6</td>\n",
       "      <td>8</td>\n",
       "      <td>7</td>\n",
       "      <td>7</td>\n",
       "      <td>7</td>\n",
       "      <td>6</td>\n",
       "      <td>...</td>\n",
       "      <td>3</td>\n",
       "      <td>2</td>\n",
       "      <td>4</td>\n",
       "      <td>1</td>\n",
       "      <td>4</td>\n",
       "      <td>2</td>\n",
       "      <td>4</td>\n",
       "      <td>2</td>\n",
       "      <td>3</td>\n",
       "      <td>High</td>\n",
       "    </tr>\n",
       "  </tbody>\n",
       "</table>\n",
       "<p>5 rows × 26 columns</p>\n",
       "</div>"
      ],
      "text/plain": [
       "   index Patient Id  Age  Gender  Air Pollution  Alcohol use  Dust Allergy  \\\n",
       "0      0         P1   33       1              2            4             5   \n",
       "1      1        P10   17       1              3            1             5   \n",
       "2      2       P100   35       1              4            5             6   \n",
       "3      3      P1000   37       1              7            7             7   \n",
       "4      4       P101   46       1              6            8             7   \n",
       "\n",
       "   OccuPational Hazards  Genetic Risk  chronic Lung Disease  ...  Fatigue  \\\n",
       "0                     4             3                     2  ...        3   \n",
       "1                     3             4                     2  ...        1   \n",
       "2                     5             5                     4  ...        8   \n",
       "3                     7             6                     7  ...        4   \n",
       "4                     7             7                     6  ...        3   \n",
       "\n",
       "   Weight Loss  Shortness of Breath  Wheezing  Swallowing Difficulty  \\\n",
       "0            4                    2         2                      3   \n",
       "1            3                    7         8                      6   \n",
       "2            7                    9         2                      1   \n",
       "3            2                    3         1                      4   \n",
       "4            2                    4         1                      4   \n",
       "\n",
       "   Clubbing of Finger Nails  Frequent Cold  Dry Cough  Snoring   Level  \n",
       "0                         1              2          3        4     Low  \n",
       "1                         2              1          7        2  Medium  \n",
       "2                         4              6          7        2    High  \n",
       "3                         5              6          7        5    High  \n",
       "4                         2              4          2        3    High  \n",
       "\n",
       "[5 rows x 26 columns]"
      ]
     },
     "execution_count": 31,
     "metadata": {},
     "output_type": "execute_result"
    }
   ],
   "source": [
    "lung.head()"
   ]
  },
  {
   "attachments": {},
   "cell_type": "markdown",
   "metadata": {},
   "source": [
    "Data can be split into two categories.\n",
    "### Predictors by Cause\n",
    "\n",
    "Age\tGender\tAir Pollution\tAlcohol use\tDust Allergy\tOccuPational Hazards\tGenetic Risk\tchronic Lung Disease\tBalanced Diet\tObesity\tSmoking\tPassive Smoker\n",
    "\n",
    "### Predictors by Symptoms\n",
    "Chest Pain\tCoughing of Blood\tFatigue\tWeight Loss\tShortness of Breath\tWheezing\tSwallowing Difficulty\tClubbing of Finger Nails\tFrequent Cold\tDry Cough\tSnoring     Level of Fingernail Clubbing\n"
   ]
  },
  {
   "attachments": {},
   "cell_type": "markdown",
   "metadata": {},
   "source": [
    "## Exploratory Data Analysis (Cause)\n"
   ]
  },
  {
   "cell_type": "code",
   "execution_count": 30,
   "metadata": {},
   "outputs": [
    {
     "name": "stdout",
     "output_type": "stream",
     "text": [
      "<class 'pandas.core.frame.DataFrame'>\n",
      "RangeIndex: 1000 entries, 0 to 999\n",
      "Data columns (total 26 columns):\n",
      " #   Column                    Non-Null Count  Dtype \n",
      "---  ------                    --------------  ----- \n",
      " 0   index                     1000 non-null   int64 \n",
      " 1   Patient Id                1000 non-null   object\n",
      " 2   Age                       1000 non-null   int64 \n",
      " 3   Gender                    1000 non-null   int64 \n",
      " 4   Air Pollution             1000 non-null   int64 \n",
      " 5   Alcohol use               1000 non-null   int64 \n",
      " 6   Dust Allergy              1000 non-null   int64 \n",
      " 7   OccuPational Hazards      1000 non-null   int64 \n",
      " 8   Genetic Risk              1000 non-null   int64 \n",
      " 9   chronic Lung Disease      1000 non-null   int64 \n",
      " 10  Balanced Diet             1000 non-null   int64 \n",
      " 11  Obesity                   1000 non-null   int64 \n",
      " 12  Smoking                   1000 non-null   int64 \n",
      " 13  Passive Smoker            1000 non-null   int64 \n",
      " 14  Chest Pain                1000 non-null   int64 \n",
      " 15  Coughing of Blood         1000 non-null   int64 \n",
      " 16  Fatigue                   1000 non-null   int64 \n",
      " 17  Weight Loss               1000 non-null   int64 \n",
      " 18  Shortness of Breath       1000 non-null   int64 \n",
      " 19  Wheezing                  1000 non-null   int64 \n",
      " 20  Swallowing Difficulty     1000 non-null   int64 \n",
      " 21  Clubbing of Finger Nails  1000 non-null   int64 \n",
      " 22  Frequent Cold             1000 non-null   int64 \n",
      " 23  Dry Cough                 1000 non-null   int64 \n",
      " 24  Snoring                   1000 non-null   int64 \n",
      " 25  Level                     1000 non-null   object\n",
      "dtypes: int64(24), object(2)\n",
      "memory usage: 203.2+ KB\n"
     ]
    }
   ],
   "source": [
    "lung.info()"
   ]
  },
  {
   "attachments": {},
   "cell_type": "markdown",
   "metadata": {},
   "source": [
    "#### Gender"
   ]
  },
  {
   "cell_type": "code",
   "execution_count": 37,
   "metadata": {},
   "outputs": [
    {
     "name": "stdout",
     "output_type": "stream",
     "text": [
      "1    598\n",
      "2    402\n",
      "Name: Gender, dtype: int64\n"
     ]
    }
   ],
   "source": [
    "gender = lung[\"Gender\"].value_counts()\n",
    "print(gender)"
   ]
  },
  {
   "attachments": {},
   "cell_type": "markdown",
   "metadata": {},
   "source": [
    "### Find Column with the greater standard deviation"
   ]
  },
  {
   "attachments": {},
   "cell_type": "markdown",
   "metadata": {},
   "source": [
    "#### Air Pollution"
   ]
  },
  {
   "cell_type": "code",
   "execution_count": 21,
   "metadata": {},
   "outputs": [
    {
     "name": "stdout",
     "output_type": "stream",
     "text": [
      "Sample standard deviation:  2.0303995967598403\n",
      "Population standard deviation:  2.029384143034531\n",
      "Median:  3.0\n"
     ]
    }
   ],
   "source": [
    "airPollution = lung['Air Pollution']\n",
    "arrAirPollution = np.array(airPollution)\n",
    "sample_std_airPollution = np.std(arrAirPollution, ddof=1)\n",
    "pop_std_airPollution = np.std(arrAirPollution)\n",
    "median_airPollution = np.median(arrAirPollution)\n",
    "print('Sample standard deviation: ', sample_std_airPollution)\n",
    "print('Population standard deviation: ', pop_std_airPollution)\n",
    "print('Median: ', median_airPollution)"
   ]
  },
  {
   "attachments": {},
   "cell_type": "markdown",
   "metadata": {},
   "source": [
    "#### Alcohol Use"
   ]
  },
  {
   "cell_type": "code",
   "execution_count": 22,
   "metadata": {},
   "outputs": [
    {
     "name": "stdout",
     "output_type": "stream",
     "text": [
      "Sample standard deviation:  2.6204766547133937\n",
      "Population standard deviation:  2.619166088662573\n",
      "Median:  5.0\n"
     ]
    }
   ],
   "source": [
    "alcohol = lung['Alcohol use']\n",
    "arrAlcohol = np.array(alcohol)\n",
    "s_std_alcohol = np.std(arrAlcohol,ddof=1)\n",
    "p_std_alcohol = np.std(arrAlcohol)\n",
    "median_alcohol = np.median(arrAlcohol)\n",
    "print('Sample standard deviation: ', s_std_alcohol)\n",
    "print('Population standard deviation: ', p_std_alcohol)\n",
    "print('Median: ', median_alcohol)"
   ]
  },
  {
   "attachments": {},
   "cell_type": "markdown",
   "metadata": {},
   "source": [
    "#### Dust Allergy"
   ]
  },
  {
   "cell_type": "code",
   "execution_count": 23,
   "metadata": {},
   "outputs": [
    {
     "name": "stdout",
     "output_type": "stream",
     "text": [
      "Sample standard deviation:  1.980832829569093\n",
      "Population standard deviation:  1.9798421654263252\n",
      "Median:  6.0\n"
     ]
    }
   ],
   "source": [
    "dust = lung['Dust Allergy']\n",
    "arrDust = np.array(dust)\n",
    "s_std_dust = np.std(arrDust,ddof=1)\n",
    "p_std_dust = np.std(arrDust)\n",
    "median_dust = np.median(arrDust)\n",
    "print('Sample standard deviation: ', s_std_dust)\n",
    "print('Population standard deviation: ', p_std_dust)\n",
    "print('Median: ', median_dust)"
   ]
  },
  {
   "attachments": {},
   "cell_type": "markdown",
   "metadata": {},
   "source": [
    "#### Occupational Hazard"
   ]
  },
  {
   "cell_type": "code",
   "execution_count": 29,
   "metadata": {},
   "outputs": [
    {
     "name": "stdout",
     "output_type": "stream",
     "text": [
      "Sample standard deviation:  2.107805219379353\n",
      "Population standard deviation:  2.1067510531621907\n",
      "Median:  2.1067510531621907\n"
     ]
    }
   ],
   "source": [
    "job = lung['OccuPational Hazards']\n",
    "arrJob = np.array(job)\n",
    "s_std_job = np.std(arrJob, ddof=1)\n",
    "p_std_job = np.std(arrJob)\n",
    "median_job = np.std(arrJob)\n",
    "print('Sample standard deviation: ', s_std_job)\n",
    "print('Population standard deviation: ', p_std_job)\n",
    "print('Median: ', median_job)"
   ]
  },
  {
   "attachments": {},
   "cell_type": "markdown",
   "metadata": {},
   "source": [
    "#### Genetic Risk"
   ]
  },
  {
   "cell_type": "code",
   "execution_count": 24,
   "metadata": {},
   "outputs": [
    {
     "name": "stdout",
     "output_type": "stream",
     "text": [
      "Sample standard deviation:  2.126998853813543\n",
      "Population standard deviation:  2.1259350883787587\n",
      "Median:  5.0\n"
     ]
    }
   ],
   "source": [
    "genes = lung['Genetic Risk']\n",
    "arrGenes = np.array(genes)\n",
    "s_std_gene = np.std(arrGenes,ddof=1)\n",
    "p_std_gene = np.std(arrGenes)\n",
    "median_genes = np.median(arrGenes)\n",
    "print('Sample standard deviation: ', s_std_gene)\n",
    "print('Population standard deviation: ', p_std_gene)\n",
    "print('Median: ', median_genes)"
   ]
  },
  {
   "attachments": {},
   "cell_type": "markdown",
   "metadata": {},
   "source": [
    "#### Balanced Diet"
   ]
  },
  {
   "cell_type": "code",
   "execution_count": 25,
   "metadata": {},
   "outputs": [
    {
     "name": "stdout",
     "output_type": "stream",
     "text": [
      "Sample standard deviation:  2.1355279158745453\n",
      "Population standard deviation:  2.1344598848420646\n",
      "Median:  4.0\n"
     ]
    }
   ],
   "source": [
    "diet = lung['Balanced Diet']\n",
    "arrDiet = np.array(diet)\n",
    "s_std_diet = np.std(arrDiet,ddof=1)\n",
    "p_std_diet = np.std(arrDiet)\n",
    "median_diet = np.median(arrDiet)\n",
    "print('Sample standard deviation: ', s_std_diet)\n",
    "print('Population standard deviation: ', p_std_diet)\n",
    "print('Median: ', median_diet)"
   ]
  },
  {
   "attachments": {},
   "cell_type": "markdown",
   "metadata": {},
   "source": [
    "#### Obesity"
   ]
  },
  {
   "cell_type": "code",
   "execution_count": 26,
   "metadata": {},
   "outputs": [
    {
     "name": "stdout",
     "output_type": "stream",
     "text": [
      "Sample standard deviation:  2.1249212433147475\n",
      "Population standard deviation:  2.123858516945044\n",
      "Median:  4.0\n"
     ]
    }
   ],
   "source": [
    "obese = lung['Obesity']\n",
    "arrObese = np.array(obese)\n",
    "s_std_obese = np.std(arrObese,ddof=1)\n",
    "p_std_obese = np.std(arrObese)\n",
    "median_obese = np.median(arrObese)\n",
    "print('Sample standard deviation: ', s_std_obese)\n",
    "print('Population standard deviation: ', p_std_obese)\n",
    "print('Median: ', median_obese)"
   ]
  },
  {
   "attachments": {},
   "cell_type": "markdown",
   "metadata": {},
   "source": [
    "#### Smoking"
   ]
  },
  {
   "cell_type": "code",
   "execution_count": 27,
   "metadata": {},
   "outputs": [
    {
     "name": "stdout",
     "output_type": "stream",
     "text": [
      "Sample standard deviation:  2.495901745967883\n",
      "Population standard deviation:  2.4946534829510894\n",
      "Median:  2.4946534829510894\n"
     ]
    }
   ],
   "source": [
    "smoke = lung['Smoking']\n",
    "arrSmoke = np.array(smoke)\n",
    "s_std_smoke = np.std(arrSmoke, ddof=1)\n",
    "p_std_smoke = np.std(arrSmoke)\n",
    "median_smoke = np.std(arrSmoke)\n",
    "print('Sample standard deviation: ', s_std_smoke)\n",
    "print('Population standard deviation: ', p_std_smoke)\n",
    "print('Median: ', median_smoke)\n"
   ]
  },
  {
   "attachments": {},
   "cell_type": "markdown",
   "metadata": {},
   "source": [
    "#### Passive Smoker"
   ]
  },
  {
   "cell_type": "code",
   "execution_count": 28,
   "metadata": {},
   "outputs": [
    {
     "name": "stdout",
     "output_type": "stream",
     "text": [
      "Sample standard deviation:  2.3117783888857772\n",
      "Population standard deviation:  2.310622210574459\n",
      "Median:  2.310622210574459\n"
     ]
    }
   ],
   "source": [
    "passive = lung['Passive Smoker']\n",
    "arrPassive = np.array(passive)\n",
    "s_std_passive = np.std(arrPassive, ddof=1)\n",
    "p_std_passive = np.std(arrPassive)\n",
    "median_passive = np.std(arrPassive)\n",
    "print('Sample standard deviation: ', s_std_passive)\n",
    "print('Population standard deviation: ', p_std_passive)\n",
    "print('Median: ', median_passive)"
   ]
  },
  {
   "attachments": {},
   "cell_type": "markdown",
   "metadata": {},
   "source": [
    "From this, the standard deviation for alcohol use is the highest and the standard deviation for dust allergy and air pollution is the lowest. \n",
    "\n",
    "Looking at the median for both these factors, dust allergy at 6.0 is slightly above avergae. i.e. most people have some level of dust allergy. This also means that most people do not have mild dust allergy.  \n",
    "\n",
    "Alcohol use median is 5.0, this shows that while most people consume an average amount of alcohol, there are patients with a high consumption as well as patients with low consumption. "
   ]
  },
  {
   "attachments": {},
   "cell_type": "markdown",
   "metadata": {},
   "source": [
    "### Symptoms Analysis"
   ]
  },
  {
   "cell_type": "code",
   "execution_count": 83,
   "metadata": {},
   "outputs": [
    {
     "data": {
      "application/vnd.plotly.v1+json": {
       "config": {
        "plotlyServerURL": "https://plot.ly"
       },
       "data": [
        {
         "alignmentgroup": "True",
         "bingroup": "x",
         "hovertemplate": "Coughing of Blood=4<br>Level=%{x}<br>count=%{y}<extra></extra>",
         "legendgroup": "4",
         "marker": {
          "color": "#636efa",
          "pattern": {
           "shape": ""
          }
         },
         "name": "4",
         "nbinsx": 10,
         "offsetgroup": "4",
         "orientation": "v",
         "showlegend": true,
         "texttemplate": "%{value}",
         "type": "histogram",
         "x": [
          "Low",
          "Low",
          "Medium",
          "Medium",
          "Low",
          "Low",
          "Low",
          "Low",
          "Low",
          "Low",
          "Medium",
          "Medium",
          "Medium",
          "Medium",
          "Medium",
          "Medium",
          "Medium",
          "Medium",
          "Medium",
          "Low",
          "Medium",
          "Medium",
          "Low",
          "Low",
          "Low",
          "Low",
          "Low",
          "Low",
          "Medium",
          "Medium",
          "Low",
          "Medium",
          "Medium",
          "Medium",
          "Medium",
          "Medium",
          "Medium",
          "Low",
          "Low",
          "Medium",
          "Medium",
          "Low",
          "Low",
          "Low",
          "Low",
          "Low",
          "Low",
          "Low",
          "Medium",
          "Medium",
          "Medium",
          "Medium",
          "Medium",
          "Medium",
          "Medium",
          "Medium",
          "Low",
          "Medium",
          "Low",
          "Medium",
          "Low",
          "Medium",
          "Low",
          "Low",
          "Low",
          "Low",
          "Low",
          "Low",
          "Medium",
          "Medium",
          "Medium",
          "Medium",
          "Medium",
          "Medium",
          "Medium",
          "Medium",
          "Low",
          "Low",
          "Medium",
          "Medium",
          "Low",
          "Medium",
          "Low",
          "Low",
          "Low",
          "Low",
          "Medium",
          "Low",
          "Medium",
          "Medium",
          "Medium",
          "Medium",
          "Medium",
          "Medium",
          "Medium",
          "Medium",
          "Medium",
          "Low",
          "Medium",
          "Medium",
          "Medium",
          "Low",
          "Low",
          "Low",
          "Medium",
          "Low",
          "Low",
          "Low",
          "Medium",
          "Medium",
          "Medium",
          "Medium",
          "Medium",
          "Medium",
          "Medium",
          "Medium",
          "Medium",
          "Low",
          "Medium",
          "Medium",
          "Medium",
          "Low",
          "Medium",
          "Low",
          "Low",
          "Low",
          "Low",
          "Low",
          "Medium",
          "Medium",
          "Medium",
          "Medium",
          "Medium",
          "Medium",
          "Medium",
          "Medium",
          "Low",
          "Medium",
          "Medium",
          "Low",
          "Low",
          "Low",
          "Low",
          "Low",
          "Low",
          "Medium",
          "Medium",
          "Medium",
          "Medium",
          "Medium",
          "Medium",
          "Medium",
          "Medium",
          "Low",
          "Medium",
          "Medium",
          "Low",
          "Low",
          "Low",
          "Low",
          "Low",
          "Low",
          "Medium",
          "Medium",
          "Medium",
          "Medium",
          "Medium",
          "Medium",
          "Medium",
          "Medium",
          "Low",
          "Medium"
         ],
         "xaxis": "x",
         "yaxis": "y"
        },
        {
         "alignmentgroup": "True",
         "bingroup": "x",
         "hovertemplate": "Coughing of Blood=3<br>Level=%{x}<br>count=%{y}<extra></extra>",
         "legendgroup": "3",
         "marker": {
          "color": "#EF553B",
          "pattern": {
           "shape": ""
          }
         },
         "name": "3",
         "nbinsx": 10,
         "offsetgroup": "3",
         "orientation": "v",
         "showlegend": true,
         "texttemplate": "%{value}",
         "type": "histogram",
         "x": [
          "Medium",
          "Medium",
          "Medium",
          "Medium",
          "High",
          "Low",
          "Low",
          "Low",
          "Medium",
          "Medium",
          "Medium",
          "Medium",
          "Medium",
          "Medium",
          "Medium",
          "Medium",
          "Medium",
          "Medium",
          "Medium",
          "Medium",
          "Medium",
          "Medium",
          "Medium",
          "High",
          "Low",
          "High",
          "Low",
          "Low",
          "Medium",
          "Medium",
          "Medium",
          "Medium",
          "Medium",
          "Medium",
          "Medium",
          "Medium",
          "Medium",
          "Medium",
          "Medium",
          "Medium",
          "Medium",
          "High",
          "Low",
          "Low",
          "Low",
          "Low",
          "Medium",
          "Medium",
          "Medium",
          "Medium",
          "Medium",
          "Medium",
          "Medium",
          "Medium",
          "Medium",
          "Medium",
          "Medium",
          "Medium",
          "Medium",
          "High",
          "Low",
          "Low",
          "Low",
          "Low",
          "Medium",
          "Medium",
          "Medium",
          "Medium",
          "Medium",
          "Medium",
          "Medium",
          "Medium",
          "Medium",
          "Medium",
          "Medium",
          "Low",
          "Medium",
          "Medium",
          "High",
          "Low",
          "Medium",
          "Low",
          "Low",
          "Medium",
          "Medium",
          "Medium",
          "Medium",
          "Medium",
          "Medium",
          "Medium",
          "Medium",
          "Medium",
          "Medium",
          "Medium",
          "Medium",
          "Medium",
          "Medium",
          "Medium",
          "Medium",
          "High",
          "Medium",
          "Low",
          "Low",
          "Medium",
          "Low",
          "Medium",
          "Medium",
          "Medium",
          "Medium",
          "Medium",
          "Medium",
          "Medium",
          "Medium",
          "Medium",
          "Medium",
          "Medium",
          "Medium",
          "Medium",
          "Medium",
          "Medium",
          "Medium",
          "High",
          "Low",
          "Medium",
          "Low",
          "Low",
          "Medium",
          "Medium",
          "Medium",
          "Medium",
          "Medium",
          "Medium",
          "Medium",
          "Medium",
          "Medium",
          "Medium",
          "Medium",
          "Medium",
          "Medium",
          "High",
          "Low",
          "Low",
          "Low",
          "Medium",
          "Medium",
          "Medium",
          "Medium",
          "Medium",
          "Medium",
          "Medium",
          "Medium",
          "Medium",
          "Medium",
          "Medium",
          "Medium",
          "Medium",
          "High",
          "Low",
          "Low",
          "Low",
          "Medium",
          "Medium",
          "Medium",
          "Medium",
          "Medium",
          "Medium",
          "Medium",
          "Medium",
          "Medium",
          "Medium",
          "Medium"
         ],
         "xaxis": "x",
         "yaxis": "y"
        },
        {
         "alignmentgroup": "True",
         "bingroup": "x",
         "hovertemplate": "Coughing of Blood=8<br>Level=%{x}<br>count=%{y}<extra></extra>",
         "legendgroup": "8",
         "marker": {
          "color": "#00cc96",
          "pattern": {
           "shape": ""
          }
         },
         "name": "8",
         "nbinsx": 10,
         "offsetgroup": "8",
         "orientation": "v",
         "showlegend": true,
         "texttemplate": "%{value}",
         "type": "histogram",
         "x": [
          "High",
          "High",
          "High",
          "High",
          "High",
          "High",
          "Low",
          "High",
          "High",
          "High",
          "High",
          "High",
          "High",
          "High",
          "High",
          "High",
          "High",
          "High",
          "High",
          "Low",
          "High",
          "High",
          "High",
          "Low",
          "High",
          "High",
          "High",
          "High",
          "High",
          "High",
          "High",
          "High",
          "Low",
          "High",
          "High",
          "High",
          "High",
          "High",
          "High",
          "High",
          "High",
          "High",
          "High",
          "High",
          "Low",
          "High",
          "High",
          "High",
          "High",
          "High",
          "High",
          "High",
          "High",
          "High",
          "High",
          "High",
          "Low",
          "High",
          "High",
          "High",
          "High",
          "High",
          "High",
          "High",
          "High",
          "High",
          "High",
          "High",
          "Low",
          "High",
          "High",
          "High",
          "High",
          "High",
          "High",
          "High",
          "High",
          "High",
          "High",
          "High",
          "Low",
          "High",
          "High",
          "High",
          "High",
          "High",
          "High",
          "High",
          "High",
          "High",
          "High",
          "High",
          "High",
          "High",
          "Low",
          "High",
          "High",
          "High",
          "High",
          "High",
          "High",
          "High",
          "High",
          "High",
          "High",
          "High",
          "High",
          "High",
          "High",
          "Low",
          "High",
          "High",
          "High",
          "High",
          "High",
          "High",
          "High",
          "High",
          "High"
         ],
         "xaxis": "x",
         "yaxis": "y"
        },
        {
         "alignmentgroup": "True",
         "bingroup": "x",
         "hovertemplate": "Coughing of Blood=9<br>Level=%{x}<br>count=%{y}<extra></extra>",
         "legendgroup": "9",
         "marker": {
          "color": "#ab63fa",
          "pattern": {
           "shape": ""
          }
         },
         "name": "9",
         "nbinsx": 10,
         "offsetgroup": "9",
         "orientation": "v",
         "showlegend": true,
         "texttemplate": "%{value}",
         "type": "histogram",
         "x": [
          "High",
          "High",
          "High",
          "High",
          "High",
          "High",
          "High",
          "High",
          "High",
          "High",
          "High",
          "High",
          "High",
          "High",
          "High",
          "High",
          "High",
          "High",
          "High",
          "High",
          "High",
          "High",
          "High",
          "High",
          "High",
          "High",
          "High",
          "High",
          "High",
          "High",
          "High",
          "High",
          "High",
          "High",
          "High",
          "High",
          "High",
          "High",
          "High",
          "High",
          "High",
          "High",
          "High",
          "High",
          "High",
          "High",
          "High",
          "High",
          "High",
          "High",
          "High",
          "High",
          "High",
          "High",
          "High",
          "High",
          "High",
          "High",
          "High",
          "High"
         ],
         "xaxis": "x",
         "yaxis": "y"
        },
        {
         "alignmentgroup": "True",
         "bingroup": "x",
         "hovertemplate": "Coughing of Blood=1<br>Level=%{x}<br>count=%{y}<extra></extra>",
         "legendgroup": "1",
         "marker": {
          "color": "#FFA15A",
          "pattern": {
           "shape": ""
          }
         },
         "name": "1",
         "nbinsx": 10,
         "offsetgroup": "1",
         "orientation": "v",
         "showlegend": true,
         "texttemplate": "%{value}",
         "type": "histogram",
         "x": [
          "Low",
          "Low",
          "Low",
          "Low",
          "Low",
          "Low",
          "Low",
          "Low",
          "Low",
          "Low",
          "Low",
          "Low",
          "Low",
          "Low",
          "Low",
          "Low",
          "Low",
          "Low",
          "Low",
          "Low",
          "Low",
          "Low",
          "Low",
          "Low",
          "Low",
          "Low",
          "Low",
          "Low",
          "Low",
          "Low",
          "Low",
          "Low",
          "Low",
          "Low",
          "Low",
          "Low",
          "Low",
          "Low",
          "Low",
          "Low",
          "Low",
          "Low",
          "Low",
          "Low",
          "Low",
          "Low",
          "Low",
          "Low",
          "Low",
          "Low",
          "Low",
          "Low",
          "Low",
          "Low",
          "Low",
          "Low",
          "Low",
          "Low",
          "Low",
          "Low",
          "Low",
          "Low",
          "Low",
          "Low",
          "Low",
          "Low",
          "Low",
          "Low",
          "Low",
          "Low",
          "Low"
         ],
         "xaxis": "x",
         "yaxis": "y"
        },
        {
         "alignmentgroup": "True",
         "bingroup": "x",
         "hovertemplate": "Coughing of Blood=5<br>Level=%{x}<br>count=%{y}<extra></extra>",
         "legendgroup": "5",
         "marker": {
          "color": "#19d3f3",
          "pattern": {
           "shape": ""
          }
         },
         "name": "5",
         "nbinsx": 10,
         "offsetgroup": "5",
         "orientation": "v",
         "showlegend": true,
         "texttemplate": "%{value}",
         "type": "histogram",
         "x": [
          "Medium",
          "Medium",
          "Medium",
          "Medium",
          "Low",
          "Low",
          "Medium",
          "Medium",
          "Medium",
          "Low",
          "Low",
          "Medium",
          "Medium",
          "Medium",
          "Medium",
          "Low",
          "Low",
          "Medium",
          "Medium",
          "Medium",
          "Low",
          "Low",
          "Low",
          "Medium",
          "Low",
          "Medium",
          "Medium",
          "Low",
          "Low",
          "Medium",
          "Medium",
          "Medium",
          "Low",
          "Low",
          "Medium",
          "Medium",
          "Medium",
          "Low",
          "Low",
          "Medium",
          "Medium",
          "Medium",
          "Low",
          "Low",
          "Medium",
          "Medium",
          "Medium",
          "Medium",
          "Low",
          "Low"
         ],
         "xaxis": "x",
         "yaxis": "y"
        },
        {
         "alignmentgroup": "True",
         "bingroup": "x",
         "hovertemplate": "Coughing of Blood=7<br>Level=%{x}<br>count=%{y}<extra></extra>",
         "legendgroup": "7",
         "marker": {
          "color": "#FF6692",
          "pattern": {
           "shape": ""
          }
         },
         "name": "7",
         "nbinsx": 10,
         "offsetgroup": "7",
         "orientation": "v",
         "showlegend": true,
         "texttemplate": "%{value}",
         "type": "histogram",
         "x": [
          "High",
          "High",
          "High",
          "High",
          "High",
          "High",
          "Medium",
          "Medium",
          "Medium",
          "High",
          "High",
          "High",
          "High",
          "High",
          "High",
          "High",
          "High",
          "High",
          "High",
          "High",
          "High",
          "High",
          "High",
          "High",
          "High",
          "High",
          "High",
          "Medium",
          "Medium",
          "Medium",
          "Medium",
          "High",
          "High",
          "High",
          "High",
          "High",
          "High",
          "High",
          "High",
          "High",
          "High",
          "High",
          "High",
          "High",
          "High",
          "High",
          "High",
          "Medium",
          "Medium",
          "Medium",
          "High",
          "High",
          "High",
          "High",
          "High",
          "High",
          "High",
          "High",
          "High",
          "High",
          "High",
          "High",
          "High",
          "High",
          "High",
          "High",
          "Medium",
          "Medium",
          "Medium",
          "High",
          "High",
          "High",
          "High",
          "High",
          "High",
          "High",
          "High",
          "High",
          "High",
          "High",
          "High",
          "High",
          "High",
          "High",
          "High",
          "High",
          "Medium",
          "Medium",
          "Medium",
          "Medium",
          "High",
          "High",
          "High",
          "High",
          "High",
          "High",
          "High",
          "High",
          "High",
          "High",
          "High",
          "High",
          "High",
          "High",
          "High",
          "High",
          "High",
          "Medium",
          "Medium",
          "Medium",
          "Medium",
          "High",
          "High",
          "High",
          "High",
          "High",
          "High",
          "High",
          "High",
          "High",
          "High",
          "High",
          "High",
          "High",
          "High",
          "High",
          "High",
          "Medium",
          "High",
          "Medium",
          "High",
          "Medium",
          "High",
          "High",
          "High",
          "High",
          "High",
          "High",
          "High",
          "High",
          "High",
          "High",
          "High",
          "High",
          "High",
          "High",
          "High",
          "High",
          "High",
          "High",
          "Medium",
          "High",
          "High",
          "High",
          "Medium",
          "Medium",
          "High",
          "High",
          "High",
          "High",
          "High",
          "High",
          "High",
          "High",
          "High",
          "High",
          "High",
          "High",
          "High",
          "High",
          "High",
          "High",
          "High",
          "High",
          "Medium",
          "High",
          "High",
          "Medium",
          "Medium",
          "High",
          "High",
          "High",
          "High",
          "High",
          "High",
          "High",
          "High"
         ],
         "xaxis": "x",
         "yaxis": "y"
        },
        {
         "alignmentgroup": "True",
         "bingroup": "x",
         "hovertemplate": "Coughing of Blood=6<br>Level=%{x}<br>count=%{y}<extra></extra>",
         "legendgroup": "6",
         "marker": {
          "color": "#B6E880",
          "pattern": {
           "shape": ""
          }
         },
         "name": "6",
         "nbinsx": 10,
         "offsetgroup": "6",
         "orientation": "v",
         "showlegend": true,
         "texttemplate": "%{value}",
         "type": "histogram",
         "x": [
          "Medium",
          "High",
          "High",
          "High",
          "Low",
          "High",
          "Medium",
          "High",
          "High",
          "High",
          "Low",
          "High",
          "Medium",
          "High",
          "High",
          "Low",
          "High",
          "Medium",
          "High",
          "High",
          "Low",
          "Low",
          "High",
          "Medium",
          "High",
          "High",
          "Low",
          "High",
          "Medium",
          "High",
          "High",
          "Low",
          "High",
          "Medium",
          "Medium",
          "High",
          "High",
          "Low",
          "High",
          "High",
          "Medium",
          "High",
          "High",
          "Low",
          "High",
          "Medium",
          "High",
          "High",
          "Low"
         ],
         "xaxis": "x",
         "yaxis": "y"
        },
        {
         "alignmentgroup": "True",
         "bingroup": "x",
         "hovertemplate": "Coughing of Blood=2<br>Level=%{x}<br>count=%{y}<extra></extra>",
         "legendgroup": "2",
         "marker": {
          "color": "#FF97FF",
          "pattern": {
           "shape": ""
          }
         },
         "name": "2",
         "nbinsx": 10,
         "offsetgroup": "2",
         "orientation": "v",
         "showlegend": true,
         "texttemplate": "%{value}",
         "type": "histogram",
         "x": [
          "Low",
          "Medium",
          "Low",
          "Low",
          "Low",
          "Low",
          "Low",
          "Low",
          "Low",
          "Low",
          "Medium",
          "Medium",
          "Low",
          "Medium",
          "Medium",
          "Low",
          "Low",
          "Low",
          "Low",
          "Low",
          "Low",
          "Low",
          "Low",
          "Medium",
          "Medium",
          "Low",
          "Low",
          "Low",
          "Medium",
          "Low",
          "Low",
          "Low",
          "Low",
          "Low",
          "Low",
          "Low",
          "Low",
          "Low",
          "Low",
          "Medium",
          "Medium",
          "Low",
          "Low",
          "Low",
          "Medium",
          "Low",
          "Low",
          "Low",
          "Low",
          "Low",
          "Low",
          "Low",
          "Low",
          "Medium",
          "Medium",
          "Low",
          "Low",
          "Low",
          "Medium",
          "Low",
          "Low",
          "Low",
          "Low",
          "Low",
          "Low",
          "Low",
          "Low",
          "Medium",
          "Medium",
          "Medium",
          "Low",
          "Medium",
          "Low",
          "Low",
          "Low",
          "Low",
          "Low",
          "Low",
          "Low",
          "Low",
          "Medium",
          "Medium",
          "Medium",
          "Low",
          "Medium",
          "Low",
          "Low",
          "Low",
          "Low",
          "Low",
          "Low",
          "Low",
          "Low",
          "Medium",
          "Medium",
          "Low",
          "Low",
          "Medium",
          "Low",
          "Low",
          "Low",
          "Low",
          "Low",
          "Low",
          "Low",
          "Low",
          "Medium",
          "Medium",
          "Low",
          "Medium",
          "Low",
          "Low",
          "Low",
          "Low",
          "Low",
          "Low",
          "Low",
          "Low",
          "Medium",
          "Medium",
          "Low"
         ],
         "xaxis": "x",
         "yaxis": "y"
        }
       ],
       "layout": {
        "barmode": "relative",
        "legend": {
         "title": {
          "text": "Coughing of Blood"
         },
         "tracegroupgap": 0
        },
        "template": {
         "data": {
          "bar": [
           {
            "error_x": {
             "color": "#2a3f5f"
            },
            "error_y": {
             "color": "#2a3f5f"
            },
            "marker": {
             "line": {
              "color": "#E5ECF6",
              "width": 0.5
             },
             "pattern": {
              "fillmode": "overlay",
              "size": 10,
              "solidity": 0.2
             }
            },
            "type": "bar"
           }
          ],
          "barpolar": [
           {
            "marker": {
             "line": {
              "color": "#E5ECF6",
              "width": 0.5
             },
             "pattern": {
              "fillmode": "overlay",
              "size": 10,
              "solidity": 0.2
             }
            },
            "type": "barpolar"
           }
          ],
          "carpet": [
           {
            "aaxis": {
             "endlinecolor": "#2a3f5f",
             "gridcolor": "white",
             "linecolor": "white",
             "minorgridcolor": "white",
             "startlinecolor": "#2a3f5f"
            },
            "baxis": {
             "endlinecolor": "#2a3f5f",
             "gridcolor": "white",
             "linecolor": "white",
             "minorgridcolor": "white",
             "startlinecolor": "#2a3f5f"
            },
            "type": "carpet"
           }
          ],
          "choropleth": [
           {
            "colorbar": {
             "outlinewidth": 0,
             "ticks": ""
            },
            "type": "choropleth"
           }
          ],
          "contour": [
           {
            "colorbar": {
             "outlinewidth": 0,
             "ticks": ""
            },
            "colorscale": [
             [
              0,
              "#0d0887"
             ],
             [
              0.1111111111111111,
              "#46039f"
             ],
             [
              0.2222222222222222,
              "#7201a8"
             ],
             [
              0.3333333333333333,
              "#9c179e"
             ],
             [
              0.4444444444444444,
              "#bd3786"
             ],
             [
              0.5555555555555556,
              "#d8576b"
             ],
             [
              0.6666666666666666,
              "#ed7953"
             ],
             [
              0.7777777777777778,
              "#fb9f3a"
             ],
             [
              0.8888888888888888,
              "#fdca26"
             ],
             [
              1,
              "#f0f921"
             ]
            ],
            "type": "contour"
           }
          ],
          "contourcarpet": [
           {
            "colorbar": {
             "outlinewidth": 0,
             "ticks": ""
            },
            "type": "contourcarpet"
           }
          ],
          "heatmap": [
           {
            "colorbar": {
             "outlinewidth": 0,
             "ticks": ""
            },
            "colorscale": [
             [
              0,
              "#0d0887"
             ],
             [
              0.1111111111111111,
              "#46039f"
             ],
             [
              0.2222222222222222,
              "#7201a8"
             ],
             [
              0.3333333333333333,
              "#9c179e"
             ],
             [
              0.4444444444444444,
              "#bd3786"
             ],
             [
              0.5555555555555556,
              "#d8576b"
             ],
             [
              0.6666666666666666,
              "#ed7953"
             ],
             [
              0.7777777777777778,
              "#fb9f3a"
             ],
             [
              0.8888888888888888,
              "#fdca26"
             ],
             [
              1,
              "#f0f921"
             ]
            ],
            "type": "heatmap"
           }
          ],
          "heatmapgl": [
           {
            "colorbar": {
             "outlinewidth": 0,
             "ticks": ""
            },
            "colorscale": [
             [
              0,
              "#0d0887"
             ],
             [
              0.1111111111111111,
              "#46039f"
             ],
             [
              0.2222222222222222,
              "#7201a8"
             ],
             [
              0.3333333333333333,
              "#9c179e"
             ],
             [
              0.4444444444444444,
              "#bd3786"
             ],
             [
              0.5555555555555556,
              "#d8576b"
             ],
             [
              0.6666666666666666,
              "#ed7953"
             ],
             [
              0.7777777777777778,
              "#fb9f3a"
             ],
             [
              0.8888888888888888,
              "#fdca26"
             ],
             [
              1,
              "#f0f921"
             ]
            ],
            "type": "heatmapgl"
           }
          ],
          "histogram": [
           {
            "marker": {
             "pattern": {
              "fillmode": "overlay",
              "size": 10,
              "solidity": 0.2
             }
            },
            "type": "histogram"
           }
          ],
          "histogram2d": [
           {
            "colorbar": {
             "outlinewidth": 0,
             "ticks": ""
            },
            "colorscale": [
             [
              0,
              "#0d0887"
             ],
             [
              0.1111111111111111,
              "#46039f"
             ],
             [
              0.2222222222222222,
              "#7201a8"
             ],
             [
              0.3333333333333333,
              "#9c179e"
             ],
             [
              0.4444444444444444,
              "#bd3786"
             ],
             [
              0.5555555555555556,
              "#d8576b"
             ],
             [
              0.6666666666666666,
              "#ed7953"
             ],
             [
              0.7777777777777778,
              "#fb9f3a"
             ],
             [
              0.8888888888888888,
              "#fdca26"
             ],
             [
              1,
              "#f0f921"
             ]
            ],
            "type": "histogram2d"
           }
          ],
          "histogram2dcontour": [
           {
            "colorbar": {
             "outlinewidth": 0,
             "ticks": ""
            },
            "colorscale": [
             [
              0,
              "#0d0887"
             ],
             [
              0.1111111111111111,
              "#46039f"
             ],
             [
              0.2222222222222222,
              "#7201a8"
             ],
             [
              0.3333333333333333,
              "#9c179e"
             ],
             [
              0.4444444444444444,
              "#bd3786"
             ],
             [
              0.5555555555555556,
              "#d8576b"
             ],
             [
              0.6666666666666666,
              "#ed7953"
             ],
             [
              0.7777777777777778,
              "#fb9f3a"
             ],
             [
              0.8888888888888888,
              "#fdca26"
             ],
             [
              1,
              "#f0f921"
             ]
            ],
            "type": "histogram2dcontour"
           }
          ],
          "mesh3d": [
           {
            "colorbar": {
             "outlinewidth": 0,
             "ticks": ""
            },
            "type": "mesh3d"
           }
          ],
          "parcoords": [
           {
            "line": {
             "colorbar": {
              "outlinewidth": 0,
              "ticks": ""
             }
            },
            "type": "parcoords"
           }
          ],
          "pie": [
           {
            "automargin": true,
            "type": "pie"
           }
          ],
          "scatter": [
           {
            "fillpattern": {
             "fillmode": "overlay",
             "size": 10,
             "solidity": 0.2
            },
            "type": "scatter"
           }
          ],
          "scatter3d": [
           {
            "line": {
             "colorbar": {
              "outlinewidth": 0,
              "ticks": ""
             }
            },
            "marker": {
             "colorbar": {
              "outlinewidth": 0,
              "ticks": ""
             }
            },
            "type": "scatter3d"
           }
          ],
          "scattercarpet": [
           {
            "marker": {
             "colorbar": {
              "outlinewidth": 0,
              "ticks": ""
             }
            },
            "type": "scattercarpet"
           }
          ],
          "scattergeo": [
           {
            "marker": {
             "colorbar": {
              "outlinewidth": 0,
              "ticks": ""
             }
            },
            "type": "scattergeo"
           }
          ],
          "scattergl": [
           {
            "marker": {
             "colorbar": {
              "outlinewidth": 0,
              "ticks": ""
             }
            },
            "type": "scattergl"
           }
          ],
          "scattermapbox": [
           {
            "marker": {
             "colorbar": {
              "outlinewidth": 0,
              "ticks": ""
             }
            },
            "type": "scattermapbox"
           }
          ],
          "scatterpolar": [
           {
            "marker": {
             "colorbar": {
              "outlinewidth": 0,
              "ticks": ""
             }
            },
            "type": "scatterpolar"
           }
          ],
          "scatterpolargl": [
           {
            "marker": {
             "colorbar": {
              "outlinewidth": 0,
              "ticks": ""
             }
            },
            "type": "scatterpolargl"
           }
          ],
          "scatterternary": [
           {
            "marker": {
             "colorbar": {
              "outlinewidth": 0,
              "ticks": ""
             }
            },
            "type": "scatterternary"
           }
          ],
          "surface": [
           {
            "colorbar": {
             "outlinewidth": 0,
             "ticks": ""
            },
            "colorscale": [
             [
              0,
              "#0d0887"
             ],
             [
              0.1111111111111111,
              "#46039f"
             ],
             [
              0.2222222222222222,
              "#7201a8"
             ],
             [
              0.3333333333333333,
              "#9c179e"
             ],
             [
              0.4444444444444444,
              "#bd3786"
             ],
             [
              0.5555555555555556,
              "#d8576b"
             ],
             [
              0.6666666666666666,
              "#ed7953"
             ],
             [
              0.7777777777777778,
              "#fb9f3a"
             ],
             [
              0.8888888888888888,
              "#fdca26"
             ],
             [
              1,
              "#f0f921"
             ]
            ],
            "type": "surface"
           }
          ],
          "table": [
           {
            "cells": {
             "fill": {
              "color": "#EBF0F8"
             },
             "line": {
              "color": "white"
             }
            },
            "header": {
             "fill": {
              "color": "#C8D4E3"
             },
             "line": {
              "color": "white"
             }
            },
            "type": "table"
           }
          ]
         },
         "layout": {
          "annotationdefaults": {
           "arrowcolor": "#2a3f5f",
           "arrowhead": 0,
           "arrowwidth": 1
          },
          "autotypenumbers": "strict",
          "coloraxis": {
           "colorbar": {
            "outlinewidth": 0,
            "ticks": ""
           }
          },
          "colorscale": {
           "diverging": [
            [
             0,
             "#8e0152"
            ],
            [
             0.1,
             "#c51b7d"
            ],
            [
             0.2,
             "#de77ae"
            ],
            [
             0.3,
             "#f1b6da"
            ],
            [
             0.4,
             "#fde0ef"
            ],
            [
             0.5,
             "#f7f7f7"
            ],
            [
             0.6,
             "#e6f5d0"
            ],
            [
             0.7,
             "#b8e186"
            ],
            [
             0.8,
             "#7fbc41"
            ],
            [
             0.9,
             "#4d9221"
            ],
            [
             1,
             "#276419"
            ]
           ],
           "sequential": [
            [
             0,
             "#0d0887"
            ],
            [
             0.1111111111111111,
             "#46039f"
            ],
            [
             0.2222222222222222,
             "#7201a8"
            ],
            [
             0.3333333333333333,
             "#9c179e"
            ],
            [
             0.4444444444444444,
             "#bd3786"
            ],
            [
             0.5555555555555556,
             "#d8576b"
            ],
            [
             0.6666666666666666,
             "#ed7953"
            ],
            [
             0.7777777777777778,
             "#fb9f3a"
            ],
            [
             0.8888888888888888,
             "#fdca26"
            ],
            [
             1,
             "#f0f921"
            ]
           ],
           "sequentialminus": [
            [
             0,
             "#0d0887"
            ],
            [
             0.1111111111111111,
             "#46039f"
            ],
            [
             0.2222222222222222,
             "#7201a8"
            ],
            [
             0.3333333333333333,
             "#9c179e"
            ],
            [
             0.4444444444444444,
             "#bd3786"
            ],
            [
             0.5555555555555556,
             "#d8576b"
            ],
            [
             0.6666666666666666,
             "#ed7953"
            ],
            [
             0.7777777777777778,
             "#fb9f3a"
            ],
            [
             0.8888888888888888,
             "#fdca26"
            ],
            [
             1,
             "#f0f921"
            ]
           ]
          },
          "colorway": [
           "#636efa",
           "#EF553B",
           "#00cc96",
           "#ab63fa",
           "#FFA15A",
           "#19d3f3",
           "#FF6692",
           "#B6E880",
           "#FF97FF",
           "#FECB52"
          ],
          "font": {
           "color": "#2a3f5f"
          },
          "geo": {
           "bgcolor": "white",
           "lakecolor": "white",
           "landcolor": "#E5ECF6",
           "showlakes": true,
           "showland": true,
           "subunitcolor": "white"
          },
          "hoverlabel": {
           "align": "left"
          },
          "hovermode": "closest",
          "mapbox": {
           "style": "light"
          },
          "paper_bgcolor": "white",
          "plot_bgcolor": "#E5ECF6",
          "polar": {
           "angularaxis": {
            "gridcolor": "white",
            "linecolor": "white",
            "ticks": ""
           },
           "bgcolor": "#E5ECF6",
           "radialaxis": {
            "gridcolor": "white",
            "linecolor": "white",
            "ticks": ""
           }
          },
          "scene": {
           "xaxis": {
            "backgroundcolor": "#E5ECF6",
            "gridcolor": "white",
            "gridwidth": 2,
            "linecolor": "white",
            "showbackground": true,
            "ticks": "",
            "zerolinecolor": "white"
           },
           "yaxis": {
            "backgroundcolor": "#E5ECF6",
            "gridcolor": "white",
            "gridwidth": 2,
            "linecolor": "white",
            "showbackground": true,
            "ticks": "",
            "zerolinecolor": "white"
           },
           "zaxis": {
            "backgroundcolor": "#E5ECF6",
            "gridcolor": "white",
            "gridwidth": 2,
            "linecolor": "white",
            "showbackground": true,
            "ticks": "",
            "zerolinecolor": "white"
           }
          },
          "shapedefaults": {
           "line": {
            "color": "#2a3f5f"
           }
          },
          "ternary": {
           "aaxis": {
            "gridcolor": "white",
            "linecolor": "white",
            "ticks": ""
           },
           "baxis": {
            "gridcolor": "white",
            "linecolor": "white",
            "ticks": ""
           },
           "bgcolor": "#E5ECF6",
           "caxis": {
            "gridcolor": "white",
            "linecolor": "white",
            "ticks": ""
           }
          },
          "title": {
           "x": 0.05
          },
          "xaxis": {
           "automargin": true,
           "gridcolor": "white",
           "linecolor": "white",
           "ticks": "",
           "title": {
            "standoff": 15
           },
           "zerolinecolor": "white",
           "zerolinewidth": 2
          },
          "yaxis": {
           "automargin": true,
           "gridcolor": "white",
           "linecolor": "white",
           "ticks": "",
           "title": {
            "standoff": 15
           },
           "zerolinecolor": "white",
           "zerolinewidth": 2
          }
         }
        },
        "title": {
         "text": "Distribution of Severity"
        },
        "xaxis": {
         "anchor": "y",
         "domain": [
          0,
          1
         ],
         "title": {
          "text": "Level"
         }
        },
        "yaxis": {
         "anchor": "x",
         "domain": [
          0,
          1
         ],
         "title": {
          "text": "count"
         }
        }
       }
      }
     },
     "metadata": {},
     "output_type": "display_data"
    }
   ],
   "source": [
    "# Coughing of Blood\n",
    "fig = px.histogram(lung, x = 'Level', color = 'Coughing of Blood', nbins = 10, title = 'Distribution of Severity', text_auto = True)\n",
    "fig.show()"
   ]
  },
  {
   "cell_type": "code",
   "execution_count": 84,
   "metadata": {},
   "outputs": [
    {
     "data": {
      "application/vnd.plotly.v1+json": {
       "config": {
        "plotlyServerURL": "https://plot.ly"
       },
       "data": [
        {
         "alignmentgroup": "True",
         "bingroup": "x",
         "hovertemplate": "Shortness of Breath=2<br>Level=%{x}<br>count=%{y}<extra></extra>",
         "legendgroup": "2",
         "marker": {
          "color": "#636efa",
          "pattern": {
           "shape": ""
          }
         },
         "name": "2",
         "nbinsx": 10,
         "offsetgroup": "2",
         "orientation": "v",
         "showlegend": true,
         "texttemplate": "%{value}",
         "type": "histogram",
         "x": [
          "Low",
          "Low",
          "Low",
          "High",
          "Medium",
          "Medium",
          "Medium",
          "Low",
          "Low",
          "Medium",
          "Low",
          "Low",
          "Low",
          "Low",
          "Low",
          "Medium",
          "Medium",
          "Medium",
          "Medium",
          "Medium",
          "Medium",
          "Medium",
          "Medium",
          "High",
          "High",
          "Medium",
          "High",
          "Low",
          "Low",
          "Low",
          "High",
          "Medium",
          "Medium",
          "Medium",
          "Low",
          "Low",
          "Low",
          "Low",
          "Low",
          "Low",
          "Low",
          "Medium",
          "Medium",
          "Low",
          "Medium",
          "Medium",
          "Medium",
          "Low",
          "Medium",
          "Medium",
          "Medium",
          "High",
          "High",
          "High",
          "Low",
          "Low",
          "High",
          "Medium",
          "Medium",
          "Low",
          "Medium",
          "Low",
          "Low",
          "Low",
          "Low",
          "Low",
          "Low",
          "Low",
          "Medium",
          "Medium",
          "Medium",
          "Medium",
          "Medium",
          "Medium",
          "Medium",
          "Medium",
          "High",
          "Low",
          "High",
          "High",
          "Low",
          "Low",
          "High",
          "Medium",
          "Medium",
          "Medium",
          "Low",
          "Low",
          "Low",
          "Low",
          "Low",
          "Low",
          "Low",
          "Low",
          "Medium",
          "Medium",
          "Medium",
          "Medium",
          "Medium",
          "Medium",
          "Medium",
          "Medium",
          "High",
          "High",
          "High",
          "High",
          "Low",
          "Low",
          "Low",
          "High",
          "Medium",
          "Medium",
          "Low",
          "Medium",
          "Low",
          "Low",
          "Medium",
          "Low",
          "Low",
          "Low",
          "Medium",
          "Low",
          "Low",
          "Medium",
          "Medium",
          "Medium",
          "Medium",
          "Medium",
          "Medium",
          "Medium",
          "Medium",
          "High",
          "High",
          "Medium",
          "High",
          "Low",
          "Low",
          "High",
          "Medium",
          "Medium",
          "Medium",
          "Medium",
          "Low",
          "Low",
          "Low",
          "Medium",
          "Low",
          "Low",
          "Low",
          "Low",
          "Medium",
          "Medium",
          "Medium",
          "Medium",
          "Medium",
          "Medium",
          "Medium",
          "Medium",
          "High",
          "Medium",
          "High",
          "High",
          "Medium",
          "Low",
          "Low",
          "High",
          "Medium",
          "Medium",
          "Medium",
          "Medium",
          "Low",
          "Low",
          "Medium",
          "Low",
          "Low",
          "Low",
          "High",
          "Low",
          "Low",
          "Medium",
          "Medium",
          "Medium",
          "Medium",
          "Medium",
          "Medium",
          "Medium",
          "Medium",
          "High",
          "High",
          "High",
          "Low",
          "Low",
          "High",
          "Medium",
          "Medium",
          "Medium",
          "Low",
          "Low",
          "Low",
          "High",
          "Low",
          "Low",
          "Low",
          "Low",
          "Medium",
          "Medium",
          "Medium",
          "Medium",
          "Medium",
          "Medium",
          "Medium",
          "Medium",
          "High",
          "High",
          "High",
          "Low",
          "Low",
          "High",
          "Medium",
          "Medium",
          "Medium",
          "Low",
          "Low",
          "High",
          "Low",
          "Low",
          "Low",
          "Low",
          "Low",
          "Medium",
          "Medium",
          "Medium",
          "Medium",
          "Medium",
          "Medium",
          "Medium",
          "Medium",
          "High",
          "Low",
          "Low",
          "Medium",
          "High",
          "High"
         ],
         "xaxis": "x",
         "yaxis": "y"
        },
        {
         "alignmentgroup": "True",
         "bingroup": "x",
         "hovertemplate": "Shortness of Breath=7<br>Level=%{x}<br>count=%{y}<extra></extra>",
         "legendgroup": "7",
         "marker": {
          "color": "#EF553B",
          "pattern": {
           "shape": ""
          }
         },
         "name": "7",
         "nbinsx": 10,
         "offsetgroup": "7",
         "orientation": "v",
         "showlegend": true,
         "texttemplate": "%{value}",
         "type": "histogram",
         "x": [
          "Medium",
          "Medium",
          "High",
          "High",
          "Medium",
          "High",
          "Low",
          "Medium",
          "Medium",
          "High",
          "High",
          "Medium",
          "High",
          "Medium",
          "Medium",
          "High",
          "Low",
          "High",
          "Medium",
          "Medium",
          "High",
          "High",
          "Low",
          "Medium",
          "High",
          "Medium",
          "High",
          "Low",
          "Medium",
          "Medium",
          "High",
          "High",
          "Medium",
          "High",
          "Medium",
          "High",
          "Low",
          "Medium",
          "Medium",
          "High",
          "High",
          "Medium",
          "High",
          "Medium",
          "High",
          "Low",
          "Medium",
          "Medium",
          "Medium",
          "High",
          "High",
          "Medium",
          "High",
          "Medium",
          "High",
          "Low",
          "Medium",
          "Medium",
          "Medium",
          "High",
          "High",
          "Medium",
          "High",
          "Medium",
          "High",
          "Low",
          "Medium",
          "Medium",
          "High",
          "High",
          "Medium",
          "High",
          "Medium",
          "High",
          "High",
          "Low",
          "Medium",
          "Medium",
          "High",
          "High",
          "Medium",
          "High",
          "High",
          "Medium",
          "High",
          "Low",
          "Medium",
          "Medium",
          "High"
         ],
         "xaxis": "x",
         "yaxis": "y"
        },
        {
         "alignmentgroup": "True",
         "bingroup": "x",
         "hovertemplate": "Shortness of Breath=9<br>Level=%{x}<br>count=%{y}<extra></extra>",
         "legendgroup": "9",
         "marker": {
          "color": "#00cc96",
          "pattern": {
           "shape": ""
          }
         },
         "name": "9",
         "nbinsx": 10,
         "offsetgroup": "9",
         "orientation": "v",
         "showlegend": true,
         "texttemplate": "%{value}",
         "type": "histogram",
         "x": [
          "High",
          "High",
          "High",
          "High",
          "High",
          "High",
          "High",
          "High",
          "High",
          "High",
          "High",
          "High",
          "High",
          "High",
          "High",
          "High",
          "High",
          "High",
          "High",
          "High",
          "High",
          "High",
          "High",
          "High",
          "High",
          "High",
          "High",
          "High",
          "High",
          "High",
          "High",
          "High",
          "High",
          "High",
          "High",
          "High",
          "High",
          "High",
          "High",
          "High",
          "High",
          "High",
          "High",
          "High",
          "High",
          "High",
          "High",
          "High",
          "High",
          "High",
          "High",
          "High",
          "High",
          "High",
          "High",
          "High",
          "High",
          "High",
          "High",
          "High",
          "High",
          "High",
          "High",
          "High",
          "High",
          "High",
          "High",
          "High",
          "High",
          "High"
         ],
         "xaxis": "x",
         "yaxis": "y"
        },
        {
         "alignmentgroup": "True",
         "bingroup": "x",
         "hovertemplate": "Shortness of Breath=3<br>Level=%{x}<br>count=%{y}<extra></extra>",
         "legendgroup": "3",
         "marker": {
          "color": "#ab63fa",
          "pattern": {
           "shape": ""
          }
         },
         "name": "3",
         "nbinsx": 10,
         "offsetgroup": "3",
         "orientation": "v",
         "showlegend": true,
         "texttemplate": "%{value}",
         "type": "histogram",
         "x": [
          "High",
          "Medium",
          "High",
          "Low",
          "High",
          "Low",
          "Low",
          "Low",
          "Low",
          "Low",
          "Low",
          "Low",
          "Low",
          "High",
          "High",
          "High",
          "Medium",
          "Low",
          "High",
          "Low",
          "Low",
          "Low",
          "Low",
          "Low",
          "Low",
          "Low",
          "Low",
          "Low",
          "High",
          "High",
          "Medium",
          "Low",
          "High",
          "Medium",
          "Low",
          "High",
          "Low",
          "Low",
          "Low",
          "Low",
          "Low",
          "Low",
          "Low",
          "Low",
          "Low",
          "Low",
          "High",
          "High",
          "Low",
          "High",
          "Medium",
          "Low",
          "High",
          "Low",
          "Low",
          "Low",
          "Low",
          "Low",
          "Low",
          "Low",
          "Low",
          "Low",
          "High",
          "Low",
          "High",
          "High",
          "Medium",
          "Low",
          "Low",
          "High",
          "Low",
          "Low",
          "Low",
          "Low",
          "Low",
          "Low",
          "Low",
          "Low",
          "High",
          "High",
          "High",
          "Medium",
          "Low",
          "High",
          "Low",
          "Low",
          "Low",
          "Low",
          "Low",
          "Low",
          "Low",
          "Low",
          "High",
          "High",
          "High",
          "Medium",
          "Low",
          "High",
          "Low",
          "Low",
          "Low",
          "Low",
          "Low",
          "Low",
          "Low",
          "Low",
          "High",
          "High",
          "Low",
          "High",
          "Medium",
          "Low",
          "High",
          "High",
          "Low",
          "Low",
          "Low",
          "Low",
          "Low",
          "Low",
          "Low",
          "Low",
          "High",
          "High",
          "High",
          "Medium",
          "High",
          "Low",
          "High",
          "Low",
          "Low",
          "Low",
          "Low",
          "Low",
          "Low",
          "Low",
          "Low",
          "Low",
          "High",
          "High"
         ],
         "xaxis": "x",
         "yaxis": "y"
        },
        {
         "alignmentgroup": "True",
         "bingroup": "x",
         "hovertemplate": "Shortness of Breath=4<br>Level=%{x}<br>count=%{y}<extra></extra>",
         "legendgroup": "4",
         "marker": {
          "color": "#FFA15A",
          "pattern": {
           "shape": ""
          }
         },
         "name": "4",
         "nbinsx": 10,
         "offsetgroup": "4",
         "orientation": "v",
         "showlegend": true,
         "texttemplate": "%{value}",
         "type": "histogram",
         "x": [
          "High",
          "Medium",
          "High",
          "High",
          "Low",
          "High",
          "High",
          "High",
          "High",
          "High",
          "High",
          "Medium",
          "High",
          "High",
          "High",
          "Low",
          "High",
          "High",
          "High",
          "High",
          "High",
          "Medium",
          "High",
          "High",
          "Low",
          "High",
          "High",
          "High",
          "High",
          "Medium",
          "High",
          "Medium",
          "High",
          "Low",
          "High",
          "Low",
          "High",
          "High",
          "High",
          "High",
          "High",
          "Medium",
          "High",
          "High",
          "Low",
          "High",
          "High",
          "High",
          "High",
          "High",
          "Medium",
          "High",
          "High",
          "Low",
          "High",
          "High",
          "High",
          "High",
          "High",
          "Medium",
          "High",
          "High",
          "Low",
          "High",
          "High",
          "High",
          "High",
          "High",
          "High",
          "Medium",
          "High",
          "High",
          "Low",
          "High",
          "High",
          "High",
          "High",
          "High",
          "High",
          "High",
          "Medium",
          "High",
          "High",
          "Low",
          "High",
          "High",
          "High",
          "High",
          "High",
          "High"
         ],
         "xaxis": "x",
         "yaxis": "y"
        },
        {
         "alignmentgroup": "True",
         "bingroup": "x",
         "hovertemplate": "Shortness of Breath=5<br>Level=%{x}<br>count=%{y}<extra></extra>",
         "legendgroup": "5",
         "marker": {
          "color": "#19d3f3",
          "pattern": {
           "shape": ""
          }
         },
         "name": "5",
         "nbinsx": 10,
         "offsetgroup": "5",
         "orientation": "v",
         "showlegend": true,
         "texttemplate": "%{value}",
         "type": "histogram",
         "x": [
          "High",
          "High",
          "High",
          "High",
          "Low",
          "High",
          "High",
          "High",
          "High",
          "High",
          "High",
          "High",
          "High",
          "High",
          "Low",
          "High",
          "High",
          "High",
          "High",
          "High",
          "High",
          "High",
          "High",
          "Low",
          "High",
          "High",
          "High",
          "High",
          "High",
          "High",
          "High",
          "High",
          "Low",
          "Low",
          "High",
          "High",
          "High",
          "High",
          "High",
          "High",
          "High",
          "High",
          "Low",
          "High",
          "High",
          "High",
          "High",
          "High",
          "High",
          "High",
          "High",
          "High",
          "Low",
          "High",
          "High",
          "High",
          "High",
          "High",
          "High",
          "High",
          "High",
          "Low",
          "High",
          "High",
          "High",
          "High",
          "High",
          "High",
          "High",
          "High",
          "High",
          "High",
          "High",
          "Low",
          "High",
          "High",
          "High",
          "High",
          "High",
          "High",
          "High",
          "High",
          "High",
          "High",
          "Low",
          "High",
          "High"
         ],
         "xaxis": "x",
         "yaxis": "y"
        },
        {
         "alignmentgroup": "True",
         "bingroup": "x",
         "hovertemplate": "Shortness of Breath=6<br>Level=%{x}<br>count=%{y}<extra></extra>",
         "legendgroup": "6",
         "marker": {
          "color": "#FF6692",
          "pattern": {
           "shape": ""
          }
         },
         "name": "6",
         "nbinsx": 10,
         "offsetgroup": "6",
         "orientation": "v",
         "showlegend": true,
         "texttemplate": "%{value}",
         "type": "histogram",
         "x": [
          "Medium",
          "High",
          "Medium",
          "Medium",
          "Medium",
          "Low",
          "Medium",
          "Medium",
          "Medium",
          "Medium",
          "Medium",
          "Medium",
          "Medium",
          "Medium",
          "High",
          "Medium",
          "Medium",
          "Medium",
          "Medium",
          "Medium",
          "High",
          "High",
          "Medium",
          "Medium",
          "High",
          "Medium",
          "Medium",
          "Medium",
          "Low",
          "Medium",
          "Medium",
          "Medium",
          "Medium",
          "Medium",
          "Medium",
          "Medium",
          "Medium",
          "Medium",
          "Medium",
          "Medium",
          "Medium",
          "Medium",
          "High",
          "Low",
          "High",
          "Medium",
          "High",
          "Medium",
          "Medium",
          "Medium",
          "Low",
          "Medium",
          "Medium",
          "Medium",
          "Medium",
          "Medium",
          "Medium",
          "Medium",
          "Medium",
          "Medium",
          "Medium",
          "Medium",
          "Medium",
          "High",
          "High",
          "Medium",
          "High",
          "Medium",
          "Medium",
          "Medium",
          "Low",
          "Medium",
          "Medium",
          "Medium",
          "Medium",
          "Medium",
          "Medium",
          "Medium",
          "Medium",
          "Medium",
          "Medium",
          "Medium",
          "Medium",
          "High",
          "High",
          "Medium",
          "High",
          "Medium",
          "Medium",
          "Medium",
          "Low",
          "Medium",
          "Medium",
          "Medium",
          "Medium",
          "Medium",
          "Medium",
          "Medium",
          "Medium",
          "Medium",
          "Medium",
          "Medium",
          "Medium",
          "Medium",
          "Medium",
          "Medium",
          "High",
          "High",
          "Medium",
          "Medium",
          "High",
          "Medium",
          "Medium",
          "Medium",
          "Medium",
          "Medium",
          "Low",
          "Medium",
          "Medium",
          "Medium",
          "Medium",
          "Medium",
          "Medium",
          "Medium",
          "Medium",
          "Medium",
          "Medium",
          "Medium",
          "Medium",
          "Medium",
          "Medium",
          "High",
          "Medium",
          "High",
          "Medium",
          "Medium",
          "High",
          "Medium",
          "Medium",
          "Medium",
          "Medium",
          "Low",
          "Medium",
          "Medium",
          "Medium",
          "Medium",
          "Medium",
          "Medium",
          "Medium",
          "Medium",
          "Medium",
          "Medium",
          "Medium",
          "Medium",
          "Medium",
          "High",
          "High",
          "High",
          "Medium",
          "High",
          "Medium",
          "Medium",
          "Medium",
          "Low",
          "Medium",
          "Medium",
          "Medium",
          "Medium",
          "Medium",
          "Medium",
          "Medium",
          "Medium",
          "Medium",
          "Medium",
          "Medium",
          "Medium",
          "High",
          "High",
          "Medium",
          "High",
          "Medium",
          "High",
          "Medium",
          "Medium",
          "Medium",
          "Low",
          "Medium",
          "Medium",
          "Medium",
          "Medium",
          "Medium",
          "Medium",
          "Medium",
          "Medium",
          "Medium",
          "Medium",
          "Medium",
          "Medium",
          "High",
          "Medium",
          "High"
         ],
         "xaxis": "x",
         "yaxis": "y"
        },
        {
         "alignmentgroup": "True",
         "bingroup": "x",
         "hovertemplate": "Shortness of Breath=1<br>Level=%{x}<br>count=%{y}<extra></extra>",
         "legendgroup": "1",
         "marker": {
          "color": "#B6E880",
          "pattern": {
           "shape": ""
          }
         },
         "name": "1",
         "nbinsx": 10,
         "offsetgroup": "1",
         "orientation": "v",
         "showlegend": true,
         "texttemplate": "%{value}",
         "type": "histogram",
         "x": [
          "Low",
          "Low",
          "Low",
          "Low",
          "Low",
          "Low",
          "Low",
          "Low",
          "Low",
          "Low",
          "Low",
          "Low",
          "Low",
          "Low",
          "Low",
          "Low",
          "Low",
          "Low",
          "Low",
          "Low",
          "Low",
          "Low",
          "Low",
          "Low",
          "Low",
          "Low",
          "Low",
          "Low",
          "Low",
          "Low",
          "Low",
          "Low",
          "Low",
          "Low",
          "Low",
          "Low",
          "Low",
          "Low",
          "Low",
          "Low",
          "Low",
          "Low",
          "Low",
          "Low",
          "Low",
          "Low",
          "Low",
          "Low",
          "Low",
          "Low",
          "Low",
          "Low",
          "Low",
          "Low",
          "Low",
          "Low",
          "Low",
          "Low",
          "Low",
          "Low",
          "Low",
          "Low",
          "Low",
          "Low",
          "Low",
          "Low",
          "Low",
          "Low",
          "Low",
          "Low",
          "Low",
          "Low",
          "Low",
          "Low",
          "Low",
          "Low",
          "Low",
          "Low",
          "Low",
          "Low"
         ],
         "xaxis": "x",
         "yaxis": "y"
        }
       ],
       "layout": {
        "barmode": "relative",
        "legend": {
         "title": {
          "text": "Shortness of Breath"
         },
         "tracegroupgap": 0
        },
        "template": {
         "data": {
          "bar": [
           {
            "error_x": {
             "color": "#2a3f5f"
            },
            "error_y": {
             "color": "#2a3f5f"
            },
            "marker": {
             "line": {
              "color": "#E5ECF6",
              "width": 0.5
             },
             "pattern": {
              "fillmode": "overlay",
              "size": 10,
              "solidity": 0.2
             }
            },
            "type": "bar"
           }
          ],
          "barpolar": [
           {
            "marker": {
             "line": {
              "color": "#E5ECF6",
              "width": 0.5
             },
             "pattern": {
              "fillmode": "overlay",
              "size": 10,
              "solidity": 0.2
             }
            },
            "type": "barpolar"
           }
          ],
          "carpet": [
           {
            "aaxis": {
             "endlinecolor": "#2a3f5f",
             "gridcolor": "white",
             "linecolor": "white",
             "minorgridcolor": "white",
             "startlinecolor": "#2a3f5f"
            },
            "baxis": {
             "endlinecolor": "#2a3f5f",
             "gridcolor": "white",
             "linecolor": "white",
             "minorgridcolor": "white",
             "startlinecolor": "#2a3f5f"
            },
            "type": "carpet"
           }
          ],
          "choropleth": [
           {
            "colorbar": {
             "outlinewidth": 0,
             "ticks": ""
            },
            "type": "choropleth"
           }
          ],
          "contour": [
           {
            "colorbar": {
             "outlinewidth": 0,
             "ticks": ""
            },
            "colorscale": [
             [
              0,
              "#0d0887"
             ],
             [
              0.1111111111111111,
              "#46039f"
             ],
             [
              0.2222222222222222,
              "#7201a8"
             ],
             [
              0.3333333333333333,
              "#9c179e"
             ],
             [
              0.4444444444444444,
              "#bd3786"
             ],
             [
              0.5555555555555556,
              "#d8576b"
             ],
             [
              0.6666666666666666,
              "#ed7953"
             ],
             [
              0.7777777777777778,
              "#fb9f3a"
             ],
             [
              0.8888888888888888,
              "#fdca26"
             ],
             [
              1,
              "#f0f921"
             ]
            ],
            "type": "contour"
           }
          ],
          "contourcarpet": [
           {
            "colorbar": {
             "outlinewidth": 0,
             "ticks": ""
            },
            "type": "contourcarpet"
           }
          ],
          "heatmap": [
           {
            "colorbar": {
             "outlinewidth": 0,
             "ticks": ""
            },
            "colorscale": [
             [
              0,
              "#0d0887"
             ],
             [
              0.1111111111111111,
              "#46039f"
             ],
             [
              0.2222222222222222,
              "#7201a8"
             ],
             [
              0.3333333333333333,
              "#9c179e"
             ],
             [
              0.4444444444444444,
              "#bd3786"
             ],
             [
              0.5555555555555556,
              "#d8576b"
             ],
             [
              0.6666666666666666,
              "#ed7953"
             ],
             [
              0.7777777777777778,
              "#fb9f3a"
             ],
             [
              0.8888888888888888,
              "#fdca26"
             ],
             [
              1,
              "#f0f921"
             ]
            ],
            "type": "heatmap"
           }
          ],
          "heatmapgl": [
           {
            "colorbar": {
             "outlinewidth": 0,
             "ticks": ""
            },
            "colorscale": [
             [
              0,
              "#0d0887"
             ],
             [
              0.1111111111111111,
              "#46039f"
             ],
             [
              0.2222222222222222,
              "#7201a8"
             ],
             [
              0.3333333333333333,
              "#9c179e"
             ],
             [
              0.4444444444444444,
              "#bd3786"
             ],
             [
              0.5555555555555556,
              "#d8576b"
             ],
             [
              0.6666666666666666,
              "#ed7953"
             ],
             [
              0.7777777777777778,
              "#fb9f3a"
             ],
             [
              0.8888888888888888,
              "#fdca26"
             ],
             [
              1,
              "#f0f921"
             ]
            ],
            "type": "heatmapgl"
           }
          ],
          "histogram": [
           {
            "marker": {
             "pattern": {
              "fillmode": "overlay",
              "size": 10,
              "solidity": 0.2
             }
            },
            "type": "histogram"
           }
          ],
          "histogram2d": [
           {
            "colorbar": {
             "outlinewidth": 0,
             "ticks": ""
            },
            "colorscale": [
             [
              0,
              "#0d0887"
             ],
             [
              0.1111111111111111,
              "#46039f"
             ],
             [
              0.2222222222222222,
              "#7201a8"
             ],
             [
              0.3333333333333333,
              "#9c179e"
             ],
             [
              0.4444444444444444,
              "#bd3786"
             ],
             [
              0.5555555555555556,
              "#d8576b"
             ],
             [
              0.6666666666666666,
              "#ed7953"
             ],
             [
              0.7777777777777778,
              "#fb9f3a"
             ],
             [
              0.8888888888888888,
              "#fdca26"
             ],
             [
              1,
              "#f0f921"
             ]
            ],
            "type": "histogram2d"
           }
          ],
          "histogram2dcontour": [
           {
            "colorbar": {
             "outlinewidth": 0,
             "ticks": ""
            },
            "colorscale": [
             [
              0,
              "#0d0887"
             ],
             [
              0.1111111111111111,
              "#46039f"
             ],
             [
              0.2222222222222222,
              "#7201a8"
             ],
             [
              0.3333333333333333,
              "#9c179e"
             ],
             [
              0.4444444444444444,
              "#bd3786"
             ],
             [
              0.5555555555555556,
              "#d8576b"
             ],
             [
              0.6666666666666666,
              "#ed7953"
             ],
             [
              0.7777777777777778,
              "#fb9f3a"
             ],
             [
              0.8888888888888888,
              "#fdca26"
             ],
             [
              1,
              "#f0f921"
             ]
            ],
            "type": "histogram2dcontour"
           }
          ],
          "mesh3d": [
           {
            "colorbar": {
             "outlinewidth": 0,
             "ticks": ""
            },
            "type": "mesh3d"
           }
          ],
          "parcoords": [
           {
            "line": {
             "colorbar": {
              "outlinewidth": 0,
              "ticks": ""
             }
            },
            "type": "parcoords"
           }
          ],
          "pie": [
           {
            "automargin": true,
            "type": "pie"
           }
          ],
          "scatter": [
           {
            "fillpattern": {
             "fillmode": "overlay",
             "size": 10,
             "solidity": 0.2
            },
            "type": "scatter"
           }
          ],
          "scatter3d": [
           {
            "line": {
             "colorbar": {
              "outlinewidth": 0,
              "ticks": ""
             }
            },
            "marker": {
             "colorbar": {
              "outlinewidth": 0,
              "ticks": ""
             }
            },
            "type": "scatter3d"
           }
          ],
          "scattercarpet": [
           {
            "marker": {
             "colorbar": {
              "outlinewidth": 0,
              "ticks": ""
             }
            },
            "type": "scattercarpet"
           }
          ],
          "scattergeo": [
           {
            "marker": {
             "colorbar": {
              "outlinewidth": 0,
              "ticks": ""
             }
            },
            "type": "scattergeo"
           }
          ],
          "scattergl": [
           {
            "marker": {
             "colorbar": {
              "outlinewidth": 0,
              "ticks": ""
             }
            },
            "type": "scattergl"
           }
          ],
          "scattermapbox": [
           {
            "marker": {
             "colorbar": {
              "outlinewidth": 0,
              "ticks": ""
             }
            },
            "type": "scattermapbox"
           }
          ],
          "scatterpolar": [
           {
            "marker": {
             "colorbar": {
              "outlinewidth": 0,
              "ticks": ""
             }
            },
            "type": "scatterpolar"
           }
          ],
          "scatterpolargl": [
           {
            "marker": {
             "colorbar": {
              "outlinewidth": 0,
              "ticks": ""
             }
            },
            "type": "scatterpolargl"
           }
          ],
          "scatterternary": [
           {
            "marker": {
             "colorbar": {
              "outlinewidth": 0,
              "ticks": ""
             }
            },
            "type": "scatterternary"
           }
          ],
          "surface": [
           {
            "colorbar": {
             "outlinewidth": 0,
             "ticks": ""
            },
            "colorscale": [
             [
              0,
              "#0d0887"
             ],
             [
              0.1111111111111111,
              "#46039f"
             ],
             [
              0.2222222222222222,
              "#7201a8"
             ],
             [
              0.3333333333333333,
              "#9c179e"
             ],
             [
              0.4444444444444444,
              "#bd3786"
             ],
             [
              0.5555555555555556,
              "#d8576b"
             ],
             [
              0.6666666666666666,
              "#ed7953"
             ],
             [
              0.7777777777777778,
              "#fb9f3a"
             ],
             [
              0.8888888888888888,
              "#fdca26"
             ],
             [
              1,
              "#f0f921"
             ]
            ],
            "type": "surface"
           }
          ],
          "table": [
           {
            "cells": {
             "fill": {
              "color": "#EBF0F8"
             },
             "line": {
              "color": "white"
             }
            },
            "header": {
             "fill": {
              "color": "#C8D4E3"
             },
             "line": {
              "color": "white"
             }
            },
            "type": "table"
           }
          ]
         },
         "layout": {
          "annotationdefaults": {
           "arrowcolor": "#2a3f5f",
           "arrowhead": 0,
           "arrowwidth": 1
          },
          "autotypenumbers": "strict",
          "coloraxis": {
           "colorbar": {
            "outlinewidth": 0,
            "ticks": ""
           }
          },
          "colorscale": {
           "diverging": [
            [
             0,
             "#8e0152"
            ],
            [
             0.1,
             "#c51b7d"
            ],
            [
             0.2,
             "#de77ae"
            ],
            [
             0.3,
             "#f1b6da"
            ],
            [
             0.4,
             "#fde0ef"
            ],
            [
             0.5,
             "#f7f7f7"
            ],
            [
             0.6,
             "#e6f5d0"
            ],
            [
             0.7,
             "#b8e186"
            ],
            [
             0.8,
             "#7fbc41"
            ],
            [
             0.9,
             "#4d9221"
            ],
            [
             1,
             "#276419"
            ]
           ],
           "sequential": [
            [
             0,
             "#0d0887"
            ],
            [
             0.1111111111111111,
             "#46039f"
            ],
            [
             0.2222222222222222,
             "#7201a8"
            ],
            [
             0.3333333333333333,
             "#9c179e"
            ],
            [
             0.4444444444444444,
             "#bd3786"
            ],
            [
             0.5555555555555556,
             "#d8576b"
            ],
            [
             0.6666666666666666,
             "#ed7953"
            ],
            [
             0.7777777777777778,
             "#fb9f3a"
            ],
            [
             0.8888888888888888,
             "#fdca26"
            ],
            [
             1,
             "#f0f921"
            ]
           ],
           "sequentialminus": [
            [
             0,
             "#0d0887"
            ],
            [
             0.1111111111111111,
             "#46039f"
            ],
            [
             0.2222222222222222,
             "#7201a8"
            ],
            [
             0.3333333333333333,
             "#9c179e"
            ],
            [
             0.4444444444444444,
             "#bd3786"
            ],
            [
             0.5555555555555556,
             "#d8576b"
            ],
            [
             0.6666666666666666,
             "#ed7953"
            ],
            [
             0.7777777777777778,
             "#fb9f3a"
            ],
            [
             0.8888888888888888,
             "#fdca26"
            ],
            [
             1,
             "#f0f921"
            ]
           ]
          },
          "colorway": [
           "#636efa",
           "#EF553B",
           "#00cc96",
           "#ab63fa",
           "#FFA15A",
           "#19d3f3",
           "#FF6692",
           "#B6E880",
           "#FF97FF",
           "#FECB52"
          ],
          "font": {
           "color": "#2a3f5f"
          },
          "geo": {
           "bgcolor": "white",
           "lakecolor": "white",
           "landcolor": "#E5ECF6",
           "showlakes": true,
           "showland": true,
           "subunitcolor": "white"
          },
          "hoverlabel": {
           "align": "left"
          },
          "hovermode": "closest",
          "mapbox": {
           "style": "light"
          },
          "paper_bgcolor": "white",
          "plot_bgcolor": "#E5ECF6",
          "polar": {
           "angularaxis": {
            "gridcolor": "white",
            "linecolor": "white",
            "ticks": ""
           },
           "bgcolor": "#E5ECF6",
           "radialaxis": {
            "gridcolor": "white",
            "linecolor": "white",
            "ticks": ""
           }
          },
          "scene": {
           "xaxis": {
            "backgroundcolor": "#E5ECF6",
            "gridcolor": "white",
            "gridwidth": 2,
            "linecolor": "white",
            "showbackground": true,
            "ticks": "",
            "zerolinecolor": "white"
           },
           "yaxis": {
            "backgroundcolor": "#E5ECF6",
            "gridcolor": "white",
            "gridwidth": 2,
            "linecolor": "white",
            "showbackground": true,
            "ticks": "",
            "zerolinecolor": "white"
           },
           "zaxis": {
            "backgroundcolor": "#E5ECF6",
            "gridcolor": "white",
            "gridwidth": 2,
            "linecolor": "white",
            "showbackground": true,
            "ticks": "",
            "zerolinecolor": "white"
           }
          },
          "shapedefaults": {
           "line": {
            "color": "#2a3f5f"
           }
          },
          "ternary": {
           "aaxis": {
            "gridcolor": "white",
            "linecolor": "white",
            "ticks": ""
           },
           "baxis": {
            "gridcolor": "white",
            "linecolor": "white",
            "ticks": ""
           },
           "bgcolor": "#E5ECF6",
           "caxis": {
            "gridcolor": "white",
            "linecolor": "white",
            "ticks": ""
           }
          },
          "title": {
           "x": 0.05
          },
          "xaxis": {
           "automargin": true,
           "gridcolor": "white",
           "linecolor": "white",
           "ticks": "",
           "title": {
            "standoff": 15
           },
           "zerolinecolor": "white",
           "zerolinewidth": 2
          },
          "yaxis": {
           "automargin": true,
           "gridcolor": "white",
           "linecolor": "white",
           "ticks": "",
           "title": {
            "standoff": 15
           },
           "zerolinecolor": "white",
           "zerolinewidth": 2
          }
         }
        },
        "title": {
         "text": "Distribution of Severity"
        },
        "xaxis": {
         "anchor": "y",
         "domain": [
          0,
          1
         ],
         "title": {
          "text": "Level"
         }
        },
        "yaxis": {
         "anchor": "x",
         "domain": [
          0,
          1
         ],
         "title": {
          "text": "count"
         }
        }
       }
      }
     },
     "metadata": {},
     "output_type": "display_data"
    }
   ],
   "source": [
    "# Shortness of Breath\n",
    "fig = px.histogram(lung, x = 'Level', color = 'Shortness of Breath', nbins = 10, title = 'Distribution of Severity', text_auto = True)\n",
    "fig.show()"
   ]
  },
  {
   "cell_type": "code",
   "execution_count": 85,
   "metadata": {},
   "outputs": [
    {
     "data": {
      "application/vnd.plotly.v1+json": {
       "config": {
        "plotlyServerURL": "https://plot.ly"
       },
       "data": [
        {
         "alignmentgroup": "True",
         "bingroup": "x",
         "hovertemplate": "Chest Pain=2<br>Level=%{x}<br>count=%{y}<extra></extra>",
         "legendgroup": "2",
         "marker": {
          "color": "#636efa",
          "pattern": {
           "shape": ""
          }
         },
         "name": "2",
         "nbinsx": 10,
         "offsetgroup": "2",
         "orientation": "v",
         "showlegend": true,
         "texttemplate": "%{value}",
         "type": "histogram",
         "x": [
          "Low",
          "Medium",
          "Low",
          "Medium",
          "Medium",
          "Medium",
          "High",
          "Low",
          "Low",
          "Low",
          "Low",
          "Low",
          "Low",
          "Low",
          "Medium",
          "Medium",
          "Medium",
          "Medium",
          "Medium",
          "Medium",
          "Medium",
          "Low",
          "Medium",
          "Medium",
          "Medium",
          "Medium",
          "High",
          "Low",
          "High",
          "Low",
          "Low",
          "Low",
          "Low",
          "Low",
          "Low",
          "Medium",
          "Low",
          "Medium",
          "Medium",
          "Medium",
          "Medium",
          "Medium",
          "Low",
          "Medium",
          "Medium",
          "Medium",
          "High",
          "Low",
          "Low",
          "Low",
          "Low",
          "Low",
          "Low",
          "Low",
          "Medium",
          "Medium",
          "Medium",
          "Medium",
          "Medium",
          "Medium",
          "Low",
          "Low",
          "Medium",
          "Low",
          "Medium",
          "Medium",
          "High",
          "Low",
          "Low",
          "Low",
          "Low",
          "Low",
          "Low",
          "Low",
          "Low",
          "Medium",
          "Low",
          "Medium",
          "Medium",
          "Medium",
          "Medium",
          "Medium",
          "Low",
          "Low",
          "Low",
          "Medium",
          "Medium",
          "Medium",
          "High",
          "Low",
          "Low",
          "Low",
          "Low",
          "Low",
          "Medium",
          "Low",
          "Low",
          "Medium",
          "Medium",
          "Medium",
          "Medium",
          "Medium",
          "Medium",
          "Medium",
          "Low",
          "Medium",
          "Medium",
          "Medium",
          "Medium",
          "High",
          "Low",
          "Medium",
          "Low",
          "Low",
          "Low",
          "Low",
          "Low",
          "Low",
          "Medium",
          "Medium",
          "Medium",
          "Medium",
          "Medium",
          "Medium",
          "Medium",
          "Low",
          "Medium",
          "Medium",
          "Medium",
          "Medium",
          "High",
          "Low",
          "Low",
          "Low",
          "Low",
          "Low",
          "Low",
          "Low",
          "Medium",
          "Medium",
          "Medium",
          "Medium",
          "Medium",
          "Medium",
          "Low",
          "Medium",
          "Medium",
          "Medium",
          "High",
          "Low",
          "Low",
          "Low",
          "Low",
          "Low",
          "Low",
          "Low",
          "Medium",
          "Medium",
          "Medium",
          "Medium",
          "Medium",
          "Medium",
          "Low",
          "Medium",
          "Medium",
          "Medium",
          "High",
          "Low",
          "Low",
          "Low",
          "Low",
          "Low",
          "Low",
          "Low",
          "Medium",
          "Medium",
          "Medium",
          "Medium",
          "Medium",
          "Medium",
          "Low"
         ],
         "xaxis": "x",
         "yaxis": "y"
        },
        {
         "alignmentgroup": "True",
         "bingroup": "x",
         "hovertemplate": "Chest Pain=4<br>Level=%{x}<br>count=%{y}<extra></extra>",
         "legendgroup": "4",
         "marker": {
          "color": "#EF553B",
          "pattern": {
           "shape": ""
          }
         },
         "name": "4",
         "nbinsx": 10,
         "offsetgroup": "4",
         "orientation": "v",
         "showlegend": true,
         "texttemplate": "%{value}",
         "type": "histogram",
         "x": [
          "High",
          "High",
          "Medium",
          "Low",
          "High",
          "Medium",
          "Low",
          "Low",
          "High",
          "Low",
          "Medium",
          "Medium",
          "Medium",
          "Medium",
          "Medium",
          "Medium",
          "Medium",
          "High",
          "High",
          "High",
          "High",
          "High",
          "High",
          "Medium",
          "Low",
          "High",
          "Medium",
          "Low",
          "Low",
          "Low",
          "Medium",
          "Medium",
          "Medium",
          "Medium",
          "Medium",
          "Medium",
          "Low",
          "High",
          "High",
          "High",
          "High",
          "High",
          "High",
          "Medium",
          "Low",
          "High",
          "Medium",
          "Low",
          "Low",
          "Low",
          "Low",
          "Medium",
          "Medium",
          "Medium",
          "Medium",
          "Medium",
          "Medium",
          "High",
          "High",
          "High",
          "High",
          "High",
          "Medium",
          "High",
          "Medium",
          "Low",
          "High",
          "Medium",
          "Low",
          "Low",
          "Low",
          "Medium",
          "Medium",
          "Medium",
          "Medium",
          "Medium",
          "Medium",
          "High",
          "High",
          "High",
          "High",
          "High",
          "High",
          "Medium",
          "Low",
          "High",
          "Low",
          "Medium",
          "Low",
          "Low",
          "Medium",
          "Low",
          "Medium",
          "Medium",
          "Medium",
          "Medium",
          "Medium",
          "Medium",
          "High",
          "High",
          "High",
          "High",
          "High",
          "Medium",
          "High",
          "Medium",
          "Low",
          "High",
          "Medium",
          "Medium",
          "Low",
          "Low",
          "Low",
          "Medium",
          "Medium",
          "Medium",
          "Medium",
          "Medium",
          "Medium",
          "High",
          "High",
          "Medium",
          "High",
          "High",
          "High",
          "Medium",
          "High",
          "Medium",
          "Low",
          "High",
          "Medium",
          "Low",
          "Low",
          "Medium",
          "Low",
          "Medium",
          "Medium",
          "Medium",
          "Medium",
          "Medium",
          "Medium",
          "High",
          "High",
          "High",
          "High",
          "High",
          "High",
          "Low",
          "High",
          "Medium",
          "Low",
          "High",
          "Medium",
          "Low",
          "Low",
          "Low",
          "Medium",
          "High",
          "Medium",
          "Medium",
          "Medium",
          "Medium",
          "Medium",
          "High",
          "High",
          "High",
          "High",
          "High",
          "High",
          "High",
          "Medium",
          "Low",
          "High",
          "Medium",
          "Low",
          "Low",
          "High",
          "Low",
          "Medium",
          "Medium",
          "Medium",
          "High",
          "Medium",
          "Medium",
          "Medium",
          "Low",
          "High",
          "High",
          "High",
          "High",
          "High"
         ],
         "xaxis": "x",
         "yaxis": "y"
        },
        {
         "alignmentgroup": "True",
         "bingroup": "x",
         "hovertemplate": "Chest Pain=7<br>Level=%{x}<br>count=%{y}<extra></extra>",
         "legendgroup": "7",
         "marker": {
          "color": "#00cc96",
          "pattern": {
           "shape": ""
          }
         },
         "name": "7",
         "nbinsx": 10,
         "offsetgroup": "7",
         "orientation": "v",
         "showlegend": true,
         "texttemplate": "%{value}",
         "type": "histogram",
         "x": [
          "High",
          "High",
          "High",
          "High",
          "High",
          "High",
          "High",
          "High",
          "High",
          "High",
          "High",
          "High",
          "Low",
          "Low",
          "Low",
          "High",
          "High",
          "High",
          "High",
          "High",
          "High",
          "High",
          "High",
          "High",
          "High",
          "High",
          "High",
          "High",
          "High",
          "High",
          "High",
          "High",
          "High",
          "High",
          "High",
          "High",
          "High",
          "High",
          "High",
          "High",
          "High",
          "High",
          "High",
          "High",
          "High",
          "High",
          "Low",
          "Low",
          "Low",
          "High",
          "High",
          "High",
          "High",
          "High",
          "High",
          "High",
          "High",
          "High",
          "High",
          "Low",
          "High",
          "High",
          "High",
          "High",
          "High",
          "High",
          "High",
          "Low",
          "High",
          "High",
          "High",
          "High",
          "Low",
          "High",
          "High",
          "High",
          "High",
          "High",
          "High",
          "Low",
          "Low",
          "Low",
          "High",
          "High",
          "High",
          "High",
          "High",
          "High",
          "High",
          "High",
          "High",
          "High",
          "High",
          "High",
          "High",
          "High",
          "High",
          "High",
          "High",
          "High",
          "High",
          "High",
          "High",
          "High",
          "High",
          "High",
          "High",
          "High",
          "High",
          "Low",
          "Low",
          "Low",
          "High",
          "High",
          "High",
          "High",
          "High",
          "High",
          "High",
          "High",
          "High",
          "High",
          "High",
          "High",
          "High",
          "High",
          "High",
          "High",
          "High",
          "High",
          "High",
          "High",
          "High",
          "High",
          "High",
          "High",
          "High",
          "High",
          "High",
          "High",
          "Low",
          "Low",
          "Low",
          "High",
          "High",
          "High",
          "High",
          "High",
          "High",
          "High",
          "High",
          "High",
          "High",
          "High",
          "High",
          "High",
          "High",
          "High",
          "High",
          "High",
          "High",
          "High",
          "High",
          "High",
          "High",
          "High",
          "High",
          "High",
          "High",
          "High",
          "High",
          "Low",
          "Low",
          "Low",
          "High",
          "High",
          "High",
          "High",
          "High",
          "High",
          "High",
          "High",
          "High",
          "High",
          "High",
          "High",
          "High",
          "High",
          "High",
          "High",
          "High",
          "High",
          "High",
          "High",
          "High",
          "High",
          "High",
          "High",
          "High",
          "High",
          "High",
          "Low",
          "Low",
          "Low",
          "High",
          "High",
          "High",
          "High",
          "High",
          "High",
          "High",
          "High",
          "High",
          "High",
          "High",
          "High",
          "High",
          "High",
          "High",
          "High",
          "High",
          "High",
          "High",
          "High",
          "High",
          "High",
          "High",
          "High",
          "High",
          "High",
          "High",
          "High",
          "High",
          "High",
          "High",
          "High",
          "High",
          "High",
          "Low",
          "Low",
          "Low",
          "High",
          "High",
          "High",
          "High",
          "High",
          "High",
          "High",
          "High",
          "High",
          "High",
          "High",
          "High",
          "High",
          "High",
          "High",
          "High",
          "High",
          "High",
          "High",
          "High",
          "High",
          "High",
          "High",
          "High",
          "High",
          "High",
          "High",
          "High",
          "High",
          "High",
          "High",
          "High",
          "High",
          "High",
          "High",
          "Low",
          "Low",
          "Low",
          "High",
          "High",
          "High",
          "High",
          "High",
          "High",
          "High",
          "High",
          "High",
          "High",
          "High",
          "High",
          "High",
          "High",
          "High",
          "High",
          "High"
         ],
         "xaxis": "x",
         "yaxis": "y"
        },
        {
         "alignmentgroup": "True",
         "bingroup": "x",
         "hovertemplate": "Chest Pain=3<br>Level=%{x}<br>count=%{y}<extra></extra>",
         "legendgroup": "3",
         "marker": {
          "color": "#ab63fa",
          "pattern": {
           "shape": ""
          }
         },
         "name": "3",
         "nbinsx": 10,
         "offsetgroup": "3",
         "orientation": "v",
         "showlegend": true,
         "texttemplate": "%{value}",
         "type": "histogram",
         "x": [
          "Low",
          "Medium",
          "Low",
          "Low",
          "Low",
          "Low",
          "Low",
          "Medium",
          "Medium",
          "Medium",
          "Medium",
          "Medium",
          "Medium",
          "Medium",
          "Medium",
          "Low",
          "Medium",
          "Low",
          "Medium",
          "Low",
          "Low",
          "Low",
          "Low",
          "Low",
          "Medium",
          "Medium",
          "Medium",
          "Medium",
          "Medium",
          "Low",
          "Medium",
          "Medium",
          "Medium",
          "Low",
          "Low",
          "Medium",
          "Low",
          "Low",
          "Low",
          "Low",
          "Low",
          "Medium",
          "Medium",
          "Medium",
          "Medium",
          "Medium",
          "Medium",
          "Medium",
          "Medium",
          "Low",
          "Low",
          "Medium",
          "Low",
          "Low",
          "Low",
          "Low",
          "Low",
          "Low",
          "Medium",
          "Medium",
          "Medium",
          "Medium",
          "Medium",
          "Medium",
          "Medium",
          "Medium",
          "Low",
          "Low",
          "Medium",
          "Low",
          "Medium",
          "Low",
          "Low",
          "Low",
          "Low",
          "Medium",
          "Medium",
          "Medium",
          "Medium",
          "Medium",
          "Medium",
          "Medium",
          "Medium",
          "Medium",
          "Medium",
          "Low",
          "Medium",
          "Medium",
          "Low",
          "Low",
          "Low",
          "Low",
          "Medium",
          "Low",
          "Medium",
          "Medium",
          "Medium",
          "Medium",
          "Medium",
          "Medium",
          "Medium",
          "Medium",
          "Medium",
          "Low",
          "Medium",
          "Medium",
          "Low",
          "Medium",
          "Low",
          "Low",
          "Low",
          "Low",
          "Medium",
          "Medium",
          "Medium",
          "Medium",
          "Medium",
          "Medium",
          "Medium",
          "Medium",
          "Low",
          "Medium",
          "Low",
          "Low",
          "Low",
          "Low",
          "Low",
          "Medium",
          "Medium",
          "Medium",
          "Medium",
          "Medium",
          "Medium",
          "Medium",
          "Medium",
          "Low",
          "Medium",
          "Low",
          "Low",
          "Low",
          "Low",
          "Low",
          "Medium",
          "Medium",
          "Medium",
          "Medium",
          "Medium",
          "Medium",
          "Medium",
          "Medium",
          "Low",
          "Medium",
          "Medium"
         ],
         "xaxis": "x",
         "yaxis": "y"
        },
        {
         "alignmentgroup": "True",
         "bingroup": "x",
         "hovertemplate": "Chest Pain=6<br>Level=%{x}<br>count=%{y}<extra></extra>",
         "legendgroup": "6",
         "marker": {
          "color": "#FFA15A",
          "pattern": {
           "shape": ""
          }
         },
         "name": "6",
         "nbinsx": 10,
         "offsetgroup": "6",
         "orientation": "v",
         "showlegend": true,
         "texttemplate": "%{value}",
         "type": "histogram",
         "x": [
          "Medium",
          "Medium",
          "Medium",
          "Medium",
          "Low",
          "Medium",
          "Medium",
          "Medium",
          "Low",
          "Medium",
          "Medium",
          "Medium",
          "Medium",
          "Low",
          "Low",
          "Medium",
          "Medium",
          "Medium",
          "Low",
          "Medium",
          "Medium",
          "Medium",
          "Low",
          "Medium",
          "Medium",
          "Medium",
          "Low",
          "Medium",
          "Medium",
          "Medium",
          "Medium",
          "Low",
          "Medium",
          "Medium",
          "Medium",
          "Low",
          "Medium",
          "Medium",
          "Medium",
          "Low"
         ],
         "xaxis": "x",
         "yaxis": "y"
        },
        {
         "alignmentgroup": "True",
         "bingroup": "x",
         "hovertemplate": "Chest Pain=5<br>Level=%{x}<br>count=%{y}<extra></extra>",
         "legendgroup": "5",
         "marker": {
          "color": "#19d3f3",
          "pattern": {
           "shape": ""
          }
         },
         "name": "5",
         "nbinsx": 10,
         "offsetgroup": "5",
         "orientation": "v",
         "showlegend": true,
         "texttemplate": "%{value}",
         "type": "histogram",
         "x": [
          "Medium",
          "Medium",
          "Medium",
          "Medium",
          "Medium",
          "Medium",
          "Medium",
          "Medium",
          "Medium",
          "Medium"
         ],
         "xaxis": "x",
         "yaxis": "y"
        },
        {
         "alignmentgroup": "True",
         "bingroup": "x",
         "hovertemplate": "Chest Pain=9<br>Level=%{x}<br>count=%{y}<extra></extra>",
         "legendgroup": "9",
         "marker": {
          "color": "#FF6692",
          "pattern": {
           "shape": ""
          }
         },
         "name": "9",
         "nbinsx": 10,
         "offsetgroup": "9",
         "orientation": "v",
         "showlegend": true,
         "texttemplate": "%{value}",
         "type": "histogram",
         "x": [
          "High",
          "High",
          "High",
          "High",
          "High",
          "High",
          "High",
          "High",
          "High",
          "High",
          "High",
          "High",
          "High",
          "High",
          "High",
          "High",
          "High",
          "High",
          "High"
         ],
         "xaxis": "x",
         "yaxis": "y"
        },
        {
         "alignmentgroup": "True",
         "bingroup": "x",
         "hovertemplate": "Chest Pain=8<br>Level=%{x}<br>count=%{y}<extra></extra>",
         "legendgroup": "8",
         "marker": {
          "color": "#B6E880",
          "pattern": {
           "shape": ""
          }
         },
         "name": "8",
         "nbinsx": 10,
         "offsetgroup": "8",
         "orientation": "v",
         "showlegend": true,
         "texttemplate": "%{value}",
         "type": "histogram",
         "x": [
          "Medium",
          "Medium",
          "Medium",
          "Medium",
          "Medium",
          "Medium",
          "Medium",
          "Medium",
          "Medium",
          "Medium",
          "Medium",
          "Medium",
          "Medium",
          "Medium",
          "Medium",
          "Medium",
          "Medium",
          "Medium",
          "Medium",
          "Medium",
          "Medium",
          "Medium",
          "Medium",
          "Medium",
          "Medium",
          "Medium",
          "Medium",
          "Medium",
          "Medium",
          "Medium"
         ],
         "xaxis": "x",
         "yaxis": "y"
        },
        {
         "alignmentgroup": "True",
         "bingroup": "x",
         "hovertemplate": "Chest Pain=1<br>Level=%{x}<br>count=%{y}<extra></extra>",
         "legendgroup": "1",
         "marker": {
          "color": "#FF97FF",
          "pattern": {
           "shape": ""
          }
         },
         "name": "1",
         "nbinsx": 10,
         "offsetgroup": "1",
         "orientation": "v",
         "showlegend": true,
         "texttemplate": "%{value}",
         "type": "histogram",
         "x": [
          "Low",
          "Low",
          "Low",
          "Low",
          "Low",
          "Low",
          "Low",
          "Low",
          "Low",
          "Low",
          "Low",
          "Low",
          "Low",
          "Low",
          "Low",
          "Low",
          "Low",
          "Low",
          "Low",
          "Low",
          "Low",
          "Low",
          "Low",
          "Low",
          "Low",
          "Low",
          "Low",
          "Low",
          "Low",
          "Low",
          "Low",
          "Low",
          "Low",
          "Low",
          "Low",
          "Low",
          "Low",
          "Low",
          "Low",
          "Low",
          "Low",
          "Low",
          "Low",
          "Low",
          "Low",
          "Low",
          "Low",
          "Low",
          "Low",
          "Low",
          "Low",
          "Low",
          "Low",
          "Low",
          "Low",
          "Low",
          "Low",
          "Low",
          "Low",
          "Low",
          "Low",
          "Low",
          "Low",
          "Low",
          "Low",
          "Low",
          "Low",
          "Low",
          "Low",
          "Low",
          "Low",
          "Low",
          "Low",
          "Low",
          "Low",
          "Low",
          "Low",
          "Low",
          "Low",
          "Low"
         ],
         "xaxis": "x",
         "yaxis": "y"
        }
       ],
       "layout": {
        "barmode": "relative",
        "legend": {
         "title": {
          "text": "Chest Pain"
         },
         "tracegroupgap": 0
        },
        "template": {
         "data": {
          "bar": [
           {
            "error_x": {
             "color": "#2a3f5f"
            },
            "error_y": {
             "color": "#2a3f5f"
            },
            "marker": {
             "line": {
              "color": "#E5ECF6",
              "width": 0.5
             },
             "pattern": {
              "fillmode": "overlay",
              "size": 10,
              "solidity": 0.2
             }
            },
            "type": "bar"
           }
          ],
          "barpolar": [
           {
            "marker": {
             "line": {
              "color": "#E5ECF6",
              "width": 0.5
             },
             "pattern": {
              "fillmode": "overlay",
              "size": 10,
              "solidity": 0.2
             }
            },
            "type": "barpolar"
           }
          ],
          "carpet": [
           {
            "aaxis": {
             "endlinecolor": "#2a3f5f",
             "gridcolor": "white",
             "linecolor": "white",
             "minorgridcolor": "white",
             "startlinecolor": "#2a3f5f"
            },
            "baxis": {
             "endlinecolor": "#2a3f5f",
             "gridcolor": "white",
             "linecolor": "white",
             "minorgridcolor": "white",
             "startlinecolor": "#2a3f5f"
            },
            "type": "carpet"
           }
          ],
          "choropleth": [
           {
            "colorbar": {
             "outlinewidth": 0,
             "ticks": ""
            },
            "type": "choropleth"
           }
          ],
          "contour": [
           {
            "colorbar": {
             "outlinewidth": 0,
             "ticks": ""
            },
            "colorscale": [
             [
              0,
              "#0d0887"
             ],
             [
              0.1111111111111111,
              "#46039f"
             ],
             [
              0.2222222222222222,
              "#7201a8"
             ],
             [
              0.3333333333333333,
              "#9c179e"
             ],
             [
              0.4444444444444444,
              "#bd3786"
             ],
             [
              0.5555555555555556,
              "#d8576b"
             ],
             [
              0.6666666666666666,
              "#ed7953"
             ],
             [
              0.7777777777777778,
              "#fb9f3a"
             ],
             [
              0.8888888888888888,
              "#fdca26"
             ],
             [
              1,
              "#f0f921"
             ]
            ],
            "type": "contour"
           }
          ],
          "contourcarpet": [
           {
            "colorbar": {
             "outlinewidth": 0,
             "ticks": ""
            },
            "type": "contourcarpet"
           }
          ],
          "heatmap": [
           {
            "colorbar": {
             "outlinewidth": 0,
             "ticks": ""
            },
            "colorscale": [
             [
              0,
              "#0d0887"
             ],
             [
              0.1111111111111111,
              "#46039f"
             ],
             [
              0.2222222222222222,
              "#7201a8"
             ],
             [
              0.3333333333333333,
              "#9c179e"
             ],
             [
              0.4444444444444444,
              "#bd3786"
             ],
             [
              0.5555555555555556,
              "#d8576b"
             ],
             [
              0.6666666666666666,
              "#ed7953"
             ],
             [
              0.7777777777777778,
              "#fb9f3a"
             ],
             [
              0.8888888888888888,
              "#fdca26"
             ],
             [
              1,
              "#f0f921"
             ]
            ],
            "type": "heatmap"
           }
          ],
          "heatmapgl": [
           {
            "colorbar": {
             "outlinewidth": 0,
             "ticks": ""
            },
            "colorscale": [
             [
              0,
              "#0d0887"
             ],
             [
              0.1111111111111111,
              "#46039f"
             ],
             [
              0.2222222222222222,
              "#7201a8"
             ],
             [
              0.3333333333333333,
              "#9c179e"
             ],
             [
              0.4444444444444444,
              "#bd3786"
             ],
             [
              0.5555555555555556,
              "#d8576b"
             ],
             [
              0.6666666666666666,
              "#ed7953"
             ],
             [
              0.7777777777777778,
              "#fb9f3a"
             ],
             [
              0.8888888888888888,
              "#fdca26"
             ],
             [
              1,
              "#f0f921"
             ]
            ],
            "type": "heatmapgl"
           }
          ],
          "histogram": [
           {
            "marker": {
             "pattern": {
              "fillmode": "overlay",
              "size": 10,
              "solidity": 0.2
             }
            },
            "type": "histogram"
           }
          ],
          "histogram2d": [
           {
            "colorbar": {
             "outlinewidth": 0,
             "ticks": ""
            },
            "colorscale": [
             [
              0,
              "#0d0887"
             ],
             [
              0.1111111111111111,
              "#46039f"
             ],
             [
              0.2222222222222222,
              "#7201a8"
             ],
             [
              0.3333333333333333,
              "#9c179e"
             ],
             [
              0.4444444444444444,
              "#bd3786"
             ],
             [
              0.5555555555555556,
              "#d8576b"
             ],
             [
              0.6666666666666666,
              "#ed7953"
             ],
             [
              0.7777777777777778,
              "#fb9f3a"
             ],
             [
              0.8888888888888888,
              "#fdca26"
             ],
             [
              1,
              "#f0f921"
             ]
            ],
            "type": "histogram2d"
           }
          ],
          "histogram2dcontour": [
           {
            "colorbar": {
             "outlinewidth": 0,
             "ticks": ""
            },
            "colorscale": [
             [
              0,
              "#0d0887"
             ],
             [
              0.1111111111111111,
              "#46039f"
             ],
             [
              0.2222222222222222,
              "#7201a8"
             ],
             [
              0.3333333333333333,
              "#9c179e"
             ],
             [
              0.4444444444444444,
              "#bd3786"
             ],
             [
              0.5555555555555556,
              "#d8576b"
             ],
             [
              0.6666666666666666,
              "#ed7953"
             ],
             [
              0.7777777777777778,
              "#fb9f3a"
             ],
             [
              0.8888888888888888,
              "#fdca26"
             ],
             [
              1,
              "#f0f921"
             ]
            ],
            "type": "histogram2dcontour"
           }
          ],
          "mesh3d": [
           {
            "colorbar": {
             "outlinewidth": 0,
             "ticks": ""
            },
            "type": "mesh3d"
           }
          ],
          "parcoords": [
           {
            "line": {
             "colorbar": {
              "outlinewidth": 0,
              "ticks": ""
             }
            },
            "type": "parcoords"
           }
          ],
          "pie": [
           {
            "automargin": true,
            "type": "pie"
           }
          ],
          "scatter": [
           {
            "fillpattern": {
             "fillmode": "overlay",
             "size": 10,
             "solidity": 0.2
            },
            "type": "scatter"
           }
          ],
          "scatter3d": [
           {
            "line": {
             "colorbar": {
              "outlinewidth": 0,
              "ticks": ""
             }
            },
            "marker": {
             "colorbar": {
              "outlinewidth": 0,
              "ticks": ""
             }
            },
            "type": "scatter3d"
           }
          ],
          "scattercarpet": [
           {
            "marker": {
             "colorbar": {
              "outlinewidth": 0,
              "ticks": ""
             }
            },
            "type": "scattercarpet"
           }
          ],
          "scattergeo": [
           {
            "marker": {
             "colorbar": {
              "outlinewidth": 0,
              "ticks": ""
             }
            },
            "type": "scattergeo"
           }
          ],
          "scattergl": [
           {
            "marker": {
             "colorbar": {
              "outlinewidth": 0,
              "ticks": ""
             }
            },
            "type": "scattergl"
           }
          ],
          "scattermapbox": [
           {
            "marker": {
             "colorbar": {
              "outlinewidth": 0,
              "ticks": ""
             }
            },
            "type": "scattermapbox"
           }
          ],
          "scatterpolar": [
           {
            "marker": {
             "colorbar": {
              "outlinewidth": 0,
              "ticks": ""
             }
            },
            "type": "scatterpolar"
           }
          ],
          "scatterpolargl": [
           {
            "marker": {
             "colorbar": {
              "outlinewidth": 0,
              "ticks": ""
             }
            },
            "type": "scatterpolargl"
           }
          ],
          "scatterternary": [
           {
            "marker": {
             "colorbar": {
              "outlinewidth": 0,
              "ticks": ""
             }
            },
            "type": "scatterternary"
           }
          ],
          "surface": [
           {
            "colorbar": {
             "outlinewidth": 0,
             "ticks": ""
            },
            "colorscale": [
             [
              0,
              "#0d0887"
             ],
             [
              0.1111111111111111,
              "#46039f"
             ],
             [
              0.2222222222222222,
              "#7201a8"
             ],
             [
              0.3333333333333333,
              "#9c179e"
             ],
             [
              0.4444444444444444,
              "#bd3786"
             ],
             [
              0.5555555555555556,
              "#d8576b"
             ],
             [
              0.6666666666666666,
              "#ed7953"
             ],
             [
              0.7777777777777778,
              "#fb9f3a"
             ],
             [
              0.8888888888888888,
              "#fdca26"
             ],
             [
              1,
              "#f0f921"
             ]
            ],
            "type": "surface"
           }
          ],
          "table": [
           {
            "cells": {
             "fill": {
              "color": "#EBF0F8"
             },
             "line": {
              "color": "white"
             }
            },
            "header": {
             "fill": {
              "color": "#C8D4E3"
             },
             "line": {
              "color": "white"
             }
            },
            "type": "table"
           }
          ]
         },
         "layout": {
          "annotationdefaults": {
           "arrowcolor": "#2a3f5f",
           "arrowhead": 0,
           "arrowwidth": 1
          },
          "autotypenumbers": "strict",
          "coloraxis": {
           "colorbar": {
            "outlinewidth": 0,
            "ticks": ""
           }
          },
          "colorscale": {
           "diverging": [
            [
             0,
             "#8e0152"
            ],
            [
             0.1,
             "#c51b7d"
            ],
            [
             0.2,
             "#de77ae"
            ],
            [
             0.3,
             "#f1b6da"
            ],
            [
             0.4,
             "#fde0ef"
            ],
            [
             0.5,
             "#f7f7f7"
            ],
            [
             0.6,
             "#e6f5d0"
            ],
            [
             0.7,
             "#b8e186"
            ],
            [
             0.8,
             "#7fbc41"
            ],
            [
             0.9,
             "#4d9221"
            ],
            [
             1,
             "#276419"
            ]
           ],
           "sequential": [
            [
             0,
             "#0d0887"
            ],
            [
             0.1111111111111111,
             "#46039f"
            ],
            [
             0.2222222222222222,
             "#7201a8"
            ],
            [
             0.3333333333333333,
             "#9c179e"
            ],
            [
             0.4444444444444444,
             "#bd3786"
            ],
            [
             0.5555555555555556,
             "#d8576b"
            ],
            [
             0.6666666666666666,
             "#ed7953"
            ],
            [
             0.7777777777777778,
             "#fb9f3a"
            ],
            [
             0.8888888888888888,
             "#fdca26"
            ],
            [
             1,
             "#f0f921"
            ]
           ],
           "sequentialminus": [
            [
             0,
             "#0d0887"
            ],
            [
             0.1111111111111111,
             "#46039f"
            ],
            [
             0.2222222222222222,
             "#7201a8"
            ],
            [
             0.3333333333333333,
             "#9c179e"
            ],
            [
             0.4444444444444444,
             "#bd3786"
            ],
            [
             0.5555555555555556,
             "#d8576b"
            ],
            [
             0.6666666666666666,
             "#ed7953"
            ],
            [
             0.7777777777777778,
             "#fb9f3a"
            ],
            [
             0.8888888888888888,
             "#fdca26"
            ],
            [
             1,
             "#f0f921"
            ]
           ]
          },
          "colorway": [
           "#636efa",
           "#EF553B",
           "#00cc96",
           "#ab63fa",
           "#FFA15A",
           "#19d3f3",
           "#FF6692",
           "#B6E880",
           "#FF97FF",
           "#FECB52"
          ],
          "font": {
           "color": "#2a3f5f"
          },
          "geo": {
           "bgcolor": "white",
           "lakecolor": "white",
           "landcolor": "#E5ECF6",
           "showlakes": true,
           "showland": true,
           "subunitcolor": "white"
          },
          "hoverlabel": {
           "align": "left"
          },
          "hovermode": "closest",
          "mapbox": {
           "style": "light"
          },
          "paper_bgcolor": "white",
          "plot_bgcolor": "#E5ECF6",
          "polar": {
           "angularaxis": {
            "gridcolor": "white",
            "linecolor": "white",
            "ticks": ""
           },
           "bgcolor": "#E5ECF6",
           "radialaxis": {
            "gridcolor": "white",
            "linecolor": "white",
            "ticks": ""
           }
          },
          "scene": {
           "xaxis": {
            "backgroundcolor": "#E5ECF6",
            "gridcolor": "white",
            "gridwidth": 2,
            "linecolor": "white",
            "showbackground": true,
            "ticks": "",
            "zerolinecolor": "white"
           },
           "yaxis": {
            "backgroundcolor": "#E5ECF6",
            "gridcolor": "white",
            "gridwidth": 2,
            "linecolor": "white",
            "showbackground": true,
            "ticks": "",
            "zerolinecolor": "white"
           },
           "zaxis": {
            "backgroundcolor": "#E5ECF6",
            "gridcolor": "white",
            "gridwidth": 2,
            "linecolor": "white",
            "showbackground": true,
            "ticks": "",
            "zerolinecolor": "white"
           }
          },
          "shapedefaults": {
           "line": {
            "color": "#2a3f5f"
           }
          },
          "ternary": {
           "aaxis": {
            "gridcolor": "white",
            "linecolor": "white",
            "ticks": ""
           },
           "baxis": {
            "gridcolor": "white",
            "linecolor": "white",
            "ticks": ""
           },
           "bgcolor": "#E5ECF6",
           "caxis": {
            "gridcolor": "white",
            "linecolor": "white",
            "ticks": ""
           }
          },
          "title": {
           "x": 0.05
          },
          "xaxis": {
           "automargin": true,
           "gridcolor": "white",
           "linecolor": "white",
           "ticks": "",
           "title": {
            "standoff": 15
           },
           "zerolinecolor": "white",
           "zerolinewidth": 2
          },
          "yaxis": {
           "automargin": true,
           "gridcolor": "white",
           "linecolor": "white",
           "ticks": "",
           "title": {
            "standoff": 15
           },
           "zerolinecolor": "white",
           "zerolinewidth": 2
          }
         }
        },
        "title": {
         "text": "Distribution of Severity"
        },
        "xaxis": {
         "anchor": "y",
         "domain": [
          0,
          1
         ],
         "title": {
          "text": "Level"
         }
        },
        "yaxis": {
         "anchor": "x",
         "domain": [
          0,
          1
         ],
         "title": {
          "text": "count"
         }
        }
       }
      }
     },
     "metadata": {},
     "output_type": "display_data"
    }
   ],
   "source": [
    "#Chest Pain\n",
    "fig = px.histogram(lung, x = 'Level', color = 'Chest Pain', nbins = 10, title = 'Distribution of Severity', text_auto = True)\n",
    "fig.show()"
   ]
  },
  {
   "cell_type": "code",
   "execution_count": 86,
   "metadata": {},
   "outputs": [
    {
     "data": {
      "application/vnd.plotly.v1+json": {
       "config": {
        "plotlyServerURL": "https://plot.ly"
       },
       "data": [
        {
         "alignmentgroup": "True",
         "bingroup": "x",
         "hovertemplate": "Clubbing of Finger Nails=1<br>Level=%{x}<br>count=%{y}<extra></extra>",
         "legendgroup": "1",
         "marker": {
          "color": "#636efa",
          "pattern": {
           "shape": ""
          }
         },
         "name": "1",
         "nbinsx": 10,
         "offsetgroup": "1",
         "orientation": "v",
         "showlegend": true,
         "texttemplate": "%{value}",
         "type": "histogram",
         "x": [
          "Low",
          "Low",
          "Medium",
          "Medium",
          "Low",
          "Low",
          "Low",
          "Low",
          "Low",
          "Low",
          "Medium",
          "Medium",
          "Medium",
          "Medium",
          "Medium",
          "Low",
          "Medium",
          "Medium",
          "Low",
          "Low",
          "Low",
          "Low",
          "Low",
          "Low",
          "Medium",
          "Low",
          "Medium",
          "Medium",
          "Medium",
          "Low",
          "Low",
          "Medium",
          "Medium",
          "Low",
          "Low",
          "Low",
          "Low",
          "Low",
          "Low",
          "Low",
          "Medium",
          "Medium",
          "Medium",
          "Medium",
          "Low",
          "Low",
          "Medium",
          "Medium",
          "Low",
          "Low",
          "Low",
          "Low",
          "Low",
          "Low",
          "Medium",
          "Low",
          "Medium",
          "Medium",
          "Medium",
          "Low",
          "Low",
          "Medium",
          "Medium",
          "Low",
          "Low",
          "Low",
          "Low",
          "Low",
          "Medium",
          "Low",
          "Medium",
          "Medium",
          "Medium",
          "Medium",
          "Low",
          "Medium",
          "Medium",
          "Medium",
          "Low",
          "Low",
          "Low",
          "Medium",
          "Low",
          "Low",
          "Low",
          "Medium",
          "Medium",
          "Medium",
          "Medium",
          "Medium",
          "Low",
          "Medium",
          "Medium",
          "Medium",
          "Low",
          "Low",
          "Low",
          "Low",
          "Low",
          "Low",
          "Medium",
          "Medium",
          "Medium",
          "Medium",
          "Low",
          "Medium",
          "Medium",
          "Low",
          "Low",
          "Low",
          "Low",
          "Low",
          "Low",
          "Medium",
          "Medium",
          "Medium",
          "Medium",
          "Low",
          "Medium",
          "Medium",
          "Low",
          "Low",
          "Low",
          "Low",
          "Low",
          "Low",
          "Medium",
          "Medium",
          "Medium",
          "Medium",
          "Low"
         ],
         "xaxis": "x",
         "yaxis": "y"
        },
        {
         "alignmentgroup": "True",
         "bingroup": "x",
         "hovertemplate": "Clubbing of Finger Nails=2<br>Level=%{x}<br>count=%{y}<extra></extra>",
         "legendgroup": "2",
         "marker": {
          "color": "#EF553B",
          "pattern": {
           "shape": ""
          }
         },
         "name": "2",
         "nbinsx": 10,
         "offsetgroup": "2",
         "orientation": "v",
         "showlegend": true,
         "texttemplate": "%{value}",
         "type": "histogram",
         "x": [
          "Medium",
          "High",
          "Low",
          "High",
          "Medium",
          "Medium",
          "High",
          "High",
          "Low",
          "Low",
          "Low",
          "Low",
          "High",
          "Low",
          "Low",
          "Low",
          "Low",
          "Low",
          "High",
          "High",
          "High",
          "High",
          "High",
          "High",
          "High",
          "High",
          "High",
          "Low",
          "High",
          "Low",
          "High",
          "Medium",
          "Medium",
          "High",
          "High",
          "Low",
          "Low",
          "Low",
          "Low",
          "Low",
          "Low",
          "Low",
          "Low",
          "Low",
          "Low",
          "High",
          "High",
          "High",
          "High",
          "High",
          "High",
          "High",
          "High",
          "High",
          "Low",
          "High",
          "Medium",
          "Medium",
          "High",
          "High",
          "Low",
          "Low",
          "Low",
          "Low",
          "Low",
          "Low",
          "Low",
          "Low",
          "Low",
          "Low",
          "Low",
          "Low",
          "High",
          "Low",
          "High",
          "High",
          "High",
          "High",
          "High",
          "High",
          "High",
          "High",
          "Low",
          "High",
          "Medium",
          "Medium",
          "High",
          "High",
          "Low",
          "Low",
          "Low",
          "Low",
          "Low",
          "Low",
          "Low",
          "Low",
          "Low",
          "Low",
          "Low",
          "Low",
          "High",
          "Low",
          "High",
          "High",
          "High",
          "High",
          "High",
          "High",
          "High",
          "High",
          "High",
          "Low",
          "High",
          "Medium",
          "Medium",
          "High",
          "High",
          "Low",
          "Low",
          "Low",
          "Low",
          "Low",
          "Low",
          "Low",
          "Low",
          "Low",
          "High",
          "High",
          "High",
          "High",
          "High",
          "High",
          "High",
          "High",
          "High",
          "Low",
          "High",
          "Medium",
          "Medium",
          "High",
          "High",
          "Low",
          "Low",
          "Low",
          "Low",
          "Low",
          "Low",
          "Low",
          "Low",
          "Low",
          "High",
          "High",
          "High",
          "High",
          "High",
          "High",
          "High",
          "High",
          "High",
          "Low",
          "High",
          "Medium",
          "Medium",
          "High",
          "High",
          "Low",
          "Low",
          "Low",
          "Low",
          "Low",
          "Low",
          "Low",
          "Low",
          "High",
          "Low",
          "High",
          "High",
          "High",
          "High",
          "High",
          "High",
          "High",
          "High",
          "High",
          "High",
          "High",
          "Low",
          "High",
          "Medium",
          "Medium",
          "High",
          "High",
          "Low",
          "Low",
          "Low",
          "Low",
          "High",
          "Low",
          "Low",
          "Low",
          "Low",
          "Low",
          "High",
          "High",
          "High",
          "High",
          "High",
          "High",
          "High",
          "High",
          "High",
          "High",
          "Medium",
          "High",
          "Low",
          "High",
          "Medium",
          "Medium",
          "High",
          "High",
          "Low",
          "High",
          "Low",
          "Low",
          "Low",
          "Low",
          "Low",
          "Low",
          "Low",
          "Low",
          "High",
          "High",
          "Low",
          "High",
          "High",
          "High",
          "High",
          "High",
          "High",
          "High"
         ],
         "xaxis": "x",
         "yaxis": "y"
        },
        {
         "alignmentgroup": "True",
         "bingroup": "x",
         "hovertemplate": "Clubbing of Finger Nails=4<br>Level=%{x}<br>count=%{y}<extra></extra>",
         "legendgroup": "4",
         "marker": {
          "color": "#00cc96",
          "pattern": {
           "shape": ""
          }
         },
         "name": "4",
         "nbinsx": 10,
         "offsetgroup": "4",
         "orientation": "v",
         "showlegend": true,
         "texttemplate": "%{value}",
         "type": "histogram",
         "x": [
          "High",
          "High",
          "Medium",
          "High",
          "High",
          "Medium",
          "High",
          "Low",
          "Low",
          "Low",
          "High",
          "Low",
          "Medium",
          "Medium",
          "Medium",
          "Medium",
          "High",
          "High",
          "High",
          "High",
          "High",
          "High",
          "High",
          "High",
          "Medium",
          "High",
          "Medium",
          "High",
          "High",
          "Medium",
          "High",
          "High",
          "Low",
          "Low",
          "Low",
          "Low",
          "Medium",
          "Medium",
          "Medium",
          "Medium",
          "High",
          "High",
          "High",
          "High",
          "High",
          "High",
          "High",
          "High",
          "High",
          "Medium",
          "High",
          "High",
          "Medium",
          "High",
          "Low",
          "Low",
          "Low",
          "Low",
          "Medium",
          "Low",
          "Medium",
          "Medium",
          "Medium",
          "High",
          "High",
          "High",
          "High",
          "Low",
          "High",
          "High",
          "High",
          "High",
          "Medium",
          "High",
          "Medium",
          "High",
          "Low",
          "High",
          "Medium",
          "High",
          "Low",
          "Low",
          "Low",
          "Low",
          "Medium",
          "Medium",
          "Medium",
          "Medium",
          "High",
          "High",
          "High",
          "High",
          "High",
          "High",
          "High",
          "High",
          "Low",
          "High",
          "Medium",
          "High",
          "High",
          "Medium",
          "High",
          "Low",
          "Low",
          "Low",
          "Low",
          "Medium",
          "Medium",
          "Medium",
          "Medium",
          "Medium",
          "High",
          "High",
          "High",
          "High",
          "High",
          "High",
          "High",
          "High",
          "High",
          "High",
          "Medium",
          "High",
          "High",
          "Medium",
          "Medium",
          "High",
          "Low",
          "Low",
          "Low",
          "Medium",
          "Low",
          "Medium",
          "Medium",
          "Medium",
          "Medium",
          "High",
          "High",
          "High",
          "High",
          "High",
          "High",
          "High",
          "High",
          "High",
          "Medium",
          "High",
          "High",
          "Medium",
          "Medium",
          "High",
          "Low",
          "Low",
          "Low",
          "Low",
          "Medium",
          "High",
          "Medium",
          "Medium",
          "Medium",
          "High",
          "High",
          "High",
          "High",
          "High",
          "High",
          "High",
          "High",
          "High",
          "High",
          "Medium",
          "High",
          "High",
          "Medium",
          "High",
          "Low",
          "Low",
          "Low",
          "High",
          "Low",
          "Medium",
          "High",
          "Medium",
          "Medium",
          "Medium",
          "High",
          "High",
          "High",
          "High",
          "High",
          "High",
          "High",
          "High",
          "High",
          "High",
          "Medium",
          "High",
          "High",
          "Medium",
          "High",
          "Low",
          "High",
          "Low",
          "Low",
          "High",
          "Low",
          "Medium",
          "Medium",
          "Medium",
          "High",
          "Medium",
          "High",
          "Medium",
          "High",
          "High",
          "High",
          "High",
          "High",
          "High"
         ],
         "xaxis": "x",
         "yaxis": "y"
        },
        {
         "alignmentgroup": "True",
         "bingroup": "x",
         "hovertemplate": "Clubbing of Finger Nails=5<br>Level=%{x}<br>count=%{y}<extra></extra>",
         "legendgroup": "5",
         "marker": {
          "color": "#ab63fa",
          "pattern": {
           "shape": ""
          }
         },
         "name": "5",
         "nbinsx": 10,
         "offsetgroup": "5",
         "orientation": "v",
         "showlegend": true,
         "texttemplate": "%{value}",
         "type": "histogram",
         "x": [
          "High",
          "High",
          "Low",
          "High",
          "High",
          "Low",
          "Medium",
          "Medium",
          "Medium",
          "Medium",
          "High",
          "High",
          "High",
          "High",
          "High",
          "Low",
          "High",
          "High",
          "Low",
          "Medium",
          "Medium",
          "Medium",
          "Medium",
          "High",
          "Low",
          "High",
          "High",
          "High",
          "Low",
          "High",
          "High",
          "Low",
          "Medium",
          "Medium",
          "Medium",
          "Medium",
          "High",
          "High",
          "High",
          "High",
          "Low",
          "High",
          "High",
          "Low",
          "Medium",
          "Medium",
          "Medium",
          "Medium",
          "High",
          "High",
          "High",
          "High",
          "Low",
          "High",
          "High",
          "Medium",
          "Low",
          "Medium",
          "Medium",
          "Medium",
          "Medium",
          "High",
          "High",
          "Medium",
          "High",
          "High",
          "Low",
          "High",
          "High",
          "Low",
          "Medium",
          "Medium",
          "Medium",
          "Medium",
          "High",
          "Medium",
          "High",
          "High",
          "High",
          "Low",
          "High",
          "High",
          "Medium",
          "Low",
          "Medium",
          "Medium",
          "High",
          "Medium",
          "Medium",
          "High",
          "High",
          "High",
          "Low",
          "High",
          "Low",
          "High",
          "High",
          "High",
          "Low",
          "Medium",
          "Medium",
          "Medium",
          "Medium",
          "High",
          "High",
          "High",
          "High",
          "High",
          "Low",
          "High",
          "High",
          "Low",
          "Medium",
          "Medium",
          "Medium",
          "Medium",
          "Low",
          "Medium",
          "High",
          "High"
         ],
         "xaxis": "x",
         "yaxis": "y"
        },
        {
         "alignmentgroup": "True",
         "bingroup": "x",
         "hovertemplate": "Clubbing of Finger Nails=6<br>Level=%{x}<br>count=%{y}<extra></extra>",
         "legendgroup": "6",
         "marker": {
          "color": "#FFA15A",
          "pattern": {
           "shape": ""
          }
         },
         "name": "6",
         "nbinsx": 10,
         "offsetgroup": "6",
         "orientation": "v",
         "showlegend": true,
         "texttemplate": "%{value}",
         "type": "histogram",
         "x": [
          "Medium",
          "Medium",
          "Medium",
          "Medium",
          "Medium",
          "Medium",
          "Medium",
          "Medium",
          "Medium",
          "Medium"
         ],
         "xaxis": "x",
         "yaxis": "y"
        },
        {
         "alignmentgroup": "True",
         "bingroup": "x",
         "hovertemplate": "Clubbing of Finger Nails=8<br>Level=%{x}<br>count=%{y}<extra></extra>",
         "legendgroup": "8",
         "marker": {
          "color": "#19d3f3",
          "pattern": {
           "shape": ""
          }
         },
         "name": "8",
         "nbinsx": 10,
         "offsetgroup": "8",
         "orientation": "v",
         "showlegend": true,
         "texttemplate": "%{value}",
         "type": "histogram",
         "x": [
          "High",
          "High",
          "Medium",
          "Medium",
          "Medium",
          "High",
          "High",
          "High",
          "Medium",
          "Medium",
          "Medium",
          "Medium",
          "High",
          "High",
          "High",
          "Medium",
          "Medium",
          "Medium",
          "High",
          "High",
          "High",
          "Medium",
          "Medium",
          "Medium",
          "High",
          "High",
          "High",
          "Medium",
          "Medium",
          "Medium",
          "Medium",
          "High",
          "High",
          "High",
          "Medium",
          "Medium",
          "Medium",
          "Medium",
          "High",
          "High",
          "High",
          "Medium",
          "Medium",
          "Medium",
          "High",
          "High",
          "High",
          "Medium",
          "High",
          "Medium",
          "Medium",
          "High",
          "High",
          "High",
          "High",
          "Medium",
          "Medium",
          "Medium",
          "High"
         ],
         "xaxis": "x",
         "yaxis": "y"
        },
        {
         "alignmentgroup": "True",
         "bingroup": "x",
         "hovertemplate": "Clubbing of Finger Nails=7<br>Level=%{x}<br>count=%{y}<extra></extra>",
         "legendgroup": "7",
         "marker": {
          "color": "#FF6692",
          "pattern": {
           "shape": ""
          }
         },
         "name": "7",
         "nbinsx": 10,
         "offsetgroup": "7",
         "orientation": "v",
         "showlegend": true,
         "texttemplate": "%{value}",
         "type": "histogram",
         "x": [
          "Medium",
          "High",
          "Medium",
          "High",
          "High",
          "High",
          "Medium",
          "High",
          "High",
          "High",
          "Medium",
          "High",
          "High",
          "High",
          "Medium",
          "High",
          "High",
          "High",
          "Medium",
          "High",
          "High",
          "High",
          "Medium",
          "High",
          "High",
          "High",
          "Medium",
          "High",
          "High",
          "High",
          "High",
          "Medium",
          "High",
          "High",
          "High",
          "High",
          "Medium",
          "High",
          "High",
          "High"
         ],
         "xaxis": "x",
         "yaxis": "y"
        },
        {
         "alignmentgroup": "True",
         "bingroup": "x",
         "hovertemplate": "Clubbing of Finger Nails=9<br>Level=%{x}<br>count=%{y}<extra></extra>",
         "legendgroup": "9",
         "marker": {
          "color": "#B6E880",
          "pattern": {
           "shape": ""
          }
         },
         "name": "9",
         "nbinsx": 10,
         "offsetgroup": "9",
         "orientation": "v",
         "showlegend": true,
         "texttemplate": "%{value}",
         "type": "histogram",
         "x": [
          "Medium",
          "High",
          "Medium",
          "Medium",
          "Medium",
          "Medium",
          "Medium",
          "Medium",
          "Medium",
          "Medium",
          "High",
          "High",
          "Medium",
          "Medium",
          "Medium",
          "Medium",
          "Medium",
          "Medium",
          "Medium",
          "High",
          "Medium",
          "Medium",
          "Medium",
          "Medium",
          "Medium",
          "Medium",
          "Medium",
          "High",
          "Medium",
          "Medium",
          "Medium",
          "Medium",
          "Medium",
          "Medium",
          "Medium",
          "High",
          "Medium",
          "Medium",
          "Medium",
          "Medium",
          "Medium",
          "Medium",
          "Medium",
          "Medium",
          "Medium",
          "High",
          "Medium",
          "Medium",
          "Medium",
          "Medium",
          "Medium",
          "Medium",
          "Medium",
          "Medium",
          "Medium",
          "Medium",
          "High",
          "Medium",
          "Medium",
          "Medium",
          "Medium",
          "Medium",
          "Medium",
          "Medium",
          "Medium",
          "High",
          "Medium",
          "Medium",
          "Medium",
          "Medium",
          "Medium",
          "Medium",
          "Medium",
          "High",
          "Medium",
          "Medium",
          "Medium",
          "Medium",
          "Medium",
          "Medium"
         ],
         "xaxis": "x",
         "yaxis": "y"
        },
        {
         "alignmentgroup": "True",
         "bingroup": "x",
         "hovertemplate": "Clubbing of Finger Nails=3<br>Level=%{x}<br>count=%{y}<extra></extra>",
         "legendgroup": "3",
         "marker": {
          "color": "#FF97FF",
          "pattern": {
           "shape": ""
          }
         },
         "name": "3",
         "nbinsx": 10,
         "offsetgroup": "3",
         "orientation": "v",
         "showlegend": true,
         "texttemplate": "%{value}",
         "type": "histogram",
         "x": [
          "Medium",
          "Low",
          "Low",
          "Low",
          "Low",
          "Low",
          "Low",
          "Low",
          "Medium",
          "Medium",
          "Medium",
          "Low",
          "Low",
          "Low",
          "Low",
          "Low",
          "Medium",
          "Low",
          "Low",
          "Medium",
          "Medium",
          "Low",
          "Low",
          "Medium",
          "Low",
          "Low",
          "Low",
          "Low",
          "Low",
          "Low",
          "Low",
          "Low",
          "Medium",
          "Medium",
          "Medium",
          "Low",
          "Low",
          "Low",
          "Low",
          "Low",
          "Low",
          "Low",
          "Low",
          "Medium",
          "Medium",
          "Low",
          "Low",
          "Low",
          "Medium",
          "Low",
          "Low",
          "Low",
          "Low",
          "Low",
          "Low",
          "Low",
          "Medium",
          "Medium",
          "Medium",
          "Medium",
          "Low",
          "Low",
          "Low",
          "Low",
          "Low",
          "Low",
          "Low",
          "Medium",
          "Medium",
          "Medium",
          "Medium",
          "Low",
          "Low",
          "Low",
          "Low",
          "Low",
          "Low",
          "Low",
          "Medium",
          "Medium",
          "Medium",
          "Low",
          "Low",
          "Low",
          "Low",
          "Low",
          "Low",
          "Low",
          "Medium",
          "Medium",
          "Medium",
          "Low",
          "Low",
          "Low",
          "Low",
          "Low",
          "Low",
          "Low",
          "Medium",
          "Medium"
         ],
         "xaxis": "x",
         "yaxis": "y"
        }
       ],
       "layout": {
        "barmode": "relative",
        "legend": {
         "title": {
          "text": "Clubbing of Finger Nails"
         },
         "tracegroupgap": 0
        },
        "template": {
         "data": {
          "bar": [
           {
            "error_x": {
             "color": "#2a3f5f"
            },
            "error_y": {
             "color": "#2a3f5f"
            },
            "marker": {
             "line": {
              "color": "#E5ECF6",
              "width": 0.5
             },
             "pattern": {
              "fillmode": "overlay",
              "size": 10,
              "solidity": 0.2
             }
            },
            "type": "bar"
           }
          ],
          "barpolar": [
           {
            "marker": {
             "line": {
              "color": "#E5ECF6",
              "width": 0.5
             },
             "pattern": {
              "fillmode": "overlay",
              "size": 10,
              "solidity": 0.2
             }
            },
            "type": "barpolar"
           }
          ],
          "carpet": [
           {
            "aaxis": {
             "endlinecolor": "#2a3f5f",
             "gridcolor": "white",
             "linecolor": "white",
             "minorgridcolor": "white",
             "startlinecolor": "#2a3f5f"
            },
            "baxis": {
             "endlinecolor": "#2a3f5f",
             "gridcolor": "white",
             "linecolor": "white",
             "minorgridcolor": "white",
             "startlinecolor": "#2a3f5f"
            },
            "type": "carpet"
           }
          ],
          "choropleth": [
           {
            "colorbar": {
             "outlinewidth": 0,
             "ticks": ""
            },
            "type": "choropleth"
           }
          ],
          "contour": [
           {
            "colorbar": {
             "outlinewidth": 0,
             "ticks": ""
            },
            "colorscale": [
             [
              0,
              "#0d0887"
             ],
             [
              0.1111111111111111,
              "#46039f"
             ],
             [
              0.2222222222222222,
              "#7201a8"
             ],
             [
              0.3333333333333333,
              "#9c179e"
             ],
             [
              0.4444444444444444,
              "#bd3786"
             ],
             [
              0.5555555555555556,
              "#d8576b"
             ],
             [
              0.6666666666666666,
              "#ed7953"
             ],
             [
              0.7777777777777778,
              "#fb9f3a"
             ],
             [
              0.8888888888888888,
              "#fdca26"
             ],
             [
              1,
              "#f0f921"
             ]
            ],
            "type": "contour"
           }
          ],
          "contourcarpet": [
           {
            "colorbar": {
             "outlinewidth": 0,
             "ticks": ""
            },
            "type": "contourcarpet"
           }
          ],
          "heatmap": [
           {
            "colorbar": {
             "outlinewidth": 0,
             "ticks": ""
            },
            "colorscale": [
             [
              0,
              "#0d0887"
             ],
             [
              0.1111111111111111,
              "#46039f"
             ],
             [
              0.2222222222222222,
              "#7201a8"
             ],
             [
              0.3333333333333333,
              "#9c179e"
             ],
             [
              0.4444444444444444,
              "#bd3786"
             ],
             [
              0.5555555555555556,
              "#d8576b"
             ],
             [
              0.6666666666666666,
              "#ed7953"
             ],
             [
              0.7777777777777778,
              "#fb9f3a"
             ],
             [
              0.8888888888888888,
              "#fdca26"
             ],
             [
              1,
              "#f0f921"
             ]
            ],
            "type": "heatmap"
           }
          ],
          "heatmapgl": [
           {
            "colorbar": {
             "outlinewidth": 0,
             "ticks": ""
            },
            "colorscale": [
             [
              0,
              "#0d0887"
             ],
             [
              0.1111111111111111,
              "#46039f"
             ],
             [
              0.2222222222222222,
              "#7201a8"
             ],
             [
              0.3333333333333333,
              "#9c179e"
             ],
             [
              0.4444444444444444,
              "#bd3786"
             ],
             [
              0.5555555555555556,
              "#d8576b"
             ],
             [
              0.6666666666666666,
              "#ed7953"
             ],
             [
              0.7777777777777778,
              "#fb9f3a"
             ],
             [
              0.8888888888888888,
              "#fdca26"
             ],
             [
              1,
              "#f0f921"
             ]
            ],
            "type": "heatmapgl"
           }
          ],
          "histogram": [
           {
            "marker": {
             "pattern": {
              "fillmode": "overlay",
              "size": 10,
              "solidity": 0.2
             }
            },
            "type": "histogram"
           }
          ],
          "histogram2d": [
           {
            "colorbar": {
             "outlinewidth": 0,
             "ticks": ""
            },
            "colorscale": [
             [
              0,
              "#0d0887"
             ],
             [
              0.1111111111111111,
              "#46039f"
             ],
             [
              0.2222222222222222,
              "#7201a8"
             ],
             [
              0.3333333333333333,
              "#9c179e"
             ],
             [
              0.4444444444444444,
              "#bd3786"
             ],
             [
              0.5555555555555556,
              "#d8576b"
             ],
             [
              0.6666666666666666,
              "#ed7953"
             ],
             [
              0.7777777777777778,
              "#fb9f3a"
             ],
             [
              0.8888888888888888,
              "#fdca26"
             ],
             [
              1,
              "#f0f921"
             ]
            ],
            "type": "histogram2d"
           }
          ],
          "histogram2dcontour": [
           {
            "colorbar": {
             "outlinewidth": 0,
             "ticks": ""
            },
            "colorscale": [
             [
              0,
              "#0d0887"
             ],
             [
              0.1111111111111111,
              "#46039f"
             ],
             [
              0.2222222222222222,
              "#7201a8"
             ],
             [
              0.3333333333333333,
              "#9c179e"
             ],
             [
              0.4444444444444444,
              "#bd3786"
             ],
             [
              0.5555555555555556,
              "#d8576b"
             ],
             [
              0.6666666666666666,
              "#ed7953"
             ],
             [
              0.7777777777777778,
              "#fb9f3a"
             ],
             [
              0.8888888888888888,
              "#fdca26"
             ],
             [
              1,
              "#f0f921"
             ]
            ],
            "type": "histogram2dcontour"
           }
          ],
          "mesh3d": [
           {
            "colorbar": {
             "outlinewidth": 0,
             "ticks": ""
            },
            "type": "mesh3d"
           }
          ],
          "parcoords": [
           {
            "line": {
             "colorbar": {
              "outlinewidth": 0,
              "ticks": ""
             }
            },
            "type": "parcoords"
           }
          ],
          "pie": [
           {
            "automargin": true,
            "type": "pie"
           }
          ],
          "scatter": [
           {
            "fillpattern": {
             "fillmode": "overlay",
             "size": 10,
             "solidity": 0.2
            },
            "type": "scatter"
           }
          ],
          "scatter3d": [
           {
            "line": {
             "colorbar": {
              "outlinewidth": 0,
              "ticks": ""
             }
            },
            "marker": {
             "colorbar": {
              "outlinewidth": 0,
              "ticks": ""
             }
            },
            "type": "scatter3d"
           }
          ],
          "scattercarpet": [
           {
            "marker": {
             "colorbar": {
              "outlinewidth": 0,
              "ticks": ""
             }
            },
            "type": "scattercarpet"
           }
          ],
          "scattergeo": [
           {
            "marker": {
             "colorbar": {
              "outlinewidth": 0,
              "ticks": ""
             }
            },
            "type": "scattergeo"
           }
          ],
          "scattergl": [
           {
            "marker": {
             "colorbar": {
              "outlinewidth": 0,
              "ticks": ""
             }
            },
            "type": "scattergl"
           }
          ],
          "scattermapbox": [
           {
            "marker": {
             "colorbar": {
              "outlinewidth": 0,
              "ticks": ""
             }
            },
            "type": "scattermapbox"
           }
          ],
          "scatterpolar": [
           {
            "marker": {
             "colorbar": {
              "outlinewidth": 0,
              "ticks": ""
             }
            },
            "type": "scatterpolar"
           }
          ],
          "scatterpolargl": [
           {
            "marker": {
             "colorbar": {
              "outlinewidth": 0,
              "ticks": ""
             }
            },
            "type": "scatterpolargl"
           }
          ],
          "scatterternary": [
           {
            "marker": {
             "colorbar": {
              "outlinewidth": 0,
              "ticks": ""
             }
            },
            "type": "scatterternary"
           }
          ],
          "surface": [
           {
            "colorbar": {
             "outlinewidth": 0,
             "ticks": ""
            },
            "colorscale": [
             [
              0,
              "#0d0887"
             ],
             [
              0.1111111111111111,
              "#46039f"
             ],
             [
              0.2222222222222222,
              "#7201a8"
             ],
             [
              0.3333333333333333,
              "#9c179e"
             ],
             [
              0.4444444444444444,
              "#bd3786"
             ],
             [
              0.5555555555555556,
              "#d8576b"
             ],
             [
              0.6666666666666666,
              "#ed7953"
             ],
             [
              0.7777777777777778,
              "#fb9f3a"
             ],
             [
              0.8888888888888888,
              "#fdca26"
             ],
             [
              1,
              "#f0f921"
             ]
            ],
            "type": "surface"
           }
          ],
          "table": [
           {
            "cells": {
             "fill": {
              "color": "#EBF0F8"
             },
             "line": {
              "color": "white"
             }
            },
            "header": {
             "fill": {
              "color": "#C8D4E3"
             },
             "line": {
              "color": "white"
             }
            },
            "type": "table"
           }
          ]
         },
         "layout": {
          "annotationdefaults": {
           "arrowcolor": "#2a3f5f",
           "arrowhead": 0,
           "arrowwidth": 1
          },
          "autotypenumbers": "strict",
          "coloraxis": {
           "colorbar": {
            "outlinewidth": 0,
            "ticks": ""
           }
          },
          "colorscale": {
           "diverging": [
            [
             0,
             "#8e0152"
            ],
            [
             0.1,
             "#c51b7d"
            ],
            [
             0.2,
             "#de77ae"
            ],
            [
             0.3,
             "#f1b6da"
            ],
            [
             0.4,
             "#fde0ef"
            ],
            [
             0.5,
             "#f7f7f7"
            ],
            [
             0.6,
             "#e6f5d0"
            ],
            [
             0.7,
             "#b8e186"
            ],
            [
             0.8,
             "#7fbc41"
            ],
            [
             0.9,
             "#4d9221"
            ],
            [
             1,
             "#276419"
            ]
           ],
           "sequential": [
            [
             0,
             "#0d0887"
            ],
            [
             0.1111111111111111,
             "#46039f"
            ],
            [
             0.2222222222222222,
             "#7201a8"
            ],
            [
             0.3333333333333333,
             "#9c179e"
            ],
            [
             0.4444444444444444,
             "#bd3786"
            ],
            [
             0.5555555555555556,
             "#d8576b"
            ],
            [
             0.6666666666666666,
             "#ed7953"
            ],
            [
             0.7777777777777778,
             "#fb9f3a"
            ],
            [
             0.8888888888888888,
             "#fdca26"
            ],
            [
             1,
             "#f0f921"
            ]
           ],
           "sequentialminus": [
            [
             0,
             "#0d0887"
            ],
            [
             0.1111111111111111,
             "#46039f"
            ],
            [
             0.2222222222222222,
             "#7201a8"
            ],
            [
             0.3333333333333333,
             "#9c179e"
            ],
            [
             0.4444444444444444,
             "#bd3786"
            ],
            [
             0.5555555555555556,
             "#d8576b"
            ],
            [
             0.6666666666666666,
             "#ed7953"
            ],
            [
             0.7777777777777778,
             "#fb9f3a"
            ],
            [
             0.8888888888888888,
             "#fdca26"
            ],
            [
             1,
             "#f0f921"
            ]
           ]
          },
          "colorway": [
           "#636efa",
           "#EF553B",
           "#00cc96",
           "#ab63fa",
           "#FFA15A",
           "#19d3f3",
           "#FF6692",
           "#B6E880",
           "#FF97FF",
           "#FECB52"
          ],
          "font": {
           "color": "#2a3f5f"
          },
          "geo": {
           "bgcolor": "white",
           "lakecolor": "white",
           "landcolor": "#E5ECF6",
           "showlakes": true,
           "showland": true,
           "subunitcolor": "white"
          },
          "hoverlabel": {
           "align": "left"
          },
          "hovermode": "closest",
          "mapbox": {
           "style": "light"
          },
          "paper_bgcolor": "white",
          "plot_bgcolor": "#E5ECF6",
          "polar": {
           "angularaxis": {
            "gridcolor": "white",
            "linecolor": "white",
            "ticks": ""
           },
           "bgcolor": "#E5ECF6",
           "radialaxis": {
            "gridcolor": "white",
            "linecolor": "white",
            "ticks": ""
           }
          },
          "scene": {
           "xaxis": {
            "backgroundcolor": "#E5ECF6",
            "gridcolor": "white",
            "gridwidth": 2,
            "linecolor": "white",
            "showbackground": true,
            "ticks": "",
            "zerolinecolor": "white"
           },
           "yaxis": {
            "backgroundcolor": "#E5ECF6",
            "gridcolor": "white",
            "gridwidth": 2,
            "linecolor": "white",
            "showbackground": true,
            "ticks": "",
            "zerolinecolor": "white"
           },
           "zaxis": {
            "backgroundcolor": "#E5ECF6",
            "gridcolor": "white",
            "gridwidth": 2,
            "linecolor": "white",
            "showbackground": true,
            "ticks": "",
            "zerolinecolor": "white"
           }
          },
          "shapedefaults": {
           "line": {
            "color": "#2a3f5f"
           }
          },
          "ternary": {
           "aaxis": {
            "gridcolor": "white",
            "linecolor": "white",
            "ticks": ""
           },
           "baxis": {
            "gridcolor": "white",
            "linecolor": "white",
            "ticks": ""
           },
           "bgcolor": "#E5ECF6",
           "caxis": {
            "gridcolor": "white",
            "linecolor": "white",
            "ticks": ""
           }
          },
          "title": {
           "x": 0.05
          },
          "xaxis": {
           "automargin": true,
           "gridcolor": "white",
           "linecolor": "white",
           "ticks": "",
           "title": {
            "standoff": 15
           },
           "zerolinecolor": "white",
           "zerolinewidth": 2
          },
          "yaxis": {
           "automargin": true,
           "gridcolor": "white",
           "linecolor": "white",
           "ticks": "",
           "title": {
            "standoff": 15
           },
           "zerolinecolor": "white",
           "zerolinewidth": 2
          }
         }
        },
        "title": {
         "text": "Distribution of Severity"
        },
        "xaxis": {
         "anchor": "y",
         "domain": [
          0,
          1
         ],
         "title": {
          "text": "Level"
         }
        },
        "yaxis": {
         "anchor": "x",
         "domain": [
          0,
          1
         ],
         "title": {
          "text": "count"
         }
        }
       }
      }
     },
     "metadata": {},
     "output_type": "display_data"
    }
   ],
   "source": [
    "# Clubbing of Finger Nails\n",
    "fig = px.histogram(lung, x = 'Level', color = 'Clubbing of Finger Nails', nbins = 10, title = 'Distribution of Severity', text_auto = True)\n",
    "fig.show()"
   ]
  },
  {
   "cell_type": "code",
   "execution_count": 87,
   "metadata": {},
   "outputs": [
    {
     "data": {
      "application/vnd.plotly.v1+json": {
       "config": {
        "plotlyServerURL": "https://plot.ly"
       },
       "data": [
        {
         "alignmentgroup": "True",
         "bingroup": "x",
         "hovertemplate": "Wheezing=2<br>Level=%{x}<br>count=%{y}<extra></extra>",
         "legendgroup": "2",
         "marker": {
          "color": "#636efa",
          "pattern": {
           "shape": ""
          }
         },
         "name": "2",
         "nbinsx": 10,
         "offsetgroup": "2",
         "orientation": "v",
         "showlegend": true,
         "texttemplate": "%{value}",
         "type": "histogram",
         "x": [
          "Low",
          "High",
          "High",
          "Low",
          "Medium",
          "Medium",
          "High",
          "High",
          "Low",
          "Low",
          "Low",
          "Low",
          "Low",
          "High",
          "Low",
          "Low",
          "Low",
          "Low",
          "Low",
          "High",
          "Low",
          "Low",
          "High",
          "High",
          "High",
          "High",
          "High",
          "High",
          "High",
          "Low",
          "Medium",
          "Medium",
          "High",
          "High",
          "Low",
          "Low",
          "Low",
          "Low",
          "Low",
          "Low",
          "Low",
          "Low",
          "Low",
          "Low",
          "Low",
          "Low",
          "Low",
          "High",
          "High",
          "High",
          "High",
          "High",
          "High",
          "Medium",
          "Low",
          "High",
          "Low",
          "Medium",
          "Medium",
          "High",
          "High",
          "Low",
          "Low",
          "Low",
          "Low",
          "Low",
          "Low",
          "Low",
          "Low",
          "Low",
          "Low",
          "Low",
          "Low",
          "Low",
          "Low",
          "Low",
          "Low",
          "High",
          "High",
          "High",
          "Low",
          "High",
          "High",
          "High",
          "Low",
          "High",
          "Low",
          "Medium",
          "Medium",
          "High",
          "High",
          "Low",
          "Low",
          "Low",
          "Low",
          "Low",
          "Low",
          "Low",
          "Low",
          "Low",
          "Low",
          "Low",
          "Low",
          "Low",
          "Low",
          "Low",
          "High",
          "High",
          "High",
          "High",
          "High",
          "High",
          "High",
          "Low",
          "Medium",
          "Low",
          "Medium",
          "High",
          "High",
          "Low",
          "Low",
          "Low",
          "Low",
          "Low",
          "Low",
          "Low",
          "Low",
          "Low",
          "Low",
          "Low",
          "Low",
          "High",
          "High",
          "High",
          "High",
          "High",
          "High",
          "High",
          "Low",
          "Medium",
          "Medium",
          "High",
          "High",
          "Low",
          "Low",
          "Low",
          "Low",
          "Low",
          "Low",
          "Low",
          "Low",
          "Low",
          "Low",
          "Low",
          "Low",
          "High",
          "High",
          "High",
          "High",
          "High",
          "High",
          "High",
          "Low",
          "Medium",
          "Medium",
          "High",
          "High",
          "Low",
          "Low",
          "Low",
          "Low",
          "Low",
          "Low",
          "Low",
          "Low",
          "Low",
          "Low",
          "Low",
          "Low",
          "High",
          "High",
          "High",
          "High",
          "High",
          "High",
          "High",
          "High",
          "High",
          "Low",
          "Medium",
          "Medium",
          "High",
          "High",
          "Low",
          "Low",
          "Low",
          "Low",
          "Low",
          "Low",
          "Low",
          "Low",
          "Low",
          "Low",
          "Low",
          "Low",
          "High",
          "High",
          "High",
          "High",
          "High",
          "High",
          "High",
          "High",
          "Medium",
          "High",
          "Low",
          "Medium",
          "Medium",
          "High",
          "High",
          "Low",
          "Low",
          "Low",
          "Low",
          "Low",
          "Low",
          "Low",
          "Low",
          "Low",
          "Low",
          "High",
          "Low",
          "Low",
          "High",
          "Low",
          "High",
          "High",
          "High",
          "High",
          "High"
         ],
         "xaxis": "x",
         "yaxis": "y"
        },
        {
         "alignmentgroup": "True",
         "bingroup": "x",
         "hovertemplate": "Wheezing=8<br>Level=%{x}<br>count=%{y}<extra></extra>",
         "legendgroup": "8",
         "marker": {
          "color": "#EF553B",
          "pattern": {
           "shape": ""
          }
         },
         "name": "8",
         "nbinsx": 10,
         "offsetgroup": "8",
         "orientation": "v",
         "showlegend": true,
         "texttemplate": "%{value}",
         "type": "histogram",
         "x": [
          "Medium",
          "Medium",
          "Medium",
          "Medium",
          "Medium",
          "Medium",
          "Medium",
          "Medium",
          "Medium",
          "Medium"
         ],
         "xaxis": "x",
         "yaxis": "y"
        },
        {
         "alignmentgroup": "True",
         "bingroup": "x",
         "hovertemplate": "Wheezing=1<br>Level=%{x}<br>count=%{y}<extra></extra>",
         "legendgroup": "1",
         "marker": {
          "color": "#00cc96",
          "pattern": {
           "shape": ""
          }
         },
         "name": "1",
         "nbinsx": 10,
         "offsetgroup": "1",
         "orientation": "v",
         "showlegend": true,
         "texttemplate": "%{value}",
         "type": "histogram",
         "x": [
          "High",
          "High",
          "High",
          "High",
          "Medium",
          "High",
          "Medium",
          "Low",
          "Low",
          "Low",
          "Low",
          "High",
          "High",
          "High",
          "High",
          "High",
          "High",
          "High",
          "High",
          "High",
          "High",
          "Medium",
          "High",
          "Low",
          "Low",
          "Low",
          "Low",
          "High",
          "High",
          "High",
          "High",
          "High",
          "High",
          "High",
          "High",
          "High",
          "Medium",
          "High",
          "Low",
          "Low",
          "Low",
          "Low",
          "High",
          "High",
          "High",
          "High",
          "High",
          "High",
          "High",
          "High",
          "High",
          "Medium",
          "High",
          "Low",
          "Low",
          "Low",
          "Low",
          "Low",
          "Low",
          "High",
          "High",
          "High",
          "High",
          "High",
          "High",
          "Low",
          "High",
          "High",
          "High",
          "Medium",
          "High",
          "Low",
          "Low",
          "Low",
          "Low",
          "Low",
          "High",
          "High",
          "High",
          "High",
          "High",
          "High",
          "High",
          "High",
          "High",
          "Medium",
          "High",
          "Low",
          "Low",
          "Low",
          "Low",
          "High",
          "High",
          "High",
          "High",
          "High",
          "High",
          "High",
          "High",
          "High",
          "Medium",
          "High",
          "Low",
          "Low",
          "Low",
          "Low",
          "High",
          "High",
          "High",
          "High",
          "High",
          "High",
          "High",
          "High",
          "High",
          "High",
          "Medium",
          "High",
          "High",
          "Low",
          "Low",
          "Low",
          "Low",
          "High",
          "High",
          "High",
          "High",
          "High",
          "High",
          "High",
          "High",
          "High",
          "High",
          "High",
          "High",
          "Medium",
          "High",
          "Low",
          "Low",
          "Low",
          "Low",
          "High",
          "High",
          "High",
          "High",
          "High",
          "High",
          "High",
          "High"
         ],
         "xaxis": "x",
         "yaxis": "y"
        },
        {
         "alignmentgroup": "True",
         "bingroup": "x",
         "hovertemplate": "Wheezing=4<br>Level=%{x}<br>count=%{y}<extra></extra>",
         "legendgroup": "4",
         "marker": {
          "color": "#ab63fa",
          "pattern": {
           "shape": ""
          }
         },
         "name": "4",
         "nbinsx": 10,
         "offsetgroup": "4",
         "orientation": "v",
         "showlegend": true,
         "texttemplate": "%{value}",
         "type": "histogram",
         "x": [
          "Low",
          "Medium",
          "Low",
          "Medium",
          "Low",
          "Low",
          "Low",
          "Low",
          "Low",
          "Low",
          "Medium",
          "Medium",
          "Medium",
          "Medium",
          "Medium",
          "Medium",
          "Low",
          "Low",
          "Medium",
          "Low",
          "Medium",
          "Low",
          "Low",
          "Low",
          "Low",
          "Low",
          "Medium",
          "Low",
          "Medium",
          "Medium",
          "Medium",
          "Medium",
          "Low",
          "Medium",
          "Medium",
          "Low",
          "Low",
          "Low",
          "Medium",
          "Low",
          "Low",
          "Medium",
          "Low",
          "Low",
          "Low",
          "Low",
          "Low",
          "Low",
          "Low",
          "Medium",
          "Medium",
          "Medium",
          "Medium",
          "Medium",
          "Medium",
          "Low",
          "Medium",
          "Low",
          "Medium",
          "Low",
          "Low",
          "Low",
          "Low",
          "Low",
          "Low",
          "Medium",
          "Medium",
          "Medium",
          "Medium",
          "Medium",
          "Medium",
          "Low",
          "Low",
          "Medium",
          "Low",
          "Medium",
          "Low",
          "Medium",
          "Low",
          "Low",
          "Low",
          "Low",
          "Low",
          "Medium",
          "Medium",
          "Medium",
          "Medium",
          "Medium",
          "Medium",
          "Medium",
          "Medium",
          "Low",
          "Medium",
          "Low",
          "Medium",
          "Low",
          "Low",
          "Low",
          "Low",
          "Low",
          "Low",
          "Medium",
          "Medium",
          "Medium",
          "Medium",
          "Medium",
          "Medium",
          "Medium",
          "Medium",
          "Medium",
          "Low",
          "Medium",
          "Low",
          "Medium",
          "Low",
          "Medium",
          "Low",
          "Low",
          "Low",
          "Low",
          "Low",
          "Medium",
          "Medium",
          "Medium",
          "Medium",
          "Medium",
          "Medium",
          "Low",
          "Low",
          "Medium",
          "Low",
          "Medium",
          "Low",
          "Low",
          "Low",
          "Low",
          "Low",
          "Low",
          "Medium",
          "Medium",
          "Medium",
          "Medium",
          "Medium",
          "Medium",
          "Low",
          "Medium",
          "Low",
          "Medium",
          "Low",
          "Low",
          "Low",
          "Low",
          "Low",
          "Low",
          "Medium",
          "Medium",
          "Medium",
          "Medium",
          "Medium",
          "Medium",
          "Low",
          "Low",
          "Medium"
         ],
         "xaxis": "x",
         "yaxis": "y"
        },
        {
         "alignmentgroup": "True",
         "bingroup": "x",
         "hovertemplate": "Wheezing=6<br>Level=%{x}<br>count=%{y}<extra></extra>",
         "legendgroup": "6",
         "marker": {
          "color": "#FFA15A",
          "pattern": {
           "shape": ""
          }
         },
         "name": "6",
         "nbinsx": 10,
         "offsetgroup": "6",
         "orientation": "v",
         "showlegend": true,
         "texttemplate": "%{value}",
         "type": "histogram",
         "x": [
          "Medium",
          "High",
          "High",
          "High",
          "High",
          "High",
          "High",
          "High",
          "Medium",
          "High",
          "High",
          "High",
          "High",
          "High",
          "High",
          "High",
          "High",
          "Medium",
          "High",
          "High",
          "High",
          "High",
          "High",
          "High",
          "Medium",
          "Medium",
          "High",
          "High",
          "High",
          "High",
          "High",
          "High",
          "Medium",
          "High",
          "High",
          "High",
          "High",
          "High",
          "High",
          "Medium",
          "High",
          "High",
          "High",
          "High",
          "High",
          "High",
          "Medium",
          "High",
          "High",
          "High",
          "High",
          "High",
          "High",
          "High",
          "Medium",
          "High",
          "High",
          "High",
          "High",
          "High",
          "High",
          "High",
          "Medium",
          "High",
          "High",
          "High",
          "High",
          "High"
         ],
         "xaxis": "x",
         "yaxis": "y"
        },
        {
         "alignmentgroup": "True",
         "bingroup": "x",
         "hovertemplate": "Wheezing=7<br>Level=%{x}<br>count=%{y}<extra></extra>",
         "legendgroup": "7",
         "marker": {
          "color": "#19d3f3",
          "pattern": {
           "shape": ""
          }
         },
         "name": "7",
         "nbinsx": 10,
         "offsetgroup": "7",
         "orientation": "v",
         "showlegend": true,
         "texttemplate": "%{value}",
         "type": "histogram",
         "x": [
          "High",
          "High",
          "High",
          "Medium",
          "Medium",
          "Medium",
          "High",
          "High",
          "High",
          "High",
          "High",
          "High",
          "High",
          "High",
          "High",
          "High",
          "High",
          "High",
          "Medium",
          "Medium",
          "Medium",
          "Medium",
          "High",
          "High",
          "High",
          "High",
          "High",
          "High",
          "High",
          "High",
          "High",
          "High",
          "High",
          "Medium",
          "Medium",
          "Medium",
          "High",
          "High",
          "High",
          "High",
          "High",
          "High",
          "High",
          "High",
          "High",
          "High",
          "High",
          "Medium",
          "Medium",
          "Medium",
          "High",
          "High",
          "High",
          "High",
          "High",
          "High",
          "High",
          "High",
          "High",
          "High",
          "High",
          "High",
          "Medium",
          "Medium",
          "Medium",
          "High",
          "High",
          "Medium",
          "High",
          "High",
          "High",
          "High",
          "High",
          "High",
          "High",
          "High",
          "High",
          "High",
          "Medium",
          "Medium",
          "Medium",
          "Medium",
          "High",
          "High",
          "High",
          "High",
          "High",
          "High",
          "High",
          "High",
          "High",
          "High",
          "High",
          "Medium",
          "High",
          "High",
          "Medium",
          "Medium",
          "High",
          "High",
          "High",
          "High",
          "High",
          "High",
          "High",
          "High",
          "High",
          "High",
          "High",
          "High",
          "Medium",
          "High",
          "High",
          "Medium",
          "Medium",
          "High",
          "High",
          "High",
          "High",
          "High",
          "High",
          "High",
          "High",
          "High",
          "High",
          "High",
          "High",
          "Medium",
          "High",
          "High",
          "Medium",
          "Medium",
          "High",
          "High",
          "High",
          "High",
          "High",
          "High",
          "High"
         ],
         "xaxis": "x",
         "yaxis": "y"
        },
        {
         "alignmentgroup": "True",
         "bingroup": "x",
         "hovertemplate": "Wheezing=5<br>Level=%{x}<br>count=%{y}<extra></extra>",
         "legendgroup": "5",
         "marker": {
          "color": "#FF6692",
          "pattern": {
           "shape": ""
          }
         },
         "name": "5",
         "nbinsx": 10,
         "offsetgroup": "5",
         "orientation": "v",
         "showlegend": true,
         "texttemplate": "%{value}",
         "type": "histogram",
         "x": [
          "Medium",
          "Medium",
          "Medium",
          "Medium",
          "Medium",
          "Medium",
          "Medium",
          "Medium",
          "Medium",
          "Medium",
          "Medium",
          "Medium",
          "Medium",
          "Medium",
          "Medium",
          "Medium",
          "Medium",
          "Medium",
          "Medium",
          "Medium",
          "Medium",
          "Medium",
          "Medium",
          "Medium",
          "Medium",
          "Medium",
          "Medium",
          "Medium",
          "Medium",
          "Medium",
          "Medium",
          "Medium",
          "Medium",
          "Medium",
          "Medium",
          "Medium",
          "Medium",
          "Medium",
          "Medium",
          "Medium",
          "Medium",
          "Medium",
          "Medium",
          "Medium",
          "Medium",
          "Medium",
          "Medium",
          "Medium",
          "Medium",
          "Medium",
          "Medium",
          "Medium",
          "Medium",
          "Medium",
          "Medium",
          "Medium",
          "Medium",
          "Medium",
          "Medium",
          "Medium",
          "Medium",
          "Medium",
          "Medium",
          "Medium",
          "Medium",
          "Medium",
          "Medium",
          "Medium",
          "Medium",
          "Medium",
          "Medium",
          "Medium",
          "Medium",
          "Medium",
          "Medium",
          "Medium",
          "Medium",
          "Medium",
          "Medium",
          "Medium",
          "Medium",
          "Medium",
          "Medium",
          "Medium",
          "Medium",
          "Medium",
          "Medium",
          "Medium",
          "Medium",
          "Medium",
          "Medium",
          "Medium",
          "Medium",
          "Medium",
          "Medium",
          "Medium",
          "Medium",
          "Medium",
          "Medium",
          "Medium",
          "Medium",
          "Medium",
          "Medium",
          "Medium",
          "Medium",
          "Medium",
          "Medium",
          "Medium",
          "Medium",
          "Medium",
          "Medium",
          "Medium",
          "Medium",
          "Medium",
          "Medium",
          "Medium",
          "Medium",
          "Medium",
          "Medium",
          "Medium",
          "Medium",
          "Medium",
          "Medium",
          "Medium",
          "Medium",
          "Medium",
          "Medium",
          "Medium",
          "Medium",
          "Medium",
          "Medium",
          "Medium",
          "Medium",
          "Medium",
          "Medium",
          "Medium",
          "Medium",
          "Medium",
          "Medium",
          "Medium",
          "Medium",
          "Medium",
          "Medium",
          "Medium",
          "Medium",
          "Medium",
          "Medium",
          "Medium",
          "Medium",
          "Medium",
          "Medium",
          "Medium",
          "Medium",
          "Medium",
          "Medium",
          "Medium",
          "Medium",
          "Medium",
          "Medium",
          "Medium",
          "Medium",
          "Medium",
          "Medium",
          "Medium",
          "Medium",
          "Medium",
          "Medium",
          "Medium",
          "Medium",
          "Medium",
          "Medium"
         ],
         "xaxis": "x",
         "yaxis": "y"
        },
        {
         "alignmentgroup": "True",
         "bingroup": "x",
         "hovertemplate": "Wheezing=3<br>Level=%{x}<br>count=%{y}<extra></extra>",
         "legendgroup": "3",
         "marker": {
          "color": "#B6E880",
          "pattern": {
           "shape": ""
          }
         },
         "name": "3",
         "nbinsx": 10,
         "offsetgroup": "3",
         "orientation": "v",
         "showlegend": true,
         "texttemplate": "%{value}",
         "type": "histogram",
         "x": [
          "High",
          "Low",
          "Low",
          "Low",
          "Low",
          "Low",
          "High",
          "Low",
          "Low",
          "High",
          "Low",
          "Low",
          "Low",
          "Low",
          "High",
          "Low",
          "Low",
          "Low",
          "Low",
          "Low",
          "Low",
          "Low",
          "High",
          "Low",
          "Low",
          "Low",
          "Low",
          "Low",
          "Low",
          "Low",
          "High",
          "Low",
          "Low",
          "Low",
          "Low",
          "Low",
          "High",
          "Low",
          "Low",
          "Low",
          "Low",
          "Low",
          "High",
          "Low",
          "Low",
          "Low",
          "Low",
          "Low",
          "High",
          "Low",
          "Low",
          "Low",
          "Low",
          "Low",
          "High",
          "Low",
          "Low",
          "Low",
          "Low",
          "Low"
         ],
         "xaxis": "x",
         "yaxis": "y"
        }
       ],
       "layout": {
        "barmode": "relative",
        "legend": {
         "title": {
          "text": "Wheezing"
         },
         "tracegroupgap": 0
        },
        "template": {
         "data": {
          "bar": [
           {
            "error_x": {
             "color": "#2a3f5f"
            },
            "error_y": {
             "color": "#2a3f5f"
            },
            "marker": {
             "line": {
              "color": "#E5ECF6",
              "width": 0.5
             },
             "pattern": {
              "fillmode": "overlay",
              "size": 10,
              "solidity": 0.2
             }
            },
            "type": "bar"
           }
          ],
          "barpolar": [
           {
            "marker": {
             "line": {
              "color": "#E5ECF6",
              "width": 0.5
             },
             "pattern": {
              "fillmode": "overlay",
              "size": 10,
              "solidity": 0.2
             }
            },
            "type": "barpolar"
           }
          ],
          "carpet": [
           {
            "aaxis": {
             "endlinecolor": "#2a3f5f",
             "gridcolor": "white",
             "linecolor": "white",
             "minorgridcolor": "white",
             "startlinecolor": "#2a3f5f"
            },
            "baxis": {
             "endlinecolor": "#2a3f5f",
             "gridcolor": "white",
             "linecolor": "white",
             "minorgridcolor": "white",
             "startlinecolor": "#2a3f5f"
            },
            "type": "carpet"
           }
          ],
          "choropleth": [
           {
            "colorbar": {
             "outlinewidth": 0,
             "ticks": ""
            },
            "type": "choropleth"
           }
          ],
          "contour": [
           {
            "colorbar": {
             "outlinewidth": 0,
             "ticks": ""
            },
            "colorscale": [
             [
              0,
              "#0d0887"
             ],
             [
              0.1111111111111111,
              "#46039f"
             ],
             [
              0.2222222222222222,
              "#7201a8"
             ],
             [
              0.3333333333333333,
              "#9c179e"
             ],
             [
              0.4444444444444444,
              "#bd3786"
             ],
             [
              0.5555555555555556,
              "#d8576b"
             ],
             [
              0.6666666666666666,
              "#ed7953"
             ],
             [
              0.7777777777777778,
              "#fb9f3a"
             ],
             [
              0.8888888888888888,
              "#fdca26"
             ],
             [
              1,
              "#f0f921"
             ]
            ],
            "type": "contour"
           }
          ],
          "contourcarpet": [
           {
            "colorbar": {
             "outlinewidth": 0,
             "ticks": ""
            },
            "type": "contourcarpet"
           }
          ],
          "heatmap": [
           {
            "colorbar": {
             "outlinewidth": 0,
             "ticks": ""
            },
            "colorscale": [
             [
              0,
              "#0d0887"
             ],
             [
              0.1111111111111111,
              "#46039f"
             ],
             [
              0.2222222222222222,
              "#7201a8"
             ],
             [
              0.3333333333333333,
              "#9c179e"
             ],
             [
              0.4444444444444444,
              "#bd3786"
             ],
             [
              0.5555555555555556,
              "#d8576b"
             ],
             [
              0.6666666666666666,
              "#ed7953"
             ],
             [
              0.7777777777777778,
              "#fb9f3a"
             ],
             [
              0.8888888888888888,
              "#fdca26"
             ],
             [
              1,
              "#f0f921"
             ]
            ],
            "type": "heatmap"
           }
          ],
          "heatmapgl": [
           {
            "colorbar": {
             "outlinewidth": 0,
             "ticks": ""
            },
            "colorscale": [
             [
              0,
              "#0d0887"
             ],
             [
              0.1111111111111111,
              "#46039f"
             ],
             [
              0.2222222222222222,
              "#7201a8"
             ],
             [
              0.3333333333333333,
              "#9c179e"
             ],
             [
              0.4444444444444444,
              "#bd3786"
             ],
             [
              0.5555555555555556,
              "#d8576b"
             ],
             [
              0.6666666666666666,
              "#ed7953"
             ],
             [
              0.7777777777777778,
              "#fb9f3a"
             ],
             [
              0.8888888888888888,
              "#fdca26"
             ],
             [
              1,
              "#f0f921"
             ]
            ],
            "type": "heatmapgl"
           }
          ],
          "histogram": [
           {
            "marker": {
             "pattern": {
              "fillmode": "overlay",
              "size": 10,
              "solidity": 0.2
             }
            },
            "type": "histogram"
           }
          ],
          "histogram2d": [
           {
            "colorbar": {
             "outlinewidth": 0,
             "ticks": ""
            },
            "colorscale": [
             [
              0,
              "#0d0887"
             ],
             [
              0.1111111111111111,
              "#46039f"
             ],
             [
              0.2222222222222222,
              "#7201a8"
             ],
             [
              0.3333333333333333,
              "#9c179e"
             ],
             [
              0.4444444444444444,
              "#bd3786"
             ],
             [
              0.5555555555555556,
              "#d8576b"
             ],
             [
              0.6666666666666666,
              "#ed7953"
             ],
             [
              0.7777777777777778,
              "#fb9f3a"
             ],
             [
              0.8888888888888888,
              "#fdca26"
             ],
             [
              1,
              "#f0f921"
             ]
            ],
            "type": "histogram2d"
           }
          ],
          "histogram2dcontour": [
           {
            "colorbar": {
             "outlinewidth": 0,
             "ticks": ""
            },
            "colorscale": [
             [
              0,
              "#0d0887"
             ],
             [
              0.1111111111111111,
              "#46039f"
             ],
             [
              0.2222222222222222,
              "#7201a8"
             ],
             [
              0.3333333333333333,
              "#9c179e"
             ],
             [
              0.4444444444444444,
              "#bd3786"
             ],
             [
              0.5555555555555556,
              "#d8576b"
             ],
             [
              0.6666666666666666,
              "#ed7953"
             ],
             [
              0.7777777777777778,
              "#fb9f3a"
             ],
             [
              0.8888888888888888,
              "#fdca26"
             ],
             [
              1,
              "#f0f921"
             ]
            ],
            "type": "histogram2dcontour"
           }
          ],
          "mesh3d": [
           {
            "colorbar": {
             "outlinewidth": 0,
             "ticks": ""
            },
            "type": "mesh3d"
           }
          ],
          "parcoords": [
           {
            "line": {
             "colorbar": {
              "outlinewidth": 0,
              "ticks": ""
             }
            },
            "type": "parcoords"
           }
          ],
          "pie": [
           {
            "automargin": true,
            "type": "pie"
           }
          ],
          "scatter": [
           {
            "fillpattern": {
             "fillmode": "overlay",
             "size": 10,
             "solidity": 0.2
            },
            "type": "scatter"
           }
          ],
          "scatter3d": [
           {
            "line": {
             "colorbar": {
              "outlinewidth": 0,
              "ticks": ""
             }
            },
            "marker": {
             "colorbar": {
              "outlinewidth": 0,
              "ticks": ""
             }
            },
            "type": "scatter3d"
           }
          ],
          "scattercarpet": [
           {
            "marker": {
             "colorbar": {
              "outlinewidth": 0,
              "ticks": ""
             }
            },
            "type": "scattercarpet"
           }
          ],
          "scattergeo": [
           {
            "marker": {
             "colorbar": {
              "outlinewidth": 0,
              "ticks": ""
             }
            },
            "type": "scattergeo"
           }
          ],
          "scattergl": [
           {
            "marker": {
             "colorbar": {
              "outlinewidth": 0,
              "ticks": ""
             }
            },
            "type": "scattergl"
           }
          ],
          "scattermapbox": [
           {
            "marker": {
             "colorbar": {
              "outlinewidth": 0,
              "ticks": ""
             }
            },
            "type": "scattermapbox"
           }
          ],
          "scatterpolar": [
           {
            "marker": {
             "colorbar": {
              "outlinewidth": 0,
              "ticks": ""
             }
            },
            "type": "scatterpolar"
           }
          ],
          "scatterpolargl": [
           {
            "marker": {
             "colorbar": {
              "outlinewidth": 0,
              "ticks": ""
             }
            },
            "type": "scatterpolargl"
           }
          ],
          "scatterternary": [
           {
            "marker": {
             "colorbar": {
              "outlinewidth": 0,
              "ticks": ""
             }
            },
            "type": "scatterternary"
           }
          ],
          "surface": [
           {
            "colorbar": {
             "outlinewidth": 0,
             "ticks": ""
            },
            "colorscale": [
             [
              0,
              "#0d0887"
             ],
             [
              0.1111111111111111,
              "#46039f"
             ],
             [
              0.2222222222222222,
              "#7201a8"
             ],
             [
              0.3333333333333333,
              "#9c179e"
             ],
             [
              0.4444444444444444,
              "#bd3786"
             ],
             [
              0.5555555555555556,
              "#d8576b"
             ],
             [
              0.6666666666666666,
              "#ed7953"
             ],
             [
              0.7777777777777778,
              "#fb9f3a"
             ],
             [
              0.8888888888888888,
              "#fdca26"
             ],
             [
              1,
              "#f0f921"
             ]
            ],
            "type": "surface"
           }
          ],
          "table": [
           {
            "cells": {
             "fill": {
              "color": "#EBF0F8"
             },
             "line": {
              "color": "white"
             }
            },
            "header": {
             "fill": {
              "color": "#C8D4E3"
             },
             "line": {
              "color": "white"
             }
            },
            "type": "table"
           }
          ]
         },
         "layout": {
          "annotationdefaults": {
           "arrowcolor": "#2a3f5f",
           "arrowhead": 0,
           "arrowwidth": 1
          },
          "autotypenumbers": "strict",
          "coloraxis": {
           "colorbar": {
            "outlinewidth": 0,
            "ticks": ""
           }
          },
          "colorscale": {
           "diverging": [
            [
             0,
             "#8e0152"
            ],
            [
             0.1,
             "#c51b7d"
            ],
            [
             0.2,
             "#de77ae"
            ],
            [
             0.3,
             "#f1b6da"
            ],
            [
             0.4,
             "#fde0ef"
            ],
            [
             0.5,
             "#f7f7f7"
            ],
            [
             0.6,
             "#e6f5d0"
            ],
            [
             0.7,
             "#b8e186"
            ],
            [
             0.8,
             "#7fbc41"
            ],
            [
             0.9,
             "#4d9221"
            ],
            [
             1,
             "#276419"
            ]
           ],
           "sequential": [
            [
             0,
             "#0d0887"
            ],
            [
             0.1111111111111111,
             "#46039f"
            ],
            [
             0.2222222222222222,
             "#7201a8"
            ],
            [
             0.3333333333333333,
             "#9c179e"
            ],
            [
             0.4444444444444444,
             "#bd3786"
            ],
            [
             0.5555555555555556,
             "#d8576b"
            ],
            [
             0.6666666666666666,
             "#ed7953"
            ],
            [
             0.7777777777777778,
             "#fb9f3a"
            ],
            [
             0.8888888888888888,
             "#fdca26"
            ],
            [
             1,
             "#f0f921"
            ]
           ],
           "sequentialminus": [
            [
             0,
             "#0d0887"
            ],
            [
             0.1111111111111111,
             "#46039f"
            ],
            [
             0.2222222222222222,
             "#7201a8"
            ],
            [
             0.3333333333333333,
             "#9c179e"
            ],
            [
             0.4444444444444444,
             "#bd3786"
            ],
            [
             0.5555555555555556,
             "#d8576b"
            ],
            [
             0.6666666666666666,
             "#ed7953"
            ],
            [
             0.7777777777777778,
             "#fb9f3a"
            ],
            [
             0.8888888888888888,
             "#fdca26"
            ],
            [
             1,
             "#f0f921"
            ]
           ]
          },
          "colorway": [
           "#636efa",
           "#EF553B",
           "#00cc96",
           "#ab63fa",
           "#FFA15A",
           "#19d3f3",
           "#FF6692",
           "#B6E880",
           "#FF97FF",
           "#FECB52"
          ],
          "font": {
           "color": "#2a3f5f"
          },
          "geo": {
           "bgcolor": "white",
           "lakecolor": "white",
           "landcolor": "#E5ECF6",
           "showlakes": true,
           "showland": true,
           "subunitcolor": "white"
          },
          "hoverlabel": {
           "align": "left"
          },
          "hovermode": "closest",
          "mapbox": {
           "style": "light"
          },
          "paper_bgcolor": "white",
          "plot_bgcolor": "#E5ECF6",
          "polar": {
           "angularaxis": {
            "gridcolor": "white",
            "linecolor": "white",
            "ticks": ""
           },
           "bgcolor": "#E5ECF6",
           "radialaxis": {
            "gridcolor": "white",
            "linecolor": "white",
            "ticks": ""
           }
          },
          "scene": {
           "xaxis": {
            "backgroundcolor": "#E5ECF6",
            "gridcolor": "white",
            "gridwidth": 2,
            "linecolor": "white",
            "showbackground": true,
            "ticks": "",
            "zerolinecolor": "white"
           },
           "yaxis": {
            "backgroundcolor": "#E5ECF6",
            "gridcolor": "white",
            "gridwidth": 2,
            "linecolor": "white",
            "showbackground": true,
            "ticks": "",
            "zerolinecolor": "white"
           },
           "zaxis": {
            "backgroundcolor": "#E5ECF6",
            "gridcolor": "white",
            "gridwidth": 2,
            "linecolor": "white",
            "showbackground": true,
            "ticks": "",
            "zerolinecolor": "white"
           }
          },
          "shapedefaults": {
           "line": {
            "color": "#2a3f5f"
           }
          },
          "ternary": {
           "aaxis": {
            "gridcolor": "white",
            "linecolor": "white",
            "ticks": ""
           },
           "baxis": {
            "gridcolor": "white",
            "linecolor": "white",
            "ticks": ""
           },
           "bgcolor": "#E5ECF6",
           "caxis": {
            "gridcolor": "white",
            "linecolor": "white",
            "ticks": ""
           }
          },
          "title": {
           "x": 0.05
          },
          "xaxis": {
           "automargin": true,
           "gridcolor": "white",
           "linecolor": "white",
           "ticks": "",
           "title": {
            "standoff": 15
           },
           "zerolinecolor": "white",
           "zerolinewidth": 2
          },
          "yaxis": {
           "automargin": true,
           "gridcolor": "white",
           "linecolor": "white",
           "ticks": "",
           "title": {
            "standoff": 15
           },
           "zerolinecolor": "white",
           "zerolinewidth": 2
          }
         }
        },
        "title": {
         "text": "Distribution of Severity"
        },
        "xaxis": {
         "anchor": "y",
         "domain": [
          0,
          1
         ],
         "title": {
          "text": "Level"
         }
        },
        "yaxis": {
         "anchor": "x",
         "domain": [
          0,
          1
         ],
         "title": {
          "text": "count"
         }
        }
       }
      }
     },
     "metadata": {},
     "output_type": "display_data"
    }
   ],
   "source": [
    "#Wheezing\n",
    "fig = px.histogram(lung, x = 'Level', color = 'Wheezing', nbins = 10, title = 'Distribution of Severity', text_auto = True)\n",
    "fig.show()"
   ]
  },
  {
   "cell_type": "code",
   "execution_count": 88,
   "metadata": {},
   "outputs": [
    {
     "data": {
      "application/vnd.plotly.v1+json": {
       "config": {
        "plotlyServerURL": "https://plot.ly"
       },
       "data": [
        {
         "alignmentgroup": "True",
         "bingroup": "x",
         "hovertemplate": "Dry Cough=3<br>Level=%{x}<br>count=%{y}<extra></extra>",
         "legendgroup": "3",
         "marker": {
          "color": "#636efa",
          "pattern": {
           "shape": ""
          }
         },
         "name": "3",
         "nbinsx": 10,
         "offsetgroup": "3",
         "orientation": "v",
         "showlegend": true,
         "texttemplate": "%{value}",
         "type": "histogram",
         "x": [
          "Low",
          "Low",
          "High",
          "Low",
          "Low",
          "Low",
          "Low",
          "Low",
          "Low",
          "High",
          "High",
          "High",
          "Low",
          "High",
          "Low",
          "Low",
          "Low",
          "Low",
          "Low",
          "Low",
          "Low",
          "High",
          "High",
          "Low",
          "Low",
          "High",
          "Low",
          "Low",
          "Low",
          "Low",
          "Low",
          "Low",
          "Low",
          "High",
          "High",
          "Low",
          "High",
          "Low",
          "Low",
          "Low",
          "Low",
          "Low",
          "Low",
          "Low",
          "Low",
          "High",
          "High",
          "Low",
          "Low",
          "High",
          "Low",
          "Low",
          "Low",
          "Low",
          "Low",
          "Low",
          "High",
          "High",
          "Low",
          "High",
          "Low",
          "Low",
          "Low",
          "Low",
          "Low",
          "Low",
          "High",
          "High",
          "Low",
          "High",
          "Low",
          "Low",
          "Low",
          "Low",
          "Low",
          "Low",
          "High",
          "High",
          "Low",
          "High",
          "High",
          "Low",
          "Low",
          "Low",
          "Low",
          "Low",
          "Low",
          "High",
          "High",
          "High",
          "Low",
          "High",
          "Low",
          "Low",
          "Low",
          "Low",
          "Low",
          "Low",
          "Low",
          "High",
          "High"
         ],
         "xaxis": "x",
         "yaxis": "y"
        },
        {
         "alignmentgroup": "True",
         "bingroup": "x",
         "hovertemplate": "Dry Cough=7<br>Level=%{x}<br>count=%{y}<extra></extra>",
         "legendgroup": "7",
         "marker": {
          "color": "#EF553B",
          "pattern": {
           "shape": ""
          }
         },
         "name": "7",
         "nbinsx": 10,
         "offsetgroup": "7",
         "orientation": "v",
         "showlegend": true,
         "texttemplate": "%{value}",
         "type": "histogram",
         "x": [
          "Medium",
          "High",
          "High",
          "High",
          "High",
          "Medium",
          "High",
          "High",
          "High",
          "Medium",
          "High",
          "High",
          "Medium",
          "Medium",
          "High",
          "High",
          "High",
          "High",
          "High",
          "High",
          "High",
          "High",
          "High",
          "High",
          "Medium",
          "High",
          "High",
          "High",
          "Medium",
          "Medium",
          "Medium",
          "Medium",
          "High",
          "High",
          "High",
          "High",
          "High",
          "High",
          "High",
          "High",
          "High",
          "High",
          "Medium",
          "High",
          "High",
          "High",
          "Medium",
          "Medium",
          "Medium",
          "High",
          "High",
          "High",
          "High",
          "High",
          "High",
          "High",
          "High",
          "High",
          "High",
          "Medium",
          "High",
          "High",
          "High",
          "Medium",
          "Medium",
          "Medium",
          "High",
          "High",
          "High",
          "High",
          "High",
          "High",
          "High",
          "High",
          "High",
          "High",
          "Medium",
          "High",
          "High",
          "High",
          "Medium",
          "Medium",
          "Medium",
          "Medium",
          "High",
          "High",
          "High",
          "High",
          "High",
          "High",
          "High",
          "High",
          "High",
          "High",
          "Medium",
          "High",
          "High",
          "High",
          "Medium",
          "Medium",
          "Medium",
          "Medium",
          "High",
          "High",
          "High",
          "High",
          "High",
          "High",
          "High",
          "High",
          "High",
          "High",
          "Medium",
          "High",
          "High",
          "High",
          "Medium",
          "Medium",
          "Medium",
          "High",
          "High",
          "High",
          "High",
          "High",
          "High",
          "High",
          "High",
          "High",
          "High",
          "High",
          "High",
          "Medium",
          "High",
          "High",
          "High",
          "High",
          "Medium",
          "High",
          "Medium",
          "Medium",
          "High",
          "High",
          "High",
          "High",
          "High",
          "High",
          "High",
          "High",
          "High",
          "High",
          "High",
          "High",
          "Medium",
          "High",
          "High",
          "High",
          "Medium",
          "High",
          "Medium",
          "Medium",
          "High",
          "High",
          "High",
          "High",
          "High",
          "High",
          "High",
          "High"
         ],
         "xaxis": "x",
         "yaxis": "y"
        },
        {
         "alignmentgroup": "True",
         "bingroup": "x",
         "hovertemplate": "Dry Cough=2<br>Level=%{x}<br>count=%{y}<extra></extra>",
         "legendgroup": "2",
         "marker": {
          "color": "#00cc96",
          "pattern": {
           "shape": ""
          }
         },
         "name": "2",
         "nbinsx": 10,
         "offsetgroup": "2",
         "orientation": "v",
         "showlegend": true,
         "texttemplate": "%{value}",
         "type": "histogram",
         "x": [
          "High",
          "High",
          "Medium",
          "Medium",
          "Low",
          "Low",
          "Low",
          "Low",
          "Low",
          "Low",
          "Low",
          "Medium",
          "Medium",
          "Medium",
          "High",
          "Medium",
          "Medium",
          "Medium",
          "Medium",
          "Medium",
          "Medium",
          "Medium",
          "High",
          "High",
          "Medium",
          "High",
          "High",
          "High",
          "High",
          "Medium",
          "Medium",
          "Low",
          "Low",
          "Low",
          "Low",
          "Low",
          "Medium",
          "Low",
          "Low",
          "Medium",
          "Medium",
          "Medium",
          "Medium",
          "Medium",
          "Medium",
          "Medium",
          "Medium",
          "Medium",
          "Medium",
          "High",
          "High",
          "Low",
          "High",
          "High",
          "High",
          "High",
          "Medium",
          "Medium",
          "Low",
          "Low",
          "Low",
          "Low",
          "Low",
          "Low",
          "Low",
          "Low",
          "Medium",
          "Medium",
          "Medium",
          "Medium",
          "Medium",
          "Medium",
          "Medium",
          "Medium",
          "Medium",
          "Medium",
          "Low",
          "High",
          "High",
          "Low",
          "High",
          "High",
          "High",
          "High",
          "Medium",
          "Medium",
          "Low",
          "Low",
          "Low",
          "Low",
          "Low",
          "Low",
          "Low",
          "Low",
          "Medium",
          "Medium",
          "Medium",
          "Medium",
          "Medium",
          "Medium",
          "Medium",
          "Medium",
          "Medium",
          "Medium",
          "Low",
          "High",
          "High",
          "Low",
          "High",
          "High",
          "High",
          "High",
          "Medium",
          "Medium",
          "Medium",
          "Low",
          "Low",
          "Low",
          "Low",
          "Low",
          "Medium",
          "Low",
          "Low",
          "Medium",
          "Medium",
          "Medium",
          "Medium",
          "Medium",
          "Medium",
          "Medium",
          "Medium",
          "Medium",
          "Medium",
          "Medium",
          "High",
          "High",
          "Medium",
          "High",
          "High",
          "High",
          "Medium",
          "High",
          "Medium",
          "Medium",
          "Low",
          "Low",
          "Medium",
          "Low",
          "Low",
          "Low",
          "Low",
          "Low",
          "Medium",
          "Medium",
          "Medium",
          "Medium",
          "Medium",
          "Medium",
          "Medium",
          "Medium",
          "Medium",
          "Medium",
          "Medium",
          "Medium",
          "High",
          "High",
          "High",
          "High",
          "High",
          "Medium",
          "High",
          "Medium",
          "Medium",
          "Medium",
          "Low",
          "Low",
          "Low",
          "Low",
          "Low",
          "Low",
          "Low",
          "Medium",
          "Medium",
          "Medium",
          "Medium",
          "Medium",
          "Medium",
          "Medium",
          "Medium",
          "Medium",
          "Medium",
          "High",
          "High",
          "High",
          "High",
          "High",
          "High",
          "High",
          "Medium",
          "Medium",
          "Low",
          "Low",
          "Low",
          "Low",
          "Low",
          "Low",
          "Low",
          "Medium",
          "Medium",
          "Medium",
          "Medium",
          "Medium",
          "Medium",
          "Medium",
          "High",
          "Medium",
          "Medium",
          "Medium",
          "High",
          "High",
          "High",
          "High",
          "High",
          "High",
          "High",
          "Medium",
          "Medium",
          "Low",
          "Low",
          "Low",
          "Low",
          "Low",
          "Low",
          "Low",
          "Medium",
          "Medium",
          "Medium",
          "High",
          "Medium",
          "Medium",
          "Medium",
          "Medium",
          "Medium",
          "Medium",
          "Medium",
          "High",
          "High",
          "Medium",
          "High",
          "High",
          "High"
         ],
         "xaxis": "x",
         "yaxis": "y"
        },
        {
         "alignmentgroup": "True",
         "bingroup": "x",
         "hovertemplate": "Dry Cough=4<br>Level=%{x}<br>count=%{y}<extra></extra>",
         "legendgroup": "4",
         "marker": {
          "color": "#ab63fa",
          "pattern": {
           "shape": ""
          }
         },
         "name": "4",
         "nbinsx": 10,
         "offsetgroup": "4",
         "orientation": "v",
         "showlegend": true,
         "texttemplate": "%{value}",
         "type": "histogram",
         "x": [
          "Low",
          "Medium",
          "Medium",
          "Low",
          "Low",
          "Low",
          "Low",
          "Low",
          "Medium",
          "Medium",
          "Medium",
          "Medium",
          "Medium",
          "Medium",
          "Medium",
          "Low",
          "Low",
          "Medium",
          "Medium",
          "Low",
          "Low",
          "Low",
          "Low",
          "Low",
          "Medium",
          "Medium",
          "Medium",
          "Low",
          "Medium",
          "Medium",
          "Medium",
          "Medium",
          "Low",
          "Medium",
          "Low",
          "Medium",
          "Low",
          "Low",
          "Low",
          "Low",
          "Low",
          "Medium",
          "Medium",
          "Medium",
          "Medium",
          "Medium",
          "Medium",
          "Low",
          "Medium",
          "Low",
          "Medium",
          "Low",
          "Low",
          "Low",
          "Low",
          "Low",
          "Low",
          "Medium",
          "Low",
          "Medium",
          "Medium",
          "Medium",
          "Medium",
          "Medium",
          "Low",
          "Medium",
          "Medium",
          "Low",
          "Low",
          "Medium",
          "Low",
          "Low",
          "Low",
          "Medium",
          "Medium",
          "Medium",
          "Medium",
          "Medium",
          "Medium",
          "Medium",
          "Low",
          "Medium",
          "Medium",
          "Low",
          "Medium",
          "Low",
          "Low",
          "Low",
          "Low",
          "Medium",
          "Medium",
          "Medium",
          "Medium",
          "Medium",
          "Medium",
          "Medium",
          "Medium",
          "Low",
          "Medium",
          "Medium",
          "Low",
          "Low",
          "Medium",
          "Low",
          "Low",
          "Low",
          "Medium",
          "Medium",
          "Medium",
          "Medium",
          "Medium",
          "Medium",
          "Low",
          "Medium",
          "Medium",
          "Low",
          "Low",
          "Low",
          "Low",
          "Low",
          "Medium",
          "Medium",
          "Medium",
          "Medium",
          "Medium",
          "Medium",
          "Low",
          "Medium",
          "Medium",
          "Low",
          "Low",
          "Low",
          "Low",
          "Low",
          "Medium",
          "Medium",
          "Medium",
          "Medium",
          "Medium",
          "Medium",
          "Low"
         ],
         "xaxis": "x",
         "yaxis": "y"
        },
        {
         "alignmentgroup": "True",
         "bingroup": "x",
         "hovertemplate": "Dry Cough=1<br>Level=%{x}<br>count=%{y}<extra></extra>",
         "legendgroup": "1",
         "marker": {
          "color": "#FFA15A",
          "pattern": {
           "shape": ""
          }
         },
         "name": "1",
         "nbinsx": 10,
         "offsetgroup": "1",
         "orientation": "v",
         "showlegend": true,
         "texttemplate": "%{value}",
         "type": "histogram",
         "x": [
          "Medium",
          "High",
          "Medium",
          "Medium",
          "Low",
          "Low",
          "Low",
          "Low",
          "Low",
          "Low",
          "High",
          "High",
          "High",
          "Medium",
          "High",
          "Medium",
          "Low",
          "Low",
          "Low",
          "Low",
          "Low",
          "Low",
          "High",
          "High",
          "High",
          "Medium",
          "High",
          "Medium",
          "Low",
          "Low",
          "Low",
          "Low",
          "Low",
          "Low",
          "Low",
          "Low",
          "Low",
          "High",
          "High",
          "High",
          "Medium",
          "Low",
          "Medium",
          "High",
          "Medium",
          "Low",
          "Low",
          "Low",
          "Low",
          "Low",
          "Low",
          "Low",
          "High",
          "High",
          "High",
          "Medium",
          "High",
          "Low",
          "Medium",
          "Low",
          "Low",
          "Low",
          "Low",
          "Low",
          "Low",
          "High",
          "High",
          "High",
          "High",
          "Medium",
          "High",
          "Medium",
          "Low",
          "Low",
          "Low",
          "Low",
          "Low",
          "Low",
          "High",
          "High",
          "High",
          "Medium",
          "High",
          "Medium",
          "Low",
          "Low",
          "Low",
          "Low",
          "Low",
          "Low",
          "High",
          "High",
          "High",
          "High",
          "Medium",
          "High",
          "Medium",
          "Low",
          "Low",
          "Low",
          "Low",
          "Low",
          "High",
          "Low",
          "High",
          "High",
          "High",
          "Medium",
          "High",
          "Medium",
          "Low",
          "Low",
          "Low",
          "High",
          "Low",
          "Low",
          "Low",
          "High",
          "High"
         ],
         "xaxis": "x",
         "yaxis": "y"
        },
        {
         "alignmentgroup": "True",
         "bingroup": "x",
         "hovertemplate": "Dry Cough=5<br>Level=%{x}<br>count=%{y}<extra></extra>",
         "legendgroup": "5",
         "marker": {
          "color": "#19d3f3",
          "pattern": {
           "shape": ""
          }
         },
         "name": "5",
         "nbinsx": 10,
         "offsetgroup": "5",
         "orientation": "v",
         "showlegend": true,
         "texttemplate": "%{value}",
         "type": "histogram",
         "x": [
          "High",
          "Medium",
          "Medium",
          "High",
          "Low",
          "Low",
          "Medium",
          "Medium",
          "Medium",
          "Medium",
          "High",
          "High",
          "High",
          "Medium",
          "High",
          "Medium",
          "Medium",
          "High",
          "High",
          "Low",
          "Low",
          "Medium",
          "Medium",
          "Medium",
          "Medium",
          "High",
          "High",
          "High",
          "Low",
          "High",
          "Medium",
          "Medium",
          "High",
          "Low",
          "Low",
          "Medium",
          "Medium",
          "Medium",
          "Medium",
          "High",
          "High",
          "High",
          "High",
          "Medium",
          "Medium",
          "High",
          "Low",
          "Low",
          "Medium",
          "Medium",
          "Medium",
          "Medium",
          "High",
          "High",
          "High",
          "High",
          "High",
          "Medium",
          "Low",
          "Medium",
          "High",
          "Low",
          "Low",
          "Medium",
          "Medium",
          "Medium",
          "Medium",
          "Medium",
          "High",
          "High",
          "High",
          "High",
          "Medium",
          "Medium",
          "Medium",
          "High",
          "Low",
          "Medium",
          "Low",
          "Medium",
          "Medium",
          "Medium",
          "Medium",
          "High",
          "High",
          "High",
          "Medium",
          "High",
          "Medium",
          "Medium",
          "Medium",
          "High",
          "Low",
          "High",
          "Low",
          "Medium",
          "Medium",
          "Medium",
          "Medium",
          "High",
          "High",
          "High",
          "High",
          "Medium",
          "Medium",
          "High",
          "Low",
          "High",
          "Low",
          "Medium",
          "Medium",
          "Medium",
          "Medium",
          "High",
          "High",
          "High",
          "High",
          "Medium",
          "Medium",
          "High",
          "High",
          "Low",
          "Low",
          "Medium",
          "Medium",
          "Medium",
          "Medium",
          "High",
          "Medium",
          "High",
          "High"
         ],
         "xaxis": "x",
         "yaxis": "y"
        },
        {
         "alignmentgroup": "True",
         "bingroup": "x",
         "hovertemplate": "Dry Cough=6<br>Level=%{x}<br>count=%{y}<extra></extra>",
         "legendgroup": "6",
         "marker": {
          "color": "#FF6692",
          "pattern": {
           "shape": ""
          }
         },
         "name": "6",
         "nbinsx": 10,
         "offsetgroup": "6",
         "orientation": "v",
         "showlegend": true,
         "texttemplate": "%{value}",
         "type": "histogram",
         "x": [
          "Low",
          "Medium",
          "High",
          "High",
          "High",
          "High",
          "Low",
          "High",
          "High",
          "High",
          "High",
          "Low",
          "Medium",
          "High",
          "High",
          "High",
          "Low",
          "High",
          "High",
          "Low",
          "High",
          "High",
          "Low",
          "Medium",
          "High",
          "High",
          "High",
          "Low",
          "High",
          "High",
          "High",
          "Low",
          "Medium",
          "High",
          "High",
          "High",
          "Low",
          "High",
          "High",
          "High",
          "Low",
          "Medium",
          "High",
          "High",
          "High",
          "Low",
          "High",
          "High",
          "High",
          "Low",
          "Medium",
          "High",
          "High",
          "High",
          "Low",
          "High",
          "High",
          "High",
          "Low",
          "Medium",
          "High",
          "High",
          "High",
          "Low",
          "High",
          "High",
          "High",
          "High",
          "Low",
          "Low",
          "Medium",
          "High",
          "High",
          "High",
          "High",
          "Low",
          "High",
          "High",
          "High",
          "Medium",
          "Low",
          "Medium",
          "High",
          "High",
          "High",
          "High",
          "Low",
          "Low",
          "High"
         ],
         "xaxis": "x",
         "yaxis": "y"
        }
       ],
       "layout": {
        "barmode": "relative",
        "legend": {
         "title": {
          "text": "Dry Cough"
         },
         "tracegroupgap": 0
        },
        "template": {
         "data": {
          "bar": [
           {
            "error_x": {
             "color": "#2a3f5f"
            },
            "error_y": {
             "color": "#2a3f5f"
            },
            "marker": {
             "line": {
              "color": "#E5ECF6",
              "width": 0.5
             },
             "pattern": {
              "fillmode": "overlay",
              "size": 10,
              "solidity": 0.2
             }
            },
            "type": "bar"
           }
          ],
          "barpolar": [
           {
            "marker": {
             "line": {
              "color": "#E5ECF6",
              "width": 0.5
             },
             "pattern": {
              "fillmode": "overlay",
              "size": 10,
              "solidity": 0.2
             }
            },
            "type": "barpolar"
           }
          ],
          "carpet": [
           {
            "aaxis": {
             "endlinecolor": "#2a3f5f",
             "gridcolor": "white",
             "linecolor": "white",
             "minorgridcolor": "white",
             "startlinecolor": "#2a3f5f"
            },
            "baxis": {
             "endlinecolor": "#2a3f5f",
             "gridcolor": "white",
             "linecolor": "white",
             "minorgridcolor": "white",
             "startlinecolor": "#2a3f5f"
            },
            "type": "carpet"
           }
          ],
          "choropleth": [
           {
            "colorbar": {
             "outlinewidth": 0,
             "ticks": ""
            },
            "type": "choropleth"
           }
          ],
          "contour": [
           {
            "colorbar": {
             "outlinewidth": 0,
             "ticks": ""
            },
            "colorscale": [
             [
              0,
              "#0d0887"
             ],
             [
              0.1111111111111111,
              "#46039f"
             ],
             [
              0.2222222222222222,
              "#7201a8"
             ],
             [
              0.3333333333333333,
              "#9c179e"
             ],
             [
              0.4444444444444444,
              "#bd3786"
             ],
             [
              0.5555555555555556,
              "#d8576b"
             ],
             [
              0.6666666666666666,
              "#ed7953"
             ],
             [
              0.7777777777777778,
              "#fb9f3a"
             ],
             [
              0.8888888888888888,
              "#fdca26"
             ],
             [
              1,
              "#f0f921"
             ]
            ],
            "type": "contour"
           }
          ],
          "contourcarpet": [
           {
            "colorbar": {
             "outlinewidth": 0,
             "ticks": ""
            },
            "type": "contourcarpet"
           }
          ],
          "heatmap": [
           {
            "colorbar": {
             "outlinewidth": 0,
             "ticks": ""
            },
            "colorscale": [
             [
              0,
              "#0d0887"
             ],
             [
              0.1111111111111111,
              "#46039f"
             ],
             [
              0.2222222222222222,
              "#7201a8"
             ],
             [
              0.3333333333333333,
              "#9c179e"
             ],
             [
              0.4444444444444444,
              "#bd3786"
             ],
             [
              0.5555555555555556,
              "#d8576b"
             ],
             [
              0.6666666666666666,
              "#ed7953"
             ],
             [
              0.7777777777777778,
              "#fb9f3a"
             ],
             [
              0.8888888888888888,
              "#fdca26"
             ],
             [
              1,
              "#f0f921"
             ]
            ],
            "type": "heatmap"
           }
          ],
          "heatmapgl": [
           {
            "colorbar": {
             "outlinewidth": 0,
             "ticks": ""
            },
            "colorscale": [
             [
              0,
              "#0d0887"
             ],
             [
              0.1111111111111111,
              "#46039f"
             ],
             [
              0.2222222222222222,
              "#7201a8"
             ],
             [
              0.3333333333333333,
              "#9c179e"
             ],
             [
              0.4444444444444444,
              "#bd3786"
             ],
             [
              0.5555555555555556,
              "#d8576b"
             ],
             [
              0.6666666666666666,
              "#ed7953"
             ],
             [
              0.7777777777777778,
              "#fb9f3a"
             ],
             [
              0.8888888888888888,
              "#fdca26"
             ],
             [
              1,
              "#f0f921"
             ]
            ],
            "type": "heatmapgl"
           }
          ],
          "histogram": [
           {
            "marker": {
             "pattern": {
              "fillmode": "overlay",
              "size": 10,
              "solidity": 0.2
             }
            },
            "type": "histogram"
           }
          ],
          "histogram2d": [
           {
            "colorbar": {
             "outlinewidth": 0,
             "ticks": ""
            },
            "colorscale": [
             [
              0,
              "#0d0887"
             ],
             [
              0.1111111111111111,
              "#46039f"
             ],
             [
              0.2222222222222222,
              "#7201a8"
             ],
             [
              0.3333333333333333,
              "#9c179e"
             ],
             [
              0.4444444444444444,
              "#bd3786"
             ],
             [
              0.5555555555555556,
              "#d8576b"
             ],
             [
              0.6666666666666666,
              "#ed7953"
             ],
             [
              0.7777777777777778,
              "#fb9f3a"
             ],
             [
              0.8888888888888888,
              "#fdca26"
             ],
             [
              1,
              "#f0f921"
             ]
            ],
            "type": "histogram2d"
           }
          ],
          "histogram2dcontour": [
           {
            "colorbar": {
             "outlinewidth": 0,
             "ticks": ""
            },
            "colorscale": [
             [
              0,
              "#0d0887"
             ],
             [
              0.1111111111111111,
              "#46039f"
             ],
             [
              0.2222222222222222,
              "#7201a8"
             ],
             [
              0.3333333333333333,
              "#9c179e"
             ],
             [
              0.4444444444444444,
              "#bd3786"
             ],
             [
              0.5555555555555556,
              "#d8576b"
             ],
             [
              0.6666666666666666,
              "#ed7953"
             ],
             [
              0.7777777777777778,
              "#fb9f3a"
             ],
             [
              0.8888888888888888,
              "#fdca26"
             ],
             [
              1,
              "#f0f921"
             ]
            ],
            "type": "histogram2dcontour"
           }
          ],
          "mesh3d": [
           {
            "colorbar": {
             "outlinewidth": 0,
             "ticks": ""
            },
            "type": "mesh3d"
           }
          ],
          "parcoords": [
           {
            "line": {
             "colorbar": {
              "outlinewidth": 0,
              "ticks": ""
             }
            },
            "type": "parcoords"
           }
          ],
          "pie": [
           {
            "automargin": true,
            "type": "pie"
           }
          ],
          "scatter": [
           {
            "fillpattern": {
             "fillmode": "overlay",
             "size": 10,
             "solidity": 0.2
            },
            "type": "scatter"
           }
          ],
          "scatter3d": [
           {
            "line": {
             "colorbar": {
              "outlinewidth": 0,
              "ticks": ""
             }
            },
            "marker": {
             "colorbar": {
              "outlinewidth": 0,
              "ticks": ""
             }
            },
            "type": "scatter3d"
           }
          ],
          "scattercarpet": [
           {
            "marker": {
             "colorbar": {
              "outlinewidth": 0,
              "ticks": ""
             }
            },
            "type": "scattercarpet"
           }
          ],
          "scattergeo": [
           {
            "marker": {
             "colorbar": {
              "outlinewidth": 0,
              "ticks": ""
             }
            },
            "type": "scattergeo"
           }
          ],
          "scattergl": [
           {
            "marker": {
             "colorbar": {
              "outlinewidth": 0,
              "ticks": ""
             }
            },
            "type": "scattergl"
           }
          ],
          "scattermapbox": [
           {
            "marker": {
             "colorbar": {
              "outlinewidth": 0,
              "ticks": ""
             }
            },
            "type": "scattermapbox"
           }
          ],
          "scatterpolar": [
           {
            "marker": {
             "colorbar": {
              "outlinewidth": 0,
              "ticks": ""
             }
            },
            "type": "scatterpolar"
           }
          ],
          "scatterpolargl": [
           {
            "marker": {
             "colorbar": {
              "outlinewidth": 0,
              "ticks": ""
             }
            },
            "type": "scatterpolargl"
           }
          ],
          "scatterternary": [
           {
            "marker": {
             "colorbar": {
              "outlinewidth": 0,
              "ticks": ""
             }
            },
            "type": "scatterternary"
           }
          ],
          "surface": [
           {
            "colorbar": {
             "outlinewidth": 0,
             "ticks": ""
            },
            "colorscale": [
             [
              0,
              "#0d0887"
             ],
             [
              0.1111111111111111,
              "#46039f"
             ],
             [
              0.2222222222222222,
              "#7201a8"
             ],
             [
              0.3333333333333333,
              "#9c179e"
             ],
             [
              0.4444444444444444,
              "#bd3786"
             ],
             [
              0.5555555555555556,
              "#d8576b"
             ],
             [
              0.6666666666666666,
              "#ed7953"
             ],
             [
              0.7777777777777778,
              "#fb9f3a"
             ],
             [
              0.8888888888888888,
              "#fdca26"
             ],
             [
              1,
              "#f0f921"
             ]
            ],
            "type": "surface"
           }
          ],
          "table": [
           {
            "cells": {
             "fill": {
              "color": "#EBF0F8"
             },
             "line": {
              "color": "white"
             }
            },
            "header": {
             "fill": {
              "color": "#C8D4E3"
             },
             "line": {
              "color": "white"
             }
            },
            "type": "table"
           }
          ]
         },
         "layout": {
          "annotationdefaults": {
           "arrowcolor": "#2a3f5f",
           "arrowhead": 0,
           "arrowwidth": 1
          },
          "autotypenumbers": "strict",
          "coloraxis": {
           "colorbar": {
            "outlinewidth": 0,
            "ticks": ""
           }
          },
          "colorscale": {
           "diverging": [
            [
             0,
             "#8e0152"
            ],
            [
             0.1,
             "#c51b7d"
            ],
            [
             0.2,
             "#de77ae"
            ],
            [
             0.3,
             "#f1b6da"
            ],
            [
             0.4,
             "#fde0ef"
            ],
            [
             0.5,
             "#f7f7f7"
            ],
            [
             0.6,
             "#e6f5d0"
            ],
            [
             0.7,
             "#b8e186"
            ],
            [
             0.8,
             "#7fbc41"
            ],
            [
             0.9,
             "#4d9221"
            ],
            [
             1,
             "#276419"
            ]
           ],
           "sequential": [
            [
             0,
             "#0d0887"
            ],
            [
             0.1111111111111111,
             "#46039f"
            ],
            [
             0.2222222222222222,
             "#7201a8"
            ],
            [
             0.3333333333333333,
             "#9c179e"
            ],
            [
             0.4444444444444444,
             "#bd3786"
            ],
            [
             0.5555555555555556,
             "#d8576b"
            ],
            [
             0.6666666666666666,
             "#ed7953"
            ],
            [
             0.7777777777777778,
             "#fb9f3a"
            ],
            [
             0.8888888888888888,
             "#fdca26"
            ],
            [
             1,
             "#f0f921"
            ]
           ],
           "sequentialminus": [
            [
             0,
             "#0d0887"
            ],
            [
             0.1111111111111111,
             "#46039f"
            ],
            [
             0.2222222222222222,
             "#7201a8"
            ],
            [
             0.3333333333333333,
             "#9c179e"
            ],
            [
             0.4444444444444444,
             "#bd3786"
            ],
            [
             0.5555555555555556,
             "#d8576b"
            ],
            [
             0.6666666666666666,
             "#ed7953"
            ],
            [
             0.7777777777777778,
             "#fb9f3a"
            ],
            [
             0.8888888888888888,
             "#fdca26"
            ],
            [
             1,
             "#f0f921"
            ]
           ]
          },
          "colorway": [
           "#636efa",
           "#EF553B",
           "#00cc96",
           "#ab63fa",
           "#FFA15A",
           "#19d3f3",
           "#FF6692",
           "#B6E880",
           "#FF97FF",
           "#FECB52"
          ],
          "font": {
           "color": "#2a3f5f"
          },
          "geo": {
           "bgcolor": "white",
           "lakecolor": "white",
           "landcolor": "#E5ECF6",
           "showlakes": true,
           "showland": true,
           "subunitcolor": "white"
          },
          "hoverlabel": {
           "align": "left"
          },
          "hovermode": "closest",
          "mapbox": {
           "style": "light"
          },
          "paper_bgcolor": "white",
          "plot_bgcolor": "#E5ECF6",
          "polar": {
           "angularaxis": {
            "gridcolor": "white",
            "linecolor": "white",
            "ticks": ""
           },
           "bgcolor": "#E5ECF6",
           "radialaxis": {
            "gridcolor": "white",
            "linecolor": "white",
            "ticks": ""
           }
          },
          "scene": {
           "xaxis": {
            "backgroundcolor": "#E5ECF6",
            "gridcolor": "white",
            "gridwidth": 2,
            "linecolor": "white",
            "showbackground": true,
            "ticks": "",
            "zerolinecolor": "white"
           },
           "yaxis": {
            "backgroundcolor": "#E5ECF6",
            "gridcolor": "white",
            "gridwidth": 2,
            "linecolor": "white",
            "showbackground": true,
            "ticks": "",
            "zerolinecolor": "white"
           },
           "zaxis": {
            "backgroundcolor": "#E5ECF6",
            "gridcolor": "white",
            "gridwidth": 2,
            "linecolor": "white",
            "showbackground": true,
            "ticks": "",
            "zerolinecolor": "white"
           }
          },
          "shapedefaults": {
           "line": {
            "color": "#2a3f5f"
           }
          },
          "ternary": {
           "aaxis": {
            "gridcolor": "white",
            "linecolor": "white",
            "ticks": ""
           },
           "baxis": {
            "gridcolor": "white",
            "linecolor": "white",
            "ticks": ""
           },
           "bgcolor": "#E5ECF6",
           "caxis": {
            "gridcolor": "white",
            "linecolor": "white",
            "ticks": ""
           }
          },
          "title": {
           "x": 0.05
          },
          "xaxis": {
           "automargin": true,
           "gridcolor": "white",
           "linecolor": "white",
           "ticks": "",
           "title": {
            "standoff": 15
           },
           "zerolinecolor": "white",
           "zerolinewidth": 2
          },
          "yaxis": {
           "automargin": true,
           "gridcolor": "white",
           "linecolor": "white",
           "ticks": "",
           "title": {
            "standoff": 15
           },
           "zerolinecolor": "white",
           "zerolinewidth": 2
          }
         }
        },
        "title": {
         "text": "Distribution of Severity"
        },
        "xaxis": {
         "anchor": "y",
         "domain": [
          0,
          1
         ],
         "title": {
          "text": "Level"
         }
        },
        "yaxis": {
         "anchor": "x",
         "domain": [
          0,
          1
         ],
         "title": {
          "text": "count"
         }
        }
       }
      }
     },
     "metadata": {},
     "output_type": "display_data"
    }
   ],
   "source": [
    "# Dry Cough\n",
    "fig = px.histogram(lung, x = 'Level', color = 'Dry Cough', nbins = 10, title = 'Distribution of Severity', text_auto = True)\n",
    "fig.show()"
   ]
  },
  {
   "cell_type": "code",
   "execution_count": 89,
   "metadata": {},
   "outputs": [
    {
     "data": {
      "application/vnd.plotly.v1+json": {
       "config": {
        "plotlyServerURL": "https://plot.ly"
       },
       "data": [
        {
         "alignmentgroup": "True",
         "bingroup": "x",
         "hovertemplate": "Swallowing Difficulty=3<br>Level=%{x}<br>count=%{y}<extra></extra>",
         "legendgroup": "3",
         "marker": {
          "color": "#636efa",
          "pattern": {
           "shape": ""
          }
         },
         "name": "3",
         "nbinsx": 10,
         "offsetgroup": "3",
         "orientation": "v",
         "showlegend": true,
         "texttemplate": "%{value}",
         "type": "histogram",
         "x": [
          "Low",
          "Low",
          "Medium",
          "High",
          "Low",
          "High",
          "Low",
          "Low",
          "Low",
          "Low",
          "High",
          "Low",
          "Medium",
          "High",
          "Low",
          "Low",
          "Low",
          "Low",
          "Low",
          "Low",
          "High",
          "Low",
          "Medium",
          "High",
          "Low",
          "Low",
          "Low",
          "Low",
          "Low",
          "Low",
          "High",
          "Low",
          "Low",
          "Medium",
          "High",
          "Low",
          "Low",
          "Low",
          "Low",
          "Low",
          "Low",
          "Low",
          "High",
          "Low",
          "Medium",
          "High",
          "Low",
          "Low",
          "Low",
          "Low",
          "Low",
          "High",
          "Low",
          "Medium",
          "High",
          "Low",
          "Low",
          "Low",
          "Low",
          "Low",
          "High",
          "Medium",
          "Low",
          "Medium",
          "High",
          "Low",
          "Low",
          "Low",
          "Low",
          "Low",
          "High",
          "High",
          "Low",
          "Medium",
          "High",
          "Low",
          "Low",
          "Low",
          "Low",
          "Low",
          "High",
          "Low",
          "Medium",
          "High",
          "Low",
          "Low",
          "Low",
          "Low",
          "Low",
          "Low"
         ],
         "xaxis": "x",
         "yaxis": "y"
        },
        {
         "alignmentgroup": "True",
         "bingroup": "x",
         "hovertemplate": "Swallowing Difficulty=6<br>Level=%{x}<br>count=%{y}<extra></extra>",
         "legendgroup": "6",
         "marker": {
          "color": "#EF553B",
          "pattern": {
           "shape": ""
          }
         },
         "name": "6",
         "nbinsx": 10,
         "offsetgroup": "6",
         "orientation": "v",
         "showlegend": true,
         "texttemplate": "%{value}",
         "type": "histogram",
         "x": [
          "Medium",
          "Medium",
          "High",
          "Low",
          "Medium",
          "Medium",
          "High",
          "Medium",
          "Medium",
          "High",
          "High",
          "Medium",
          "High",
          "Low",
          "Medium",
          "Medium",
          "Medium",
          "Medium",
          "High",
          "High",
          "Medium",
          "High",
          "Low",
          "Medium",
          "Medium",
          "Medium",
          "Medium",
          "High",
          "High",
          "Medium",
          "High",
          "Low",
          "Medium",
          "Medium",
          "Medium",
          "Medium",
          "High",
          "Low",
          "High",
          "Medium",
          "High",
          "Medium",
          "Low",
          "Medium",
          "Medium",
          "Medium",
          "Medium",
          "High",
          "Medium",
          "High",
          "Medium",
          "High",
          "Low",
          "Medium",
          "Medium",
          "Medium",
          "Medium",
          "Medium",
          "High",
          "High",
          "Medium",
          "High",
          "Medium",
          "Low",
          "Medium",
          "Medium",
          "Medium",
          "Medium",
          "High",
          "High",
          "High",
          "Medium",
          "High",
          "Low",
          "Medium",
          "Medium",
          "Medium",
          "Medium",
          "High",
          "High",
          "High",
          "Medium",
          "High",
          "Low",
          "Medium",
          "Medium",
          "Medium",
          "Medium",
          "High",
          "Medium",
          "High"
         ],
         "xaxis": "x",
         "yaxis": "y"
        },
        {
         "alignmentgroup": "True",
         "bingroup": "x",
         "hovertemplate": "Swallowing Difficulty=1<br>Level=%{x}<br>count=%{y}<extra></extra>",
         "legendgroup": "1",
         "marker": {
          "color": "#00cc96",
          "pattern": {
           "shape": ""
          }
         },
         "name": "1",
         "nbinsx": 10,
         "offsetgroup": "1",
         "orientation": "v",
         "showlegend": true,
         "texttemplate": "%{value}",
         "type": "histogram",
         "x": [
          "High",
          "High",
          "Low",
          "Medium",
          "High",
          "Medium",
          "Low",
          "Low",
          "Low",
          "Low",
          "High",
          "Low",
          "Low",
          "Medium",
          "Medium",
          "Medium",
          "Medium",
          "Medium",
          "Medium",
          "Medium",
          "High",
          "High",
          "High",
          "High",
          "High",
          "High",
          "Low",
          "Medium",
          "High",
          "Medium",
          "Low",
          "Low",
          "Low",
          "Low",
          "Low",
          "Low",
          "Medium",
          "Medium",
          "Medium",
          "Medium",
          "Medium",
          "Medium",
          "Low",
          "High",
          "High",
          "High",
          "High",
          "High",
          "High",
          "Low",
          "Medium",
          "High",
          "Medium",
          "Low",
          "Low",
          "Low",
          "Low",
          "Low",
          "Low",
          "Low",
          "Medium",
          "Medium",
          "Medium",
          "Low",
          "Medium",
          "Medium",
          "Medium",
          "High",
          "High",
          "High",
          "High",
          "High",
          "High",
          "Low",
          "Medium",
          "High",
          "Medium",
          "Low",
          "Low",
          "Low",
          "Low",
          "Low",
          "Low",
          "Low",
          "Medium",
          "Medium",
          "Medium",
          "Medium",
          "Medium",
          "Medium",
          "Low",
          "High",
          "High",
          "High",
          "High",
          "High",
          "High",
          "Low",
          "Low",
          "Medium",
          "High",
          "Medium",
          "Low",
          "Low",
          "Low",
          "Medium",
          "Low",
          "Low",
          "Low",
          "Medium",
          "Medium",
          "Medium",
          "Medium",
          "Medium",
          "Medium",
          "High",
          "High",
          "High",
          "High",
          "High",
          "Medium",
          "High",
          "Low",
          "Medium",
          "High",
          "Medium",
          "Medium",
          "Low",
          "Low",
          "Low",
          "Low",
          "Low",
          "Low",
          "Medium",
          "Medium",
          "Medium",
          "Medium",
          "Medium",
          "Medium",
          "High",
          "High",
          "Medium",
          "High",
          "High",
          "High",
          "Medium",
          "High",
          "Low",
          "Medium",
          "High",
          "Medium",
          "Low",
          "Low",
          "Low",
          "Medium",
          "Low",
          "Low",
          "Low",
          "Medium",
          "Medium",
          "Medium",
          "Medium",
          "Medium",
          "Medium",
          "High",
          "High",
          "High",
          "High",
          "High",
          "High",
          "Low",
          "High",
          "Low",
          "Medium",
          "High",
          "Medium",
          "Low",
          "Low",
          "Low",
          "Low",
          "Low",
          "Low",
          "Medium",
          "High",
          "Medium",
          "Medium",
          "Medium",
          "Medium",
          "Medium",
          "High",
          "High",
          "High",
          "High",
          "High",
          "High",
          "Medium",
          "High",
          "Low",
          "Medium",
          "High",
          "Medium",
          "Low",
          "Low",
          "Low",
          "Low",
          "High",
          "Low",
          "Low",
          "Medium",
          "Medium",
          "Medium",
          "High",
          "Medium",
          "Medium",
          "Medium",
          "Low",
          "High",
          "High",
          "High",
          "High",
          "High"
         ],
         "xaxis": "x",
         "yaxis": "y"
        },
        {
         "alignmentgroup": "True",
         "bingroup": "x",
         "hovertemplate": "Swallowing Difficulty=4<br>Level=%{x}<br>count=%{y}<extra></extra>",
         "legendgroup": "4",
         "marker": {
          "color": "#ab63fa",
          "pattern": {
           "shape": ""
          }
         },
         "name": "4",
         "nbinsx": 10,
         "offsetgroup": "4",
         "orientation": "v",
         "showlegend": true,
         "texttemplate": "%{value}",
         "type": "histogram",
         "x": [
          "High",
          "High",
          "Medium",
          "High",
          "High",
          "Medium",
          "High",
          "Medium",
          "Medium",
          "Low",
          "Low",
          "Low",
          "Low",
          "High",
          "Medium",
          "Medium",
          "High",
          "High",
          "High",
          "High",
          "High",
          "High",
          "High",
          "High",
          "Medium",
          "High",
          "Medium",
          "High",
          "Medium",
          "Medium",
          "Low",
          "Low",
          "Low",
          "Low",
          "Medium",
          "Medium",
          "High",
          "High",
          "High",
          "High",
          "High",
          "High",
          "Medium",
          "High",
          "High",
          "Medium",
          "High",
          "Medium",
          "High",
          "Medium",
          "Low",
          "Low",
          "Low",
          "Low",
          "Low",
          "Medium",
          "Medium",
          "High",
          "High",
          "High",
          "High",
          "High",
          "High",
          "High",
          "High",
          "Medium",
          "Low",
          "High",
          "Medium",
          "High",
          "Low",
          "Medium",
          "Low",
          "Low",
          "Low",
          "Low",
          "Low",
          "Medium",
          "Medium",
          "High",
          "High",
          "High",
          "High",
          "High",
          "High",
          "High",
          "High",
          "Medium",
          "High",
          "Medium",
          "High",
          "Medium",
          "Low",
          "Low",
          "Low",
          "Low",
          "Medium",
          "Medium",
          "Medium",
          "High",
          "High",
          "High",
          "High",
          "High",
          "High",
          "High",
          "High",
          "Medium",
          "High",
          "Medium",
          "High",
          "Medium",
          "Low",
          "Low",
          "Low",
          "Low",
          "Medium",
          "Medium",
          "Medium",
          "High",
          "High",
          "High",
          "High",
          "High",
          "High",
          "High",
          "High",
          "Medium",
          "High",
          "Medium",
          "High",
          "Medium",
          "Low",
          "Low",
          "Low",
          "Low",
          "Medium",
          "Medium",
          "High",
          "High",
          "High",
          "High",
          "High",
          "High",
          "High",
          "High",
          "High",
          "Medium",
          "High",
          "Medium",
          "High",
          "High",
          "Medium",
          "Low",
          "Low",
          "Low",
          "Low",
          "Medium",
          "Medium",
          "High",
          "High",
          "High",
          "High",
          "High",
          "High",
          "High",
          "High",
          "High",
          "High",
          "Medium",
          "High",
          "High",
          "Medium",
          "High",
          "Medium",
          "Low",
          "Low",
          "Low",
          "Low",
          "High",
          "Medium",
          "Medium",
          "High",
          "High",
          "High",
          "High",
          "High",
          "High",
          "High"
         ],
         "xaxis": "x",
         "yaxis": "y"
        },
        {
         "alignmentgroup": "True",
         "bingroup": "x",
         "hovertemplate": "Swallowing Difficulty=2<br>Level=%{x}<br>count=%{y}<extra></extra>",
         "legendgroup": "2",
         "marker": {
          "color": "#FFA15A",
          "pattern": {
           "shape": ""
          }
         },
         "name": "2",
         "nbinsx": 10,
         "offsetgroup": "2",
         "orientation": "v",
         "showlegend": true,
         "texttemplate": "%{value}",
         "type": "histogram",
         "x": [
          "Low",
          "High",
          "Medium",
          "Low",
          "Low",
          "Low",
          "Low",
          "Low",
          "Low",
          "Low",
          "Low",
          "Medium",
          "Medium",
          "High",
          "High",
          "High",
          "Low",
          "Low",
          "High",
          "Medium",
          "Low",
          "Low",
          "Low",
          "Low",
          "Low",
          "Low",
          "Medium",
          "Low",
          "Low",
          "Medium",
          "Medium",
          "Low",
          "High",
          "High",
          "Low",
          "High",
          "Low",
          "Low",
          "High",
          "Low",
          "Medium",
          "Low",
          "Low",
          "Low",
          "Low",
          "Low",
          "Low",
          "Low",
          "Low",
          "Medium",
          "Low",
          "Medium",
          "High",
          "High",
          "High",
          "Low",
          "High",
          "Medium",
          "Low",
          "Low",
          "Low",
          "Low",
          "Low",
          "Low",
          "Low",
          "Low",
          "Medium",
          "Medium",
          "Low",
          "High",
          "High",
          "High",
          "Low",
          "Low",
          "High",
          "Low",
          "Medium",
          "Low",
          "Low",
          "Low",
          "Low",
          "Low",
          "Low",
          "Low",
          "Low",
          "Medium",
          "Medium",
          "Medium",
          "High",
          "High",
          "High",
          "High",
          "Low",
          "High",
          "Medium",
          "Low",
          "Low",
          "Low",
          "Low",
          "Low",
          "Low",
          "Low",
          "Low",
          "Medium",
          "Medium",
          "Medium",
          "High",
          "High",
          "High",
          "Low",
          "High",
          "Medium",
          "Low",
          "Low",
          "Low",
          "Low",
          "Low",
          "Low",
          "Low",
          "Low",
          "Medium",
          "High",
          "Medium",
          "High",
          "High",
          "High",
          "Low",
          "High",
          "Medium",
          "Low",
          "Low",
          "Low",
          "Low",
          "Low",
          "Low",
          "High",
          "Low",
          "Low",
          "Medium",
          "Medium",
          "High",
          "High",
          "High",
          "Low",
          "High",
          "Medium",
          "Low",
          "Low",
          "Low",
          "Low",
          "Low",
          "High",
          "Low",
          "Low",
          "Low",
          "Medium",
          "Medium",
          "Low",
          "High",
          "High"
         ],
         "xaxis": "x",
         "yaxis": "y"
        },
        {
         "alignmentgroup": "True",
         "bingroup": "x",
         "hovertemplate": "Swallowing Difficulty=5<br>Level=%{x}<br>count=%{y}<extra></extra>",
         "legendgroup": "5",
         "marker": {
          "color": "#19d3f3",
          "pattern": {
           "shape": ""
          }
         },
         "name": "5",
         "nbinsx": 10,
         "offsetgroup": "5",
         "orientation": "v",
         "showlegend": true,
         "texttemplate": "%{value}",
         "type": "histogram",
         "x": [
          "Medium",
          "Medium",
          "High",
          "High",
          "Low",
          "Low",
          "Medium",
          "Medium",
          "Medium",
          "Medium",
          "High",
          "Medium",
          "Medium",
          "High",
          "Medium",
          "High",
          "High",
          "High",
          "Low",
          "Low",
          "Medium",
          "Medium",
          "Medium",
          "Medium",
          "High",
          "Medium",
          "Medium",
          "High",
          "High",
          "Low",
          "Low",
          "Low",
          "Medium",
          "Medium",
          "Medium",
          "Medium",
          "High",
          "Medium",
          "Low",
          "Medium",
          "Medium",
          "High",
          "High",
          "Low",
          "Low",
          "Medium",
          "Medium",
          "Medium",
          "Medium",
          "High",
          "Medium",
          "Medium",
          "High",
          "High",
          "Low",
          "Low",
          "Medium",
          "Medium",
          "Medium",
          "Medium",
          "Medium",
          "High",
          "Medium",
          "Medium",
          "Medium",
          "High",
          "High",
          "Low",
          "Low",
          "Medium",
          "Medium",
          "Medium",
          "Medium",
          "Medium",
          "High",
          "Medium",
          "Medium",
          "Medium",
          "High",
          "High",
          "Low",
          "Low",
          "Medium",
          "Medium",
          "Medium",
          "High",
          "Medium",
          "High",
          "Medium",
          "Medium",
          "High",
          "High",
          "Low",
          "Low",
          "Medium",
          "Medium",
          "Medium",
          "Medium",
          "High",
          "Medium",
          "Medium",
          "High",
          "High",
          "Low",
          "Low",
          "Medium",
          "Medium",
          "Medium",
          "Medium",
          "Medium"
         ],
         "xaxis": "x",
         "yaxis": "y"
        },
        {
         "alignmentgroup": "True",
         "bingroup": "x",
         "hovertemplate": "Swallowing Difficulty=8<br>Level=%{x}<br>count=%{y}<extra></extra>",
         "legendgroup": "8",
         "marker": {
          "color": "#FF6692",
          "pattern": {
           "shape": ""
          }
         },
         "name": "8",
         "nbinsx": 10,
         "offsetgroup": "8",
         "orientation": "v",
         "showlegend": true,
         "texttemplate": "%{value}",
         "type": "histogram",
         "x": [
          "High",
          "Medium",
          "High",
          "Low",
          "Medium",
          "Medium",
          "Medium",
          "Medium",
          "High",
          "High",
          "Medium",
          "High",
          "High",
          "Medium",
          "High",
          "Low",
          "High",
          "Medium",
          "Medium",
          "Medium",
          "Medium",
          "High",
          "High",
          "High",
          "High",
          "Low",
          "Medium",
          "High",
          "Low",
          "Medium",
          "Medium",
          "Medium",
          "Medium",
          "High",
          "High",
          "High",
          "High",
          "Medium",
          "High",
          "Low",
          "Medium",
          "Medium",
          "Medium",
          "Medium",
          "High",
          "High",
          "High",
          "High",
          "High",
          "Medium",
          "High",
          "Low",
          "Medium",
          "Medium",
          "Medium",
          "Medium",
          "Medium",
          "High",
          "High",
          "High",
          "High",
          "Medium",
          "Medium",
          "High",
          "Low",
          "Medium",
          "Medium",
          "Medium",
          "Medium",
          "Medium",
          "High",
          "High",
          "High",
          "High",
          "Medium",
          "Medium",
          "High",
          "Low",
          "High",
          "Medium",
          "Medium",
          "Medium",
          "Medium",
          "High",
          "High",
          "High",
          "High",
          "Medium",
          "High",
          "Low",
          "High",
          "Medium",
          "Medium",
          "Medium",
          "Medium",
          "High",
          "High",
          "High",
          "High",
          "Medium",
          "High",
          "High",
          "Low",
          "Medium",
          "Medium",
          "Medium",
          "Medium",
          "High",
          "High",
          "High"
         ],
         "xaxis": "x",
         "yaxis": "y"
        },
        {
         "alignmentgroup": "True",
         "bingroup": "x",
         "hovertemplate": "Swallowing Difficulty=7<br>Level=%{x}<br>count=%{y}<extra></extra>",
         "legendgroup": "7",
         "marker": {
          "color": "#B6E880",
          "pattern": {
           "shape": ""
          }
         },
         "name": "7",
         "nbinsx": 10,
         "offsetgroup": "7",
         "orientation": "v",
         "showlegend": true,
         "texttemplate": "%{value}",
         "type": "histogram",
         "x": [
          "High",
          "High",
          "High",
          "High",
          "High",
          "High",
          "High",
          "High",
          "High",
          "High",
          "High",
          "High",
          "High",
          "High",
          "High",
          "High",
          "High",
          "High",
          "High",
          "High",
          "High",
          "High",
          "High",
          "High",
          "High",
          "High",
          "High",
          "High",
          "High"
         ],
         "xaxis": "x",
         "yaxis": "y"
        }
       ],
       "layout": {
        "barmode": "relative",
        "legend": {
         "title": {
          "text": "Swallowing Difficulty"
         },
         "tracegroupgap": 0
        },
        "template": {
         "data": {
          "bar": [
           {
            "error_x": {
             "color": "#2a3f5f"
            },
            "error_y": {
             "color": "#2a3f5f"
            },
            "marker": {
             "line": {
              "color": "#E5ECF6",
              "width": 0.5
             },
             "pattern": {
              "fillmode": "overlay",
              "size": 10,
              "solidity": 0.2
             }
            },
            "type": "bar"
           }
          ],
          "barpolar": [
           {
            "marker": {
             "line": {
              "color": "#E5ECF6",
              "width": 0.5
             },
             "pattern": {
              "fillmode": "overlay",
              "size": 10,
              "solidity": 0.2
             }
            },
            "type": "barpolar"
           }
          ],
          "carpet": [
           {
            "aaxis": {
             "endlinecolor": "#2a3f5f",
             "gridcolor": "white",
             "linecolor": "white",
             "minorgridcolor": "white",
             "startlinecolor": "#2a3f5f"
            },
            "baxis": {
             "endlinecolor": "#2a3f5f",
             "gridcolor": "white",
             "linecolor": "white",
             "minorgridcolor": "white",
             "startlinecolor": "#2a3f5f"
            },
            "type": "carpet"
           }
          ],
          "choropleth": [
           {
            "colorbar": {
             "outlinewidth": 0,
             "ticks": ""
            },
            "type": "choropleth"
           }
          ],
          "contour": [
           {
            "colorbar": {
             "outlinewidth": 0,
             "ticks": ""
            },
            "colorscale": [
             [
              0,
              "#0d0887"
             ],
             [
              0.1111111111111111,
              "#46039f"
             ],
             [
              0.2222222222222222,
              "#7201a8"
             ],
             [
              0.3333333333333333,
              "#9c179e"
             ],
             [
              0.4444444444444444,
              "#bd3786"
             ],
             [
              0.5555555555555556,
              "#d8576b"
             ],
             [
              0.6666666666666666,
              "#ed7953"
             ],
             [
              0.7777777777777778,
              "#fb9f3a"
             ],
             [
              0.8888888888888888,
              "#fdca26"
             ],
             [
              1,
              "#f0f921"
             ]
            ],
            "type": "contour"
           }
          ],
          "contourcarpet": [
           {
            "colorbar": {
             "outlinewidth": 0,
             "ticks": ""
            },
            "type": "contourcarpet"
           }
          ],
          "heatmap": [
           {
            "colorbar": {
             "outlinewidth": 0,
             "ticks": ""
            },
            "colorscale": [
             [
              0,
              "#0d0887"
             ],
             [
              0.1111111111111111,
              "#46039f"
             ],
             [
              0.2222222222222222,
              "#7201a8"
             ],
             [
              0.3333333333333333,
              "#9c179e"
             ],
             [
              0.4444444444444444,
              "#bd3786"
             ],
             [
              0.5555555555555556,
              "#d8576b"
             ],
             [
              0.6666666666666666,
              "#ed7953"
             ],
             [
              0.7777777777777778,
              "#fb9f3a"
             ],
             [
              0.8888888888888888,
              "#fdca26"
             ],
             [
              1,
              "#f0f921"
             ]
            ],
            "type": "heatmap"
           }
          ],
          "heatmapgl": [
           {
            "colorbar": {
             "outlinewidth": 0,
             "ticks": ""
            },
            "colorscale": [
             [
              0,
              "#0d0887"
             ],
             [
              0.1111111111111111,
              "#46039f"
             ],
             [
              0.2222222222222222,
              "#7201a8"
             ],
             [
              0.3333333333333333,
              "#9c179e"
             ],
             [
              0.4444444444444444,
              "#bd3786"
             ],
             [
              0.5555555555555556,
              "#d8576b"
             ],
             [
              0.6666666666666666,
              "#ed7953"
             ],
             [
              0.7777777777777778,
              "#fb9f3a"
             ],
             [
              0.8888888888888888,
              "#fdca26"
             ],
             [
              1,
              "#f0f921"
             ]
            ],
            "type": "heatmapgl"
           }
          ],
          "histogram": [
           {
            "marker": {
             "pattern": {
              "fillmode": "overlay",
              "size": 10,
              "solidity": 0.2
             }
            },
            "type": "histogram"
           }
          ],
          "histogram2d": [
           {
            "colorbar": {
             "outlinewidth": 0,
             "ticks": ""
            },
            "colorscale": [
             [
              0,
              "#0d0887"
             ],
             [
              0.1111111111111111,
              "#46039f"
             ],
             [
              0.2222222222222222,
              "#7201a8"
             ],
             [
              0.3333333333333333,
              "#9c179e"
             ],
             [
              0.4444444444444444,
              "#bd3786"
             ],
             [
              0.5555555555555556,
              "#d8576b"
             ],
             [
              0.6666666666666666,
              "#ed7953"
             ],
             [
              0.7777777777777778,
              "#fb9f3a"
             ],
             [
              0.8888888888888888,
              "#fdca26"
             ],
             [
              1,
              "#f0f921"
             ]
            ],
            "type": "histogram2d"
           }
          ],
          "histogram2dcontour": [
           {
            "colorbar": {
             "outlinewidth": 0,
             "ticks": ""
            },
            "colorscale": [
             [
              0,
              "#0d0887"
             ],
             [
              0.1111111111111111,
              "#46039f"
             ],
             [
              0.2222222222222222,
              "#7201a8"
             ],
             [
              0.3333333333333333,
              "#9c179e"
             ],
             [
              0.4444444444444444,
              "#bd3786"
             ],
             [
              0.5555555555555556,
              "#d8576b"
             ],
             [
              0.6666666666666666,
              "#ed7953"
             ],
             [
              0.7777777777777778,
              "#fb9f3a"
             ],
             [
              0.8888888888888888,
              "#fdca26"
             ],
             [
              1,
              "#f0f921"
             ]
            ],
            "type": "histogram2dcontour"
           }
          ],
          "mesh3d": [
           {
            "colorbar": {
             "outlinewidth": 0,
             "ticks": ""
            },
            "type": "mesh3d"
           }
          ],
          "parcoords": [
           {
            "line": {
             "colorbar": {
              "outlinewidth": 0,
              "ticks": ""
             }
            },
            "type": "parcoords"
           }
          ],
          "pie": [
           {
            "automargin": true,
            "type": "pie"
           }
          ],
          "scatter": [
           {
            "fillpattern": {
             "fillmode": "overlay",
             "size": 10,
             "solidity": 0.2
            },
            "type": "scatter"
           }
          ],
          "scatter3d": [
           {
            "line": {
             "colorbar": {
              "outlinewidth": 0,
              "ticks": ""
             }
            },
            "marker": {
             "colorbar": {
              "outlinewidth": 0,
              "ticks": ""
             }
            },
            "type": "scatter3d"
           }
          ],
          "scattercarpet": [
           {
            "marker": {
             "colorbar": {
              "outlinewidth": 0,
              "ticks": ""
             }
            },
            "type": "scattercarpet"
           }
          ],
          "scattergeo": [
           {
            "marker": {
             "colorbar": {
              "outlinewidth": 0,
              "ticks": ""
             }
            },
            "type": "scattergeo"
           }
          ],
          "scattergl": [
           {
            "marker": {
             "colorbar": {
              "outlinewidth": 0,
              "ticks": ""
             }
            },
            "type": "scattergl"
           }
          ],
          "scattermapbox": [
           {
            "marker": {
             "colorbar": {
              "outlinewidth": 0,
              "ticks": ""
             }
            },
            "type": "scattermapbox"
           }
          ],
          "scatterpolar": [
           {
            "marker": {
             "colorbar": {
              "outlinewidth": 0,
              "ticks": ""
             }
            },
            "type": "scatterpolar"
           }
          ],
          "scatterpolargl": [
           {
            "marker": {
             "colorbar": {
              "outlinewidth": 0,
              "ticks": ""
             }
            },
            "type": "scatterpolargl"
           }
          ],
          "scatterternary": [
           {
            "marker": {
             "colorbar": {
              "outlinewidth": 0,
              "ticks": ""
             }
            },
            "type": "scatterternary"
           }
          ],
          "surface": [
           {
            "colorbar": {
             "outlinewidth": 0,
             "ticks": ""
            },
            "colorscale": [
             [
              0,
              "#0d0887"
             ],
             [
              0.1111111111111111,
              "#46039f"
             ],
             [
              0.2222222222222222,
              "#7201a8"
             ],
             [
              0.3333333333333333,
              "#9c179e"
             ],
             [
              0.4444444444444444,
              "#bd3786"
             ],
             [
              0.5555555555555556,
              "#d8576b"
             ],
             [
              0.6666666666666666,
              "#ed7953"
             ],
             [
              0.7777777777777778,
              "#fb9f3a"
             ],
             [
              0.8888888888888888,
              "#fdca26"
             ],
             [
              1,
              "#f0f921"
             ]
            ],
            "type": "surface"
           }
          ],
          "table": [
           {
            "cells": {
             "fill": {
              "color": "#EBF0F8"
             },
             "line": {
              "color": "white"
             }
            },
            "header": {
             "fill": {
              "color": "#C8D4E3"
             },
             "line": {
              "color": "white"
             }
            },
            "type": "table"
           }
          ]
         },
         "layout": {
          "annotationdefaults": {
           "arrowcolor": "#2a3f5f",
           "arrowhead": 0,
           "arrowwidth": 1
          },
          "autotypenumbers": "strict",
          "coloraxis": {
           "colorbar": {
            "outlinewidth": 0,
            "ticks": ""
           }
          },
          "colorscale": {
           "diverging": [
            [
             0,
             "#8e0152"
            ],
            [
             0.1,
             "#c51b7d"
            ],
            [
             0.2,
             "#de77ae"
            ],
            [
             0.3,
             "#f1b6da"
            ],
            [
             0.4,
             "#fde0ef"
            ],
            [
             0.5,
             "#f7f7f7"
            ],
            [
             0.6,
             "#e6f5d0"
            ],
            [
             0.7,
             "#b8e186"
            ],
            [
             0.8,
             "#7fbc41"
            ],
            [
             0.9,
             "#4d9221"
            ],
            [
             1,
             "#276419"
            ]
           ],
           "sequential": [
            [
             0,
             "#0d0887"
            ],
            [
             0.1111111111111111,
             "#46039f"
            ],
            [
             0.2222222222222222,
             "#7201a8"
            ],
            [
             0.3333333333333333,
             "#9c179e"
            ],
            [
             0.4444444444444444,
             "#bd3786"
            ],
            [
             0.5555555555555556,
             "#d8576b"
            ],
            [
             0.6666666666666666,
             "#ed7953"
            ],
            [
             0.7777777777777778,
             "#fb9f3a"
            ],
            [
             0.8888888888888888,
             "#fdca26"
            ],
            [
             1,
             "#f0f921"
            ]
           ],
           "sequentialminus": [
            [
             0,
             "#0d0887"
            ],
            [
             0.1111111111111111,
             "#46039f"
            ],
            [
             0.2222222222222222,
             "#7201a8"
            ],
            [
             0.3333333333333333,
             "#9c179e"
            ],
            [
             0.4444444444444444,
             "#bd3786"
            ],
            [
             0.5555555555555556,
             "#d8576b"
            ],
            [
             0.6666666666666666,
             "#ed7953"
            ],
            [
             0.7777777777777778,
             "#fb9f3a"
            ],
            [
             0.8888888888888888,
             "#fdca26"
            ],
            [
             1,
             "#f0f921"
            ]
           ]
          },
          "colorway": [
           "#636efa",
           "#EF553B",
           "#00cc96",
           "#ab63fa",
           "#FFA15A",
           "#19d3f3",
           "#FF6692",
           "#B6E880",
           "#FF97FF",
           "#FECB52"
          ],
          "font": {
           "color": "#2a3f5f"
          },
          "geo": {
           "bgcolor": "white",
           "lakecolor": "white",
           "landcolor": "#E5ECF6",
           "showlakes": true,
           "showland": true,
           "subunitcolor": "white"
          },
          "hoverlabel": {
           "align": "left"
          },
          "hovermode": "closest",
          "mapbox": {
           "style": "light"
          },
          "paper_bgcolor": "white",
          "plot_bgcolor": "#E5ECF6",
          "polar": {
           "angularaxis": {
            "gridcolor": "white",
            "linecolor": "white",
            "ticks": ""
           },
           "bgcolor": "#E5ECF6",
           "radialaxis": {
            "gridcolor": "white",
            "linecolor": "white",
            "ticks": ""
           }
          },
          "scene": {
           "xaxis": {
            "backgroundcolor": "#E5ECF6",
            "gridcolor": "white",
            "gridwidth": 2,
            "linecolor": "white",
            "showbackground": true,
            "ticks": "",
            "zerolinecolor": "white"
           },
           "yaxis": {
            "backgroundcolor": "#E5ECF6",
            "gridcolor": "white",
            "gridwidth": 2,
            "linecolor": "white",
            "showbackground": true,
            "ticks": "",
            "zerolinecolor": "white"
           },
           "zaxis": {
            "backgroundcolor": "#E5ECF6",
            "gridcolor": "white",
            "gridwidth": 2,
            "linecolor": "white",
            "showbackground": true,
            "ticks": "",
            "zerolinecolor": "white"
           }
          },
          "shapedefaults": {
           "line": {
            "color": "#2a3f5f"
           }
          },
          "ternary": {
           "aaxis": {
            "gridcolor": "white",
            "linecolor": "white",
            "ticks": ""
           },
           "baxis": {
            "gridcolor": "white",
            "linecolor": "white",
            "ticks": ""
           },
           "bgcolor": "#E5ECF6",
           "caxis": {
            "gridcolor": "white",
            "linecolor": "white",
            "ticks": ""
           }
          },
          "title": {
           "x": 0.05
          },
          "xaxis": {
           "automargin": true,
           "gridcolor": "white",
           "linecolor": "white",
           "ticks": "",
           "title": {
            "standoff": 15
           },
           "zerolinecolor": "white",
           "zerolinewidth": 2
          },
          "yaxis": {
           "automargin": true,
           "gridcolor": "white",
           "linecolor": "white",
           "ticks": "",
           "title": {
            "standoff": 15
           },
           "zerolinecolor": "white",
           "zerolinewidth": 2
          }
         }
        },
        "title": {
         "text": "Distribution of Severity"
        },
        "xaxis": {
         "anchor": "y",
         "domain": [
          0,
          1
         ],
         "title": {
          "text": "Level"
         }
        },
        "yaxis": {
         "anchor": "x",
         "domain": [
          0,
          1
         ],
         "title": {
          "text": "count"
         }
        }
       }
      }
     },
     "metadata": {},
     "output_type": "display_data"
    }
   ],
   "source": [
    "# Swallowing Difficulty\n",
    "fig = px.histogram(lung, x = 'Level', color = 'Swallowing Difficulty', nbins = 10, title = 'Distribution of Severity', text_auto = True)\n",
    "fig.show()"
   ]
  },
  {
   "attachments": {},
   "cell_type": "markdown",
   "metadata": {},
   "source": [
    "### Analysis\n",
    "Comparing causes (Age, Air Pollution, Dust allergy and Smoking) with biggest indicators of lung cancer: coughing up blood and chest pain from above. And a common symptom in media, shortness of breath. \n",
    "\n",
    "The most common causes of lung cancer especially in popular media is smoking and age. However in this data set we find that dust allergy and air pollution may be a major cause lung cancer. \n",
    "\n",
    "I will only be comparing minimal and severe levels for the symptoms in order to see whether there is a clear relation between symptoms and causes. "
   ]
  },
  {
   "attachments": {},
   "cell_type": "markdown",
   "metadata": {},
   "source": [
    "#### Age"
   ]
  },
  {
   "cell_type": "code",
   "execution_count": 56,
   "metadata": {},
   "outputs": [
    {
     "data": {
      "application/vnd.plotly.v1+json": {
       "config": {
        "plotlyServerURL": "https://plot.ly"
       },
       "data": [
        {
         "alignmentgroup": "True",
         "bingroup": "x",
         "hovertemplate": "Age=%{x}<br>count=%{y}<extra></extra>",
         "legendgroup": "",
         "marker": {
          "color": "#636efa",
          "pattern": {
           "shape": ""
          }
         },
         "name": "",
         "nbinsx": 10,
         "offsetgroup": "",
         "orientation": "v",
         "showlegend": false,
         "texttemplate": "%{value}",
         "type": "histogram",
         "x": [
          33,
          17,
          35,
          37,
          46,
          35,
          52,
          28,
          35,
          46,
          44,
          64,
          39,
          34,
          27,
          73,
          17,
          34,
          36,
          14,
          24,
          53,
          62,
          29,
          36,
          65,
          38,
          19,
          33,
          28,
          35,
          42,
          32,
          33,
          25,
          14,
          27,
          28,
          32,
          45,
          27,
          26,
          48,
          17,
          22,
          42,
          24,
          35,
          24,
          38,
          18,
          23,
          24,
          35,
          38,
          47,
          52,
          53,
          44,
          38,
          62,
          61,
          55,
          45,
          38,
          44,
          45,
          33,
          62,
          32,
          44,
          62,
          38,
          33,
          22,
          35,
          23,
          48,
          46,
          29,
          52,
          52,
          48,
          36,
          31,
          38,
          35,
          44,
          33,
          45,
          65,
          53,
          35,
          46,
          27,
          26,
          37,
          28,
          19,
          29,
          39,
          38,
          49,
          37,
          26,
          37,
          33,
          44,
          37,
          25,
          18,
          47,
          25,
          19,
          26,
          37,
          35,
          33,
          25,
          35,
          27,
          48,
          64,
          39,
          33,
          27,
          73,
          17,
          34,
          36,
          14,
          24,
          53,
          62,
          29,
          28,
          65,
          38,
          19,
          33,
          28,
          35,
          42,
          32,
          33,
          25,
          35,
          27,
          28,
          32,
          45,
          27,
          26,
          48,
          17,
          22,
          42,
          42,
          35,
          24,
          38,
          18,
          23,
          24,
          35,
          38,
          47,
          52,
          32,
          44,
          38,
          62,
          61,
          55,
          45,
          38,
          44,
          45,
          33,
          33,
          32,
          44,
          62,
          38,
          33,
          22,
          35,
          23,
          48,
          46,
          25,
          52,
          52,
          48,
          36,
          31,
          38,
          35,
          44,
          33,
          45,
          27,
          53,
          35,
          46,
          27,
          26,
          37,
          28,
          19,
          29,
          39,
          28,
          49,
          37,
          26,
          37,
          33,
          44,
          37,
          25,
          18,
          47,
          35,
          32,
          26,
          37,
          35,
          33,
          25,
          35,
          27,
          48,
          64,
          39,
          45,
          27,
          73,
          17,
          34,
          36,
          14,
          24,
          53,
          62,
          29,
          27,
          65,
          38,
          19,
          33,
          28,
          35,
          42,
          32,
          33,
          25,
          26,
          27,
          28,
          32,
          45,
          27,
          26,
          48,
          17,
          22,
          42,
          48,
          35,
          24,
          38,
          18,
          23,
          24,
          35,
          38,
          47,
          52,
          17,
          44,
          38,
          62,
          61,
          55,
          45,
          38,
          44,
          45,
          33,
          22,
          32,
          44,
          62,
          38,
          33,
          22,
          35,
          23,
          48,
          46,
          42,
          52,
          52,
          48,
          36,
          31,
          38,
          35,
          44,
          33,
          45,
          35,
          53,
          35,
          46,
          27,
          26,
          37,
          28,
          19,
          29,
          39,
          24,
          49,
          37,
          26,
          37,
          33,
          44,
          37,
          25,
          18,
          47,
          27,
          38,
          26,
          37,
          35,
          33,
          25,
          35,
          27,
          48,
          64,
          39,
          18,
          27,
          73,
          17,
          34,
          36,
          14,
          24,
          53,
          62,
          29,
          23,
          65,
          38,
          19,
          33,
          28,
          35,
          42,
          32,
          33,
          25,
          24,
          27,
          28,
          32,
          45,
          27,
          26,
          48,
          17,
          22,
          42,
          35,
          35,
          24,
          25,
          38,
          43,
          44,
          55,
          38,
          47,
          52,
          38,
          44,
          38,
          62,
          61,
          55,
          45,
          38,
          44,
          45,
          33,
          47,
          32,
          44,
          62,
          48,
          33,
          32,
          35,
          23,
          48,
          46,
          52,
          52,
          52,
          48,
          46,
          51,
          38,
          45,
          54,
          33,
          45,
          44,
          63,
          45,
          46,
          37,
          36,
          37,
          28,
          19,
          39,
          39,
          38,
          49,
          37,
          36,
          37,
          33,
          44,
          37,
          25,
          28,
          47,
          48,
          62,
          26,
          37,
          35,
          33,
          25,
          35,
          27,
          48,
          64,
          39,
          61,
          27,
          73,
          17,
          34,
          36,
          24,
          24,
          53,
          62,
          29,
          55,
          65,
          38,
          19,
          33,
          28,
          35,
          42,
          32,
          33,
          25,
          45,
          27,
          28,
          32,
          45,
          27,
          26,
          48,
          17,
          22,
          42,
          38,
          35,
          24,
          38,
          18,
          23,
          24,
          35,
          38,
          47,
          52,
          44,
          44,
          38,
          62,
          61,
          55,
          45,
          38,
          44,
          45,
          33,
          45,
          32,
          44,
          62,
          38,
          33,
          22,
          35,
          23,
          48,
          46,
          33,
          52,
          52,
          48,
          36,
          31,
          38,
          35,
          44,
          33,
          45,
          32,
          53,
          35,
          46,
          27,
          26,
          37,
          28,
          19,
          29,
          39,
          44,
          49,
          37,
          26,
          37,
          33,
          44,
          37,
          25,
          18,
          47,
          64,
          62,
          26,
          37,
          35,
          33,
          25,
          35,
          27,
          48,
          64,
          39,
          38,
          27,
          73,
          17,
          34,
          36,
          14,
          24,
          53,
          62,
          29,
          33,
          65,
          38,
          19,
          33,
          28,
          35,
          42,
          32,
          33,
          25,
          22,
          27,
          28,
          32,
          45,
          27,
          26,
          48,
          17,
          22,
          42,
          35,
          35,
          24,
          38,
          18,
          23,
          24,
          35,
          38,
          47,
          52,
          23,
          44,
          38,
          62,
          61,
          55,
          45,
          38,
          44,
          45,
          33,
          48,
          32,
          44,
          62,
          38,
          33,
          22,
          35,
          23,
          48,
          46,
          46,
          52,
          52,
          48,
          36,
          31,
          38,
          35,
          44,
          33,
          45,
          52,
          53,
          35,
          46,
          27,
          26,
          37,
          28,
          19,
          29,
          39,
          52,
          49,
          37,
          26,
          37,
          33,
          44,
          37,
          25,
          18,
          47,
          39,
          48,
          26,
          37,
          35,
          33,
          25,
          35,
          27,
          48,
          64,
          39,
          36,
          27,
          73,
          17,
          34,
          36,
          14,
          24,
          53,
          62,
          29,
          31,
          65,
          38,
          19,
          33,
          28,
          35,
          42,
          32,
          33,
          25,
          38,
          27,
          28,
          32,
          45,
          27,
          26,
          48,
          17,
          22,
          42,
          35,
          35,
          24,
          38,
          18,
          23,
          24,
          35,
          38,
          47,
          52,
          44,
          44,
          38,
          62,
          61,
          55,
          45,
          38,
          44,
          45,
          33,
          33,
          32,
          44,
          62,
          38,
          33,
          22,
          35,
          23,
          48,
          46,
          45,
          52,
          52,
          48,
          36,
          31,
          38,
          35,
          44,
          33,
          45,
          53,
          53,
          35,
          46,
          27,
          26,
          37,
          28,
          19,
          29,
          39,
          35,
          49,
          37,
          26,
          37,
          33,
          44,
          37,
          25,
          18,
          47,
          27,
          46,
          26,
          37,
          35,
          33,
          25,
          35,
          27,
          48,
          64,
          39,
          27,
          27,
          73,
          17,
          34,
          36,
          14,
          24,
          53,
          62,
          29,
          26,
          65,
          38,
          19,
          33,
          28,
          35,
          42,
          32,
          33,
          25,
          37,
          27,
          28,
          32,
          45,
          27,
          26,
          48,
          17,
          22,
          42,
          28,
          35,
          24,
          38,
          18,
          23,
          24,
          35,
          38,
          47,
          52,
          19,
          44,
          38,
          62,
          61,
          55,
          45,
          38,
          44,
          45,
          33,
          29,
          32,
          44,
          62,
          38,
          33,
          22,
          35,
          23,
          48,
          46,
          39,
          52,
          52,
          48,
          36,
          31,
          38,
          35,
          44,
          33,
          45,
          49,
          53,
          35,
          46,
          27,
          26,
          37,
          28,
          19,
          29,
          39,
          37,
          49,
          37,
          26,
          37,
          33,
          44,
          37,
          25,
          18,
          47,
          73,
          26,
          26,
          37,
          35,
          33,
          25,
          35,
          27,
          48,
          64,
          39,
          37,
          27,
          73,
          17,
          34,
          36,
          14,
          24,
          53,
          62,
          29,
          33,
          65,
          38,
          19,
          33,
          28,
          35,
          42,
          32,
          33,
          25,
          44,
          27,
          28,
          32,
          45,
          27,
          26,
          48,
          17,
          22,
          42,
          37,
          35,
          24,
          38,
          18,
          23,
          24,
          35,
          38,
          47,
          52,
          25,
          44,
          38,
          62,
          61,
          55,
          45,
          38,
          44,
          45,
          33,
          18,
          32,
          44,
          62,
          38,
          33,
          22,
          35,
          23,
          48,
          46,
          47,
          52,
          52,
          48,
          36,
          31,
          38,
          35,
          44,
          33,
          45,
          26,
          53,
          35,
          46,
          27,
          26,
          37,
          28,
          19,
          29,
          39,
          37,
          49,
          37,
          26,
          37,
          33,
          44,
          37,
          25,
          18,
          47
         ],
         "xaxis": "x",
         "yaxis": "y"
        }
       ],
       "layout": {
        "barmode": "relative",
        "legend": {
         "tracegroupgap": 0
        },
        "template": {
         "data": {
          "bar": [
           {
            "error_x": {
             "color": "#2a3f5f"
            },
            "error_y": {
             "color": "#2a3f5f"
            },
            "marker": {
             "line": {
              "color": "#E5ECF6",
              "width": 0.5
             },
             "pattern": {
              "fillmode": "overlay",
              "size": 10,
              "solidity": 0.2
             }
            },
            "type": "bar"
           }
          ],
          "barpolar": [
           {
            "marker": {
             "line": {
              "color": "#E5ECF6",
              "width": 0.5
             },
             "pattern": {
              "fillmode": "overlay",
              "size": 10,
              "solidity": 0.2
             }
            },
            "type": "barpolar"
           }
          ],
          "carpet": [
           {
            "aaxis": {
             "endlinecolor": "#2a3f5f",
             "gridcolor": "white",
             "linecolor": "white",
             "minorgridcolor": "white",
             "startlinecolor": "#2a3f5f"
            },
            "baxis": {
             "endlinecolor": "#2a3f5f",
             "gridcolor": "white",
             "linecolor": "white",
             "minorgridcolor": "white",
             "startlinecolor": "#2a3f5f"
            },
            "type": "carpet"
           }
          ],
          "choropleth": [
           {
            "colorbar": {
             "outlinewidth": 0,
             "ticks": ""
            },
            "type": "choropleth"
           }
          ],
          "contour": [
           {
            "colorbar": {
             "outlinewidth": 0,
             "ticks": ""
            },
            "colorscale": [
             [
              0,
              "#0d0887"
             ],
             [
              0.1111111111111111,
              "#46039f"
             ],
             [
              0.2222222222222222,
              "#7201a8"
             ],
             [
              0.3333333333333333,
              "#9c179e"
             ],
             [
              0.4444444444444444,
              "#bd3786"
             ],
             [
              0.5555555555555556,
              "#d8576b"
             ],
             [
              0.6666666666666666,
              "#ed7953"
             ],
             [
              0.7777777777777778,
              "#fb9f3a"
             ],
             [
              0.8888888888888888,
              "#fdca26"
             ],
             [
              1,
              "#f0f921"
             ]
            ],
            "type": "contour"
           }
          ],
          "contourcarpet": [
           {
            "colorbar": {
             "outlinewidth": 0,
             "ticks": ""
            },
            "type": "contourcarpet"
           }
          ],
          "heatmap": [
           {
            "colorbar": {
             "outlinewidth": 0,
             "ticks": ""
            },
            "colorscale": [
             [
              0,
              "#0d0887"
             ],
             [
              0.1111111111111111,
              "#46039f"
             ],
             [
              0.2222222222222222,
              "#7201a8"
             ],
             [
              0.3333333333333333,
              "#9c179e"
             ],
             [
              0.4444444444444444,
              "#bd3786"
             ],
             [
              0.5555555555555556,
              "#d8576b"
             ],
             [
              0.6666666666666666,
              "#ed7953"
             ],
             [
              0.7777777777777778,
              "#fb9f3a"
             ],
             [
              0.8888888888888888,
              "#fdca26"
             ],
             [
              1,
              "#f0f921"
             ]
            ],
            "type": "heatmap"
           }
          ],
          "heatmapgl": [
           {
            "colorbar": {
             "outlinewidth": 0,
             "ticks": ""
            },
            "colorscale": [
             [
              0,
              "#0d0887"
             ],
             [
              0.1111111111111111,
              "#46039f"
             ],
             [
              0.2222222222222222,
              "#7201a8"
             ],
             [
              0.3333333333333333,
              "#9c179e"
             ],
             [
              0.4444444444444444,
              "#bd3786"
             ],
             [
              0.5555555555555556,
              "#d8576b"
             ],
             [
              0.6666666666666666,
              "#ed7953"
             ],
             [
              0.7777777777777778,
              "#fb9f3a"
             ],
             [
              0.8888888888888888,
              "#fdca26"
             ],
             [
              1,
              "#f0f921"
             ]
            ],
            "type": "heatmapgl"
           }
          ],
          "histogram": [
           {
            "marker": {
             "pattern": {
              "fillmode": "overlay",
              "size": 10,
              "solidity": 0.2
             }
            },
            "type": "histogram"
           }
          ],
          "histogram2d": [
           {
            "colorbar": {
             "outlinewidth": 0,
             "ticks": ""
            },
            "colorscale": [
             [
              0,
              "#0d0887"
             ],
             [
              0.1111111111111111,
              "#46039f"
             ],
             [
              0.2222222222222222,
              "#7201a8"
             ],
             [
              0.3333333333333333,
              "#9c179e"
             ],
             [
              0.4444444444444444,
              "#bd3786"
             ],
             [
              0.5555555555555556,
              "#d8576b"
             ],
             [
              0.6666666666666666,
              "#ed7953"
             ],
             [
              0.7777777777777778,
              "#fb9f3a"
             ],
             [
              0.8888888888888888,
              "#fdca26"
             ],
             [
              1,
              "#f0f921"
             ]
            ],
            "type": "histogram2d"
           }
          ],
          "histogram2dcontour": [
           {
            "colorbar": {
             "outlinewidth": 0,
             "ticks": ""
            },
            "colorscale": [
             [
              0,
              "#0d0887"
             ],
             [
              0.1111111111111111,
              "#46039f"
             ],
             [
              0.2222222222222222,
              "#7201a8"
             ],
             [
              0.3333333333333333,
              "#9c179e"
             ],
             [
              0.4444444444444444,
              "#bd3786"
             ],
             [
              0.5555555555555556,
              "#d8576b"
             ],
             [
              0.6666666666666666,
              "#ed7953"
             ],
             [
              0.7777777777777778,
              "#fb9f3a"
             ],
             [
              0.8888888888888888,
              "#fdca26"
             ],
             [
              1,
              "#f0f921"
             ]
            ],
            "type": "histogram2dcontour"
           }
          ],
          "mesh3d": [
           {
            "colorbar": {
             "outlinewidth": 0,
             "ticks": ""
            },
            "type": "mesh3d"
           }
          ],
          "parcoords": [
           {
            "line": {
             "colorbar": {
              "outlinewidth": 0,
              "ticks": ""
             }
            },
            "type": "parcoords"
           }
          ],
          "pie": [
           {
            "automargin": true,
            "type": "pie"
           }
          ],
          "scatter": [
           {
            "fillpattern": {
             "fillmode": "overlay",
             "size": 10,
             "solidity": 0.2
            },
            "type": "scatter"
           }
          ],
          "scatter3d": [
           {
            "line": {
             "colorbar": {
              "outlinewidth": 0,
              "ticks": ""
             }
            },
            "marker": {
             "colorbar": {
              "outlinewidth": 0,
              "ticks": ""
             }
            },
            "type": "scatter3d"
           }
          ],
          "scattercarpet": [
           {
            "marker": {
             "colorbar": {
              "outlinewidth": 0,
              "ticks": ""
             }
            },
            "type": "scattercarpet"
           }
          ],
          "scattergeo": [
           {
            "marker": {
             "colorbar": {
              "outlinewidth": 0,
              "ticks": ""
             }
            },
            "type": "scattergeo"
           }
          ],
          "scattergl": [
           {
            "marker": {
             "colorbar": {
              "outlinewidth": 0,
              "ticks": ""
             }
            },
            "type": "scattergl"
           }
          ],
          "scattermapbox": [
           {
            "marker": {
             "colorbar": {
              "outlinewidth": 0,
              "ticks": ""
             }
            },
            "type": "scattermapbox"
           }
          ],
          "scatterpolar": [
           {
            "marker": {
             "colorbar": {
              "outlinewidth": 0,
              "ticks": ""
             }
            },
            "type": "scatterpolar"
           }
          ],
          "scatterpolargl": [
           {
            "marker": {
             "colorbar": {
              "outlinewidth": 0,
              "ticks": ""
             }
            },
            "type": "scatterpolargl"
           }
          ],
          "scatterternary": [
           {
            "marker": {
             "colorbar": {
              "outlinewidth": 0,
              "ticks": ""
             }
            },
            "type": "scatterternary"
           }
          ],
          "surface": [
           {
            "colorbar": {
             "outlinewidth": 0,
             "ticks": ""
            },
            "colorscale": [
             [
              0,
              "#0d0887"
             ],
             [
              0.1111111111111111,
              "#46039f"
             ],
             [
              0.2222222222222222,
              "#7201a8"
             ],
             [
              0.3333333333333333,
              "#9c179e"
             ],
             [
              0.4444444444444444,
              "#bd3786"
             ],
             [
              0.5555555555555556,
              "#d8576b"
             ],
             [
              0.6666666666666666,
              "#ed7953"
             ],
             [
              0.7777777777777778,
              "#fb9f3a"
             ],
             [
              0.8888888888888888,
              "#fdca26"
             ],
             [
              1,
              "#f0f921"
             ]
            ],
            "type": "surface"
           }
          ],
          "table": [
           {
            "cells": {
             "fill": {
              "color": "#EBF0F8"
             },
             "line": {
              "color": "white"
             }
            },
            "header": {
             "fill": {
              "color": "#C8D4E3"
             },
             "line": {
              "color": "white"
             }
            },
            "type": "table"
           }
          ]
         },
         "layout": {
          "annotationdefaults": {
           "arrowcolor": "#2a3f5f",
           "arrowhead": 0,
           "arrowwidth": 1
          },
          "autotypenumbers": "strict",
          "coloraxis": {
           "colorbar": {
            "outlinewidth": 0,
            "ticks": ""
           }
          },
          "colorscale": {
           "diverging": [
            [
             0,
             "#8e0152"
            ],
            [
             0.1,
             "#c51b7d"
            ],
            [
             0.2,
             "#de77ae"
            ],
            [
             0.3,
             "#f1b6da"
            ],
            [
             0.4,
             "#fde0ef"
            ],
            [
             0.5,
             "#f7f7f7"
            ],
            [
             0.6,
             "#e6f5d0"
            ],
            [
             0.7,
             "#b8e186"
            ],
            [
             0.8,
             "#7fbc41"
            ],
            [
             0.9,
             "#4d9221"
            ],
            [
             1,
             "#276419"
            ]
           ],
           "sequential": [
            [
             0,
             "#0d0887"
            ],
            [
             0.1111111111111111,
             "#46039f"
            ],
            [
             0.2222222222222222,
             "#7201a8"
            ],
            [
             0.3333333333333333,
             "#9c179e"
            ],
            [
             0.4444444444444444,
             "#bd3786"
            ],
            [
             0.5555555555555556,
             "#d8576b"
            ],
            [
             0.6666666666666666,
             "#ed7953"
            ],
            [
             0.7777777777777778,
             "#fb9f3a"
            ],
            [
             0.8888888888888888,
             "#fdca26"
            ],
            [
             1,
             "#f0f921"
            ]
           ],
           "sequentialminus": [
            [
             0,
             "#0d0887"
            ],
            [
             0.1111111111111111,
             "#46039f"
            ],
            [
             0.2222222222222222,
             "#7201a8"
            ],
            [
             0.3333333333333333,
             "#9c179e"
            ],
            [
             0.4444444444444444,
             "#bd3786"
            ],
            [
             0.5555555555555556,
             "#d8576b"
            ],
            [
             0.6666666666666666,
             "#ed7953"
            ],
            [
             0.7777777777777778,
             "#fb9f3a"
            ],
            [
             0.8888888888888888,
             "#fdca26"
            ],
            [
             1,
             "#f0f921"
            ]
           ]
          },
          "colorway": [
           "#636efa",
           "#EF553B",
           "#00cc96",
           "#ab63fa",
           "#FFA15A",
           "#19d3f3",
           "#FF6692",
           "#B6E880",
           "#FF97FF",
           "#FECB52"
          ],
          "font": {
           "color": "#2a3f5f"
          },
          "geo": {
           "bgcolor": "white",
           "lakecolor": "white",
           "landcolor": "#E5ECF6",
           "showlakes": true,
           "showland": true,
           "subunitcolor": "white"
          },
          "hoverlabel": {
           "align": "left"
          },
          "hovermode": "closest",
          "mapbox": {
           "style": "light"
          },
          "paper_bgcolor": "white",
          "plot_bgcolor": "#E5ECF6",
          "polar": {
           "angularaxis": {
            "gridcolor": "white",
            "linecolor": "white",
            "ticks": ""
           },
           "bgcolor": "#E5ECF6",
           "radialaxis": {
            "gridcolor": "white",
            "linecolor": "white",
            "ticks": ""
           }
          },
          "scene": {
           "xaxis": {
            "backgroundcolor": "#E5ECF6",
            "gridcolor": "white",
            "gridwidth": 2,
            "linecolor": "white",
            "showbackground": true,
            "ticks": "",
            "zerolinecolor": "white"
           },
           "yaxis": {
            "backgroundcolor": "#E5ECF6",
            "gridcolor": "white",
            "gridwidth": 2,
            "linecolor": "white",
            "showbackground": true,
            "ticks": "",
            "zerolinecolor": "white"
           },
           "zaxis": {
            "backgroundcolor": "#E5ECF6",
            "gridcolor": "white",
            "gridwidth": 2,
            "linecolor": "white",
            "showbackground": true,
            "ticks": "",
            "zerolinecolor": "white"
           }
          },
          "shapedefaults": {
           "line": {
            "color": "#2a3f5f"
           }
          },
          "ternary": {
           "aaxis": {
            "gridcolor": "white",
            "linecolor": "white",
            "ticks": ""
           },
           "baxis": {
            "gridcolor": "white",
            "linecolor": "white",
            "ticks": ""
           },
           "bgcolor": "#E5ECF6",
           "caxis": {
            "gridcolor": "white",
            "linecolor": "white",
            "ticks": ""
           }
          },
          "title": {
           "x": 0.05
          },
          "xaxis": {
           "automargin": true,
           "gridcolor": "white",
           "linecolor": "white",
           "ticks": "",
           "title": {
            "standoff": 15
           },
           "zerolinecolor": "white",
           "zerolinewidth": 2
          },
          "yaxis": {
           "automargin": true,
           "gridcolor": "white",
           "linecolor": "white",
           "ticks": "",
           "title": {
            "standoff": 15
           },
           "zerolinecolor": "white",
           "zerolinewidth": 2
          }
         }
        },
        "title": {
         "text": "Distribution of ages"
        },
        "xaxis": {
         "anchor": "y",
         "domain": [
          0,
          1
         ],
         "title": {
          "text": "Age"
         }
        },
        "yaxis": {
         "anchor": "x",
         "domain": [
          0,
          1
         ],
         "title": {
          "text": "count"
         }
        }
       }
      }
     },
     "metadata": {},
     "output_type": "display_data"
    }
   ],
   "source": [
    "fig = px.histogram(lung, x = 'Age', nbins = 10, title = 'Distribution of ages', text_auto = True)\n",
    "fig.show()"
   ]
  },
  {
   "cell_type": "code",
   "execution_count": 57,
   "metadata": {},
   "outputs": [
    {
     "data": {
      "application/vnd.plotly.v1+json": {
       "config": {
        "plotlyServerURL": "https://plot.ly"
       },
       "data": [
        {
         "alignmentgroup": "True",
         "bingroup": "x",
         "hovertemplate": "Coughing of Blood=4<br>Age=%{x}<br>count=%{y}<extra></extra>",
         "legendgroup": "4",
         "marker": {
          "color": "#636efa",
          "pattern": {
           "shape": ""
          }
         },
         "name": "4",
         "nbinsx": 10,
         "offsetgroup": "4",
         "orientation": "v",
         "showlegend": true,
         "texttemplate": "%{value}",
         "type": "histogram",
         "x": [
          33,
          52,
          46,
          38,
          33,
          32,
          48,
          35,
          23,
          38,
          45,
          44,
          44,
          38,
          35,
          52,
          36,
          38,
          38,
          33,
          27,
          38,
          33,
          32,
          48,
          35,
          23,
          38,
          45,
          44,
          33,
          44,
          38,
          35,
          52,
          36,
          38,
          32,
          33,
          27,
          38,
          33,
          32,
          48,
          48,
          35,
          23,
          38,
          45,
          44,
          44,
          38,
          35,
          52,
          36,
          38,
          35,
          27,
          33,
          27,
          23,
          38,
          33,
          32,
          48,
          35,
          43,
          38,
          45,
          44,
          44,
          48,
          35,
          52,
          46,
          38,
          38,
          33,
          27,
          38,
          33,
          45,
          32,
          48,
          35,
          23,
          44,
          38,
          45,
          44,
          44,
          38,
          35,
          52,
          36,
          38,
          44,
          33,
          27,
          38,
          38,
          33,
          32,
          48,
          35,
          35,
          23,
          38,
          45,
          44,
          44,
          38,
          35,
          52,
          36,
          38,
          52,
          33,
          27,
          36,
          38,
          33,
          38,
          32,
          48,
          35,
          23,
          38,
          45,
          44,
          44,
          38,
          35,
          52,
          36,
          38,
          33,
          27,
          38,
          33,
          32,
          48,
          35,
          23,
          38,
          45,
          44,
          44,
          38,
          35,
          52,
          36,
          38,
          33,
          27,
          38,
          33,
          32,
          48,
          35,
          23,
          38,
          45,
          44,
          44,
          38,
          35,
          52,
          36,
          38,
          33,
          37
         ],
         "xaxis": "x",
         "yaxis": "y"
        },
        {
         "alignmentgroup": "True",
         "bingroup": "x",
         "hovertemplate": "Coughing of Blood=3<br>Age=%{x}<br>count=%{y}<extra></extra>",
         "legendgroup": "3",
         "marker": {
          "color": "#EF553B",
          "pattern": {
           "shape": ""
          }
         },
         "name": "3",
         "nbinsx": 10,
         "offsetgroup": "3",
         "orientation": "v",
         "showlegend": true,
         "texttemplate": "%{value}",
         "type": "histogram",
         "x": [
          17,
          17,
          65,
          19,
          42,
          26,
          38,
          55,
          38,
          45,
          62,
          33,
          22,
          23,
          52,
          48,
          31,
          35,
          65,
          19,
          17,
          65,
          19,
          42,
          26,
          42,
          38,
          55,
          38,
          45,
          62,
          33,
          22,
          23,
          52,
          48,
          31,
          35,
          17,
          65,
          19,
          42,
          26,
          26,
          38,
          55,
          38,
          45,
          62,
          33,
          22,
          23,
          52,
          48,
          31,
          35,
          17,
          65,
          19,
          42,
          26,
          38,
          38,
          55,
          38,
          45,
          62,
          33,
          32,
          23,
          52,
          48,
          51,
          45,
          17,
          55,
          65,
          19,
          42,
          26,
          38,
          38,
          55,
          38,
          45,
          45,
          62,
          33,
          22,
          23,
          52,
          48,
          31,
          35,
          62,
          17,
          33,
          65,
          19,
          42,
          22,
          26,
          38,
          23,
          55,
          38,
          45,
          62,
          33,
          22,
          23,
          52,
          48,
          31,
          35,
          52,
          48,
          17,
          31,
          65,
          19,
          42,
          26,
          35,
          38,
          55,
          38,
          45,
          62,
          33,
          22,
          23,
          52,
          48,
          31,
          35,
          17,
          65,
          19,
          42,
          26,
          38,
          55,
          38,
          45,
          62,
          33,
          22,
          23,
          52,
          48,
          31,
          35,
          17,
          65,
          19,
          42,
          26,
          38,
          55,
          38,
          45,
          62,
          33,
          22,
          23,
          52,
          48,
          31,
          35,
          26
         ],
         "xaxis": "x",
         "yaxis": "y"
        },
        {
         "alignmentgroup": "True",
         "bingroup": "x",
         "hovertemplate": "Coughing of Blood=8<br>Age=%{x}<br>count=%{y}<extra></extra>",
         "legendgroup": "8",
         "marker": {
          "color": "#00cc96",
          "pattern": {
           "shape": ""
          }
         },
         "name": "8",
         "nbinsx": 10,
         "offsetgroup": "8",
         "orientation": "v",
         "showlegend": true,
         "texttemplate": "%{value}",
         "type": "histogram",
         "x": [
          35,
          37,
          35,
          34,
          34,
          53,
          28,
          53,
          35,
          26,
          29,
          49,
          37,
          25,
          47,
          37,
          35,
          34,
          53,
          28,
          35,
          26,
          29,
          28,
          49,
          37,
          25,
          47,
          37,
          35,
          34,
          53,
          28,
          35,
          26,
          29,
          49,
          37,
          25,
          47,
          37,
          35,
          34,
          53,
          28,
          45,
          36,
          39,
          49,
          37,
          25,
          47,
          37,
          35,
          34,
          53,
          28,
          35,
          26,
          29,
          49,
          37,
          25,
          47,
          37,
          35,
          34,
          53,
          28,
          35,
          26,
          29,
          49,
          37,
          25,
          47,
          37,
          35,
          34,
          53,
          28,
          35,
          26,
          29,
          35,
          49,
          37,
          25,
          47,
          37,
          35,
          34,
          53,
          26,
          28,
          29,
          49,
          35,
          26,
          29,
          49,
          37,
          25,
          47,
          37,
          35,
          37,
          34,
          53,
          28,
          25,
          47,
          35,
          29,
          37,
          49,
          37,
          25,
          47
         ],
         "xaxis": "x",
         "yaxis": "y"
        },
        {
         "alignmentgroup": "True",
         "bingroup": "x",
         "hovertemplate": "Coughing of Blood=9<br>Age=%{x}<br>count=%{y}<extra></extra>",
         "legendgroup": "9",
         "marker": {
          "color": "#ab63fa",
          "pattern": {
           "shape": ""
          }
         },
         "name": "9",
         "nbinsx": 10,
         "offsetgroup": "9",
         "orientation": "v",
         "showlegend": true,
         "texttemplate": "%{value}",
         "type": "histogram",
         "x": [
          46,
          62,
          62,
          46,
          39,
          37,
          18,
          26,
          62,
          46,
          39,
          37,
          18,
          26,
          62,
          46,
          39,
          37,
          18,
          26,
          62,
          46,
          39,
          37,
          28,
          26,
          62,
          46,
          39,
          37,
          18,
          26,
          62,
          46,
          39,
          37,
          18,
          26,
          62,
          46,
          39,
          37,
          18,
          46,
          26,
          62,
          39,
          46,
          39,
          37,
          37,
          18,
          26,
          62,
          18,
          26,
          46,
          39,
          37,
          18
         ],
         "xaxis": "x",
         "yaxis": "y"
        },
        {
         "alignmentgroup": "True",
         "bingroup": "x",
         "hovertemplate": "Coughing of Blood=1<br>Age=%{x}<br>count=%{y}<extra></extra>",
         "legendgroup": "1",
         "marker": {
          "color": "#FFA15A",
          "pattern": {
           "shape": ""
          }
         },
         "name": "1",
         "nbinsx": 10,
         "offsetgroup": "1",
         "orientation": "v",
         "showlegend": true,
         "texttemplate": "%{value}",
         "type": "histogram",
         "x": [
          28,
          25,
          27,
          24,
          38,
          35,
          52,
          25,
          25,
          25,
          27,
          24,
          38,
          35,
          52,
          25,
          25,
          27,
          25,
          27,
          24,
          38,
          35,
          52,
          24,
          38,
          25,
          25,
          27,
          35,
          24,
          25,
          55,
          52,
          52,
          25,
          25,
          27,
          24,
          38,
          35,
          52,
          25,
          25,
          27,
          24,
          38,
          35,
          52,
          25,
          25,
          27,
          24,
          38,
          35,
          52,
          25,
          25,
          27,
          24,
          38,
          35,
          52,
          25,
          25,
          27,
          24,
          38,
          35,
          52,
          45
         ],
         "xaxis": "x",
         "yaxis": "y"
        },
        {
         "alignmentgroup": "True",
         "bingroup": "x",
         "hovertemplate": "Coughing of Blood=5<br>Age=%{x}<br>count=%{y}<extra></extra>",
         "legendgroup": "5",
         "marker": {
          "color": "#19d3f3",
          "pattern": {
           "shape": ""
          }
         },
         "name": "5",
         "nbinsx": 10,
         "offsetgroup": "5",
         "orientation": "v",
         "showlegend": true,
         "texttemplate": "%{value}",
         "type": "histogram",
         "x": [
          35,
          73,
          14,
          14,
          47,
          61,
          35,
          73,
          14,
          47,
          61,
          35,
          35,
          73,
          14,
          47,
          61,
          35,
          73,
          14,
          47,
          61,
          47,
          35,
          61,
          73,
          24,
          47,
          61,
          35,
          73,
          14,
          47,
          61,
          35,
          73,
          14,
          47,
          61,
          35,
          73,
          14,
          47,
          61,
          73,
          35,
          73,
          14,
          47,
          61
         ],
         "xaxis": "x",
         "yaxis": "y"
        },
        {
         "alignmentgroup": "True",
         "bingroup": "x",
         "hovertemplate": "Coughing of Blood=7<br>Age=%{x}<br>count=%{y}<extra></extra>",
         "legendgroup": "7",
         "marker": {
          "color": "#FF6692",
          "pattern": {
           "shape": ""
          }
         },
         "name": "7",
         "nbinsx": 10,
         "offsetgroup": "7",
         "orientation": "v",
         "showlegend": true,
         "texttemplate": "%{value}",
         "type": "histogram",
         "x": [
          44,
          64,
          36,
          29,
          36,
          33,
          32,
          33,
          48,
          29,
          44,
          33,
          45,
          27,
          37,
          28,
          19,
          26,
          33,
          44,
          37,
          48,
          64,
          33,
          36,
          29,
          33,
          32,
          32,
          33,
          48,
          44,
          33,
          45,
          27,
          37,
          28,
          19,
          26,
          33,
          44,
          37,
          48,
          64,
          36,
          29,
          33,
          32,
          33,
          48,
          44,
          33,
          45,
          27,
          37,
          28,
          19,
          26,
          33,
          44,
          37,
          48,
          64,
          36,
          29,
          33,
          32,
          33,
          48,
          54,
          33,
          45,
          37,
          37,
          28,
          19,
          36,
          33,
          44,
          37,
          48,
          48,
          64,
          36,
          29,
          33,
          32,
          33,
          48,
          33,
          44,
          33,
          45,
          27,
          37,
          28,
          19,
          26,
          33,
          44,
          37,
          64,
          48,
          64,
          36,
          29,
          33,
          32,
          33,
          48,
          48,
          44,
          33,
          45,
          27,
          37,
          28,
          19,
          26,
          33,
          44,
          37,
          48,
          64,
          36,
          29,
          33,
          32,
          44,
          33,
          33,
          48,
          45,
          44,
          33,
          45,
          27,
          37,
          28,
          19,
          26,
          33,
          44,
          37,
          48,
          64,
          27,
          36,
          29,
          33,
          32,
          37,
          28,
          19,
          33,
          48,
          44,
          33,
          45,
          27,
          37,
          28,
          19,
          26,
          33,
          44,
          37,
          26,
          48,
          64,
          36,
          29,
          33,
          33,
          32,
          44,
          37,
          33,
          48,
          44,
          27,
          28,
          19,
          26,
          33,
          44,
          37
         ],
         "xaxis": "x",
         "yaxis": "y"
        },
        {
         "alignmentgroup": "True",
         "bingroup": "x",
         "hovertemplate": "Coughing of Blood=6<br>Age=%{x}<br>count=%{y}<extra></extra>",
         "legendgroup": "6",
         "marker": {
          "color": "#B6E880",
          "pattern": {
           "shape": ""
          }
         },
         "name": "6",
         "nbinsx": 10,
         "offsetgroup": "6",
         "orientation": "v",
         "showlegend": true,
         "texttemplate": "%{value}",
         "type": "histogram",
         "x": [
          39,
          24,
          35,
          24,
          24,
          53,
          39,
          24,
          35,
          35,
          24,
          53,
          39,
          24,
          35,
          24,
          53,
          39,
          24,
          35,
          24,
          44,
          63,
          39,
          24,
          35,
          24,
          53,
          39,
          24,
          35,
          24,
          53,
          39,
          39,
          24,
          35,
          24,
          53,
          53,
          39,
          24,
          35,
          24,
          53,
          39,
          24,
          35,
          24
         ],
         "xaxis": "x",
         "yaxis": "y"
        },
        {
         "alignmentgroup": "True",
         "bingroup": "x",
         "hovertemplate": "Coughing of Blood=2<br>Age=%{x}<br>count=%{y}<extra></extra>",
         "legendgroup": "2",
         "marker": {
          "color": "#FF97FF",
          "pattern": {
           "shape": ""
          }
         },
         "name": "2",
         "nbinsx": 10,
         "offsetgroup": "2",
         "orientation": "v",
         "showlegend": true,
         "texttemplate": "%{value}",
         "type": "histogram",
         "x": [
          27,
          28,
          27,
          45,
          17,
          22,
          42,
          18,
          44,
          62,
          32,
          46,
          27,
          28,
          28,
          27,
          45,
          17,
          22,
          42,
          18,
          44,
          62,
          32,
          46,
          27,
          45,
          27,
          28,
          27,
          45,
          17,
          22,
          42,
          18,
          17,
          44,
          62,
          22,
          32,
          46,
          42,
          18,
          27,
          28,
          27,
          45,
          17,
          22,
          42,
          38,
          44,
          62,
          32,
          46,
          44,
          62,
          27,
          28,
          27,
          45,
          17,
          22,
          42,
          18,
          44,
          62,
          32,
          46,
          32,
          27,
          28,
          27,
          45,
          17,
          22,
          42,
          18,
          44,
          62,
          32,
          46,
          46,
          27,
          28,
          27,
          45,
          17,
          22,
          42,
          18,
          44,
          62,
          32,
          46,
          27,
          27,
          28,
          27,
          45,
          17,
          22,
          42,
          18,
          44,
          62,
          32,
          46,
          27,
          28,
          27,
          45,
          17,
          22,
          42,
          18,
          44,
          62,
          32,
          46,
          53
         ],
         "xaxis": "x",
         "yaxis": "y"
        }
       ],
       "layout": {
        "barmode": "relative",
        "legend": {
         "title": {
          "text": "Coughing of Blood"
         },
         "tracegroupgap": 0
        },
        "template": {
         "data": {
          "bar": [
           {
            "error_x": {
             "color": "#2a3f5f"
            },
            "error_y": {
             "color": "#2a3f5f"
            },
            "marker": {
             "line": {
              "color": "#E5ECF6",
              "width": 0.5
             },
             "pattern": {
              "fillmode": "overlay",
              "size": 10,
              "solidity": 0.2
             }
            },
            "type": "bar"
           }
          ],
          "barpolar": [
           {
            "marker": {
             "line": {
              "color": "#E5ECF6",
              "width": 0.5
             },
             "pattern": {
              "fillmode": "overlay",
              "size": 10,
              "solidity": 0.2
             }
            },
            "type": "barpolar"
           }
          ],
          "carpet": [
           {
            "aaxis": {
             "endlinecolor": "#2a3f5f",
             "gridcolor": "white",
             "linecolor": "white",
             "minorgridcolor": "white",
             "startlinecolor": "#2a3f5f"
            },
            "baxis": {
             "endlinecolor": "#2a3f5f",
             "gridcolor": "white",
             "linecolor": "white",
             "minorgridcolor": "white",
             "startlinecolor": "#2a3f5f"
            },
            "type": "carpet"
           }
          ],
          "choropleth": [
           {
            "colorbar": {
             "outlinewidth": 0,
             "ticks": ""
            },
            "type": "choropleth"
           }
          ],
          "contour": [
           {
            "colorbar": {
             "outlinewidth": 0,
             "ticks": ""
            },
            "colorscale": [
             [
              0,
              "#0d0887"
             ],
             [
              0.1111111111111111,
              "#46039f"
             ],
             [
              0.2222222222222222,
              "#7201a8"
             ],
             [
              0.3333333333333333,
              "#9c179e"
             ],
             [
              0.4444444444444444,
              "#bd3786"
             ],
             [
              0.5555555555555556,
              "#d8576b"
             ],
             [
              0.6666666666666666,
              "#ed7953"
             ],
             [
              0.7777777777777778,
              "#fb9f3a"
             ],
             [
              0.8888888888888888,
              "#fdca26"
             ],
             [
              1,
              "#f0f921"
             ]
            ],
            "type": "contour"
           }
          ],
          "contourcarpet": [
           {
            "colorbar": {
             "outlinewidth": 0,
             "ticks": ""
            },
            "type": "contourcarpet"
           }
          ],
          "heatmap": [
           {
            "colorbar": {
             "outlinewidth": 0,
             "ticks": ""
            },
            "colorscale": [
             [
              0,
              "#0d0887"
             ],
             [
              0.1111111111111111,
              "#46039f"
             ],
             [
              0.2222222222222222,
              "#7201a8"
             ],
             [
              0.3333333333333333,
              "#9c179e"
             ],
             [
              0.4444444444444444,
              "#bd3786"
             ],
             [
              0.5555555555555556,
              "#d8576b"
             ],
             [
              0.6666666666666666,
              "#ed7953"
             ],
             [
              0.7777777777777778,
              "#fb9f3a"
             ],
             [
              0.8888888888888888,
              "#fdca26"
             ],
             [
              1,
              "#f0f921"
             ]
            ],
            "type": "heatmap"
           }
          ],
          "heatmapgl": [
           {
            "colorbar": {
             "outlinewidth": 0,
             "ticks": ""
            },
            "colorscale": [
             [
              0,
              "#0d0887"
             ],
             [
              0.1111111111111111,
              "#46039f"
             ],
             [
              0.2222222222222222,
              "#7201a8"
             ],
             [
              0.3333333333333333,
              "#9c179e"
             ],
             [
              0.4444444444444444,
              "#bd3786"
             ],
             [
              0.5555555555555556,
              "#d8576b"
             ],
             [
              0.6666666666666666,
              "#ed7953"
             ],
             [
              0.7777777777777778,
              "#fb9f3a"
             ],
             [
              0.8888888888888888,
              "#fdca26"
             ],
             [
              1,
              "#f0f921"
             ]
            ],
            "type": "heatmapgl"
           }
          ],
          "histogram": [
           {
            "marker": {
             "pattern": {
              "fillmode": "overlay",
              "size": 10,
              "solidity": 0.2
             }
            },
            "type": "histogram"
           }
          ],
          "histogram2d": [
           {
            "colorbar": {
             "outlinewidth": 0,
             "ticks": ""
            },
            "colorscale": [
             [
              0,
              "#0d0887"
             ],
             [
              0.1111111111111111,
              "#46039f"
             ],
             [
              0.2222222222222222,
              "#7201a8"
             ],
             [
              0.3333333333333333,
              "#9c179e"
             ],
             [
              0.4444444444444444,
              "#bd3786"
             ],
             [
              0.5555555555555556,
              "#d8576b"
             ],
             [
              0.6666666666666666,
              "#ed7953"
             ],
             [
              0.7777777777777778,
              "#fb9f3a"
             ],
             [
              0.8888888888888888,
              "#fdca26"
             ],
             [
              1,
              "#f0f921"
             ]
            ],
            "type": "histogram2d"
           }
          ],
          "histogram2dcontour": [
           {
            "colorbar": {
             "outlinewidth": 0,
             "ticks": ""
            },
            "colorscale": [
             [
              0,
              "#0d0887"
             ],
             [
              0.1111111111111111,
              "#46039f"
             ],
             [
              0.2222222222222222,
              "#7201a8"
             ],
             [
              0.3333333333333333,
              "#9c179e"
             ],
             [
              0.4444444444444444,
              "#bd3786"
             ],
             [
              0.5555555555555556,
              "#d8576b"
             ],
             [
              0.6666666666666666,
              "#ed7953"
             ],
             [
              0.7777777777777778,
              "#fb9f3a"
             ],
             [
              0.8888888888888888,
              "#fdca26"
             ],
             [
              1,
              "#f0f921"
             ]
            ],
            "type": "histogram2dcontour"
           }
          ],
          "mesh3d": [
           {
            "colorbar": {
             "outlinewidth": 0,
             "ticks": ""
            },
            "type": "mesh3d"
           }
          ],
          "parcoords": [
           {
            "line": {
             "colorbar": {
              "outlinewidth": 0,
              "ticks": ""
             }
            },
            "type": "parcoords"
           }
          ],
          "pie": [
           {
            "automargin": true,
            "type": "pie"
           }
          ],
          "scatter": [
           {
            "fillpattern": {
             "fillmode": "overlay",
             "size": 10,
             "solidity": 0.2
            },
            "type": "scatter"
           }
          ],
          "scatter3d": [
           {
            "line": {
             "colorbar": {
              "outlinewidth": 0,
              "ticks": ""
             }
            },
            "marker": {
             "colorbar": {
              "outlinewidth": 0,
              "ticks": ""
             }
            },
            "type": "scatter3d"
           }
          ],
          "scattercarpet": [
           {
            "marker": {
             "colorbar": {
              "outlinewidth": 0,
              "ticks": ""
             }
            },
            "type": "scattercarpet"
           }
          ],
          "scattergeo": [
           {
            "marker": {
             "colorbar": {
              "outlinewidth": 0,
              "ticks": ""
             }
            },
            "type": "scattergeo"
           }
          ],
          "scattergl": [
           {
            "marker": {
             "colorbar": {
              "outlinewidth": 0,
              "ticks": ""
             }
            },
            "type": "scattergl"
           }
          ],
          "scattermapbox": [
           {
            "marker": {
             "colorbar": {
              "outlinewidth": 0,
              "ticks": ""
             }
            },
            "type": "scattermapbox"
           }
          ],
          "scatterpolar": [
           {
            "marker": {
             "colorbar": {
              "outlinewidth": 0,
              "ticks": ""
             }
            },
            "type": "scatterpolar"
           }
          ],
          "scatterpolargl": [
           {
            "marker": {
             "colorbar": {
              "outlinewidth": 0,
              "ticks": ""
             }
            },
            "type": "scatterpolargl"
           }
          ],
          "scatterternary": [
           {
            "marker": {
             "colorbar": {
              "outlinewidth": 0,
              "ticks": ""
             }
            },
            "type": "scatterternary"
           }
          ],
          "surface": [
           {
            "colorbar": {
             "outlinewidth": 0,
             "ticks": ""
            },
            "colorscale": [
             [
              0,
              "#0d0887"
             ],
             [
              0.1111111111111111,
              "#46039f"
             ],
             [
              0.2222222222222222,
              "#7201a8"
             ],
             [
              0.3333333333333333,
              "#9c179e"
             ],
             [
              0.4444444444444444,
              "#bd3786"
             ],
             [
              0.5555555555555556,
              "#d8576b"
             ],
             [
              0.6666666666666666,
              "#ed7953"
             ],
             [
              0.7777777777777778,
              "#fb9f3a"
             ],
             [
              0.8888888888888888,
              "#fdca26"
             ],
             [
              1,
              "#f0f921"
             ]
            ],
            "type": "surface"
           }
          ],
          "table": [
           {
            "cells": {
             "fill": {
              "color": "#EBF0F8"
             },
             "line": {
              "color": "white"
             }
            },
            "header": {
             "fill": {
              "color": "#C8D4E3"
             },
             "line": {
              "color": "white"
             }
            },
            "type": "table"
           }
          ]
         },
         "layout": {
          "annotationdefaults": {
           "arrowcolor": "#2a3f5f",
           "arrowhead": 0,
           "arrowwidth": 1
          },
          "autotypenumbers": "strict",
          "coloraxis": {
           "colorbar": {
            "outlinewidth": 0,
            "ticks": ""
           }
          },
          "colorscale": {
           "diverging": [
            [
             0,
             "#8e0152"
            ],
            [
             0.1,
             "#c51b7d"
            ],
            [
             0.2,
             "#de77ae"
            ],
            [
             0.3,
             "#f1b6da"
            ],
            [
             0.4,
             "#fde0ef"
            ],
            [
             0.5,
             "#f7f7f7"
            ],
            [
             0.6,
             "#e6f5d0"
            ],
            [
             0.7,
             "#b8e186"
            ],
            [
             0.8,
             "#7fbc41"
            ],
            [
             0.9,
             "#4d9221"
            ],
            [
             1,
             "#276419"
            ]
           ],
           "sequential": [
            [
             0,
             "#0d0887"
            ],
            [
             0.1111111111111111,
             "#46039f"
            ],
            [
             0.2222222222222222,
             "#7201a8"
            ],
            [
             0.3333333333333333,
             "#9c179e"
            ],
            [
             0.4444444444444444,
             "#bd3786"
            ],
            [
             0.5555555555555556,
             "#d8576b"
            ],
            [
             0.6666666666666666,
             "#ed7953"
            ],
            [
             0.7777777777777778,
             "#fb9f3a"
            ],
            [
             0.8888888888888888,
             "#fdca26"
            ],
            [
             1,
             "#f0f921"
            ]
           ],
           "sequentialminus": [
            [
             0,
             "#0d0887"
            ],
            [
             0.1111111111111111,
             "#46039f"
            ],
            [
             0.2222222222222222,
             "#7201a8"
            ],
            [
             0.3333333333333333,
             "#9c179e"
            ],
            [
             0.4444444444444444,
             "#bd3786"
            ],
            [
             0.5555555555555556,
             "#d8576b"
            ],
            [
             0.6666666666666666,
             "#ed7953"
            ],
            [
             0.7777777777777778,
             "#fb9f3a"
            ],
            [
             0.8888888888888888,
             "#fdca26"
            ],
            [
             1,
             "#f0f921"
            ]
           ]
          },
          "colorway": [
           "#636efa",
           "#EF553B",
           "#00cc96",
           "#ab63fa",
           "#FFA15A",
           "#19d3f3",
           "#FF6692",
           "#B6E880",
           "#FF97FF",
           "#FECB52"
          ],
          "font": {
           "color": "#2a3f5f"
          },
          "geo": {
           "bgcolor": "white",
           "lakecolor": "white",
           "landcolor": "#E5ECF6",
           "showlakes": true,
           "showland": true,
           "subunitcolor": "white"
          },
          "hoverlabel": {
           "align": "left"
          },
          "hovermode": "closest",
          "mapbox": {
           "style": "light"
          },
          "paper_bgcolor": "white",
          "plot_bgcolor": "#E5ECF6",
          "polar": {
           "angularaxis": {
            "gridcolor": "white",
            "linecolor": "white",
            "ticks": ""
           },
           "bgcolor": "#E5ECF6",
           "radialaxis": {
            "gridcolor": "white",
            "linecolor": "white",
            "ticks": ""
           }
          },
          "scene": {
           "xaxis": {
            "backgroundcolor": "#E5ECF6",
            "gridcolor": "white",
            "gridwidth": 2,
            "linecolor": "white",
            "showbackground": true,
            "ticks": "",
            "zerolinecolor": "white"
           },
           "yaxis": {
            "backgroundcolor": "#E5ECF6",
            "gridcolor": "white",
            "gridwidth": 2,
            "linecolor": "white",
            "showbackground": true,
            "ticks": "",
            "zerolinecolor": "white"
           },
           "zaxis": {
            "backgroundcolor": "#E5ECF6",
            "gridcolor": "white",
            "gridwidth": 2,
            "linecolor": "white",
            "showbackground": true,
            "ticks": "",
            "zerolinecolor": "white"
           }
          },
          "shapedefaults": {
           "line": {
            "color": "#2a3f5f"
           }
          },
          "ternary": {
           "aaxis": {
            "gridcolor": "white",
            "linecolor": "white",
            "ticks": ""
           },
           "baxis": {
            "gridcolor": "white",
            "linecolor": "white",
            "ticks": ""
           },
           "bgcolor": "#E5ECF6",
           "caxis": {
            "gridcolor": "white",
            "linecolor": "white",
            "ticks": ""
           }
          },
          "title": {
           "x": 0.05
          },
          "xaxis": {
           "automargin": true,
           "gridcolor": "white",
           "linecolor": "white",
           "ticks": "",
           "title": {
            "standoff": 15
           },
           "zerolinecolor": "white",
           "zerolinewidth": 2
          },
          "yaxis": {
           "automargin": true,
           "gridcolor": "white",
           "linecolor": "white",
           "ticks": "",
           "title": {
            "standoff": 15
           },
           "zerolinecolor": "white",
           "zerolinewidth": 2
          }
         }
        },
        "title": {
         "text": "Distribution of ages and Coughing of Blood"
        },
        "xaxis": {
         "anchor": "y",
         "domain": [
          0,
          1
         ],
         "title": {
          "text": "Age"
         }
        },
        "yaxis": {
         "anchor": "x",
         "domain": [
          0,
          1
         ],
         "title": {
          "text": "count"
         }
        }
       }
      }
     },
     "metadata": {},
     "output_type": "display_data"
    }
   ],
   "source": [
    "#Age and Coughing up blood\n",
    "fig = px.histogram(lung, x = 'Age', color = 'Coughing of Blood', nbins = 10, title = 'Distribution of ages and Coughing of Blood', text_auto = True)\n",
    "fig.show()"
   ]
  },
  {
   "cell_type": "code",
   "execution_count": null,
   "metadata": {},
   "outputs": [],
   "source": [
    "#Age and Shortness of Breath"
   ]
  },
  {
   "cell_type": "code",
   "execution_count": 44,
   "metadata": {},
   "outputs": [
    {
     "data": {
      "application/vnd.plotly.v1+json": {
       "config": {
        "plotlyServerURL": "https://plot.ly"
       },
       "data": [
        {
         "alignmentgroup": "True",
         "bingroup": "x",
         "hovertemplate": "Shortness of Breath=2<br>Age=%{x}<br>count=%{y}<extra></extra>",
         "legendgroup": "2",
         "marker": {
          "color": "#636efa",
          "pattern": {
           "shape": ""
          }
         },
         "name": "2",
         "nbinsx": 10,
         "offsetgroup": "2",
         "orientation": "v",
         "showlegend": true,
         "texttemplate": "%{value}",
         "type": "histogram",
         "x": [
          33,
          52,
          28,
          44,
          39,
          14,
          38,
          33,
          25,
          14,
          27,
          35,
          24,
          62,
          55,
          45,
          44,
          44,
          38,
          35,
          52,
          36,
          38,
          44,
          28,
          38,
          44,
          25,
          33,
          25,
          48,
          39,
          14,
          38,
          33,
          25,
          27,
          35,
          24,
          62,
          55,
          45,
          44,
          33,
          44,
          38,
          35,
          25,
          52,
          36,
          38,
          44,
          28,
          44,
          33,
          25,
          48,
          39,
          14,
          27,
          38,
          33,
          25,
          27,
          35,
          24,
          62,
          55,
          45,
          44,
          44,
          38,
          35,
          52,
          36,
          38,
          44,
          35,
          28,
          44,
          33,
          25,
          48,
          39,
          14,
          38,
          33,
          25,
          24,
          27,
          35,
          44,
          62,
          55,
          45,
          44,
          44,
          48,
          35,
          52,
          46,
          38,
          54,
          28,
          44,
          48,
          62,
          33,
          25,
          48,
          39,
          24,
          55,
          38,
          33,
          25,
          45,
          27,
          35,
          24,
          44,
          62,
          55,
          45,
          44,
          44,
          38,
          35,
          52,
          36,
          38,
          44,
          28,
          44,
          44,
          33,
          25,
          48,
          39,
          38,
          14,
          38,
          33,
          25,
          27,
          35,
          35,
          24,
          62,
          55,
          45,
          44,
          44,
          38,
          35,
          52,
          36,
          38,
          44,
          52,
          28,
          44,
          39,
          33,
          25,
          48,
          39,
          36,
          14,
          38,
          33,
          25,
          38,
          27,
          35,
          24,
          44,
          62,
          55,
          45,
          44,
          44,
          38,
          35,
          52,
          36,
          38,
          44,
          28,
          44,
          33,
          25,
          48,
          39,
          14,
          38,
          33,
          25,
          27,
          28,
          35,
          24,
          62,
          55,
          45,
          44,
          44,
          38,
          35,
          52,
          36,
          38,
          44,
          28,
          44,
          33,
          25,
          48,
          39,
          14,
          38,
          33,
          25,
          44,
          27,
          35,
          24,
          62,
          55,
          45,
          44,
          44,
          38,
          35,
          52,
          36,
          38,
          44,
          33,
          45,
          37,
          28,
          44
         ],
         "xaxis": "x",
         "yaxis": "y"
        },
        {
         "alignmentgroup": "True",
         "bingroup": "x",
         "hovertemplate": "Shortness of Breath=7<br>Age=%{x}<br>count=%{y}<extra></extra>",
         "legendgroup": "7",
         "marker": {
          "color": "#EF553B",
          "pattern": {
           "shape": ""
          }
         },
         "name": "7",
         "nbinsx": 10,
         "offsetgroup": "7",
         "orientation": "v",
         "showlegend": true,
         "texttemplate": "%{value}",
         "type": "histogram",
         "x": [
          17,
          17,
          36,
          36,
          28,
          42,
          45,
          32,
          46,
          37,
          33,
          17,
          36,
          28,
          28,
          42,
          45,
          42,
          32,
          46,
          37,
          33,
          45,
          17,
          36,
          28,
          42,
          45,
          32,
          46,
          37,
          33,
          17,
          36,
          28,
          42,
          45,
          32,
          46,
          37,
          33,
          17,
          36,
          28,
          42,
          45,
          32,
          46,
          32,
          37,
          33,
          17,
          36,
          28,
          42,
          45,
          32,
          46,
          46,
          37,
          33,
          17,
          36,
          28,
          42,
          45,
          32,
          46,
          37,
          33,
          17,
          36,
          28,
          42,
          37,
          45,
          32,
          46,
          37,
          33,
          17,
          36,
          33,
          28,
          42,
          45,
          32,
          46,
          33
         ],
         "xaxis": "x",
         "yaxis": "y"
        },
        {
         "alignmentgroup": "True",
         "bingroup": "x",
         "hovertemplate": "Shortness of Breath=9<br>Age=%{x}<br>count=%{y}<extra></extra>",
         "legendgroup": "9",
         "marker": {
          "color": "#00cc96",
          "pattern": {
           "shape": ""
          }
         },
         "name": "9",
         "nbinsx": 10,
         "offsetgroup": "9",
         "orientation": "v",
         "showlegend": true,
         "texttemplate": "%{value}",
         "type": "histogram",
         "x": [
          35,
          35,
          53,
          53,
          35,
          29,
          49,
          25,
          47,
          35,
          53,
          35,
          29,
          49,
          25,
          47,
          35,
          53,
          35,
          29,
          49,
          25,
          47,
          35,
          53,
          45,
          39,
          49,
          25,
          47,
          35,
          53,
          35,
          29,
          49,
          25,
          47,
          35,
          53,
          35,
          29,
          49,
          25,
          47,
          35,
          53,
          35,
          29,
          35,
          49,
          25,
          47,
          35,
          53,
          29,
          49,
          35,
          29,
          49,
          25,
          47,
          35,
          53,
          25,
          47,
          35,
          29,
          49,
          25,
          47
         ],
         "xaxis": "x",
         "yaxis": "y"
        },
        {
         "alignmentgroup": "True",
         "bingroup": "x",
         "hovertemplate": "Shortness of Breath=3<br>Age=%{x}<br>count=%{y}<extra></extra>",
         "legendgroup": "3",
         "marker": {
          "color": "#ab63fa",
          "pattern": {
           "shape": ""
          }
         },
         "name": "3",
         "nbinsx": 10,
         "offsetgroup": "3",
         "orientation": "v",
         "showlegend": true,
         "texttemplate": "%{value}",
         "type": "histogram",
         "x": [
          37,
          35,
          34,
          27,
          34,
          27,
          32,
          26,
          17,
          38,
          44,
          38,
          61,
          26,
          37,
          37,
          35,
          27,
          34,
          27,
          32,
          26,
          17,
          38,
          44,
          38,
          61,
          27,
          26,
          37,
          35,
          32,
          37,
          35,
          27,
          34,
          26,
          27,
          32,
          26,
          17,
          38,
          17,
          44,
          38,
          61,
          26,
          37,
          38,
          37,
          35,
          27,
          34,
          27,
          32,
          26,
          17,
          25,
          44,
          38,
          61,
          44,
          36,
          38,
          37,
          37,
          35,
          61,
          27,
          34,
          27,
          32,
          26,
          17,
          38,
          44,
          38,
          61,
          26,
          37,
          37,
          35,
          27,
          34,
          27,
          32,
          26,
          17,
          38,
          44,
          38,
          61,
          26,
          37,
          37,
          35,
          27,
          34,
          27,
          32,
          26,
          17,
          38,
          44,
          38,
          61,
          26,
          37,
          27,
          37,
          35,
          27,
          34,
          26,
          27,
          32,
          26,
          17,
          38,
          44,
          38,
          61,
          26,
          37,
          37,
          35,
          37,
          27,
          34,
          27,
          32,
          26,
          17,
          38,
          44,
          38,
          61,
          53,
          37,
          37
         ],
         "xaxis": "x",
         "yaxis": "y"
        },
        {
         "alignmentgroup": "True",
         "bingroup": "x",
         "hovertemplate": "Shortness of Breath=4<br>Age=%{x}<br>count=%{y}<extra></extra>",
         "legendgroup": "4",
         "marker": {
          "color": "#FFA15A",
          "pattern": {
           "shape": ""
          }
         },
         "name": "4",
         "nbinsx": 10,
         "offsetgroup": "4",
         "orientation": "v",
         "showlegend": true,
         "texttemplate": "%{value}",
         "type": "histogram",
         "x": [
          46,
          46,
          62,
          35,
          23,
          62,
          46,
          39,
          37,
          18,
          26,
          27,
          62,
          35,
          35,
          23,
          46,
          39,
          37,
          18,
          26,
          27,
          62,
          35,
          23,
          46,
          39,
          37,
          18,
          27,
          26,
          27,
          62,
          23,
          35,
          43,
          46,
          39,
          37,
          28,
          26,
          27,
          62,
          35,
          23,
          46,
          39,
          37,
          18,
          26,
          27,
          62,
          35,
          23,
          46,
          39,
          37,
          18,
          26,
          27,
          62,
          35,
          23,
          46,
          39,
          37,
          18,
          46,
          26,
          27,
          62,
          35,
          23,
          39,
          46,
          39,
          37,
          37,
          18,
          26,
          27,
          62,
          35,
          23,
          18,
          26,
          46,
          39,
          37,
          18
         ],
         "xaxis": "x",
         "yaxis": "y"
        },
        {
         "alignmentgroup": "True",
         "bingroup": "x",
         "hovertemplate": "Shortness of Breath=5<br>Age=%{x}<br>count=%{y}<extra></extra>",
         "legendgroup": "5",
         "marker": {
          "color": "#19d3f3",
          "pattern": {
           "shape": ""
          }
         },
         "name": "5",
         "nbinsx": 10,
         "offsetgroup": "5",
         "orientation": "v",
         "showlegend": true,
         "texttemplate": "%{value}",
         "type": "histogram",
         "x": [
          64,
          24,
          33,
          24,
          35,
          33,
          45,
          53,
          19,
          37,
          64,
          33,
          24,
          33,
          35,
          33,
          45,
          53,
          19,
          37,
          64,
          24,
          33,
          35,
          33,
          45,
          53,
          19,
          37,
          64,
          24,
          33,
          35,
          55,
          33,
          45,
          63,
          19,
          37,
          64,
          24,
          33,
          35,
          33,
          45,
          53,
          19,
          37,
          64,
          64,
          24,
          33,
          35,
          33,
          45,
          53,
          19,
          37,
          64,
          24,
          33,
          35,
          33,
          45,
          33,
          45,
          53,
          53,
          19,
          37,
          64,
          24,
          33,
          35,
          19,
          33,
          45,
          53,
          19,
          37,
          64,
          24,
          33,
          37,
          35,
          19,
          37
         ],
         "xaxis": "x",
         "yaxis": "y"
        },
        {
         "alignmentgroup": "True",
         "bingroup": "x",
         "hovertemplate": "Shortness of Breath=6<br>Age=%{x}<br>count=%{y}<extra></extra>",
         "legendgroup": "6",
         "marker": {
          "color": "#FF6692",
          "pattern": {
           "shape": ""
          }
         },
         "name": "6",
         "nbinsx": 10,
         "offsetgroup": "6",
         "orientation": "v",
         "showlegend": true,
         "texttemplate": "%{value}",
         "type": "histogram",
         "x": [
          73,
          29,
          65,
          19,
          32,
          28,
          38,
          45,
          33,
          62,
          33,
          22,
          23,
          48,
          29,
          52,
          48,
          31,
          35,
          65,
          27,
          26,
          19,
          73,
          29,
          65,
          19,
          32,
          28,
          32,
          38,
          45,
          33,
          62,
          33,
          22,
          23,
          48,
          52,
          48,
          31,
          35,
          27,
          28,
          26,
          73,
          29,
          65,
          19,
          32,
          28,
          38,
          45,
          33,
          62,
          33,
          22,
          23,
          48,
          52,
          48,
          31,
          35,
          27,
          26,
          73,
          29,
          65,
          19,
          32,
          28,
          38,
          45,
          33,
          62,
          33,
          32,
          23,
          48,
          52,
          48,
          51,
          45,
          37,
          36,
          73,
          29,
          65,
          19,
          32,
          28,
          38,
          38,
          45,
          33,
          45,
          62,
          33,
          22,
          23,
          48,
          33,
          52,
          48,
          31,
          35,
          27,
          26,
          62,
          73,
          29,
          33,
          65,
          19,
          32,
          22,
          28,
          23,
          38,
          45,
          33,
          48,
          62,
          33,
          22,
          23,
          48,
          52,
          48,
          31,
          35,
          27,
          52,
          26,
          48,
          73,
          29,
          31,
          65,
          19,
          32,
          28,
          35,
          38,
          45,
          33,
          62,
          33,
          22,
          23,
          48,
          52,
          48,
          31,
          35,
          27,
          26,
          27,
          73,
          29,
          65,
          19,
          32,
          28,
          38,
          45,
          33,
          62,
          33,
          22,
          23,
          48,
          52,
          48,
          31,
          35,
          27,
          26,
          73,
          26,
          73,
          29,
          65,
          19,
          32,
          28,
          38,
          45,
          33,
          62,
          33,
          22,
          23,
          48,
          52,
          48,
          31,
          35,
          27,
          26,
          26
         ],
         "xaxis": "x",
         "yaxis": "y"
        },
        {
         "alignmentgroup": "True",
         "bingroup": "x",
         "hovertemplate": "Shortness of Breath=1<br>Age=%{x}<br>count=%{y}<extra></extra>",
         "legendgroup": "1",
         "marker": {
          "color": "#B6E880",
          "pattern": {
           "shape": ""
          }
         },
         "name": "1",
         "nbinsx": 10,
         "offsetgroup": "1",
         "orientation": "v",
         "showlegend": true,
         "texttemplate": "%{value}",
         "type": "histogram",
         "x": [
          48,
          22,
          42,
          24,
          18,
          38,
          47,
          52,
          48,
          22,
          42,
          24,
          18,
          38,
          47,
          52,
          48,
          22,
          42,
          48,
          24,
          18,
          38,
          47,
          52,
          22,
          42,
          24,
          18,
          48,
          22,
          42,
          24,
          38,
          38,
          47,
          52,
          38,
          47,
          52,
          48,
          22,
          42,
          24,
          18,
          38,
          47,
          52,
          48,
          22,
          42,
          24,
          18,
          38,
          47,
          52,
          48,
          22,
          42,
          24,
          18,
          38,
          47,
          52,
          48,
          22,
          42,
          24,
          18,
          38,
          47,
          52,
          48,
          22,
          42,
          24,
          18,
          38,
          47,
          52
         ],
         "xaxis": "x",
         "yaxis": "y"
        }
       ],
       "layout": {
        "barmode": "relative",
        "legend": {
         "title": {
          "text": "Shortness of Breath"
         },
         "tracegroupgap": 0
        },
        "template": {
         "data": {
          "bar": [
           {
            "error_x": {
             "color": "#2a3f5f"
            },
            "error_y": {
             "color": "#2a3f5f"
            },
            "marker": {
             "line": {
              "color": "#E5ECF6",
              "width": 0.5
             },
             "pattern": {
              "fillmode": "overlay",
              "size": 10,
              "solidity": 0.2
             }
            },
            "type": "bar"
           }
          ],
          "barpolar": [
           {
            "marker": {
             "line": {
              "color": "#E5ECF6",
              "width": 0.5
             },
             "pattern": {
              "fillmode": "overlay",
              "size": 10,
              "solidity": 0.2
             }
            },
            "type": "barpolar"
           }
          ],
          "carpet": [
           {
            "aaxis": {
             "endlinecolor": "#2a3f5f",
             "gridcolor": "white",
             "linecolor": "white",
             "minorgridcolor": "white",
             "startlinecolor": "#2a3f5f"
            },
            "baxis": {
             "endlinecolor": "#2a3f5f",
             "gridcolor": "white",
             "linecolor": "white",
             "minorgridcolor": "white",
             "startlinecolor": "#2a3f5f"
            },
            "type": "carpet"
           }
          ],
          "choropleth": [
           {
            "colorbar": {
             "outlinewidth": 0,
             "ticks": ""
            },
            "type": "choropleth"
           }
          ],
          "contour": [
           {
            "colorbar": {
             "outlinewidth": 0,
             "ticks": ""
            },
            "colorscale": [
             [
              0,
              "#0d0887"
             ],
             [
              0.1111111111111111,
              "#46039f"
             ],
             [
              0.2222222222222222,
              "#7201a8"
             ],
             [
              0.3333333333333333,
              "#9c179e"
             ],
             [
              0.4444444444444444,
              "#bd3786"
             ],
             [
              0.5555555555555556,
              "#d8576b"
             ],
             [
              0.6666666666666666,
              "#ed7953"
             ],
             [
              0.7777777777777778,
              "#fb9f3a"
             ],
             [
              0.8888888888888888,
              "#fdca26"
             ],
             [
              1,
              "#f0f921"
             ]
            ],
            "type": "contour"
           }
          ],
          "contourcarpet": [
           {
            "colorbar": {
             "outlinewidth": 0,
             "ticks": ""
            },
            "type": "contourcarpet"
           }
          ],
          "heatmap": [
           {
            "colorbar": {
             "outlinewidth": 0,
             "ticks": ""
            },
            "colorscale": [
             [
              0,
              "#0d0887"
             ],
             [
              0.1111111111111111,
              "#46039f"
             ],
             [
              0.2222222222222222,
              "#7201a8"
             ],
             [
              0.3333333333333333,
              "#9c179e"
             ],
             [
              0.4444444444444444,
              "#bd3786"
             ],
             [
              0.5555555555555556,
              "#d8576b"
             ],
             [
              0.6666666666666666,
              "#ed7953"
             ],
             [
              0.7777777777777778,
              "#fb9f3a"
             ],
             [
              0.8888888888888888,
              "#fdca26"
             ],
             [
              1,
              "#f0f921"
             ]
            ],
            "type": "heatmap"
           }
          ],
          "heatmapgl": [
           {
            "colorbar": {
             "outlinewidth": 0,
             "ticks": ""
            },
            "colorscale": [
             [
              0,
              "#0d0887"
             ],
             [
              0.1111111111111111,
              "#46039f"
             ],
             [
              0.2222222222222222,
              "#7201a8"
             ],
             [
              0.3333333333333333,
              "#9c179e"
             ],
             [
              0.4444444444444444,
              "#bd3786"
             ],
             [
              0.5555555555555556,
              "#d8576b"
             ],
             [
              0.6666666666666666,
              "#ed7953"
             ],
             [
              0.7777777777777778,
              "#fb9f3a"
             ],
             [
              0.8888888888888888,
              "#fdca26"
             ],
             [
              1,
              "#f0f921"
             ]
            ],
            "type": "heatmapgl"
           }
          ],
          "histogram": [
           {
            "marker": {
             "pattern": {
              "fillmode": "overlay",
              "size": 10,
              "solidity": 0.2
             }
            },
            "type": "histogram"
           }
          ],
          "histogram2d": [
           {
            "colorbar": {
             "outlinewidth": 0,
             "ticks": ""
            },
            "colorscale": [
             [
              0,
              "#0d0887"
             ],
             [
              0.1111111111111111,
              "#46039f"
             ],
             [
              0.2222222222222222,
              "#7201a8"
             ],
             [
              0.3333333333333333,
              "#9c179e"
             ],
             [
              0.4444444444444444,
              "#bd3786"
             ],
             [
              0.5555555555555556,
              "#d8576b"
             ],
             [
              0.6666666666666666,
              "#ed7953"
             ],
             [
              0.7777777777777778,
              "#fb9f3a"
             ],
             [
              0.8888888888888888,
              "#fdca26"
             ],
             [
              1,
              "#f0f921"
             ]
            ],
            "type": "histogram2d"
           }
          ],
          "histogram2dcontour": [
           {
            "colorbar": {
             "outlinewidth": 0,
             "ticks": ""
            },
            "colorscale": [
             [
              0,
              "#0d0887"
             ],
             [
              0.1111111111111111,
              "#46039f"
             ],
             [
              0.2222222222222222,
              "#7201a8"
             ],
             [
              0.3333333333333333,
              "#9c179e"
             ],
             [
              0.4444444444444444,
              "#bd3786"
             ],
             [
              0.5555555555555556,
              "#d8576b"
             ],
             [
              0.6666666666666666,
              "#ed7953"
             ],
             [
              0.7777777777777778,
              "#fb9f3a"
             ],
             [
              0.8888888888888888,
              "#fdca26"
             ],
             [
              1,
              "#f0f921"
             ]
            ],
            "type": "histogram2dcontour"
           }
          ],
          "mesh3d": [
           {
            "colorbar": {
             "outlinewidth": 0,
             "ticks": ""
            },
            "type": "mesh3d"
           }
          ],
          "parcoords": [
           {
            "line": {
             "colorbar": {
              "outlinewidth": 0,
              "ticks": ""
             }
            },
            "type": "parcoords"
           }
          ],
          "pie": [
           {
            "automargin": true,
            "type": "pie"
           }
          ],
          "scatter": [
           {
            "fillpattern": {
             "fillmode": "overlay",
             "size": 10,
             "solidity": 0.2
            },
            "type": "scatter"
           }
          ],
          "scatter3d": [
           {
            "line": {
             "colorbar": {
              "outlinewidth": 0,
              "ticks": ""
             }
            },
            "marker": {
             "colorbar": {
              "outlinewidth": 0,
              "ticks": ""
             }
            },
            "type": "scatter3d"
           }
          ],
          "scattercarpet": [
           {
            "marker": {
             "colorbar": {
              "outlinewidth": 0,
              "ticks": ""
             }
            },
            "type": "scattercarpet"
           }
          ],
          "scattergeo": [
           {
            "marker": {
             "colorbar": {
              "outlinewidth": 0,
              "ticks": ""
             }
            },
            "type": "scattergeo"
           }
          ],
          "scattergl": [
           {
            "marker": {
             "colorbar": {
              "outlinewidth": 0,
              "ticks": ""
             }
            },
            "type": "scattergl"
           }
          ],
          "scattermapbox": [
           {
            "marker": {
             "colorbar": {
              "outlinewidth": 0,
              "ticks": ""
             }
            },
            "type": "scattermapbox"
           }
          ],
          "scatterpolar": [
           {
            "marker": {
             "colorbar": {
              "outlinewidth": 0,
              "ticks": ""
             }
            },
            "type": "scatterpolar"
           }
          ],
          "scatterpolargl": [
           {
            "marker": {
             "colorbar": {
              "outlinewidth": 0,
              "ticks": ""
             }
            },
            "type": "scatterpolargl"
           }
          ],
          "scatterternary": [
           {
            "marker": {
             "colorbar": {
              "outlinewidth": 0,
              "ticks": ""
             }
            },
            "type": "scatterternary"
           }
          ],
          "surface": [
           {
            "colorbar": {
             "outlinewidth": 0,
             "ticks": ""
            },
            "colorscale": [
             [
              0,
              "#0d0887"
             ],
             [
              0.1111111111111111,
              "#46039f"
             ],
             [
              0.2222222222222222,
              "#7201a8"
             ],
             [
              0.3333333333333333,
              "#9c179e"
             ],
             [
              0.4444444444444444,
              "#bd3786"
             ],
             [
              0.5555555555555556,
              "#d8576b"
             ],
             [
              0.6666666666666666,
              "#ed7953"
             ],
             [
              0.7777777777777778,
              "#fb9f3a"
             ],
             [
              0.8888888888888888,
              "#fdca26"
             ],
             [
              1,
              "#f0f921"
             ]
            ],
            "type": "surface"
           }
          ],
          "table": [
           {
            "cells": {
             "fill": {
              "color": "#EBF0F8"
             },
             "line": {
              "color": "white"
             }
            },
            "header": {
             "fill": {
              "color": "#C8D4E3"
             },
             "line": {
              "color": "white"
             }
            },
            "type": "table"
           }
          ]
         },
         "layout": {
          "annotationdefaults": {
           "arrowcolor": "#2a3f5f",
           "arrowhead": 0,
           "arrowwidth": 1
          },
          "autotypenumbers": "strict",
          "coloraxis": {
           "colorbar": {
            "outlinewidth": 0,
            "ticks": ""
           }
          },
          "colorscale": {
           "diverging": [
            [
             0,
             "#8e0152"
            ],
            [
             0.1,
             "#c51b7d"
            ],
            [
             0.2,
             "#de77ae"
            ],
            [
             0.3,
             "#f1b6da"
            ],
            [
             0.4,
             "#fde0ef"
            ],
            [
             0.5,
             "#f7f7f7"
            ],
            [
             0.6,
             "#e6f5d0"
            ],
            [
             0.7,
             "#b8e186"
            ],
            [
             0.8,
             "#7fbc41"
            ],
            [
             0.9,
             "#4d9221"
            ],
            [
             1,
             "#276419"
            ]
           ],
           "sequential": [
            [
             0,
             "#0d0887"
            ],
            [
             0.1111111111111111,
             "#46039f"
            ],
            [
             0.2222222222222222,
             "#7201a8"
            ],
            [
             0.3333333333333333,
             "#9c179e"
            ],
            [
             0.4444444444444444,
             "#bd3786"
            ],
            [
             0.5555555555555556,
             "#d8576b"
            ],
            [
             0.6666666666666666,
             "#ed7953"
            ],
            [
             0.7777777777777778,
             "#fb9f3a"
            ],
            [
             0.8888888888888888,
             "#fdca26"
            ],
            [
             1,
             "#f0f921"
            ]
           ],
           "sequentialminus": [
            [
             0,
             "#0d0887"
            ],
            [
             0.1111111111111111,
             "#46039f"
            ],
            [
             0.2222222222222222,
             "#7201a8"
            ],
            [
             0.3333333333333333,
             "#9c179e"
            ],
            [
             0.4444444444444444,
             "#bd3786"
            ],
            [
             0.5555555555555556,
             "#d8576b"
            ],
            [
             0.6666666666666666,
             "#ed7953"
            ],
            [
             0.7777777777777778,
             "#fb9f3a"
            ],
            [
             0.8888888888888888,
             "#fdca26"
            ],
            [
             1,
             "#f0f921"
            ]
           ]
          },
          "colorway": [
           "#636efa",
           "#EF553B",
           "#00cc96",
           "#ab63fa",
           "#FFA15A",
           "#19d3f3",
           "#FF6692",
           "#B6E880",
           "#FF97FF",
           "#FECB52"
          ],
          "font": {
           "color": "#2a3f5f"
          },
          "geo": {
           "bgcolor": "white",
           "lakecolor": "white",
           "landcolor": "#E5ECF6",
           "showlakes": true,
           "showland": true,
           "subunitcolor": "white"
          },
          "hoverlabel": {
           "align": "left"
          },
          "hovermode": "closest",
          "mapbox": {
           "style": "light"
          },
          "paper_bgcolor": "white",
          "plot_bgcolor": "#E5ECF6",
          "polar": {
           "angularaxis": {
            "gridcolor": "white",
            "linecolor": "white",
            "ticks": ""
           },
           "bgcolor": "#E5ECF6",
           "radialaxis": {
            "gridcolor": "white",
            "linecolor": "white",
            "ticks": ""
           }
          },
          "scene": {
           "xaxis": {
            "backgroundcolor": "#E5ECF6",
            "gridcolor": "white",
            "gridwidth": 2,
            "linecolor": "white",
            "showbackground": true,
            "ticks": "",
            "zerolinecolor": "white"
           },
           "yaxis": {
            "backgroundcolor": "#E5ECF6",
            "gridcolor": "white",
            "gridwidth": 2,
            "linecolor": "white",
            "showbackground": true,
            "ticks": "",
            "zerolinecolor": "white"
           },
           "zaxis": {
            "backgroundcolor": "#E5ECF6",
            "gridcolor": "white",
            "gridwidth": 2,
            "linecolor": "white",
            "showbackground": true,
            "ticks": "",
            "zerolinecolor": "white"
           }
          },
          "shapedefaults": {
           "line": {
            "color": "#2a3f5f"
           }
          },
          "ternary": {
           "aaxis": {
            "gridcolor": "white",
            "linecolor": "white",
            "ticks": ""
           },
           "baxis": {
            "gridcolor": "white",
            "linecolor": "white",
            "ticks": ""
           },
           "bgcolor": "#E5ECF6",
           "caxis": {
            "gridcolor": "white",
            "linecolor": "white",
            "ticks": ""
           }
          },
          "title": {
           "x": 0.05
          },
          "xaxis": {
           "automargin": true,
           "gridcolor": "white",
           "linecolor": "white",
           "ticks": "",
           "title": {
            "standoff": 15
           },
           "zerolinecolor": "white",
           "zerolinewidth": 2
          },
          "yaxis": {
           "automargin": true,
           "gridcolor": "white",
           "linecolor": "white",
           "ticks": "",
           "title": {
            "standoff": 15
           },
           "zerolinecolor": "white",
           "zerolinewidth": 2
          }
         }
        },
        "title": {
         "text": "Distribution of ages"
        },
        "xaxis": {
         "anchor": "y",
         "domain": [
          0,
          1
         ],
         "title": {
          "text": "Age"
         }
        },
        "yaxis": {
         "anchor": "x",
         "domain": [
          0,
          1
         ],
         "title": {
          "text": "count"
         }
        }
       }
      }
     },
     "metadata": {},
     "output_type": "display_data"
    }
   ],
   "source": [
    "fig = px.histogram(lung, x = 'Age', color = 'Shortness of Breath', nbins = 10, title = 'Distribution of ages', text_auto = True)\n",
    "fig.show()"
   ]
  },
  {
   "cell_type": "code",
   "execution_count": 45,
   "metadata": {},
   "outputs": [
    {
     "data": {
      "application/vnd.plotly.v1+json": {
       "config": {
        "plotlyServerURL": "https://plot.ly"
       },
       "data": [
        {
         "alignmentgroup": "True",
         "bingroup": "x",
         "hovertemplate": "Chest Pain=2<br>Age=%{x}<br>count=%{y}<extra></extra>",
         "legendgroup": "2",
         "marker": {
          "color": "#636efa",
          "pattern": {
           "shape": ""
          }
         },
         "name": "2",
         "nbinsx": 10,
         "offsetgroup": "2",
         "orientation": "v",
         "showlegend": true,
         "texttemplate": "%{value}",
         "type": "histogram",
         "x": [
          33,
          17,
          52,
          17,
          38,
          28,
          42,
          33,
          18,
          23,
          35,
          47,
          44,
          38,
          44,
          32,
          38,
          35,
          46,
          36,
          38,
          33,
          17,
          28,
          38,
          28,
          42,
          33,
          42,
          18,
          23,
          35,
          47,
          44,
          38,
          44,
          33,
          32,
          38,
          35,
          46,
          36,
          33,
          17,
          38,
          28,
          42,
          33,
          18,
          23,
          35,
          47,
          44,
          38,
          44,
          32,
          38,
          35,
          46,
          36,
          33,
          18,
          17,
          23,
          38,
          28,
          42,
          33,
          35,
          38,
          43,
          55,
          47,
          44,
          38,
          44,
          47,
          32,
          48,
          35,
          46,
          46,
          44,
          38,
          33,
          17,
          38,
          28,
          42,
          33,
          18,
          23,
          35,
          47,
          44,
          44,
          38,
          44,
          32,
          38,
          35,
          46,
          36,
          32,
          33,
          38,
          17,
          38,
          28,
          42,
          33,
          35,
          18,
          23,
          35,
          47,
          44,
          38,
          44,
          32,
          38,
          35,
          46,
          46,
          36,
          33,
          36,
          17,
          38,
          28,
          42,
          33,
          18,
          23,
          35,
          47,
          44,
          38,
          44,
          32,
          38,
          35,
          46,
          36,
          33,
          17,
          38,
          28,
          42,
          33,
          18,
          23,
          35,
          47,
          44,
          38,
          44,
          32,
          38,
          35,
          46,
          36,
          33,
          17,
          38,
          28,
          42,
          33,
          18,
          23,
          35,
          47,
          44,
          38,
          44,
          32,
          38,
          35,
          46,
          36,
          33
         ],
         "xaxis": "x",
         "yaxis": "y"
        },
        {
         "alignmentgroup": "True",
         "bingroup": "x",
         "hovertemplate": "Chest Pain=4<br>Age=%{x}<br>count=%{y}<extra></extra>",
         "legendgroup": "4",
         "marker": {
          "color": "#EF553B",
          "pattern": {
           "shape": ""
          }
         },
         "name": "4",
         "nbinsx": 10,
         "offsetgroup": "4",
         "orientation": "v",
         "showlegend": true,
         "texttemplate": "%{value}",
         "type": "histogram",
         "x": [
          35,
          35,
          46,
          27,
          53,
          65,
          27,
          26,
          53,
          55,
          38,
          62,
          22,
          52,
          48,
          35,
          65,
          35,
          29,
          49,
          25,
          47,
          35,
          27,
          27,
          53,
          65,
          27,
          26,
          55,
          38,
          62,
          22,
          52,
          48,
          35,
          27,
          35,
          29,
          49,
          25,
          47,
          35,
          27,
          27,
          53,
          65,
          26,
          27,
          26,
          55,
          38,
          62,
          22,
          52,
          48,
          35,
          35,
          29,
          49,
          25,
          47,
          27,
          35,
          27,
          27,
          53,
          65,
          27,
          26,
          55,
          38,
          62,
          32,
          52,
          48,
          45,
          45,
          39,
          49,
          25,
          47,
          35,
          27,
          27,
          53,
          55,
          65,
          27,
          26,
          38,
          55,
          38,
          62,
          22,
          52,
          48,
          35,
          35,
          29,
          49,
          25,
          47,
          62,
          35,
          27,
          27,
          53,
          65,
          22,
          27,
          26,
          55,
          38,
          62,
          22,
          52,
          48,
          35,
          35,
          29,
          52,
          49,
          25,
          47,
          48,
          35,
          27,
          27,
          53,
          65,
          27,
          26,
          35,
          55,
          38,
          62,
          22,
          52,
          48,
          35,
          35,
          29,
          35,
          49,
          25,
          47,
          27,
          35,
          27,
          27,
          53,
          65,
          27,
          26,
          55,
          38,
          29,
          62,
          22,
          52,
          48,
          35,
          49,
          35,
          29,
          49,
          25,
          47,
          35,
          27,
          27,
          53,
          65,
          27,
          26,
          25,
          55,
          38,
          62,
          22,
          47,
          52,
          48,
          35,
          53,
          35,
          29,
          49,
          25,
          47
         ],
         "xaxis": "x",
         "yaxis": "y"
        },
        {
         "alignmentgroup": "True",
         "bingroup": "x",
         "hovertemplate": "Chest Pain=7<br>Age=%{x}<br>count=%{y}<extra></extra>",
         "legendgroup": "7",
         "marker": {
          "color": "#00cc96",
          "pattern": {
           "shape": ""
          }
         },
         "name": "7",
         "nbinsx": 10,
         "offsetgroup": "7",
         "orientation": "v",
         "showlegend": true,
         "texttemplate": "%{value}",
         "type": "histogram",
         "x": [
          37,
          46,
          44,
          64,
          34,
          34,
          36,
          62,
          29,
          36,
          33,
          35,
          28,
          32,
          45,
          62,
          29,
          44,
          33,
          45,
          46,
          27,
          26,
          37,
          28,
          19,
          39,
          37,
          26,
          37,
          33,
          44,
          37,
          18,
          26,
          37,
          48,
          64,
          33,
          34,
          36,
          62,
          29,
          33,
          35,
          35,
          28,
          32,
          45,
          44,
          33,
          45,
          46,
          27,
          26,
          37,
          28,
          19,
          39,
          28,
          37,
          26,
          37,
          33,
          44,
          37,
          18,
          32,
          26,
          37,
          48,
          64,
          45,
          34,
          36,
          62,
          29,
          33,
          35,
          28,
          32,
          45,
          44,
          33,
          45,
          46,
          27,
          26,
          37,
          28,
          19,
          39,
          37,
          26,
          37,
          33,
          44,
          37,
          18,
          26,
          37,
          48,
          64,
          34,
          36,
          62,
          29,
          33,
          35,
          28,
          32,
          45,
          54,
          33,
          45,
          46,
          37,
          36,
          37,
          28,
          19,
          39,
          37,
          36,
          37,
          33,
          44,
          37,
          28,
          48,
          26,
          37,
          48,
          64,
          34,
          36,
          62,
          29,
          33,
          35,
          28,
          32,
          45,
          44,
          33,
          45,
          46,
          27,
          26,
          37,
          28,
          19,
          39,
          37,
          26,
          37,
          33,
          44,
          37,
          18,
          64,
          26,
          37,
          48,
          64,
          34,
          36,
          62,
          29,
          33,
          35,
          28,
          32,
          45,
          44,
          33,
          45,
          46,
          27,
          26,
          37,
          28,
          19,
          39,
          37,
          26,
          37,
          33,
          44,
          37,
          18,
          26,
          37,
          48,
          64,
          34,
          36,
          62,
          29,
          33,
          35,
          28,
          32,
          45,
          44,
          33,
          45,
          44,
          33,
          45,
          46,
          27,
          26,
          37,
          28,
          19,
          39,
          37,
          26,
          37,
          33,
          44,
          37,
          18,
          46,
          26,
          37,
          48,
          64,
          27,
          34,
          36,
          62,
          29,
          26,
          33,
          35,
          37,
          28,
          32,
          45,
          28,
          19,
          39,
          44,
          33,
          45,
          46,
          27,
          26,
          37,
          28,
          19,
          39,
          37,
          37,
          26,
          37,
          33,
          44,
          37,
          18,
          26,
          26,
          37,
          48,
          64,
          37,
          34,
          36,
          62,
          29,
          33,
          33,
          35,
          44,
          28,
          32,
          45,
          37,
          18,
          44,
          26,
          46,
          27,
          28,
          19,
          39,
          37,
          37,
          26,
          37,
          33,
          44,
          37,
          18
         ],
         "xaxis": "x",
         "yaxis": "y"
        },
        {
         "alignmentgroup": "True",
         "bingroup": "x",
         "hovertemplate": "Chest Pain=3<br>Age=%{x}<br>count=%{y}<extra></extra>",
         "legendgroup": "3",
         "marker": {
          "color": "#ab63fa",
          "pattern": {
           "shape": ""
          }
         },
         "name": "3",
         "nbinsx": 10,
         "offsetgroup": "3",
         "orientation": "v",
         "showlegend": true,
         "texttemplate": "%{value}",
         "type": "histogram",
         "x": [
          28,
          19,
          25,
          27,
          35,
          24,
          62,
          45,
          45,
          44,
          33,
          23,
          52,
          31,
          38,
          25,
          19,
          25,
          19,
          25,
          27,
          35,
          24,
          62,
          45,
          45,
          44,
          33,
          23,
          25,
          52,
          31,
          38,
          25,
          27,
          19,
          25,
          27,
          35,
          24,
          62,
          45,
          45,
          44,
          33,
          23,
          52,
          31,
          38,
          35,
          25,
          19,
          25,
          24,
          27,
          35,
          44,
          62,
          45,
          45,
          44,
          33,
          23,
          52,
          51,
          38,
          62,
          25,
          19,
          25,
          45,
          27,
          35,
          24,
          62,
          45,
          45,
          45,
          44,
          33,
          23,
          52,
          31,
          38,
          44,
          25,
          33,
          19,
          25,
          27,
          35,
          24,
          23,
          62,
          45,
          45,
          44,
          33,
          23,
          52,
          31,
          38,
          52,
          25,
          31,
          19,
          25,
          38,
          27,
          35,
          24,
          62,
          45,
          45,
          44,
          33,
          23,
          52,
          31,
          38,
          25,
          19,
          25,
          27,
          35,
          24,
          62,
          45,
          45,
          44,
          33,
          23,
          52,
          31,
          38,
          25,
          19,
          25,
          27,
          35,
          24,
          62,
          45,
          45,
          44,
          33,
          23,
          52,
          31,
          38,
          45,
          26,
          37
         ],
         "xaxis": "x",
         "yaxis": "y"
        },
        {
         "alignmentgroup": "True",
         "bingroup": "x",
         "hovertemplate": "Chest Pain=6<br>Age=%{x}<br>count=%{y}<extra></extra>",
         "legendgroup": "6",
         "marker": {
          "color": "#FFA15A",
          "pattern": {
           "shape": ""
          }
         },
         "name": "6",
         "nbinsx": 10,
         "offsetgroup": "6",
         "orientation": "v",
         "showlegend": true,
         "texttemplate": "%{value}",
         "type": "histogram",
         "x": [
          35,
          39,
          14,
          14,
          42,
          35,
          39,
          14,
          42,
          35,
          35,
          39,
          14,
          42,
          42,
          35,
          39,
          14,
          42,
          35,
          39,
          24,
          42,
          35,
          39,
          14,
          42,
          39,
          35,
          39,
          14,
          42,
          35,
          39,
          14,
          42,
          35,
          39,
          14,
          42
         ],
         "xaxis": "x",
         "yaxis": "y"
        },
        {
         "alignmentgroup": "True",
         "bingroup": "x",
         "hovertemplate": "Chest Pain=5<br>Age=%{x}<br>count=%{y}<extra></extra>",
         "legendgroup": "5",
         "marker": {
          "color": "#19d3f3",
          "pattern": {
           "shape": ""
          }
         },
         "name": "5",
         "nbinsx": 10,
         "offsetgroup": "5",
         "orientation": "v",
         "showlegend": true,
         "texttemplate": "%{value}",
         "type": "histogram",
         "x": [
          73,
          73,
          73,
          73,
          73,
          73,
          73,
          73,
          73,
          73
         ],
         "xaxis": "x",
         "yaxis": "y"
        },
        {
         "alignmentgroup": "True",
         "bingroup": "x",
         "hovertemplate": "Chest Pain=9<br>Age=%{x}<br>count=%{y}<extra></extra>",
         "legendgroup": "9",
         "marker": {
          "color": "#FF6692",
          "pattern": {
           "shape": ""
          }
         },
         "name": "9",
         "nbinsx": 10,
         "offsetgroup": "9",
         "orientation": "v",
         "showlegend": true,
         "texttemplate": "%{value}",
         "type": "histogram",
         "x": [
          24,
          24,
          53,
          24,
          53,
          24,
          53,
          24,
          63,
          24,
          53,
          24,
          53,
          24,
          53,
          53,
          24,
          53,
          24
         ],
         "xaxis": "x",
         "yaxis": "y"
        },
        {
         "alignmentgroup": "True",
         "bingroup": "x",
         "hovertemplate": "Chest Pain=8<br>Age=%{x}<br>count=%{y}<extra></extra>",
         "legendgroup": "8",
         "marker": {
          "color": "#B6E880",
          "pattern": {
           "shape": ""
          }
         },
         "name": "8",
         "nbinsx": 10,
         "offsetgroup": "8",
         "orientation": "v",
         "showlegend": true,
         "texttemplate": "%{value}",
         "type": "histogram",
         "x": [
          32,
          33,
          48,
          32,
          32,
          33,
          48,
          32,
          33,
          48,
          32,
          33,
          48,
          32,
          33,
          48,
          33,
          32,
          33,
          48,
          48,
          32,
          33,
          48,
          32,
          33,
          48,
          32,
          33,
          48
         ],
         "xaxis": "x",
         "yaxis": "y"
        },
        {
         "alignmentgroup": "True",
         "bingroup": "x",
         "hovertemplate": "Chest Pain=1<br>Age=%{x}<br>count=%{y}<extra></extra>",
         "legendgroup": "1",
         "marker": {
          "color": "#FF97FF",
          "pattern": {
           "shape": ""
          }
         },
         "name": "1",
         "nbinsx": 10,
         "offsetgroup": "1",
         "orientation": "v",
         "showlegend": true,
         "texttemplate": "%{value}",
         "type": "histogram",
         "x": [
          48,
          17,
          22,
          24,
          38,
          38,
          52,
          61,
          48,
          17,
          22,
          24,
          38,
          38,
          52,
          61,
          48,
          17,
          22,
          48,
          24,
          38,
          38,
          52,
          17,
          61,
          22,
          24,
          38,
          48,
          17,
          22,
          24,
          25,
          38,
          52,
          38,
          61,
          52,
          61,
          48,
          17,
          22,
          24,
          38,
          38,
          52,
          61,
          48,
          17,
          22,
          24,
          38,
          38,
          52,
          61,
          48,
          17,
          22,
          24,
          38,
          38,
          52,
          61,
          48,
          17,
          22,
          24,
          38,
          38,
          52,
          61,
          48,
          17,
          22,
          24,
          38,
          38,
          52,
          61
         ],
         "xaxis": "x",
         "yaxis": "y"
        }
       ],
       "layout": {
        "barmode": "relative",
        "legend": {
         "title": {
          "text": "Chest Pain"
         },
         "tracegroupgap": 0
        },
        "template": {
         "data": {
          "bar": [
           {
            "error_x": {
             "color": "#2a3f5f"
            },
            "error_y": {
             "color": "#2a3f5f"
            },
            "marker": {
             "line": {
              "color": "#E5ECF6",
              "width": 0.5
             },
             "pattern": {
              "fillmode": "overlay",
              "size": 10,
              "solidity": 0.2
             }
            },
            "type": "bar"
           }
          ],
          "barpolar": [
           {
            "marker": {
             "line": {
              "color": "#E5ECF6",
              "width": 0.5
             },
             "pattern": {
              "fillmode": "overlay",
              "size": 10,
              "solidity": 0.2
             }
            },
            "type": "barpolar"
           }
          ],
          "carpet": [
           {
            "aaxis": {
             "endlinecolor": "#2a3f5f",
             "gridcolor": "white",
             "linecolor": "white",
             "minorgridcolor": "white",
             "startlinecolor": "#2a3f5f"
            },
            "baxis": {
             "endlinecolor": "#2a3f5f",
             "gridcolor": "white",
             "linecolor": "white",
             "minorgridcolor": "white",
             "startlinecolor": "#2a3f5f"
            },
            "type": "carpet"
           }
          ],
          "choropleth": [
           {
            "colorbar": {
             "outlinewidth": 0,
             "ticks": ""
            },
            "type": "choropleth"
           }
          ],
          "contour": [
           {
            "colorbar": {
             "outlinewidth": 0,
             "ticks": ""
            },
            "colorscale": [
             [
              0,
              "#0d0887"
             ],
             [
              0.1111111111111111,
              "#46039f"
             ],
             [
              0.2222222222222222,
              "#7201a8"
             ],
             [
              0.3333333333333333,
              "#9c179e"
             ],
             [
              0.4444444444444444,
              "#bd3786"
             ],
             [
              0.5555555555555556,
              "#d8576b"
             ],
             [
              0.6666666666666666,
              "#ed7953"
             ],
             [
              0.7777777777777778,
              "#fb9f3a"
             ],
             [
              0.8888888888888888,
              "#fdca26"
             ],
             [
              1,
              "#f0f921"
             ]
            ],
            "type": "contour"
           }
          ],
          "contourcarpet": [
           {
            "colorbar": {
             "outlinewidth": 0,
             "ticks": ""
            },
            "type": "contourcarpet"
           }
          ],
          "heatmap": [
           {
            "colorbar": {
             "outlinewidth": 0,
             "ticks": ""
            },
            "colorscale": [
             [
              0,
              "#0d0887"
             ],
             [
              0.1111111111111111,
              "#46039f"
             ],
             [
              0.2222222222222222,
              "#7201a8"
             ],
             [
              0.3333333333333333,
              "#9c179e"
             ],
             [
              0.4444444444444444,
              "#bd3786"
             ],
             [
              0.5555555555555556,
              "#d8576b"
             ],
             [
              0.6666666666666666,
              "#ed7953"
             ],
             [
              0.7777777777777778,
              "#fb9f3a"
             ],
             [
              0.8888888888888888,
              "#fdca26"
             ],
             [
              1,
              "#f0f921"
             ]
            ],
            "type": "heatmap"
           }
          ],
          "heatmapgl": [
           {
            "colorbar": {
             "outlinewidth": 0,
             "ticks": ""
            },
            "colorscale": [
             [
              0,
              "#0d0887"
             ],
             [
              0.1111111111111111,
              "#46039f"
             ],
             [
              0.2222222222222222,
              "#7201a8"
             ],
             [
              0.3333333333333333,
              "#9c179e"
             ],
             [
              0.4444444444444444,
              "#bd3786"
             ],
             [
              0.5555555555555556,
              "#d8576b"
             ],
             [
              0.6666666666666666,
              "#ed7953"
             ],
             [
              0.7777777777777778,
              "#fb9f3a"
             ],
             [
              0.8888888888888888,
              "#fdca26"
             ],
             [
              1,
              "#f0f921"
             ]
            ],
            "type": "heatmapgl"
           }
          ],
          "histogram": [
           {
            "marker": {
             "pattern": {
              "fillmode": "overlay",
              "size": 10,
              "solidity": 0.2
             }
            },
            "type": "histogram"
           }
          ],
          "histogram2d": [
           {
            "colorbar": {
             "outlinewidth": 0,
             "ticks": ""
            },
            "colorscale": [
             [
              0,
              "#0d0887"
             ],
             [
              0.1111111111111111,
              "#46039f"
             ],
             [
              0.2222222222222222,
              "#7201a8"
             ],
             [
              0.3333333333333333,
              "#9c179e"
             ],
             [
              0.4444444444444444,
              "#bd3786"
             ],
             [
              0.5555555555555556,
              "#d8576b"
             ],
             [
              0.6666666666666666,
              "#ed7953"
             ],
             [
              0.7777777777777778,
              "#fb9f3a"
             ],
             [
              0.8888888888888888,
              "#fdca26"
             ],
             [
              1,
              "#f0f921"
             ]
            ],
            "type": "histogram2d"
           }
          ],
          "histogram2dcontour": [
           {
            "colorbar": {
             "outlinewidth": 0,
             "ticks": ""
            },
            "colorscale": [
             [
              0,
              "#0d0887"
             ],
             [
              0.1111111111111111,
              "#46039f"
             ],
             [
              0.2222222222222222,
              "#7201a8"
             ],
             [
              0.3333333333333333,
              "#9c179e"
             ],
             [
              0.4444444444444444,
              "#bd3786"
             ],
             [
              0.5555555555555556,
              "#d8576b"
             ],
             [
              0.6666666666666666,
              "#ed7953"
             ],
             [
              0.7777777777777778,
              "#fb9f3a"
             ],
             [
              0.8888888888888888,
              "#fdca26"
             ],
             [
              1,
              "#f0f921"
             ]
            ],
            "type": "histogram2dcontour"
           }
          ],
          "mesh3d": [
           {
            "colorbar": {
             "outlinewidth": 0,
             "ticks": ""
            },
            "type": "mesh3d"
           }
          ],
          "parcoords": [
           {
            "line": {
             "colorbar": {
              "outlinewidth": 0,
              "ticks": ""
             }
            },
            "type": "parcoords"
           }
          ],
          "pie": [
           {
            "automargin": true,
            "type": "pie"
           }
          ],
          "scatter": [
           {
            "fillpattern": {
             "fillmode": "overlay",
             "size": 10,
             "solidity": 0.2
            },
            "type": "scatter"
           }
          ],
          "scatter3d": [
           {
            "line": {
             "colorbar": {
              "outlinewidth": 0,
              "ticks": ""
             }
            },
            "marker": {
             "colorbar": {
              "outlinewidth": 0,
              "ticks": ""
             }
            },
            "type": "scatter3d"
           }
          ],
          "scattercarpet": [
           {
            "marker": {
             "colorbar": {
              "outlinewidth": 0,
              "ticks": ""
             }
            },
            "type": "scattercarpet"
           }
          ],
          "scattergeo": [
           {
            "marker": {
             "colorbar": {
              "outlinewidth": 0,
              "ticks": ""
             }
            },
            "type": "scattergeo"
           }
          ],
          "scattergl": [
           {
            "marker": {
             "colorbar": {
              "outlinewidth": 0,
              "ticks": ""
             }
            },
            "type": "scattergl"
           }
          ],
          "scattermapbox": [
           {
            "marker": {
             "colorbar": {
              "outlinewidth": 0,
              "ticks": ""
             }
            },
            "type": "scattermapbox"
           }
          ],
          "scatterpolar": [
           {
            "marker": {
             "colorbar": {
              "outlinewidth": 0,
              "ticks": ""
             }
            },
            "type": "scatterpolar"
           }
          ],
          "scatterpolargl": [
           {
            "marker": {
             "colorbar": {
              "outlinewidth": 0,
              "ticks": ""
             }
            },
            "type": "scatterpolargl"
           }
          ],
          "scatterternary": [
           {
            "marker": {
             "colorbar": {
              "outlinewidth": 0,
              "ticks": ""
             }
            },
            "type": "scatterternary"
           }
          ],
          "surface": [
           {
            "colorbar": {
             "outlinewidth": 0,
             "ticks": ""
            },
            "colorscale": [
             [
              0,
              "#0d0887"
             ],
             [
              0.1111111111111111,
              "#46039f"
             ],
             [
              0.2222222222222222,
              "#7201a8"
             ],
             [
              0.3333333333333333,
              "#9c179e"
             ],
             [
              0.4444444444444444,
              "#bd3786"
             ],
             [
              0.5555555555555556,
              "#d8576b"
             ],
             [
              0.6666666666666666,
              "#ed7953"
             ],
             [
              0.7777777777777778,
              "#fb9f3a"
             ],
             [
              0.8888888888888888,
              "#fdca26"
             ],
             [
              1,
              "#f0f921"
             ]
            ],
            "type": "surface"
           }
          ],
          "table": [
           {
            "cells": {
             "fill": {
              "color": "#EBF0F8"
             },
             "line": {
              "color": "white"
             }
            },
            "header": {
             "fill": {
              "color": "#C8D4E3"
             },
             "line": {
              "color": "white"
             }
            },
            "type": "table"
           }
          ]
         },
         "layout": {
          "annotationdefaults": {
           "arrowcolor": "#2a3f5f",
           "arrowhead": 0,
           "arrowwidth": 1
          },
          "autotypenumbers": "strict",
          "coloraxis": {
           "colorbar": {
            "outlinewidth": 0,
            "ticks": ""
           }
          },
          "colorscale": {
           "diverging": [
            [
             0,
             "#8e0152"
            ],
            [
             0.1,
             "#c51b7d"
            ],
            [
             0.2,
             "#de77ae"
            ],
            [
             0.3,
             "#f1b6da"
            ],
            [
             0.4,
             "#fde0ef"
            ],
            [
             0.5,
             "#f7f7f7"
            ],
            [
             0.6,
             "#e6f5d0"
            ],
            [
             0.7,
             "#b8e186"
            ],
            [
             0.8,
             "#7fbc41"
            ],
            [
             0.9,
             "#4d9221"
            ],
            [
             1,
             "#276419"
            ]
           ],
           "sequential": [
            [
             0,
             "#0d0887"
            ],
            [
             0.1111111111111111,
             "#46039f"
            ],
            [
             0.2222222222222222,
             "#7201a8"
            ],
            [
             0.3333333333333333,
             "#9c179e"
            ],
            [
             0.4444444444444444,
             "#bd3786"
            ],
            [
             0.5555555555555556,
             "#d8576b"
            ],
            [
             0.6666666666666666,
             "#ed7953"
            ],
            [
             0.7777777777777778,
             "#fb9f3a"
            ],
            [
             0.8888888888888888,
             "#fdca26"
            ],
            [
             1,
             "#f0f921"
            ]
           ],
           "sequentialminus": [
            [
             0,
             "#0d0887"
            ],
            [
             0.1111111111111111,
             "#46039f"
            ],
            [
             0.2222222222222222,
             "#7201a8"
            ],
            [
             0.3333333333333333,
             "#9c179e"
            ],
            [
             0.4444444444444444,
             "#bd3786"
            ],
            [
             0.5555555555555556,
             "#d8576b"
            ],
            [
             0.6666666666666666,
             "#ed7953"
            ],
            [
             0.7777777777777778,
             "#fb9f3a"
            ],
            [
             0.8888888888888888,
             "#fdca26"
            ],
            [
             1,
             "#f0f921"
            ]
           ]
          },
          "colorway": [
           "#636efa",
           "#EF553B",
           "#00cc96",
           "#ab63fa",
           "#FFA15A",
           "#19d3f3",
           "#FF6692",
           "#B6E880",
           "#FF97FF",
           "#FECB52"
          ],
          "font": {
           "color": "#2a3f5f"
          },
          "geo": {
           "bgcolor": "white",
           "lakecolor": "white",
           "landcolor": "#E5ECF6",
           "showlakes": true,
           "showland": true,
           "subunitcolor": "white"
          },
          "hoverlabel": {
           "align": "left"
          },
          "hovermode": "closest",
          "mapbox": {
           "style": "light"
          },
          "paper_bgcolor": "white",
          "plot_bgcolor": "#E5ECF6",
          "polar": {
           "angularaxis": {
            "gridcolor": "white",
            "linecolor": "white",
            "ticks": ""
           },
           "bgcolor": "#E5ECF6",
           "radialaxis": {
            "gridcolor": "white",
            "linecolor": "white",
            "ticks": ""
           }
          },
          "scene": {
           "xaxis": {
            "backgroundcolor": "#E5ECF6",
            "gridcolor": "white",
            "gridwidth": 2,
            "linecolor": "white",
            "showbackground": true,
            "ticks": "",
            "zerolinecolor": "white"
           },
           "yaxis": {
            "backgroundcolor": "#E5ECF6",
            "gridcolor": "white",
            "gridwidth": 2,
            "linecolor": "white",
            "showbackground": true,
            "ticks": "",
            "zerolinecolor": "white"
           },
           "zaxis": {
            "backgroundcolor": "#E5ECF6",
            "gridcolor": "white",
            "gridwidth": 2,
            "linecolor": "white",
            "showbackground": true,
            "ticks": "",
            "zerolinecolor": "white"
           }
          },
          "shapedefaults": {
           "line": {
            "color": "#2a3f5f"
           }
          },
          "ternary": {
           "aaxis": {
            "gridcolor": "white",
            "linecolor": "white",
            "ticks": ""
           },
           "baxis": {
            "gridcolor": "white",
            "linecolor": "white",
            "ticks": ""
           },
           "bgcolor": "#E5ECF6",
           "caxis": {
            "gridcolor": "white",
            "linecolor": "white",
            "ticks": ""
           }
          },
          "title": {
           "x": 0.05
          },
          "xaxis": {
           "automargin": true,
           "gridcolor": "white",
           "linecolor": "white",
           "ticks": "",
           "title": {
            "standoff": 15
           },
           "zerolinecolor": "white",
           "zerolinewidth": 2
          },
          "yaxis": {
           "automargin": true,
           "gridcolor": "white",
           "linecolor": "white",
           "ticks": "",
           "title": {
            "standoff": 15
           },
           "zerolinecolor": "white",
           "zerolinewidth": 2
          }
         }
        },
        "title": {
         "text": "Distribution of ages"
        },
        "xaxis": {
         "anchor": "y",
         "domain": [
          0,
          1
         ],
         "title": {
          "text": "Age"
         }
        },
        "yaxis": {
         "anchor": "x",
         "domain": [
          0,
          1
         ],
         "title": {
          "text": "count"
         }
        }
       }
      }
     },
     "metadata": {},
     "output_type": "display_data"
    }
   ],
   "source": [
    "# Age and Chest Pain\n",
    "fig = px.histogram(lung, x = 'Age', color = 'Chest Pain', nbins = 10, title = 'Distribution of ages', text_auto = True)\n",
    "fig.show()"
   ]
  },
  {
   "attachments": {},
   "cell_type": "markdown",
   "metadata": {},
   "source": [
    "From this we can see that the distribution of age seems random at best with no clear relation between age and symptom severity"
   ]
  },
  {
   "attachments": {},
   "cell_type": "markdown",
   "metadata": {},
   "source": [
    "#### Air Pollution"
   ]
  },
  {
   "cell_type": "code",
   "execution_count": 58,
   "metadata": {},
   "outputs": [
    {
     "data": {
      "application/vnd.plotly.v1+json": {
       "config": {
        "plotlyServerURL": "https://plot.ly"
       },
       "data": [
        {
         "alignmentgroup": "True",
         "bingroup": "x",
         "hovertemplate": "Coughing of Blood=4<br>Air Pollution=%{x}<br>count=%{y}<extra></extra>",
         "legendgroup": "4",
         "marker": {
          "color": "#636efa",
          "pattern": {
           "shape": ""
          }
         },
         "name": "4",
         "nbinsx": 10,
         "offsetgroup": "4",
         "orientation": "v",
         "showlegend": true,
         "texttemplate": "%{value}",
         "type": "histogram",
         "x": [
          2,
          2,
          2,
          2,
          2,
          2,
          4,
          1,
          4,
          2,
          1,
          2,
          1,
          2,
          2,
          1,
          2,
          1,
          2,
          2,
          2,
          2,
          2,
          2,
          4,
          1,
          4,
          2,
          1,
          2,
          2,
          1,
          2,
          2,
          1,
          2,
          1,
          2,
          2,
          2,
          2,
          2,
          2,
          4,
          4,
          1,
          4,
          2,
          1,
          2,
          1,
          2,
          2,
          1,
          2,
          1,
          1,
          2,
          2,
          2,
          4,
          2,
          2,
          2,
          4,
          1,
          4,
          2,
          1,
          2,
          1,
          2,
          2,
          1,
          2,
          1,
          2,
          2,
          2,
          2,
          2,
          1,
          2,
          4,
          1,
          4,
          2,
          2,
          1,
          2,
          1,
          2,
          2,
          1,
          2,
          1,
          1,
          2,
          2,
          2,
          2,
          2,
          2,
          4,
          2,
          1,
          4,
          2,
          1,
          2,
          1,
          2,
          2,
          1,
          2,
          1,
          1,
          2,
          2,
          2,
          2,
          2,
          1,
          2,
          4,
          1,
          4,
          2,
          1,
          2,
          1,
          2,
          2,
          1,
          2,
          1,
          2,
          2,
          2,
          2,
          2,
          4,
          1,
          4,
          2,
          1,
          2,
          1,
          2,
          2,
          1,
          2,
          1,
          2,
          2,
          2,
          2,
          2,
          4,
          1,
          4,
          2,
          1,
          2,
          1,
          2,
          2,
          1,
          2,
          1,
          2,
          1
         ],
         "xaxis": "x",
         "yaxis": "y"
        },
        {
         "alignmentgroup": "True",
         "bingroup": "x",
         "hovertemplate": "Coughing of Blood=3<br>Air Pollution=%{x}<br>count=%{y}<extra></extra>",
         "legendgroup": "3",
         "marker": {
          "color": "#EF553B",
          "pattern": {
           "shape": ""
          }
         },
         "name": "3",
         "nbinsx": 10,
         "offsetgroup": "3",
         "orientation": "v",
         "showlegend": true,
         "texttemplate": "%{value}",
         "type": "histogram",
         "x": [
          3,
          3,
          6,
          3,
          2,
          2,
          5,
          3,
          6,
          3,
          6,
          3,
          6,
          3,
          6,
          6,
          3,
          6,
          6,
          3,
          3,
          6,
          3,
          2,
          2,
          2,
          5,
          3,
          6,
          3,
          6,
          3,
          6,
          3,
          6,
          6,
          3,
          6,
          3,
          6,
          3,
          2,
          2,
          2,
          5,
          3,
          6,
          3,
          6,
          3,
          6,
          3,
          6,
          6,
          3,
          6,
          3,
          6,
          3,
          2,
          2,
          5,
          5,
          3,
          6,
          3,
          6,
          3,
          6,
          3,
          6,
          6,
          3,
          6,
          3,
          3,
          6,
          3,
          2,
          2,
          6,
          5,
          3,
          6,
          3,
          3,
          6,
          3,
          6,
          3,
          6,
          6,
          3,
          6,
          6,
          3,
          3,
          6,
          3,
          2,
          6,
          2,
          5,
          3,
          3,
          6,
          3,
          6,
          3,
          6,
          3,
          6,
          6,
          3,
          6,
          6,
          6,
          3,
          3,
          6,
          3,
          2,
          2,
          6,
          5,
          3,
          6,
          3,
          6,
          3,
          6,
          3,
          6,
          6,
          3,
          6,
          3,
          6,
          3,
          2,
          2,
          5,
          3,
          6,
          3,
          6,
          3,
          6,
          3,
          6,
          6,
          3,
          6,
          3,
          6,
          3,
          2,
          2,
          5,
          3,
          6,
          3,
          6,
          3,
          6,
          3,
          6,
          6,
          3,
          6,
          3
         ],
         "xaxis": "x",
         "yaxis": "y"
        },
        {
         "alignmentgroup": "True",
         "bingroup": "x",
         "hovertemplate": "Coughing of Blood=8<br>Air Pollution=%{x}<br>count=%{y}<extra></extra>",
         "legendgroup": "8",
         "marker": {
          "color": "#00cc96",
          "pattern": {
           "shape": ""
          }
         },
         "name": "8",
         "nbinsx": 10,
         "offsetgroup": "8",
         "orientation": "v",
         "showlegend": true,
         "texttemplate": "%{value}",
         "type": "histogram",
         "x": [
          4,
          7,
          4,
          6,
          6,
          4,
          6,
          4,
          4,
          6,
          4,
          6,
          7,
          4,
          6,
          7,
          4,
          6,
          4,
          6,
          4,
          6,
          4,
          6,
          6,
          7,
          4,
          6,
          7,
          4,
          6,
          4,
          6,
          4,
          6,
          4,
          6,
          7,
          4,
          6,
          7,
          4,
          6,
          4,
          6,
          4,
          6,
          4,
          6,
          7,
          4,
          6,
          7,
          4,
          6,
          4,
          6,
          4,
          6,
          4,
          6,
          7,
          4,
          6,
          7,
          4,
          6,
          4,
          6,
          4,
          6,
          4,
          6,
          7,
          4,
          6,
          7,
          4,
          6,
          4,
          6,
          4,
          6,
          4,
          4,
          6,
          7,
          4,
          6,
          7,
          4,
          6,
          4,
          6,
          6,
          4,
          6,
          4,
          6,
          4,
          6,
          7,
          4,
          6,
          7,
          4,
          7,
          6,
          4,
          6,
          4,
          6,
          4,
          4,
          7,
          6,
          7,
          4,
          6
         ],
         "xaxis": "x",
         "yaxis": "y"
        },
        {
         "alignmentgroup": "True",
         "bingroup": "x",
         "hovertemplate": "Coughing of Blood=9<br>Air Pollution=%{x}<br>count=%{y}<extra></extra>",
         "legendgroup": "9",
         "marker": {
          "color": "#ab63fa",
          "pattern": {
           "shape": ""
          }
         },
         "name": "9",
         "nbinsx": 10,
         "offsetgroup": "9",
         "orientation": "v",
         "showlegend": true,
         "texttemplate": "%{value}",
         "type": "histogram",
         "x": [
          6,
          6,
          6,
          6,
          6,
          8,
          6,
          8,
          6,
          6,
          6,
          8,
          6,
          8,
          6,
          6,
          6,
          8,
          6,
          8,
          6,
          6,
          6,
          8,
          6,
          8,
          6,
          6,
          6,
          8,
          6,
          8,
          6,
          6,
          6,
          8,
          6,
          8,
          6,
          6,
          6,
          8,
          6,
          6,
          8,
          6,
          6,
          6,
          6,
          8,
          8,
          6,
          8,
          6,
          6,
          8,
          6,
          6,
          8,
          6
         ],
         "xaxis": "x",
         "yaxis": "y"
        },
        {
         "alignmentgroup": "True",
         "bingroup": "x",
         "hovertemplate": "Coughing of Blood=1<br>Air Pollution=%{x}<br>count=%{y}<extra></extra>",
         "legendgroup": "1",
         "marker": {
          "color": "#FFA15A",
          "pattern": {
           "shape": ""
          }
         },
         "name": "1",
         "nbinsx": 10,
         "offsetgroup": "1",
         "orientation": "v",
         "showlegend": true,
         "texttemplate": "%{value}",
         "type": "histogram",
         "x": [
          3,
          3,
          3,
          1,
          3,
          2,
          3,
          3,
          3,
          3,
          3,
          1,
          3,
          2,
          3,
          3,
          3,
          3,
          3,
          3,
          1,
          3,
          2,
          3,
          1,
          3,
          3,
          3,
          3,
          2,
          1,
          3,
          2,
          3,
          3,
          3,
          3,
          3,
          1,
          3,
          2,
          3,
          3,
          3,
          3,
          1,
          3,
          2,
          3,
          3,
          3,
          3,
          1,
          3,
          2,
          3,
          3,
          3,
          3,
          1,
          3,
          2,
          3,
          3,
          3,
          3,
          1,
          3,
          2,
          3,
          3
         ],
         "xaxis": "x",
         "yaxis": "y"
        },
        {
         "alignmentgroup": "True",
         "bingroup": "x",
         "hovertemplate": "Coughing of Blood=5<br>Air Pollution=%{x}<br>count=%{y}<extra></extra>",
         "legendgroup": "5",
         "marker": {
          "color": "#19d3f3",
          "pattern": {
           "shape": ""
          }
         },
         "name": "5",
         "nbinsx": 10,
         "offsetgroup": "5",
         "orientation": "v",
         "showlegend": true,
         "texttemplate": "%{value}",
         "type": "histogram",
         "x": [
          4,
          5,
          2,
          2,
          2,
          2,
          4,
          5,
          2,
          2,
          2,
          4,
          4,
          5,
          2,
          2,
          2,
          4,
          5,
          2,
          2,
          2,
          2,
          4,
          2,
          5,
          2,
          2,
          2,
          4,
          5,
          2,
          2,
          2,
          4,
          5,
          2,
          2,
          2,
          4,
          5,
          2,
          2,
          2,
          5,
          4,
          5,
          2,
          2,
          2
         ],
         "xaxis": "x",
         "yaxis": "y"
        },
        {
         "alignmentgroup": "True",
         "bingroup": "x",
         "hovertemplate": "Coughing of Blood=7<br>Air Pollution=%{x}<br>count=%{y}<extra></extra>",
         "legendgroup": "7",
         "marker": {
          "color": "#FF6692",
          "pattern": {
           "shape": ""
          }
         },
         "name": "7",
         "nbinsx": 10,
         "offsetgroup": "7",
         "orientation": "v",
         "showlegend": true,
         "texttemplate": "%{value}",
         "type": "histogram",
         "x": [
          6,
          6,
          6,
          6,
          6,
          6,
          1,
          1,
          1,
          6,
          6,
          6,
          6,
          6,
          6,
          6,
          6,
          7,
          6,
          6,
          6,
          6,
          6,
          6,
          6,
          6,
          6,
          1,
          1,
          1,
          1,
          6,
          6,
          6,
          6,
          6,
          6,
          6,
          7,
          6,
          6,
          6,
          6,
          6,
          6,
          6,
          6,
          1,
          1,
          1,
          6,
          6,
          6,
          6,
          6,
          6,
          6,
          7,
          6,
          6,
          6,
          6,
          6,
          6,
          6,
          6,
          1,
          1,
          1,
          6,
          6,
          6,
          6,
          6,
          6,
          6,
          7,
          6,
          6,
          6,
          6,
          6,
          6,
          6,
          6,
          6,
          1,
          1,
          1,
          1,
          6,
          6,
          6,
          6,
          6,
          6,
          6,
          7,
          6,
          6,
          6,
          6,
          6,
          6,
          6,
          6,
          6,
          1,
          1,
          1,
          1,
          6,
          6,
          6,
          6,
          6,
          6,
          6,
          7,
          6,
          6,
          6,
          6,
          6,
          6,
          6,
          6,
          1,
          6,
          1,
          6,
          1,
          6,
          6,
          6,
          6,
          6,
          6,
          6,
          6,
          7,
          6,
          6,
          6,
          6,
          6,
          6,
          6,
          6,
          6,
          1,
          6,
          6,
          6,
          1,
          1,
          6,
          6,
          6,
          6,
          6,
          6,
          6,
          7,
          6,
          6,
          6,
          7,
          6,
          6,
          6,
          6,
          6,
          6,
          1,
          6,
          6,
          1,
          1,
          6,
          6,
          6,
          6,
          7,
          6,
          6,
          6
         ],
         "xaxis": "x",
         "yaxis": "y"
        },
        {
         "alignmentgroup": "True",
         "bingroup": "x",
         "hovertemplate": "Coughing of Blood=6<br>Air Pollution=%{x}<br>count=%{y}<extra></extra>",
         "legendgroup": "6",
         "marker": {
          "color": "#B6E880",
          "pattern": {
           "shape": ""
          }
         },
         "name": "6",
         "nbinsx": 10,
         "offsetgroup": "6",
         "orientation": "v",
         "showlegend": true,
         "texttemplate": "%{value}",
         "type": "histogram",
         "x": [
          4,
          6,
          2,
          6,
          3,
          6,
          4,
          6,
          2,
          2,
          3,
          6,
          4,
          6,
          2,
          3,
          6,
          4,
          6,
          2,
          3,
          3,
          6,
          4,
          6,
          2,
          3,
          6,
          4,
          6,
          2,
          3,
          6,
          4,
          4,
          6,
          2,
          3,
          6,
          6,
          4,
          6,
          2,
          3,
          6,
          4,
          6,
          2,
          3
         ],
         "xaxis": "x",
         "yaxis": "y"
        },
        {
         "alignmentgroup": "True",
         "bingroup": "x",
         "hovertemplate": "Coughing of Blood=2<br>Air Pollution=%{x}<br>count=%{y}<extra></extra>",
         "legendgroup": "2",
         "marker": {
          "color": "#FF97FF",
          "pattern": {
           "shape": ""
          }
         },
         "name": "2",
         "nbinsx": 10,
         "offsetgroup": "2",
         "orientation": "v",
         "showlegend": true,
         "texttemplate": "%{value}",
         "type": "histogram",
         "x": [
          3,
          1,
          3,
          1,
          1,
          2,
          2,
          3,
          2,
          3,
          1,
          1,
          3,
          1,
          1,
          3,
          1,
          1,
          2,
          2,
          3,
          2,
          3,
          1,
          1,
          3,
          1,
          3,
          1,
          3,
          1,
          1,
          2,
          2,
          3,
          1,
          2,
          3,
          2,
          1,
          1,
          2,
          3,
          3,
          1,
          3,
          1,
          1,
          2,
          2,
          3,
          2,
          3,
          1,
          1,
          2,
          3,
          3,
          1,
          3,
          1,
          1,
          2,
          2,
          3,
          2,
          3,
          1,
          1,
          1,
          3,
          1,
          3,
          1,
          1,
          2,
          2,
          3,
          2,
          3,
          1,
          1,
          1,
          3,
          1,
          3,
          1,
          1,
          2,
          2,
          3,
          2,
          3,
          1,
          1,
          3,
          3,
          1,
          3,
          1,
          1,
          2,
          2,
          3,
          2,
          3,
          1,
          1,
          3,
          1,
          3,
          1,
          1,
          2,
          2,
          3,
          2,
          3,
          1,
          1,
          3
         ],
         "xaxis": "x",
         "yaxis": "y"
        }
       ],
       "layout": {
        "barmode": "relative",
        "legend": {
         "title": {
          "text": "Coughing of Blood"
         },
         "tracegroupgap": 0
        },
        "template": {
         "data": {
          "bar": [
           {
            "error_x": {
             "color": "#2a3f5f"
            },
            "error_y": {
             "color": "#2a3f5f"
            },
            "marker": {
             "line": {
              "color": "#E5ECF6",
              "width": 0.5
             },
             "pattern": {
              "fillmode": "overlay",
              "size": 10,
              "solidity": 0.2
             }
            },
            "type": "bar"
           }
          ],
          "barpolar": [
           {
            "marker": {
             "line": {
              "color": "#E5ECF6",
              "width": 0.5
             },
             "pattern": {
              "fillmode": "overlay",
              "size": 10,
              "solidity": 0.2
             }
            },
            "type": "barpolar"
           }
          ],
          "carpet": [
           {
            "aaxis": {
             "endlinecolor": "#2a3f5f",
             "gridcolor": "white",
             "linecolor": "white",
             "minorgridcolor": "white",
             "startlinecolor": "#2a3f5f"
            },
            "baxis": {
             "endlinecolor": "#2a3f5f",
             "gridcolor": "white",
             "linecolor": "white",
             "minorgridcolor": "white",
             "startlinecolor": "#2a3f5f"
            },
            "type": "carpet"
           }
          ],
          "choropleth": [
           {
            "colorbar": {
             "outlinewidth": 0,
             "ticks": ""
            },
            "type": "choropleth"
           }
          ],
          "contour": [
           {
            "colorbar": {
             "outlinewidth": 0,
             "ticks": ""
            },
            "colorscale": [
             [
              0,
              "#0d0887"
             ],
             [
              0.1111111111111111,
              "#46039f"
             ],
             [
              0.2222222222222222,
              "#7201a8"
             ],
             [
              0.3333333333333333,
              "#9c179e"
             ],
             [
              0.4444444444444444,
              "#bd3786"
             ],
             [
              0.5555555555555556,
              "#d8576b"
             ],
             [
              0.6666666666666666,
              "#ed7953"
             ],
             [
              0.7777777777777778,
              "#fb9f3a"
             ],
             [
              0.8888888888888888,
              "#fdca26"
             ],
             [
              1,
              "#f0f921"
             ]
            ],
            "type": "contour"
           }
          ],
          "contourcarpet": [
           {
            "colorbar": {
             "outlinewidth": 0,
             "ticks": ""
            },
            "type": "contourcarpet"
           }
          ],
          "heatmap": [
           {
            "colorbar": {
             "outlinewidth": 0,
             "ticks": ""
            },
            "colorscale": [
             [
              0,
              "#0d0887"
             ],
             [
              0.1111111111111111,
              "#46039f"
             ],
             [
              0.2222222222222222,
              "#7201a8"
             ],
             [
              0.3333333333333333,
              "#9c179e"
             ],
             [
              0.4444444444444444,
              "#bd3786"
             ],
             [
              0.5555555555555556,
              "#d8576b"
             ],
             [
              0.6666666666666666,
              "#ed7953"
             ],
             [
              0.7777777777777778,
              "#fb9f3a"
             ],
             [
              0.8888888888888888,
              "#fdca26"
             ],
             [
              1,
              "#f0f921"
             ]
            ],
            "type": "heatmap"
           }
          ],
          "heatmapgl": [
           {
            "colorbar": {
             "outlinewidth": 0,
             "ticks": ""
            },
            "colorscale": [
             [
              0,
              "#0d0887"
             ],
             [
              0.1111111111111111,
              "#46039f"
             ],
             [
              0.2222222222222222,
              "#7201a8"
             ],
             [
              0.3333333333333333,
              "#9c179e"
             ],
             [
              0.4444444444444444,
              "#bd3786"
             ],
             [
              0.5555555555555556,
              "#d8576b"
             ],
             [
              0.6666666666666666,
              "#ed7953"
             ],
             [
              0.7777777777777778,
              "#fb9f3a"
             ],
             [
              0.8888888888888888,
              "#fdca26"
             ],
             [
              1,
              "#f0f921"
             ]
            ],
            "type": "heatmapgl"
           }
          ],
          "histogram": [
           {
            "marker": {
             "pattern": {
              "fillmode": "overlay",
              "size": 10,
              "solidity": 0.2
             }
            },
            "type": "histogram"
           }
          ],
          "histogram2d": [
           {
            "colorbar": {
             "outlinewidth": 0,
             "ticks": ""
            },
            "colorscale": [
             [
              0,
              "#0d0887"
             ],
             [
              0.1111111111111111,
              "#46039f"
             ],
             [
              0.2222222222222222,
              "#7201a8"
             ],
             [
              0.3333333333333333,
              "#9c179e"
             ],
             [
              0.4444444444444444,
              "#bd3786"
             ],
             [
              0.5555555555555556,
              "#d8576b"
             ],
             [
              0.6666666666666666,
              "#ed7953"
             ],
             [
              0.7777777777777778,
              "#fb9f3a"
             ],
             [
              0.8888888888888888,
              "#fdca26"
             ],
             [
              1,
              "#f0f921"
             ]
            ],
            "type": "histogram2d"
           }
          ],
          "histogram2dcontour": [
           {
            "colorbar": {
             "outlinewidth": 0,
             "ticks": ""
            },
            "colorscale": [
             [
              0,
              "#0d0887"
             ],
             [
              0.1111111111111111,
              "#46039f"
             ],
             [
              0.2222222222222222,
              "#7201a8"
             ],
             [
              0.3333333333333333,
              "#9c179e"
             ],
             [
              0.4444444444444444,
              "#bd3786"
             ],
             [
              0.5555555555555556,
              "#d8576b"
             ],
             [
              0.6666666666666666,
              "#ed7953"
             ],
             [
              0.7777777777777778,
              "#fb9f3a"
             ],
             [
              0.8888888888888888,
              "#fdca26"
             ],
             [
              1,
              "#f0f921"
             ]
            ],
            "type": "histogram2dcontour"
           }
          ],
          "mesh3d": [
           {
            "colorbar": {
             "outlinewidth": 0,
             "ticks": ""
            },
            "type": "mesh3d"
           }
          ],
          "parcoords": [
           {
            "line": {
             "colorbar": {
              "outlinewidth": 0,
              "ticks": ""
             }
            },
            "type": "parcoords"
           }
          ],
          "pie": [
           {
            "automargin": true,
            "type": "pie"
           }
          ],
          "scatter": [
           {
            "fillpattern": {
             "fillmode": "overlay",
             "size": 10,
             "solidity": 0.2
            },
            "type": "scatter"
           }
          ],
          "scatter3d": [
           {
            "line": {
             "colorbar": {
              "outlinewidth": 0,
              "ticks": ""
             }
            },
            "marker": {
             "colorbar": {
              "outlinewidth": 0,
              "ticks": ""
             }
            },
            "type": "scatter3d"
           }
          ],
          "scattercarpet": [
           {
            "marker": {
             "colorbar": {
              "outlinewidth": 0,
              "ticks": ""
             }
            },
            "type": "scattercarpet"
           }
          ],
          "scattergeo": [
           {
            "marker": {
             "colorbar": {
              "outlinewidth": 0,
              "ticks": ""
             }
            },
            "type": "scattergeo"
           }
          ],
          "scattergl": [
           {
            "marker": {
             "colorbar": {
              "outlinewidth": 0,
              "ticks": ""
             }
            },
            "type": "scattergl"
           }
          ],
          "scattermapbox": [
           {
            "marker": {
             "colorbar": {
              "outlinewidth": 0,
              "ticks": ""
             }
            },
            "type": "scattermapbox"
           }
          ],
          "scatterpolar": [
           {
            "marker": {
             "colorbar": {
              "outlinewidth": 0,
              "ticks": ""
             }
            },
            "type": "scatterpolar"
           }
          ],
          "scatterpolargl": [
           {
            "marker": {
             "colorbar": {
              "outlinewidth": 0,
              "ticks": ""
             }
            },
            "type": "scatterpolargl"
           }
          ],
          "scatterternary": [
           {
            "marker": {
             "colorbar": {
              "outlinewidth": 0,
              "ticks": ""
             }
            },
            "type": "scatterternary"
           }
          ],
          "surface": [
           {
            "colorbar": {
             "outlinewidth": 0,
             "ticks": ""
            },
            "colorscale": [
             [
              0,
              "#0d0887"
             ],
             [
              0.1111111111111111,
              "#46039f"
             ],
             [
              0.2222222222222222,
              "#7201a8"
             ],
             [
              0.3333333333333333,
              "#9c179e"
             ],
             [
              0.4444444444444444,
              "#bd3786"
             ],
             [
              0.5555555555555556,
              "#d8576b"
             ],
             [
              0.6666666666666666,
              "#ed7953"
             ],
             [
              0.7777777777777778,
              "#fb9f3a"
             ],
             [
              0.8888888888888888,
              "#fdca26"
             ],
             [
              1,
              "#f0f921"
             ]
            ],
            "type": "surface"
           }
          ],
          "table": [
           {
            "cells": {
             "fill": {
              "color": "#EBF0F8"
             },
             "line": {
              "color": "white"
             }
            },
            "header": {
             "fill": {
              "color": "#C8D4E3"
             },
             "line": {
              "color": "white"
             }
            },
            "type": "table"
           }
          ]
         },
         "layout": {
          "annotationdefaults": {
           "arrowcolor": "#2a3f5f",
           "arrowhead": 0,
           "arrowwidth": 1
          },
          "autotypenumbers": "strict",
          "coloraxis": {
           "colorbar": {
            "outlinewidth": 0,
            "ticks": ""
           }
          },
          "colorscale": {
           "diverging": [
            [
             0,
             "#8e0152"
            ],
            [
             0.1,
             "#c51b7d"
            ],
            [
             0.2,
             "#de77ae"
            ],
            [
             0.3,
             "#f1b6da"
            ],
            [
             0.4,
             "#fde0ef"
            ],
            [
             0.5,
             "#f7f7f7"
            ],
            [
             0.6,
             "#e6f5d0"
            ],
            [
             0.7,
             "#b8e186"
            ],
            [
             0.8,
             "#7fbc41"
            ],
            [
             0.9,
             "#4d9221"
            ],
            [
             1,
             "#276419"
            ]
           ],
           "sequential": [
            [
             0,
             "#0d0887"
            ],
            [
             0.1111111111111111,
             "#46039f"
            ],
            [
             0.2222222222222222,
             "#7201a8"
            ],
            [
             0.3333333333333333,
             "#9c179e"
            ],
            [
             0.4444444444444444,
             "#bd3786"
            ],
            [
             0.5555555555555556,
             "#d8576b"
            ],
            [
             0.6666666666666666,
             "#ed7953"
            ],
            [
             0.7777777777777778,
             "#fb9f3a"
            ],
            [
             0.8888888888888888,
             "#fdca26"
            ],
            [
             1,
             "#f0f921"
            ]
           ],
           "sequentialminus": [
            [
             0,
             "#0d0887"
            ],
            [
             0.1111111111111111,
             "#46039f"
            ],
            [
             0.2222222222222222,
             "#7201a8"
            ],
            [
             0.3333333333333333,
             "#9c179e"
            ],
            [
             0.4444444444444444,
             "#bd3786"
            ],
            [
             0.5555555555555556,
             "#d8576b"
            ],
            [
             0.6666666666666666,
             "#ed7953"
            ],
            [
             0.7777777777777778,
             "#fb9f3a"
            ],
            [
             0.8888888888888888,
             "#fdca26"
            ],
            [
             1,
             "#f0f921"
            ]
           ]
          },
          "colorway": [
           "#636efa",
           "#EF553B",
           "#00cc96",
           "#ab63fa",
           "#FFA15A",
           "#19d3f3",
           "#FF6692",
           "#B6E880",
           "#FF97FF",
           "#FECB52"
          ],
          "font": {
           "color": "#2a3f5f"
          },
          "geo": {
           "bgcolor": "white",
           "lakecolor": "white",
           "landcolor": "#E5ECF6",
           "showlakes": true,
           "showland": true,
           "subunitcolor": "white"
          },
          "hoverlabel": {
           "align": "left"
          },
          "hovermode": "closest",
          "mapbox": {
           "style": "light"
          },
          "paper_bgcolor": "white",
          "plot_bgcolor": "#E5ECF6",
          "polar": {
           "angularaxis": {
            "gridcolor": "white",
            "linecolor": "white",
            "ticks": ""
           },
           "bgcolor": "#E5ECF6",
           "radialaxis": {
            "gridcolor": "white",
            "linecolor": "white",
            "ticks": ""
           }
          },
          "scene": {
           "xaxis": {
            "backgroundcolor": "#E5ECF6",
            "gridcolor": "white",
            "gridwidth": 2,
            "linecolor": "white",
            "showbackground": true,
            "ticks": "",
            "zerolinecolor": "white"
           },
           "yaxis": {
            "backgroundcolor": "#E5ECF6",
            "gridcolor": "white",
            "gridwidth": 2,
            "linecolor": "white",
            "showbackground": true,
            "ticks": "",
            "zerolinecolor": "white"
           },
           "zaxis": {
            "backgroundcolor": "#E5ECF6",
            "gridcolor": "white",
            "gridwidth": 2,
            "linecolor": "white",
            "showbackground": true,
            "ticks": "",
            "zerolinecolor": "white"
           }
          },
          "shapedefaults": {
           "line": {
            "color": "#2a3f5f"
           }
          },
          "ternary": {
           "aaxis": {
            "gridcolor": "white",
            "linecolor": "white",
            "ticks": ""
           },
           "baxis": {
            "gridcolor": "white",
            "linecolor": "white",
            "ticks": ""
           },
           "bgcolor": "#E5ECF6",
           "caxis": {
            "gridcolor": "white",
            "linecolor": "white",
            "ticks": ""
           }
          },
          "title": {
           "x": 0.05
          },
          "xaxis": {
           "automargin": true,
           "gridcolor": "white",
           "linecolor": "white",
           "ticks": "",
           "title": {
            "standoff": 15
           },
           "zerolinecolor": "white",
           "zerolinewidth": 2
          },
          "yaxis": {
           "automargin": true,
           "gridcolor": "white",
           "linecolor": "white",
           "ticks": "",
           "title": {
            "standoff": 15
           },
           "zerolinecolor": "white",
           "zerolinewidth": 2
          }
         }
        },
        "title": {
         "text": "Distribution of ages"
        },
        "xaxis": {
         "anchor": "y",
         "domain": [
          0,
          1
         ],
         "title": {
          "text": "Air Pollution"
         }
        },
        "yaxis": {
         "anchor": "x",
         "domain": [
          0,
          1
         ],
         "title": {
          "text": "count"
         }
        }
       }
      }
     },
     "metadata": {},
     "output_type": "display_data"
    }
   ],
   "source": [
    "# Air Pollution and Coughhing of Blood\n",
    "fig = px.histogram(lung, x = 'Air Pollution', color = 'Coughing of Blood', nbins = 10, title = 'Distribution of Air Pollution', text_auto = True)\n",
    "fig.show()"
   ]
  },
  {
   "cell_type": "code",
   "execution_count": 59,
   "metadata": {},
   "outputs": [
    {
     "data": {
      "application/vnd.plotly.v1+json": {
       "config": {
        "plotlyServerURL": "https://plot.ly"
       },
       "data": [
        {
         "alignmentgroup": "True",
         "bingroup": "x",
         "hovertemplate": "Shortness of Breath=2<br>Air Pollution=%{x}<br>count=%{y}<extra></extra>",
         "legendgroup": "2",
         "marker": {
          "color": "#636efa",
          "pattern": {
           "shape": ""
          }
         },
         "name": "2",
         "nbinsx": 10,
         "offsetgroup": "2",
         "orientation": "v",
         "showlegend": true,
         "texttemplate": "%{value}",
         "type": "histogram",
         "x": [
          2,
          2,
          3,
          6,
          4,
          2,
          2,
          2,
          3,
          2,
          3,
          1,
          3,
          3,
          3,
          1,
          2,
          1,
          2,
          2,
          1,
          2,
          1,
          6,
          6,
          2,
          6,
          3,
          2,
          3,
          6,
          4,
          2,
          2,
          2,
          3,
          3,
          1,
          3,
          3,
          3,
          1,
          2,
          2,
          1,
          2,
          2,
          3,
          1,
          2,
          1,
          6,
          6,
          6,
          2,
          3,
          6,
          4,
          2,
          3,
          2,
          2,
          3,
          3,
          1,
          3,
          3,
          3,
          1,
          2,
          1,
          2,
          2,
          1,
          2,
          1,
          6,
          1,
          6,
          6,
          2,
          3,
          6,
          4,
          2,
          2,
          2,
          3,
          3,
          3,
          1,
          3,
          3,
          3,
          1,
          2,
          1,
          2,
          2,
          1,
          2,
          1,
          6,
          6,
          6,
          6,
          3,
          2,
          3,
          6,
          4,
          2,
          3,
          2,
          2,
          3,
          1,
          3,
          1,
          3,
          2,
          3,
          3,
          1,
          2,
          1,
          2,
          2,
          1,
          2,
          1,
          6,
          6,
          1,
          6,
          2,
          3,
          6,
          4,
          2,
          2,
          2,
          2,
          3,
          3,
          2,
          1,
          3,
          3,
          3,
          1,
          2,
          1,
          2,
          2,
          1,
          2,
          1,
          6,
          1,
          6,
          6,
          4,
          2,
          3,
          6,
          4,
          2,
          2,
          2,
          2,
          3,
          1,
          3,
          1,
          3,
          6,
          3,
          3,
          1,
          2,
          1,
          2,
          2,
          1,
          2,
          1,
          6,
          6,
          6,
          2,
          3,
          6,
          4,
          2,
          2,
          2,
          3,
          3,
          6,
          1,
          3,
          3,
          3,
          1,
          2,
          1,
          2,
          2,
          1,
          2,
          1,
          6,
          6,
          6,
          2,
          3,
          6,
          4,
          2,
          2,
          2,
          3,
          6,
          3,
          1,
          3,
          3,
          3,
          1,
          2,
          1,
          2,
          2,
          1,
          2,
          1,
          6,
          2,
          3,
          1,
          6,
          6
         ],
         "xaxis": "x",
         "yaxis": "y"
        },
        {
         "alignmentgroup": "True",
         "bingroup": "x",
         "hovertemplate": "Shortness of Breath=7<br>Air Pollution=%{x}<br>count=%{y}<extra></extra>",
         "legendgroup": "7",
         "marker": {
          "color": "#EF553B",
          "pattern": {
           "shape": ""
          }
         },
         "name": "7",
         "nbinsx": 10,
         "offsetgroup": "7",
         "orientation": "v",
         "showlegend": true,
         "texttemplate": "%{value}",
         "type": "histogram",
         "x": [
          3,
          3,
          6,
          6,
          1,
          2,
          1,
          1,
          1,
          6,
          6,
          3,
          6,
          1,
          1,
          2,
          1,
          2,
          1,
          1,
          6,
          6,
          1,
          3,
          6,
          1,
          2,
          1,
          1,
          1,
          6,
          6,
          3,
          6,
          1,
          2,
          1,
          1,
          1,
          6,
          6,
          3,
          6,
          1,
          2,
          1,
          1,
          1,
          1,
          6,
          6,
          3,
          6,
          1,
          2,
          1,
          1,
          1,
          1,
          6,
          6,
          3,
          6,
          1,
          2,
          1,
          1,
          1,
          6,
          6,
          3,
          6,
          1,
          2,
          6,
          1,
          1,
          1,
          6,
          6,
          3,
          6,
          6,
          1,
          2,
          1,
          1,
          1,
          6
         ],
         "xaxis": "x",
         "yaxis": "y"
        },
        {
         "alignmentgroup": "True",
         "bingroup": "x",
         "hovertemplate": "Shortness of Breath=9<br>Air Pollution=%{x}<br>count=%{y}<extra></extra>",
         "legendgroup": "9",
         "marker": {
          "color": "#00cc96",
          "pattern": {
           "shape": ""
          }
         },
         "name": "9",
         "nbinsx": 10,
         "offsetgroup": "9",
         "orientation": "v",
         "showlegend": true,
         "texttemplate": "%{value}",
         "type": "histogram",
         "x": [
          4,
          4,
          4,
          4,
          4,
          4,
          6,
          4,
          6,
          4,
          4,
          4,
          4,
          6,
          4,
          6,
          4,
          4,
          4,
          4,
          6,
          4,
          6,
          4,
          4,
          4,
          4,
          6,
          4,
          6,
          4,
          4,
          4,
          4,
          6,
          4,
          6,
          4,
          4,
          4,
          4,
          6,
          4,
          6,
          4,
          4,
          4,
          4,
          4,
          6,
          4,
          6,
          4,
          4,
          4,
          6,
          4,
          4,
          6,
          4,
          6,
          4,
          4,
          4,
          6,
          4,
          4,
          6,
          4,
          6
         ],
         "xaxis": "x",
         "yaxis": "y"
        },
        {
         "alignmentgroup": "True",
         "bingroup": "x",
         "hovertemplate": "Shortness of Breath=3<br>Air Pollution=%{x}<br>count=%{y}<extra></extra>",
         "legendgroup": "3",
         "marker": {
          "color": "#ab63fa",
          "pattern": {
           "shape": ""
          }
         },
         "name": "3",
         "nbinsx": 10,
         "offsetgroup": "3",
         "orientation": "v",
         "showlegend": true,
         "texttemplate": "%{value}",
         "type": "histogram",
         "x": [
          7,
          4,
          6,
          3,
          6,
          3,
          2,
          2,
          1,
          3,
          2,
          2,
          2,
          6,
          7,
          7,
          4,
          3,
          6,
          3,
          2,
          2,
          1,
          3,
          2,
          2,
          2,
          3,
          6,
          7,
          4,
          2,
          7,
          4,
          3,
          6,
          2,
          3,
          2,
          2,
          1,
          3,
          1,
          2,
          2,
          2,
          6,
          7,
          3,
          7,
          4,
          3,
          6,
          3,
          2,
          2,
          1,
          3,
          2,
          2,
          2,
          2,
          6,
          2,
          7,
          7,
          4,
          2,
          3,
          6,
          3,
          2,
          2,
          1,
          3,
          2,
          2,
          2,
          6,
          7,
          7,
          4,
          3,
          6,
          3,
          2,
          2,
          1,
          3,
          2,
          2,
          2,
          6,
          7,
          7,
          4,
          3,
          6,
          3,
          2,
          2,
          1,
          3,
          2,
          2,
          2,
          6,
          7,
          3,
          7,
          4,
          3,
          6,
          6,
          3,
          2,
          2,
          1,
          3,
          2,
          2,
          2,
          6,
          7,
          7,
          4,
          7,
          3,
          6,
          3,
          2,
          2,
          1,
          3,
          2,
          2,
          2,
          3,
          7,
          7
         ],
         "xaxis": "x",
         "yaxis": "y"
        },
        {
         "alignmentgroup": "True",
         "bingroup": "x",
         "hovertemplate": "Shortness of Breath=4<br>Air Pollution=%{x}<br>count=%{y}<extra></extra>",
         "legendgroup": "4",
         "marker": {
          "color": "#FFA15A",
          "pattern": {
           "shape": ""
          }
         },
         "name": "4",
         "nbinsx": 10,
         "offsetgroup": "4",
         "orientation": "v",
         "showlegend": true,
         "texttemplate": "%{value}",
         "type": "histogram",
         "x": [
          6,
          2,
          6,
          2,
          4,
          6,
          6,
          6,
          8,
          6,
          8,
          2,
          6,
          2,
          2,
          4,
          6,
          6,
          8,
          6,
          8,
          2,
          6,
          2,
          4,
          6,
          6,
          8,
          6,
          2,
          8,
          2,
          6,
          4,
          2,
          4,
          6,
          6,
          8,
          6,
          8,
          2,
          6,
          2,
          4,
          6,
          6,
          8,
          6,
          8,
          2,
          6,
          2,
          4,
          6,
          6,
          8,
          6,
          8,
          2,
          6,
          2,
          4,
          6,
          6,
          8,
          6,
          6,
          8,
          2,
          6,
          2,
          4,
          6,
          6,
          6,
          8,
          8,
          6,
          8,
          2,
          6,
          2,
          4,
          6,
          8,
          6,
          6,
          8,
          6
         ],
         "xaxis": "x",
         "yaxis": "y"
        },
        {
         "alignmentgroup": "True",
         "bingroup": "x",
         "hovertemplate": "Shortness of Breath=5<br>Air Pollution=%{x}<br>count=%{y}<extra></extra>",
         "legendgroup": "5",
         "marker": {
          "color": "#19d3f3",
          "pattern": {
           "shape": ""
          }
         },
         "name": "5",
         "nbinsx": 10,
         "offsetgroup": "5",
         "orientation": "v",
         "showlegend": true,
         "texttemplate": "%{value}",
         "type": "histogram",
         "x": [
          6,
          6,
          6,
          6,
          2,
          6,
          6,
          6,
          6,
          6,
          6,
          6,
          6,
          6,
          2,
          6,
          6,
          6,
          6,
          6,
          6,
          6,
          6,
          2,
          6,
          6,
          6,
          6,
          6,
          6,
          6,
          6,
          2,
          2,
          6,
          6,
          6,
          6,
          6,
          6,
          6,
          6,
          2,
          6,
          6,
          6,
          6,
          6,
          6,
          6,
          6,
          6,
          2,
          6,
          6,
          6,
          6,
          6,
          6,
          6,
          6,
          2,
          6,
          6,
          6,
          6,
          6,
          6,
          6,
          6,
          6,
          6,
          6,
          2,
          6,
          6,
          6,
          6,
          6,
          6,
          6,
          6,
          6,
          6,
          2,
          6,
          6
         ],
         "xaxis": "x",
         "yaxis": "y"
        },
        {
         "alignmentgroup": "True",
         "bingroup": "x",
         "hovertemplate": "Shortness of Breath=6<br>Air Pollution=%{x}<br>count=%{y}<extra></extra>",
         "legendgroup": "6",
         "marker": {
          "color": "#FF6692",
          "pattern": {
           "shape": ""
          }
         },
         "name": "6",
         "nbinsx": 10,
         "offsetgroup": "6",
         "orientation": "v",
         "showlegend": true,
         "texttemplate": "%{value}",
         "type": "histogram",
         "x": [
          5,
          6,
          6,
          3,
          1,
          6,
          6,
          3,
          1,
          6,
          3,
          6,
          3,
          1,
          6,
          6,
          6,
          3,
          6,
          6,
          6,
          7,
          3,
          5,
          6,
          6,
          3,
          1,
          6,
          1,
          6,
          3,
          1,
          6,
          3,
          6,
          3,
          1,
          6,
          6,
          3,
          6,
          6,
          6,
          7,
          5,
          6,
          6,
          3,
          1,
          6,
          6,
          3,
          1,
          6,
          3,
          6,
          3,
          1,
          6,
          6,
          3,
          6,
          6,
          7,
          5,
          6,
          6,
          3,
          1,
          6,
          6,
          3,
          1,
          6,
          3,
          6,
          3,
          1,
          6,
          6,
          3,
          6,
          6,
          7,
          5,
          6,
          6,
          3,
          1,
          6,
          6,
          6,
          3,
          1,
          3,
          6,
          3,
          6,
          3,
          1,
          1,
          6,
          6,
          3,
          6,
          6,
          7,
          6,
          5,
          6,
          3,
          6,
          3,
          1,
          6,
          6,
          3,
          6,
          3,
          1,
          1,
          6,
          3,
          6,
          3,
          1,
          6,
          6,
          3,
          6,
          6,
          6,
          7,
          6,
          5,
          6,
          3,
          6,
          3,
          1,
          6,
          6,
          6,
          3,
          1,
          6,
          3,
          6,
          3,
          1,
          6,
          6,
          3,
          6,
          6,
          7,
          6,
          5,
          6,
          6,
          3,
          1,
          6,
          6,
          3,
          1,
          6,
          3,
          6,
          3,
          1,
          6,
          6,
          3,
          6,
          6,
          7,
          5,
          7,
          5,
          6,
          6,
          3,
          1,
          6,
          6,
          3,
          1,
          6,
          3,
          6,
          3,
          1,
          6,
          6,
          3,
          6,
          6,
          3,
          7
         ],
         "xaxis": "x",
         "yaxis": "y"
        },
        {
         "alignmentgroup": "True",
         "bingroup": "x",
         "hovertemplate": "Shortness of Breath=1<br>Air Pollution=%{x}<br>count=%{y}<extra></extra>",
         "legendgroup": "1",
         "marker": {
          "color": "#B6E880",
          "pattern": {
           "shape": ""
          }
         },
         "name": "1",
         "nbinsx": 10,
         "offsetgroup": "1",
         "orientation": "v",
         "showlegend": true,
         "texttemplate": "%{value}",
         "type": "histogram",
         "x": [
          4,
          2,
          2,
          1,
          3,
          5,
          2,
          3,
          4,
          2,
          2,
          1,
          3,
          5,
          2,
          3,
          4,
          2,
          2,
          4,
          1,
          3,
          5,
          2,
          3,
          2,
          2,
          1,
          3,
          4,
          2,
          2,
          1,
          3,
          5,
          2,
          3,
          5,
          2,
          3,
          4,
          2,
          2,
          1,
          3,
          5,
          2,
          3,
          4,
          2,
          2,
          1,
          3,
          5,
          2,
          3,
          4,
          2,
          2,
          1,
          3,
          5,
          2,
          3,
          4,
          2,
          2,
          1,
          3,
          5,
          2,
          3,
          4,
          2,
          2,
          1,
          3,
          5,
          2,
          3
         ],
         "xaxis": "x",
         "yaxis": "y"
        }
       ],
       "layout": {
        "barmode": "relative",
        "legend": {
         "title": {
          "text": "Shortness of Breath"
         },
         "tracegroupgap": 0
        },
        "template": {
         "data": {
          "bar": [
           {
            "error_x": {
             "color": "#2a3f5f"
            },
            "error_y": {
             "color": "#2a3f5f"
            },
            "marker": {
             "line": {
              "color": "#E5ECF6",
              "width": 0.5
             },
             "pattern": {
              "fillmode": "overlay",
              "size": 10,
              "solidity": 0.2
             }
            },
            "type": "bar"
           }
          ],
          "barpolar": [
           {
            "marker": {
             "line": {
              "color": "#E5ECF6",
              "width": 0.5
             },
             "pattern": {
              "fillmode": "overlay",
              "size": 10,
              "solidity": 0.2
             }
            },
            "type": "barpolar"
           }
          ],
          "carpet": [
           {
            "aaxis": {
             "endlinecolor": "#2a3f5f",
             "gridcolor": "white",
             "linecolor": "white",
             "minorgridcolor": "white",
             "startlinecolor": "#2a3f5f"
            },
            "baxis": {
             "endlinecolor": "#2a3f5f",
             "gridcolor": "white",
             "linecolor": "white",
             "minorgridcolor": "white",
             "startlinecolor": "#2a3f5f"
            },
            "type": "carpet"
           }
          ],
          "choropleth": [
           {
            "colorbar": {
             "outlinewidth": 0,
             "ticks": ""
            },
            "type": "choropleth"
           }
          ],
          "contour": [
           {
            "colorbar": {
             "outlinewidth": 0,
             "ticks": ""
            },
            "colorscale": [
             [
              0,
              "#0d0887"
             ],
             [
              0.1111111111111111,
              "#46039f"
             ],
             [
              0.2222222222222222,
              "#7201a8"
             ],
             [
              0.3333333333333333,
              "#9c179e"
             ],
             [
              0.4444444444444444,
              "#bd3786"
             ],
             [
              0.5555555555555556,
              "#d8576b"
             ],
             [
              0.6666666666666666,
              "#ed7953"
             ],
             [
              0.7777777777777778,
              "#fb9f3a"
             ],
             [
              0.8888888888888888,
              "#fdca26"
             ],
             [
              1,
              "#f0f921"
             ]
            ],
            "type": "contour"
           }
          ],
          "contourcarpet": [
           {
            "colorbar": {
             "outlinewidth": 0,
             "ticks": ""
            },
            "type": "contourcarpet"
           }
          ],
          "heatmap": [
           {
            "colorbar": {
             "outlinewidth": 0,
             "ticks": ""
            },
            "colorscale": [
             [
              0,
              "#0d0887"
             ],
             [
              0.1111111111111111,
              "#46039f"
             ],
             [
              0.2222222222222222,
              "#7201a8"
             ],
             [
              0.3333333333333333,
              "#9c179e"
             ],
             [
              0.4444444444444444,
              "#bd3786"
             ],
             [
              0.5555555555555556,
              "#d8576b"
             ],
             [
              0.6666666666666666,
              "#ed7953"
             ],
             [
              0.7777777777777778,
              "#fb9f3a"
             ],
             [
              0.8888888888888888,
              "#fdca26"
             ],
             [
              1,
              "#f0f921"
             ]
            ],
            "type": "heatmap"
           }
          ],
          "heatmapgl": [
           {
            "colorbar": {
             "outlinewidth": 0,
             "ticks": ""
            },
            "colorscale": [
             [
              0,
              "#0d0887"
             ],
             [
              0.1111111111111111,
              "#46039f"
             ],
             [
              0.2222222222222222,
              "#7201a8"
             ],
             [
              0.3333333333333333,
              "#9c179e"
             ],
             [
              0.4444444444444444,
              "#bd3786"
             ],
             [
              0.5555555555555556,
              "#d8576b"
             ],
             [
              0.6666666666666666,
              "#ed7953"
             ],
             [
              0.7777777777777778,
              "#fb9f3a"
             ],
             [
              0.8888888888888888,
              "#fdca26"
             ],
             [
              1,
              "#f0f921"
             ]
            ],
            "type": "heatmapgl"
           }
          ],
          "histogram": [
           {
            "marker": {
             "pattern": {
              "fillmode": "overlay",
              "size": 10,
              "solidity": 0.2
             }
            },
            "type": "histogram"
           }
          ],
          "histogram2d": [
           {
            "colorbar": {
             "outlinewidth": 0,
             "ticks": ""
            },
            "colorscale": [
             [
              0,
              "#0d0887"
             ],
             [
              0.1111111111111111,
              "#46039f"
             ],
             [
              0.2222222222222222,
              "#7201a8"
             ],
             [
              0.3333333333333333,
              "#9c179e"
             ],
             [
              0.4444444444444444,
              "#bd3786"
             ],
             [
              0.5555555555555556,
              "#d8576b"
             ],
             [
              0.6666666666666666,
              "#ed7953"
             ],
             [
              0.7777777777777778,
              "#fb9f3a"
             ],
             [
              0.8888888888888888,
              "#fdca26"
             ],
             [
              1,
              "#f0f921"
             ]
            ],
            "type": "histogram2d"
           }
          ],
          "histogram2dcontour": [
           {
            "colorbar": {
             "outlinewidth": 0,
             "ticks": ""
            },
            "colorscale": [
             [
              0,
              "#0d0887"
             ],
             [
              0.1111111111111111,
              "#46039f"
             ],
             [
              0.2222222222222222,
              "#7201a8"
             ],
             [
              0.3333333333333333,
              "#9c179e"
             ],
             [
              0.4444444444444444,
              "#bd3786"
             ],
             [
              0.5555555555555556,
              "#d8576b"
             ],
             [
              0.6666666666666666,
              "#ed7953"
             ],
             [
              0.7777777777777778,
              "#fb9f3a"
             ],
             [
              0.8888888888888888,
              "#fdca26"
             ],
             [
              1,
              "#f0f921"
             ]
            ],
            "type": "histogram2dcontour"
           }
          ],
          "mesh3d": [
           {
            "colorbar": {
             "outlinewidth": 0,
             "ticks": ""
            },
            "type": "mesh3d"
           }
          ],
          "parcoords": [
           {
            "line": {
             "colorbar": {
              "outlinewidth": 0,
              "ticks": ""
             }
            },
            "type": "parcoords"
           }
          ],
          "pie": [
           {
            "automargin": true,
            "type": "pie"
           }
          ],
          "scatter": [
           {
            "fillpattern": {
             "fillmode": "overlay",
             "size": 10,
             "solidity": 0.2
            },
            "type": "scatter"
           }
          ],
          "scatter3d": [
           {
            "line": {
             "colorbar": {
              "outlinewidth": 0,
              "ticks": ""
             }
            },
            "marker": {
             "colorbar": {
              "outlinewidth": 0,
              "ticks": ""
             }
            },
            "type": "scatter3d"
           }
          ],
          "scattercarpet": [
           {
            "marker": {
             "colorbar": {
              "outlinewidth": 0,
              "ticks": ""
             }
            },
            "type": "scattercarpet"
           }
          ],
          "scattergeo": [
           {
            "marker": {
             "colorbar": {
              "outlinewidth": 0,
              "ticks": ""
             }
            },
            "type": "scattergeo"
           }
          ],
          "scattergl": [
           {
            "marker": {
             "colorbar": {
              "outlinewidth": 0,
              "ticks": ""
             }
            },
            "type": "scattergl"
           }
          ],
          "scattermapbox": [
           {
            "marker": {
             "colorbar": {
              "outlinewidth": 0,
              "ticks": ""
             }
            },
            "type": "scattermapbox"
           }
          ],
          "scatterpolar": [
           {
            "marker": {
             "colorbar": {
              "outlinewidth": 0,
              "ticks": ""
             }
            },
            "type": "scatterpolar"
           }
          ],
          "scatterpolargl": [
           {
            "marker": {
             "colorbar": {
              "outlinewidth": 0,
              "ticks": ""
             }
            },
            "type": "scatterpolargl"
           }
          ],
          "scatterternary": [
           {
            "marker": {
             "colorbar": {
              "outlinewidth": 0,
              "ticks": ""
             }
            },
            "type": "scatterternary"
           }
          ],
          "surface": [
           {
            "colorbar": {
             "outlinewidth": 0,
             "ticks": ""
            },
            "colorscale": [
             [
              0,
              "#0d0887"
             ],
             [
              0.1111111111111111,
              "#46039f"
             ],
             [
              0.2222222222222222,
              "#7201a8"
             ],
             [
              0.3333333333333333,
              "#9c179e"
             ],
             [
              0.4444444444444444,
              "#bd3786"
             ],
             [
              0.5555555555555556,
              "#d8576b"
             ],
             [
              0.6666666666666666,
              "#ed7953"
             ],
             [
              0.7777777777777778,
              "#fb9f3a"
             ],
             [
              0.8888888888888888,
              "#fdca26"
             ],
             [
              1,
              "#f0f921"
             ]
            ],
            "type": "surface"
           }
          ],
          "table": [
           {
            "cells": {
             "fill": {
              "color": "#EBF0F8"
             },
             "line": {
              "color": "white"
             }
            },
            "header": {
             "fill": {
              "color": "#C8D4E3"
             },
             "line": {
              "color": "white"
             }
            },
            "type": "table"
           }
          ]
         },
         "layout": {
          "annotationdefaults": {
           "arrowcolor": "#2a3f5f",
           "arrowhead": 0,
           "arrowwidth": 1
          },
          "autotypenumbers": "strict",
          "coloraxis": {
           "colorbar": {
            "outlinewidth": 0,
            "ticks": ""
           }
          },
          "colorscale": {
           "diverging": [
            [
             0,
             "#8e0152"
            ],
            [
             0.1,
             "#c51b7d"
            ],
            [
             0.2,
             "#de77ae"
            ],
            [
             0.3,
             "#f1b6da"
            ],
            [
             0.4,
             "#fde0ef"
            ],
            [
             0.5,
             "#f7f7f7"
            ],
            [
             0.6,
             "#e6f5d0"
            ],
            [
             0.7,
             "#b8e186"
            ],
            [
             0.8,
             "#7fbc41"
            ],
            [
             0.9,
             "#4d9221"
            ],
            [
             1,
             "#276419"
            ]
           ],
           "sequential": [
            [
             0,
             "#0d0887"
            ],
            [
             0.1111111111111111,
             "#46039f"
            ],
            [
             0.2222222222222222,
             "#7201a8"
            ],
            [
             0.3333333333333333,
             "#9c179e"
            ],
            [
             0.4444444444444444,
             "#bd3786"
            ],
            [
             0.5555555555555556,
             "#d8576b"
            ],
            [
             0.6666666666666666,
             "#ed7953"
            ],
            [
             0.7777777777777778,
             "#fb9f3a"
            ],
            [
             0.8888888888888888,
             "#fdca26"
            ],
            [
             1,
             "#f0f921"
            ]
           ],
           "sequentialminus": [
            [
             0,
             "#0d0887"
            ],
            [
             0.1111111111111111,
             "#46039f"
            ],
            [
             0.2222222222222222,
             "#7201a8"
            ],
            [
             0.3333333333333333,
             "#9c179e"
            ],
            [
             0.4444444444444444,
             "#bd3786"
            ],
            [
             0.5555555555555556,
             "#d8576b"
            ],
            [
             0.6666666666666666,
             "#ed7953"
            ],
            [
             0.7777777777777778,
             "#fb9f3a"
            ],
            [
             0.8888888888888888,
             "#fdca26"
            ],
            [
             1,
             "#f0f921"
            ]
           ]
          },
          "colorway": [
           "#636efa",
           "#EF553B",
           "#00cc96",
           "#ab63fa",
           "#FFA15A",
           "#19d3f3",
           "#FF6692",
           "#B6E880",
           "#FF97FF",
           "#FECB52"
          ],
          "font": {
           "color": "#2a3f5f"
          },
          "geo": {
           "bgcolor": "white",
           "lakecolor": "white",
           "landcolor": "#E5ECF6",
           "showlakes": true,
           "showland": true,
           "subunitcolor": "white"
          },
          "hoverlabel": {
           "align": "left"
          },
          "hovermode": "closest",
          "mapbox": {
           "style": "light"
          },
          "paper_bgcolor": "white",
          "plot_bgcolor": "#E5ECF6",
          "polar": {
           "angularaxis": {
            "gridcolor": "white",
            "linecolor": "white",
            "ticks": ""
           },
           "bgcolor": "#E5ECF6",
           "radialaxis": {
            "gridcolor": "white",
            "linecolor": "white",
            "ticks": ""
           }
          },
          "scene": {
           "xaxis": {
            "backgroundcolor": "#E5ECF6",
            "gridcolor": "white",
            "gridwidth": 2,
            "linecolor": "white",
            "showbackground": true,
            "ticks": "",
            "zerolinecolor": "white"
           },
           "yaxis": {
            "backgroundcolor": "#E5ECF6",
            "gridcolor": "white",
            "gridwidth": 2,
            "linecolor": "white",
            "showbackground": true,
            "ticks": "",
            "zerolinecolor": "white"
           },
           "zaxis": {
            "backgroundcolor": "#E5ECF6",
            "gridcolor": "white",
            "gridwidth": 2,
            "linecolor": "white",
            "showbackground": true,
            "ticks": "",
            "zerolinecolor": "white"
           }
          },
          "shapedefaults": {
           "line": {
            "color": "#2a3f5f"
           }
          },
          "ternary": {
           "aaxis": {
            "gridcolor": "white",
            "linecolor": "white",
            "ticks": ""
           },
           "baxis": {
            "gridcolor": "white",
            "linecolor": "white",
            "ticks": ""
           },
           "bgcolor": "#E5ECF6",
           "caxis": {
            "gridcolor": "white",
            "linecolor": "white",
            "ticks": ""
           }
          },
          "title": {
           "x": 0.05
          },
          "xaxis": {
           "automargin": true,
           "gridcolor": "white",
           "linecolor": "white",
           "ticks": "",
           "title": {
            "standoff": 15
           },
           "zerolinecolor": "white",
           "zerolinewidth": 2
          },
          "yaxis": {
           "automargin": true,
           "gridcolor": "white",
           "linecolor": "white",
           "ticks": "",
           "title": {
            "standoff": 15
           },
           "zerolinecolor": "white",
           "zerolinewidth": 2
          }
         }
        },
        "title": {
         "text": "Distribution of Air Pollution"
        },
        "xaxis": {
         "anchor": "y",
         "domain": [
          0,
          1
         ],
         "title": {
          "text": "Air Pollution"
         }
        },
        "yaxis": {
         "anchor": "x",
         "domain": [
          0,
          1
         ],
         "title": {
          "text": "count"
         }
        }
       }
      }
     },
     "metadata": {},
     "output_type": "display_data"
    }
   ],
   "source": [
    "# Air Pollution and Shortness of Breath\n",
    "fig = px.histogram(lung, x = 'Air Pollution', color = 'Shortness of Breath', nbins = 10, title = 'Distribution of Air Pollution', text_auto = True)\n",
    "fig.show()"
   ]
  },
  {
   "cell_type": "code",
   "execution_count": 60,
   "metadata": {},
   "outputs": [
    {
     "data": {
      "application/vnd.plotly.v1+json": {
       "config": {
        "plotlyServerURL": "https://plot.ly"
       },
       "data": [
        {
         "alignmentgroup": "True",
         "bingroup": "x",
         "hovertemplate": "Chest Pain=2<br>Air Pollution=%{x}<br>count=%{y}<extra></extra>",
         "legendgroup": "2",
         "marker": {
          "color": "#636efa",
          "pattern": {
           "shape": ""
          }
         },
         "name": "2",
         "nbinsx": 10,
         "offsetgroup": "2",
         "orientation": "v",
         "showlegend": true,
         "texttemplate": "%{value}",
         "type": "histogram",
         "x": [
          2,
          3,
          2,
          3,
          2,
          1,
          2,
          2,
          3,
          4,
          2,
          2,
          2,
          2,
          2,
          1,
          2,
          2,
          1,
          2,
          2,
          2,
          3,
          1,
          2,
          1,
          2,
          2,
          2,
          3,
          4,
          2,
          2,
          2,
          2,
          2,
          2,
          1,
          2,
          2,
          1,
          2,
          2,
          3,
          2,
          1,
          2,
          2,
          3,
          4,
          2,
          2,
          2,
          2,
          2,
          1,
          2,
          2,
          1,
          2,
          2,
          3,
          3,
          4,
          2,
          1,
          2,
          2,
          2,
          3,
          4,
          2,
          2,
          2,
          2,
          2,
          2,
          1,
          2,
          2,
          1,
          2,
          2,
          2,
          2,
          3,
          2,
          1,
          2,
          2,
          3,
          4,
          2,
          2,
          2,
          2,
          2,
          2,
          1,
          2,
          2,
          1,
          2,
          1,
          2,
          2,
          3,
          2,
          1,
          2,
          2,
          2,
          3,
          4,
          2,
          2,
          2,
          2,
          2,
          1,
          2,
          2,
          1,
          1,
          2,
          2,
          2,
          3,
          2,
          1,
          2,
          2,
          3,
          4,
          2,
          2,
          2,
          2,
          2,
          1,
          2,
          2,
          1,
          2,
          2,
          3,
          2,
          1,
          2,
          2,
          3,
          4,
          2,
          2,
          2,
          2,
          2,
          1,
          2,
          2,
          1,
          2,
          2,
          3,
          2,
          1,
          2,
          2,
          3,
          4,
          2,
          2,
          2,
          2,
          2,
          1,
          2,
          2,
          1,
          2,
          2
         ],
         "xaxis": "x",
         "yaxis": "y"
        },
        {
         "alignmentgroup": "True",
         "bingroup": "x",
         "hovertemplate": "Chest Pain=4<br>Air Pollution=%{x}<br>count=%{y}<extra></extra>",
         "legendgroup": "4",
         "marker": {
          "color": "#EF553B",
          "pattern": {
           "shape": ""
          }
         },
         "name": "4",
         "nbinsx": 10,
         "offsetgroup": "4",
         "orientation": "v",
         "showlegend": true,
         "texttemplate": "%{value}",
         "type": "histogram",
         "x": [
          4,
          4,
          2,
          3,
          4,
          6,
          3,
          2,
          4,
          3,
          6,
          6,
          6,
          6,
          6,
          6,
          6,
          4,
          4,
          6,
          4,
          6,
          4,
          2,
          3,
          4,
          6,
          3,
          2,
          3,
          6,
          6,
          6,
          6,
          6,
          6,
          3,
          4,
          4,
          6,
          4,
          6,
          4,
          2,
          3,
          4,
          6,
          2,
          3,
          2,
          3,
          6,
          6,
          6,
          6,
          6,
          6,
          4,
          4,
          6,
          4,
          6,
          2,
          4,
          2,
          3,
          4,
          6,
          3,
          2,
          3,
          6,
          6,
          6,
          6,
          6,
          6,
          4,
          4,
          6,
          4,
          6,
          4,
          2,
          3,
          4,
          3,
          6,
          3,
          2,
          6,
          3,
          6,
          6,
          6,
          6,
          6,
          6,
          4,
          4,
          6,
          4,
          6,
          6,
          4,
          2,
          3,
          4,
          6,
          6,
          3,
          2,
          3,
          6,
          6,
          6,
          6,
          6,
          6,
          4,
          4,
          6,
          6,
          4,
          6,
          6,
          4,
          2,
          3,
          4,
          6,
          3,
          2,
          6,
          3,
          6,
          6,
          6,
          6,
          6,
          6,
          4,
          4,
          4,
          6,
          4,
          6,
          3,
          4,
          2,
          3,
          4,
          6,
          3,
          2,
          3,
          6,
          4,
          6,
          6,
          6,
          6,
          6,
          6,
          4,
          4,
          6,
          4,
          6,
          4,
          2,
          3,
          4,
          6,
          3,
          2,
          4,
          3,
          6,
          6,
          6,
          6,
          6,
          6,
          6,
          3,
          4,
          4,
          6,
          4,
          6
         ],
         "xaxis": "x",
         "yaxis": "y"
        },
        {
         "alignmentgroup": "True",
         "bingroup": "x",
         "hovertemplate": "Chest Pain=7<br>Air Pollution=%{x}<br>count=%{y}<extra></extra>",
         "legendgroup": "7",
         "marker": {
          "color": "#00cc96",
          "pattern": {
           "shape": ""
          }
         },
         "name": "7",
         "nbinsx": 10,
         "offsetgroup": "7",
         "orientation": "v",
         "showlegend": true,
         "texttemplate": "%{value}",
         "type": "histogram",
         "x": [
          7,
          6,
          6,
          6,
          6,
          6,
          6,
          6,
          6,
          6,
          6,
          2,
          6,
          2,
          1,
          6,
          6,
          6,
          6,
          6,
          6,
          6,
          6,
          6,
          6,
          6,
          6,
          8,
          7,
          7,
          6,
          6,
          6,
          6,
          8,
          7,
          6,
          6,
          6,
          6,
          6,
          6,
          6,
          6,
          2,
          2,
          6,
          2,
          1,
          6,
          6,
          6,
          6,
          6,
          6,
          6,
          6,
          6,
          6,
          6,
          8,
          7,
          7,
          6,
          6,
          6,
          6,
          2,
          8,
          7,
          6,
          6,
          1,
          6,
          6,
          6,
          6,
          6,
          2,
          6,
          2,
          1,
          6,
          6,
          6,
          6,
          6,
          6,
          6,
          6,
          6,
          6,
          8,
          7,
          7,
          6,
          6,
          6,
          6,
          8,
          7,
          6,
          6,
          6,
          6,
          6,
          6,
          6,
          2,
          6,
          2,
          1,
          6,
          6,
          6,
          6,
          6,
          6,
          6,
          6,
          6,
          6,
          8,
          7,
          7,
          6,
          6,
          6,
          6,
          6,
          8,
          7,
          6,
          6,
          6,
          6,
          6,
          6,
          6,
          2,
          6,
          2,
          1,
          6,
          6,
          6,
          6,
          6,
          6,
          6,
          6,
          6,
          6,
          8,
          7,
          7,
          6,
          6,
          6,
          6,
          6,
          8,
          7,
          6,
          6,
          6,
          6,
          6,
          6,
          6,
          2,
          6,
          2,
          1,
          6,
          6,
          6,
          6,
          6,
          6,
          6,
          6,
          6,
          6,
          8,
          7,
          7,
          6,
          6,
          6,
          6,
          8,
          7,
          6,
          6,
          6,
          6,
          6,
          6,
          6,
          2,
          6,
          2,
          1,
          6,
          6,
          6,
          6,
          6,
          6,
          6,
          6,
          6,
          6,
          6,
          6,
          6,
          8,
          7,
          7,
          6,
          6,
          6,
          6,
          6,
          8,
          7,
          6,
          6,
          6,
          6,
          6,
          6,
          6,
          6,
          6,
          2,
          6,
          6,
          2,
          1,
          6,
          6,
          6,
          6,
          6,
          6,
          6,
          6,
          6,
          6,
          6,
          6,
          6,
          8,
          8,
          7,
          7,
          6,
          6,
          6,
          6,
          7,
          8,
          7,
          6,
          6,
          7,
          6,
          6,
          6,
          6,
          6,
          6,
          2,
          6,
          6,
          2,
          1,
          6,
          6,
          6,
          8,
          6,
          6,
          6,
          6,
          6,
          7,
          8,
          7,
          7,
          6,
          6,
          6,
          6
         ],
         "xaxis": "x",
         "yaxis": "y"
        },
        {
         "alignmentgroup": "True",
         "bingroup": "x",
         "hovertemplate": "Chest Pain=3<br>Air Pollution=%{x}<br>count=%{y}<extra></extra>",
         "legendgroup": "3",
         "marker": {
          "color": "#ab63fa",
          "pattern": {
           "shape": ""
          }
         },
         "name": "3",
         "nbinsx": 10,
         "offsetgroup": "3",
         "orientation": "v",
         "showlegend": true,
         "texttemplate": "%{value}",
         "type": "histogram",
         "x": [
          3,
          3,
          3,
          3,
          1,
          3,
          3,
          1,
          3,
          1,
          3,
          3,
          1,
          3,
          1,
          3,
          3,
          3,
          3,
          3,
          3,
          1,
          3,
          3,
          1,
          3,
          1,
          3,
          3,
          3,
          1,
          3,
          1,
          3,
          3,
          3,
          3,
          3,
          1,
          3,
          3,
          1,
          3,
          1,
          3,
          3,
          1,
          3,
          1,
          1,
          3,
          3,
          3,
          3,
          3,
          1,
          3,
          3,
          1,
          3,
          1,
          3,
          3,
          1,
          3,
          1,
          3,
          3,
          3,
          3,
          1,
          3,
          1,
          3,
          3,
          1,
          3,
          3,
          1,
          3,
          3,
          1,
          3,
          1,
          1,
          3,
          3,
          3,
          3,
          3,
          1,
          3,
          3,
          3,
          1,
          3,
          1,
          3,
          3,
          1,
          3,
          1,
          1,
          3,
          3,
          3,
          3,
          1,
          3,
          1,
          3,
          3,
          1,
          3,
          1,
          3,
          3,
          1,
          3,
          1,
          3,
          3,
          3,
          3,
          1,
          3,
          3,
          1,
          3,
          1,
          3,
          3,
          1,
          3,
          1,
          3,
          3,
          3,
          3,
          1,
          3,
          3,
          1,
          3,
          1,
          3,
          3,
          1,
          3,
          1,
          3,
          3,
          1
         ],
         "xaxis": "x",
         "yaxis": "y"
        },
        {
         "alignmentgroup": "True",
         "bingroup": "x",
         "hovertemplate": "Chest Pain=6<br>Air Pollution=%{x}<br>count=%{y}<extra></extra>",
         "legendgroup": "6",
         "marker": {
          "color": "#FFA15A",
          "pattern": {
           "shape": ""
          }
         },
         "name": "6",
         "nbinsx": 10,
         "offsetgroup": "6",
         "orientation": "v",
         "showlegend": true,
         "texttemplate": "%{value}",
         "type": "histogram",
         "x": [
          4,
          4,
          2,
          2,
          2,
          4,
          4,
          2,
          2,
          4,
          4,
          4,
          2,
          2,
          2,
          4,
          4,
          2,
          2,
          4,
          4,
          2,
          2,
          4,
          4,
          2,
          2,
          4,
          4,
          4,
          2,
          2,
          4,
          4,
          2,
          2,
          4,
          4,
          2,
          2
         ],
         "xaxis": "x",
         "yaxis": "y"
        },
        {
         "alignmentgroup": "True",
         "bingroup": "x",
         "hovertemplate": "Chest Pain=5<br>Air Pollution=%{x}<br>count=%{y}<extra></extra>",
         "legendgroup": "5",
         "marker": {
          "color": "#19d3f3",
          "pattern": {
           "shape": ""
          }
         },
         "name": "5",
         "nbinsx": 10,
         "offsetgroup": "5",
         "orientation": "v",
         "showlegend": true,
         "texttemplate": "%{value}",
         "type": "histogram",
         "x": [
          5,
          5,
          5,
          5,
          5,
          5,
          5,
          5,
          5,
          5
         ],
         "xaxis": "x",
         "yaxis": "y"
        },
        {
         "alignmentgroup": "True",
         "bingroup": "x",
         "hovertemplate": "Chest Pain=9<br>Air Pollution=%{x}<br>count=%{y}<extra></extra>",
         "legendgroup": "9",
         "marker": {
          "color": "#FF6692",
          "pattern": {
           "shape": ""
          }
         },
         "name": "9",
         "nbinsx": 10,
         "offsetgroup": "9",
         "orientation": "v",
         "showlegend": true,
         "texttemplate": "%{value}",
         "type": "histogram",
         "x": [
          6,
          6,
          6,
          6,
          6,
          6,
          6,
          6,
          6,
          6,
          6,
          6,
          6,
          6,
          6,
          6,
          6,
          6,
          6
         ],
         "xaxis": "x",
         "yaxis": "y"
        },
        {
         "alignmentgroup": "True",
         "bingroup": "x",
         "hovertemplate": "Chest Pain=8<br>Air Pollution=%{x}<br>count=%{y}<extra></extra>",
         "legendgroup": "8",
         "marker": {
          "color": "#B6E880",
          "pattern": {
           "shape": ""
          }
         },
         "name": "8",
         "nbinsx": 10,
         "offsetgroup": "8",
         "orientation": "v",
         "showlegend": true,
         "texttemplate": "%{value}",
         "type": "histogram",
         "x": [
          1,
          1,
          1,
          1,
          1,
          1,
          1,
          1,
          1,
          1,
          1,
          1,
          1,
          1,
          1,
          1,
          1,
          1,
          1,
          1,
          1,
          1,
          1,
          1,
          1,
          1,
          1,
          1,
          1,
          1
         ],
         "xaxis": "x",
         "yaxis": "y"
        },
        {
         "alignmentgroup": "True",
         "bingroup": "x",
         "hovertemplate": "Chest Pain=1<br>Air Pollution=%{x}<br>count=%{y}<extra></extra>",
         "legendgroup": "1",
         "marker": {
          "color": "#FF97FF",
          "pattern": {
           "shape": ""
          }
         },
         "name": "1",
         "nbinsx": 10,
         "offsetgroup": "1",
         "orientation": "v",
         "showlegend": true,
         "texttemplate": "%{value}",
         "type": "histogram",
         "x": [
          4,
          1,
          2,
          1,
          3,
          5,
          3,
          2,
          4,
          1,
          2,
          1,
          3,
          5,
          3,
          2,
          4,
          1,
          2,
          4,
          1,
          3,
          5,
          3,
          1,
          2,
          2,
          1,
          3,
          4,
          1,
          2,
          1,
          3,
          5,
          3,
          5,
          2,
          3,
          2,
          4,
          1,
          2,
          1,
          3,
          5,
          3,
          2,
          4,
          1,
          2,
          1,
          3,
          5,
          3,
          2,
          4,
          1,
          2,
          1,
          3,
          5,
          3,
          2,
          4,
          1,
          2,
          1,
          3,
          5,
          3,
          2,
          4,
          1,
          2,
          1,
          3,
          5,
          3,
          2
         ],
         "xaxis": "x",
         "yaxis": "y"
        }
       ],
       "layout": {
        "barmode": "relative",
        "legend": {
         "title": {
          "text": "Chest Pain"
         },
         "tracegroupgap": 0
        },
        "template": {
         "data": {
          "bar": [
           {
            "error_x": {
             "color": "#2a3f5f"
            },
            "error_y": {
             "color": "#2a3f5f"
            },
            "marker": {
             "line": {
              "color": "#E5ECF6",
              "width": 0.5
             },
             "pattern": {
              "fillmode": "overlay",
              "size": 10,
              "solidity": 0.2
             }
            },
            "type": "bar"
           }
          ],
          "barpolar": [
           {
            "marker": {
             "line": {
              "color": "#E5ECF6",
              "width": 0.5
             },
             "pattern": {
              "fillmode": "overlay",
              "size": 10,
              "solidity": 0.2
             }
            },
            "type": "barpolar"
           }
          ],
          "carpet": [
           {
            "aaxis": {
             "endlinecolor": "#2a3f5f",
             "gridcolor": "white",
             "linecolor": "white",
             "minorgridcolor": "white",
             "startlinecolor": "#2a3f5f"
            },
            "baxis": {
             "endlinecolor": "#2a3f5f",
             "gridcolor": "white",
             "linecolor": "white",
             "minorgridcolor": "white",
             "startlinecolor": "#2a3f5f"
            },
            "type": "carpet"
           }
          ],
          "choropleth": [
           {
            "colorbar": {
             "outlinewidth": 0,
             "ticks": ""
            },
            "type": "choropleth"
           }
          ],
          "contour": [
           {
            "colorbar": {
             "outlinewidth": 0,
             "ticks": ""
            },
            "colorscale": [
             [
              0,
              "#0d0887"
             ],
             [
              0.1111111111111111,
              "#46039f"
             ],
             [
              0.2222222222222222,
              "#7201a8"
             ],
             [
              0.3333333333333333,
              "#9c179e"
             ],
             [
              0.4444444444444444,
              "#bd3786"
             ],
             [
              0.5555555555555556,
              "#d8576b"
             ],
             [
              0.6666666666666666,
              "#ed7953"
             ],
             [
              0.7777777777777778,
              "#fb9f3a"
             ],
             [
              0.8888888888888888,
              "#fdca26"
             ],
             [
              1,
              "#f0f921"
             ]
            ],
            "type": "contour"
           }
          ],
          "contourcarpet": [
           {
            "colorbar": {
             "outlinewidth": 0,
             "ticks": ""
            },
            "type": "contourcarpet"
           }
          ],
          "heatmap": [
           {
            "colorbar": {
             "outlinewidth": 0,
             "ticks": ""
            },
            "colorscale": [
             [
              0,
              "#0d0887"
             ],
             [
              0.1111111111111111,
              "#46039f"
             ],
             [
              0.2222222222222222,
              "#7201a8"
             ],
             [
              0.3333333333333333,
              "#9c179e"
             ],
             [
              0.4444444444444444,
              "#bd3786"
             ],
             [
              0.5555555555555556,
              "#d8576b"
             ],
             [
              0.6666666666666666,
              "#ed7953"
             ],
             [
              0.7777777777777778,
              "#fb9f3a"
             ],
             [
              0.8888888888888888,
              "#fdca26"
             ],
             [
              1,
              "#f0f921"
             ]
            ],
            "type": "heatmap"
           }
          ],
          "heatmapgl": [
           {
            "colorbar": {
             "outlinewidth": 0,
             "ticks": ""
            },
            "colorscale": [
             [
              0,
              "#0d0887"
             ],
             [
              0.1111111111111111,
              "#46039f"
             ],
             [
              0.2222222222222222,
              "#7201a8"
             ],
             [
              0.3333333333333333,
              "#9c179e"
             ],
             [
              0.4444444444444444,
              "#bd3786"
             ],
             [
              0.5555555555555556,
              "#d8576b"
             ],
             [
              0.6666666666666666,
              "#ed7953"
             ],
             [
              0.7777777777777778,
              "#fb9f3a"
             ],
             [
              0.8888888888888888,
              "#fdca26"
             ],
             [
              1,
              "#f0f921"
             ]
            ],
            "type": "heatmapgl"
           }
          ],
          "histogram": [
           {
            "marker": {
             "pattern": {
              "fillmode": "overlay",
              "size": 10,
              "solidity": 0.2
             }
            },
            "type": "histogram"
           }
          ],
          "histogram2d": [
           {
            "colorbar": {
             "outlinewidth": 0,
             "ticks": ""
            },
            "colorscale": [
             [
              0,
              "#0d0887"
             ],
             [
              0.1111111111111111,
              "#46039f"
             ],
             [
              0.2222222222222222,
              "#7201a8"
             ],
             [
              0.3333333333333333,
              "#9c179e"
             ],
             [
              0.4444444444444444,
              "#bd3786"
             ],
             [
              0.5555555555555556,
              "#d8576b"
             ],
             [
              0.6666666666666666,
              "#ed7953"
             ],
             [
              0.7777777777777778,
              "#fb9f3a"
             ],
             [
              0.8888888888888888,
              "#fdca26"
             ],
             [
              1,
              "#f0f921"
             ]
            ],
            "type": "histogram2d"
           }
          ],
          "histogram2dcontour": [
           {
            "colorbar": {
             "outlinewidth": 0,
             "ticks": ""
            },
            "colorscale": [
             [
              0,
              "#0d0887"
             ],
             [
              0.1111111111111111,
              "#46039f"
             ],
             [
              0.2222222222222222,
              "#7201a8"
             ],
             [
              0.3333333333333333,
              "#9c179e"
             ],
             [
              0.4444444444444444,
              "#bd3786"
             ],
             [
              0.5555555555555556,
              "#d8576b"
             ],
             [
              0.6666666666666666,
              "#ed7953"
             ],
             [
              0.7777777777777778,
              "#fb9f3a"
             ],
             [
              0.8888888888888888,
              "#fdca26"
             ],
             [
              1,
              "#f0f921"
             ]
            ],
            "type": "histogram2dcontour"
           }
          ],
          "mesh3d": [
           {
            "colorbar": {
             "outlinewidth": 0,
             "ticks": ""
            },
            "type": "mesh3d"
           }
          ],
          "parcoords": [
           {
            "line": {
             "colorbar": {
              "outlinewidth": 0,
              "ticks": ""
             }
            },
            "type": "parcoords"
           }
          ],
          "pie": [
           {
            "automargin": true,
            "type": "pie"
           }
          ],
          "scatter": [
           {
            "fillpattern": {
             "fillmode": "overlay",
             "size": 10,
             "solidity": 0.2
            },
            "type": "scatter"
           }
          ],
          "scatter3d": [
           {
            "line": {
             "colorbar": {
              "outlinewidth": 0,
              "ticks": ""
             }
            },
            "marker": {
             "colorbar": {
              "outlinewidth": 0,
              "ticks": ""
             }
            },
            "type": "scatter3d"
           }
          ],
          "scattercarpet": [
           {
            "marker": {
             "colorbar": {
              "outlinewidth": 0,
              "ticks": ""
             }
            },
            "type": "scattercarpet"
           }
          ],
          "scattergeo": [
           {
            "marker": {
             "colorbar": {
              "outlinewidth": 0,
              "ticks": ""
             }
            },
            "type": "scattergeo"
           }
          ],
          "scattergl": [
           {
            "marker": {
             "colorbar": {
              "outlinewidth": 0,
              "ticks": ""
             }
            },
            "type": "scattergl"
           }
          ],
          "scattermapbox": [
           {
            "marker": {
             "colorbar": {
              "outlinewidth": 0,
              "ticks": ""
             }
            },
            "type": "scattermapbox"
           }
          ],
          "scatterpolar": [
           {
            "marker": {
             "colorbar": {
              "outlinewidth": 0,
              "ticks": ""
             }
            },
            "type": "scatterpolar"
           }
          ],
          "scatterpolargl": [
           {
            "marker": {
             "colorbar": {
              "outlinewidth": 0,
              "ticks": ""
             }
            },
            "type": "scatterpolargl"
           }
          ],
          "scatterternary": [
           {
            "marker": {
             "colorbar": {
              "outlinewidth": 0,
              "ticks": ""
             }
            },
            "type": "scatterternary"
           }
          ],
          "surface": [
           {
            "colorbar": {
             "outlinewidth": 0,
             "ticks": ""
            },
            "colorscale": [
             [
              0,
              "#0d0887"
             ],
             [
              0.1111111111111111,
              "#46039f"
             ],
             [
              0.2222222222222222,
              "#7201a8"
             ],
             [
              0.3333333333333333,
              "#9c179e"
             ],
             [
              0.4444444444444444,
              "#bd3786"
             ],
             [
              0.5555555555555556,
              "#d8576b"
             ],
             [
              0.6666666666666666,
              "#ed7953"
             ],
             [
              0.7777777777777778,
              "#fb9f3a"
             ],
             [
              0.8888888888888888,
              "#fdca26"
             ],
             [
              1,
              "#f0f921"
             ]
            ],
            "type": "surface"
           }
          ],
          "table": [
           {
            "cells": {
             "fill": {
              "color": "#EBF0F8"
             },
             "line": {
              "color": "white"
             }
            },
            "header": {
             "fill": {
              "color": "#C8D4E3"
             },
             "line": {
              "color": "white"
             }
            },
            "type": "table"
           }
          ]
         },
         "layout": {
          "annotationdefaults": {
           "arrowcolor": "#2a3f5f",
           "arrowhead": 0,
           "arrowwidth": 1
          },
          "autotypenumbers": "strict",
          "coloraxis": {
           "colorbar": {
            "outlinewidth": 0,
            "ticks": ""
           }
          },
          "colorscale": {
           "diverging": [
            [
             0,
             "#8e0152"
            ],
            [
             0.1,
             "#c51b7d"
            ],
            [
             0.2,
             "#de77ae"
            ],
            [
             0.3,
             "#f1b6da"
            ],
            [
             0.4,
             "#fde0ef"
            ],
            [
             0.5,
             "#f7f7f7"
            ],
            [
             0.6,
             "#e6f5d0"
            ],
            [
             0.7,
             "#b8e186"
            ],
            [
             0.8,
             "#7fbc41"
            ],
            [
             0.9,
             "#4d9221"
            ],
            [
             1,
             "#276419"
            ]
           ],
           "sequential": [
            [
             0,
             "#0d0887"
            ],
            [
             0.1111111111111111,
             "#46039f"
            ],
            [
             0.2222222222222222,
             "#7201a8"
            ],
            [
             0.3333333333333333,
             "#9c179e"
            ],
            [
             0.4444444444444444,
             "#bd3786"
            ],
            [
             0.5555555555555556,
             "#d8576b"
            ],
            [
             0.6666666666666666,
             "#ed7953"
            ],
            [
             0.7777777777777778,
             "#fb9f3a"
            ],
            [
             0.8888888888888888,
             "#fdca26"
            ],
            [
             1,
             "#f0f921"
            ]
           ],
           "sequentialminus": [
            [
             0,
             "#0d0887"
            ],
            [
             0.1111111111111111,
             "#46039f"
            ],
            [
             0.2222222222222222,
             "#7201a8"
            ],
            [
             0.3333333333333333,
             "#9c179e"
            ],
            [
             0.4444444444444444,
             "#bd3786"
            ],
            [
             0.5555555555555556,
             "#d8576b"
            ],
            [
             0.6666666666666666,
             "#ed7953"
            ],
            [
             0.7777777777777778,
             "#fb9f3a"
            ],
            [
             0.8888888888888888,
             "#fdca26"
            ],
            [
             1,
             "#f0f921"
            ]
           ]
          },
          "colorway": [
           "#636efa",
           "#EF553B",
           "#00cc96",
           "#ab63fa",
           "#FFA15A",
           "#19d3f3",
           "#FF6692",
           "#B6E880",
           "#FF97FF",
           "#FECB52"
          ],
          "font": {
           "color": "#2a3f5f"
          },
          "geo": {
           "bgcolor": "white",
           "lakecolor": "white",
           "landcolor": "#E5ECF6",
           "showlakes": true,
           "showland": true,
           "subunitcolor": "white"
          },
          "hoverlabel": {
           "align": "left"
          },
          "hovermode": "closest",
          "mapbox": {
           "style": "light"
          },
          "paper_bgcolor": "white",
          "plot_bgcolor": "#E5ECF6",
          "polar": {
           "angularaxis": {
            "gridcolor": "white",
            "linecolor": "white",
            "ticks": ""
           },
           "bgcolor": "#E5ECF6",
           "radialaxis": {
            "gridcolor": "white",
            "linecolor": "white",
            "ticks": ""
           }
          },
          "scene": {
           "xaxis": {
            "backgroundcolor": "#E5ECF6",
            "gridcolor": "white",
            "gridwidth": 2,
            "linecolor": "white",
            "showbackground": true,
            "ticks": "",
            "zerolinecolor": "white"
           },
           "yaxis": {
            "backgroundcolor": "#E5ECF6",
            "gridcolor": "white",
            "gridwidth": 2,
            "linecolor": "white",
            "showbackground": true,
            "ticks": "",
            "zerolinecolor": "white"
           },
           "zaxis": {
            "backgroundcolor": "#E5ECF6",
            "gridcolor": "white",
            "gridwidth": 2,
            "linecolor": "white",
            "showbackground": true,
            "ticks": "",
            "zerolinecolor": "white"
           }
          },
          "shapedefaults": {
           "line": {
            "color": "#2a3f5f"
           }
          },
          "ternary": {
           "aaxis": {
            "gridcolor": "white",
            "linecolor": "white",
            "ticks": ""
           },
           "baxis": {
            "gridcolor": "white",
            "linecolor": "white",
            "ticks": ""
           },
           "bgcolor": "#E5ECF6",
           "caxis": {
            "gridcolor": "white",
            "linecolor": "white",
            "ticks": ""
           }
          },
          "title": {
           "x": 0.05
          },
          "xaxis": {
           "automargin": true,
           "gridcolor": "white",
           "linecolor": "white",
           "ticks": "",
           "title": {
            "standoff": 15
           },
           "zerolinecolor": "white",
           "zerolinewidth": 2
          },
          "yaxis": {
           "automargin": true,
           "gridcolor": "white",
           "linecolor": "white",
           "ticks": "",
           "title": {
            "standoff": 15
           },
           "zerolinecolor": "white",
           "zerolinewidth": 2
          }
         }
        },
        "title": {
         "text": "Distribution of Air Pollution"
        },
        "xaxis": {
         "anchor": "y",
         "domain": [
          0,
          1
         ],
         "title": {
          "text": "Air Pollution"
         }
        },
        "yaxis": {
         "anchor": "x",
         "domain": [
          0,
          1
         ],
         "title": {
          "text": "count"
         }
        }
       }
      }
     },
     "metadata": {},
     "output_type": "display_data"
    }
   ],
   "source": [
    "#Air Pollution and Chest Pain\n",
    "fig = px.histogram(lung, x = 'Air Pollution', color = 'Chest Pain', nbins = 10, title = 'Distribution of Air Pollution', text_auto = True)\n",
    "fig.show()"
   ]
  },
  {
   "attachments": {},
   "cell_type": "markdown",
   "metadata": {},
   "source": [
    "While symptoms of shortness of breath seems to affect people with low and high levels of air pollution, the symptoms of chest pain and coughing of blood shows that air pollution and high levels of chest pain and coughing of blood are related. \n",
    "\n",
    "This may mean that air pollution is quite an important factor in determining if someone is predisposed to lung cancer. "
   ]
  },
  {
   "attachments": {},
   "cell_type": "markdown",
   "metadata": {},
   "source": [
    "#### Dust Allergy"
   ]
  },
  {
   "cell_type": "code",
   "execution_count": 61,
   "metadata": {},
   "outputs": [
    {
     "data": {
      "application/vnd.plotly.v1+json": {
       "config": {
        "plotlyServerURL": "https://plot.ly"
       },
       "data": [
        {
         "alignmentgroup": "True",
         "bingroup": "x",
         "hovertemplate": "Coughing of Blood=4<br>Dust Allergy=%{x}<br>count=%{y}<extra></extra>",
         "legendgroup": "4",
         "marker": {
          "color": "#636efa",
          "pattern": {
           "shape": ""
          }
         },
         "name": "4",
         "nbinsx": 10,
         "offsetgroup": "4",
         "orientation": "v",
         "showlegend": true,
         "texttemplate": "%{value}",
         "type": "histogram",
         "x": [
          5,
          5,
          4,
          5,
          5,
          6,
          3,
          2,
          3,
          5,
          3,
          5,
          3,
          5,
          5,
          3,
          5,
          3,
          5,
          5,
          4,
          5,
          5,
          6,
          3,
          2,
          3,
          5,
          3,
          5,
          5,
          3,
          5,
          5,
          3,
          5,
          3,
          6,
          5,
          4,
          5,
          5,
          6,
          3,
          3,
          2,
          3,
          5,
          3,
          5,
          3,
          5,
          5,
          3,
          5,
          3,
          2,
          4,
          5,
          4,
          3,
          5,
          5,
          6,
          3,
          2,
          3,
          5,
          3,
          5,
          3,
          5,
          5,
          3,
          5,
          3,
          5,
          5,
          4,
          5,
          5,
          3,
          6,
          3,
          2,
          3,
          5,
          5,
          3,
          5,
          3,
          5,
          5,
          3,
          5,
          3,
          3,
          5,
          4,
          5,
          5,
          5,
          6,
          3,
          5,
          2,
          3,
          5,
          3,
          5,
          3,
          5,
          5,
          3,
          5,
          3,
          3,
          5,
          4,
          5,
          5,
          5,
          3,
          6,
          3,
          2,
          3,
          5,
          3,
          5,
          3,
          5,
          5,
          3,
          5,
          3,
          5,
          4,
          5,
          5,
          6,
          3,
          2,
          3,
          5,
          3,
          5,
          3,
          5,
          5,
          3,
          5,
          3,
          5,
          4,
          5,
          5,
          6,
          3,
          2,
          3,
          5,
          3,
          5,
          3,
          5,
          5,
          3,
          5,
          3,
          5,
          3
         ],
         "xaxis": "x",
         "yaxis": "y"
        },
        {
         "alignmentgroup": "True",
         "bingroup": "x",
         "hovertemplate": "Coughing of Blood=3<br>Dust Allergy=%{x}<br>count=%{y}<extra></extra>",
         "legendgroup": "3",
         "marker": {
          "color": "#EF553B",
          "pattern": {
           "shape": ""
          }
         },
         "name": "3",
         "nbinsx": 10,
         "offsetgroup": "3",
         "orientation": "v",
         "showlegend": true,
         "texttemplate": "%{value}",
         "type": "histogram",
         "x": [
          5,
          5,
          7,
          4,
          5,
          1,
          3,
          1,
          7,
          4,
          7,
          4,
          7,
          4,
          7,
          7,
          4,
          7,
          7,
          4,
          5,
          7,
          4,
          5,
          1,
          5,
          3,
          1,
          7,
          4,
          7,
          4,
          7,
          4,
          7,
          7,
          4,
          7,
          5,
          7,
          4,
          5,
          1,
          1,
          3,
          1,
          7,
          4,
          7,
          4,
          7,
          4,
          7,
          7,
          4,
          7,
          5,
          7,
          4,
          5,
          1,
          3,
          3,
          1,
          7,
          4,
          7,
          4,
          7,
          4,
          7,
          7,
          4,
          7,
          5,
          1,
          7,
          4,
          5,
          1,
          7,
          3,
          1,
          7,
          4,
          4,
          7,
          4,
          7,
          4,
          7,
          7,
          4,
          7,
          7,
          5,
          4,
          7,
          4,
          5,
          7,
          1,
          3,
          4,
          1,
          7,
          4,
          7,
          4,
          7,
          4,
          7,
          7,
          4,
          7,
          7,
          7,
          5,
          4,
          7,
          4,
          5,
          1,
          7,
          3,
          1,
          7,
          4,
          7,
          4,
          7,
          4,
          7,
          7,
          4,
          7,
          5,
          7,
          4,
          5,
          1,
          3,
          1,
          7,
          4,
          7,
          4,
          7,
          4,
          7,
          7,
          4,
          7,
          5,
          7,
          4,
          5,
          1,
          3,
          1,
          7,
          4,
          7,
          4,
          7,
          4,
          7,
          7,
          4,
          7,
          4
         ],
         "xaxis": "x",
         "yaxis": "y"
        },
        {
         "alignmentgroup": "True",
         "bingroup": "x",
         "hovertemplate": "Coughing of Blood=8<br>Dust Allergy=%{x}<br>count=%{y}<extra></extra>",
         "legendgroup": "8",
         "marker": {
          "color": "#00cc96",
          "pattern": {
           "shape": ""
          }
         },
         "name": "8",
         "nbinsx": 10,
         "offsetgroup": "8",
         "orientation": "v",
         "showlegend": true,
         "texttemplate": "%{value}",
         "type": "histogram",
         "x": [
          6,
          7,
          6,
          7,
          7,
          6,
          8,
          6,
          6,
          7,
          6,
          6,
          7,
          6,
          6,
          7,
          6,
          7,
          6,
          8,
          6,
          7,
          6,
          8,
          6,
          7,
          6,
          6,
          7,
          6,
          7,
          6,
          8,
          6,
          7,
          6,
          6,
          7,
          6,
          6,
          7,
          6,
          7,
          6,
          8,
          6,
          7,
          6,
          6,
          7,
          6,
          6,
          7,
          6,
          7,
          6,
          8,
          6,
          7,
          6,
          6,
          7,
          6,
          6,
          7,
          6,
          7,
          6,
          8,
          6,
          7,
          6,
          6,
          7,
          6,
          6,
          7,
          6,
          7,
          6,
          8,
          6,
          7,
          6,
          6,
          6,
          7,
          6,
          6,
          7,
          6,
          7,
          6,
          7,
          8,
          6,
          6,
          6,
          7,
          6,
          6,
          7,
          6,
          6,
          7,
          6,
          7,
          7,
          6,
          8,
          6,
          6,
          6,
          6,
          7,
          6,
          7,
          6,
          6
         ],
         "xaxis": "x",
         "yaxis": "y"
        },
        {
         "alignmentgroup": "True",
         "bingroup": "x",
         "hovertemplate": "Coughing of Blood=9<br>Dust Allergy=%{x}<br>count=%{y}<extra></extra>",
         "legendgroup": "9",
         "marker": {
          "color": "#ab63fa",
          "pattern": {
           "shape": ""
          }
         },
         "name": "9",
         "nbinsx": 10,
         "offsetgroup": "9",
         "orientation": "v",
         "showlegend": true,
         "texttemplate": "%{value}",
         "type": "histogram",
         "x": [
          7,
          7,
          7,
          7,
          7,
          7,
          7,
          7,
          7,
          7,
          7,
          7,
          7,
          7,
          7,
          7,
          7,
          7,
          7,
          7,
          7,
          7,
          7,
          7,
          7,
          7,
          7,
          7,
          7,
          7,
          7,
          7,
          7,
          7,
          7,
          7,
          7,
          7,
          7,
          7,
          7,
          7,
          7,
          7,
          7,
          7,
          7,
          7,
          7,
          7,
          7,
          7,
          7,
          7,
          7,
          7,
          7,
          7,
          7,
          7
         ],
         "xaxis": "x",
         "yaxis": "y"
        },
        {
         "alignmentgroup": "True",
         "bingroup": "x",
         "hovertemplate": "Coughing of Blood=1<br>Dust Allergy=%{x}<br>count=%{y}<extra></extra>",
         "legendgroup": "1",
         "marker": {
          "color": "#FFA15A",
          "pattern": {
           "shape": ""
          }
         },
         "name": "1",
         "nbinsx": 10,
         "offsetgroup": "1",
         "orientation": "v",
         "showlegend": true,
         "texttemplate": "%{value}",
         "type": "histogram",
         "x": [
          4,
          4,
          4,
          2,
          3,
          2,
          1,
          4,
          4,
          4,
          4,
          2,
          3,
          2,
          1,
          4,
          4,
          4,
          4,
          4,
          2,
          3,
          2,
          1,
          2,
          3,
          4,
          4,
          4,
          2,
          2,
          3,
          2,
          1,
          1,
          4,
          4,
          4,
          2,
          3,
          2,
          1,
          4,
          4,
          4,
          2,
          3,
          2,
          1,
          4,
          4,
          4,
          2,
          3,
          2,
          1,
          4,
          4,
          4,
          2,
          3,
          2,
          1,
          4,
          4,
          4,
          2,
          3,
          2,
          1,
          4
         ],
         "xaxis": "x",
         "yaxis": "y"
        },
        {
         "alignmentgroup": "True",
         "bingroup": "x",
         "hovertemplate": "Coughing of Blood=5<br>Dust Allergy=%{x}<br>count=%{y}<extra></extra>",
         "legendgroup": "5",
         "marker": {
          "color": "#19d3f3",
          "pattern": {
           "shape": ""
          }
         },
         "name": "5",
         "nbinsx": 10,
         "offsetgroup": "5",
         "orientation": "v",
         "showlegend": true,
         "texttemplate": "%{value}",
         "type": "histogram",
         "x": [
          6,
          6,
          5,
          5,
          1,
          4,
          6,
          6,
          5,
          1,
          4,
          6,
          6,
          6,
          5,
          1,
          4,
          6,
          6,
          5,
          1,
          4,
          1,
          6,
          4,
          6,
          5,
          1,
          4,
          6,
          6,
          5,
          1,
          4,
          6,
          6,
          5,
          1,
          4,
          6,
          6,
          5,
          1,
          4,
          6,
          6,
          6,
          5,
          1,
          4
         ],
         "xaxis": "x",
         "yaxis": "y"
        },
        {
         "alignmentgroup": "True",
         "bingroup": "x",
         "hovertemplate": "Coughing of Blood=7<br>Dust Allergy=%{x}<br>count=%{y}<extra></extra>",
         "legendgroup": "7",
         "marker": {
          "color": "#FF6692",
          "pattern": {
           "shape": ""
          }
         },
         "name": "7",
         "nbinsx": 10,
         "offsetgroup": "7",
         "orientation": "v",
         "showlegend": true,
         "texttemplate": "%{value}",
         "type": "histogram",
         "x": [
          7,
          7,
          7,
          7,
          7,
          7,
          7,
          7,
          7,
          7,
          7,
          7,
          7,
          7,
          7,
          7,
          7,
          7,
          7,
          7,
          7,
          7,
          7,
          7,
          7,
          7,
          7,
          7,
          7,
          7,
          7,
          7,
          7,
          7,
          7,
          7,
          7,
          7,
          7,
          7,
          7,
          7,
          7,
          7,
          7,
          7,
          7,
          7,
          7,
          7,
          7,
          7,
          7,
          7,
          7,
          7,
          7,
          7,
          7,
          7,
          7,
          7,
          7,
          7,
          7,
          7,
          7,
          7,
          7,
          7,
          7,
          7,
          7,
          7,
          7,
          7,
          7,
          7,
          7,
          7,
          7,
          7,
          7,
          7,
          7,
          7,
          7,
          7,
          7,
          7,
          7,
          7,
          7,
          7,
          7,
          7,
          7,
          7,
          7,
          7,
          7,
          7,
          7,
          7,
          7,
          7,
          7,
          7,
          7,
          7,
          7,
          7,
          7,
          7,
          7,
          7,
          7,
          7,
          7,
          7,
          7,
          7,
          7,
          7,
          7,
          7,
          7,
          7,
          7,
          7,
          7,
          7,
          7,
          7,
          7,
          7,
          7,
          7,
          7,
          7,
          7,
          7,
          7,
          7,
          7,
          7,
          7,
          7,
          7,
          7,
          7,
          7,
          7,
          7,
          7,
          7,
          7,
          7,
          7,
          7,
          7,
          7,
          7,
          7,
          7,
          7,
          7,
          7,
          7,
          7,
          7,
          7,
          7,
          7,
          7,
          7,
          7,
          7,
          7,
          7,
          7,
          7,
          7,
          7,
          7,
          7,
          7
         ],
         "xaxis": "x",
         "yaxis": "y"
        },
        {
         "alignmentgroup": "True",
         "bingroup": "x",
         "hovertemplate": "Coughing of Blood=6<br>Dust Allergy=%{x}<br>count=%{y}<extra></extra>",
         "legendgroup": "6",
         "marker": {
          "color": "#B6E880",
          "pattern": {
           "shape": ""
          }
         },
         "name": "6",
         "nbinsx": 10,
         "offsetgroup": "6",
         "orientation": "v",
         "showlegend": true,
         "texttemplate": "%{value}",
         "type": "histogram",
         "x": [
          6,
          7,
          2,
          7,
          2,
          7,
          6,
          7,
          2,
          2,
          2,
          7,
          6,
          7,
          2,
          2,
          7,
          6,
          7,
          2,
          2,
          2,
          7,
          6,
          7,
          2,
          2,
          7,
          6,
          7,
          2,
          2,
          7,
          6,
          6,
          7,
          2,
          2,
          7,
          7,
          6,
          7,
          2,
          2,
          7,
          6,
          7,
          2,
          2
         ],
         "xaxis": "x",
         "yaxis": "y"
        },
        {
         "alignmentgroup": "True",
         "bingroup": "x",
         "hovertemplate": "Coughing of Blood=2<br>Dust Allergy=%{x}<br>count=%{y}<extra></extra>",
         "legendgroup": "2",
         "marker": {
          "color": "#FF97FF",
          "pattern": {
           "shape": ""
          }
         },
         "name": "2",
         "nbinsx": 10,
         "offsetgroup": "2",
         "orientation": "v",
         "showlegend": true,
         "texttemplate": "%{value}",
         "type": "histogram",
         "x": [
          4,
          7,
          4,
          4,
          3,
          3,
          2,
          1,
          2,
          1,
          7,
          7,
          4,
          7,
          7,
          4,
          4,
          3,
          3,
          2,
          1,
          2,
          1,
          7,
          7,
          4,
          4,
          4,
          7,
          4,
          4,
          3,
          3,
          2,
          1,
          3,
          2,
          1,
          3,
          7,
          7,
          2,
          1,
          4,
          7,
          4,
          4,
          3,
          3,
          2,
          1,
          2,
          1,
          7,
          7,
          2,
          1,
          4,
          7,
          4,
          4,
          3,
          3,
          2,
          1,
          2,
          1,
          7,
          7,
          7,
          4,
          7,
          4,
          4,
          3,
          3,
          2,
          1,
          2,
          1,
          7,
          7,
          7,
          4,
          7,
          4,
          4,
          3,
          3,
          2,
          1,
          2,
          1,
          7,
          7,
          4,
          4,
          7,
          4,
          4,
          3,
          3,
          2,
          1,
          2,
          1,
          7,
          7,
          4,
          7,
          4,
          4,
          3,
          3,
          2,
          1,
          2,
          1,
          7,
          7,
          4
         ],
         "xaxis": "x",
         "yaxis": "y"
        }
       ],
       "layout": {
        "barmode": "relative",
        "legend": {
         "title": {
          "text": "Coughing of Blood"
         },
         "tracegroupgap": 0
        },
        "template": {
         "data": {
          "bar": [
           {
            "error_x": {
             "color": "#2a3f5f"
            },
            "error_y": {
             "color": "#2a3f5f"
            },
            "marker": {
             "line": {
              "color": "#E5ECF6",
              "width": 0.5
             },
             "pattern": {
              "fillmode": "overlay",
              "size": 10,
              "solidity": 0.2
             }
            },
            "type": "bar"
           }
          ],
          "barpolar": [
           {
            "marker": {
             "line": {
              "color": "#E5ECF6",
              "width": 0.5
             },
             "pattern": {
              "fillmode": "overlay",
              "size": 10,
              "solidity": 0.2
             }
            },
            "type": "barpolar"
           }
          ],
          "carpet": [
           {
            "aaxis": {
             "endlinecolor": "#2a3f5f",
             "gridcolor": "white",
             "linecolor": "white",
             "minorgridcolor": "white",
             "startlinecolor": "#2a3f5f"
            },
            "baxis": {
             "endlinecolor": "#2a3f5f",
             "gridcolor": "white",
             "linecolor": "white",
             "minorgridcolor": "white",
             "startlinecolor": "#2a3f5f"
            },
            "type": "carpet"
           }
          ],
          "choropleth": [
           {
            "colorbar": {
             "outlinewidth": 0,
             "ticks": ""
            },
            "type": "choropleth"
           }
          ],
          "contour": [
           {
            "colorbar": {
             "outlinewidth": 0,
             "ticks": ""
            },
            "colorscale": [
             [
              0,
              "#0d0887"
             ],
             [
              0.1111111111111111,
              "#46039f"
             ],
             [
              0.2222222222222222,
              "#7201a8"
             ],
             [
              0.3333333333333333,
              "#9c179e"
             ],
             [
              0.4444444444444444,
              "#bd3786"
             ],
             [
              0.5555555555555556,
              "#d8576b"
             ],
             [
              0.6666666666666666,
              "#ed7953"
             ],
             [
              0.7777777777777778,
              "#fb9f3a"
             ],
             [
              0.8888888888888888,
              "#fdca26"
             ],
             [
              1,
              "#f0f921"
             ]
            ],
            "type": "contour"
           }
          ],
          "contourcarpet": [
           {
            "colorbar": {
             "outlinewidth": 0,
             "ticks": ""
            },
            "type": "contourcarpet"
           }
          ],
          "heatmap": [
           {
            "colorbar": {
             "outlinewidth": 0,
             "ticks": ""
            },
            "colorscale": [
             [
              0,
              "#0d0887"
             ],
             [
              0.1111111111111111,
              "#46039f"
             ],
             [
              0.2222222222222222,
              "#7201a8"
             ],
             [
              0.3333333333333333,
              "#9c179e"
             ],
             [
              0.4444444444444444,
              "#bd3786"
             ],
             [
              0.5555555555555556,
              "#d8576b"
             ],
             [
              0.6666666666666666,
              "#ed7953"
             ],
             [
              0.7777777777777778,
              "#fb9f3a"
             ],
             [
              0.8888888888888888,
              "#fdca26"
             ],
             [
              1,
              "#f0f921"
             ]
            ],
            "type": "heatmap"
           }
          ],
          "heatmapgl": [
           {
            "colorbar": {
             "outlinewidth": 0,
             "ticks": ""
            },
            "colorscale": [
             [
              0,
              "#0d0887"
             ],
             [
              0.1111111111111111,
              "#46039f"
             ],
             [
              0.2222222222222222,
              "#7201a8"
             ],
             [
              0.3333333333333333,
              "#9c179e"
             ],
             [
              0.4444444444444444,
              "#bd3786"
             ],
             [
              0.5555555555555556,
              "#d8576b"
             ],
             [
              0.6666666666666666,
              "#ed7953"
             ],
             [
              0.7777777777777778,
              "#fb9f3a"
             ],
             [
              0.8888888888888888,
              "#fdca26"
             ],
             [
              1,
              "#f0f921"
             ]
            ],
            "type": "heatmapgl"
           }
          ],
          "histogram": [
           {
            "marker": {
             "pattern": {
              "fillmode": "overlay",
              "size": 10,
              "solidity": 0.2
             }
            },
            "type": "histogram"
           }
          ],
          "histogram2d": [
           {
            "colorbar": {
             "outlinewidth": 0,
             "ticks": ""
            },
            "colorscale": [
             [
              0,
              "#0d0887"
             ],
             [
              0.1111111111111111,
              "#46039f"
             ],
             [
              0.2222222222222222,
              "#7201a8"
             ],
             [
              0.3333333333333333,
              "#9c179e"
             ],
             [
              0.4444444444444444,
              "#bd3786"
             ],
             [
              0.5555555555555556,
              "#d8576b"
             ],
             [
              0.6666666666666666,
              "#ed7953"
             ],
             [
              0.7777777777777778,
              "#fb9f3a"
             ],
             [
              0.8888888888888888,
              "#fdca26"
             ],
             [
              1,
              "#f0f921"
             ]
            ],
            "type": "histogram2d"
           }
          ],
          "histogram2dcontour": [
           {
            "colorbar": {
             "outlinewidth": 0,
             "ticks": ""
            },
            "colorscale": [
             [
              0,
              "#0d0887"
             ],
             [
              0.1111111111111111,
              "#46039f"
             ],
             [
              0.2222222222222222,
              "#7201a8"
             ],
             [
              0.3333333333333333,
              "#9c179e"
             ],
             [
              0.4444444444444444,
              "#bd3786"
             ],
             [
              0.5555555555555556,
              "#d8576b"
             ],
             [
              0.6666666666666666,
              "#ed7953"
             ],
             [
              0.7777777777777778,
              "#fb9f3a"
             ],
             [
              0.8888888888888888,
              "#fdca26"
             ],
             [
              1,
              "#f0f921"
             ]
            ],
            "type": "histogram2dcontour"
           }
          ],
          "mesh3d": [
           {
            "colorbar": {
             "outlinewidth": 0,
             "ticks": ""
            },
            "type": "mesh3d"
           }
          ],
          "parcoords": [
           {
            "line": {
             "colorbar": {
              "outlinewidth": 0,
              "ticks": ""
             }
            },
            "type": "parcoords"
           }
          ],
          "pie": [
           {
            "automargin": true,
            "type": "pie"
           }
          ],
          "scatter": [
           {
            "fillpattern": {
             "fillmode": "overlay",
             "size": 10,
             "solidity": 0.2
            },
            "type": "scatter"
           }
          ],
          "scatter3d": [
           {
            "line": {
             "colorbar": {
              "outlinewidth": 0,
              "ticks": ""
             }
            },
            "marker": {
             "colorbar": {
              "outlinewidth": 0,
              "ticks": ""
             }
            },
            "type": "scatter3d"
           }
          ],
          "scattercarpet": [
           {
            "marker": {
             "colorbar": {
              "outlinewidth": 0,
              "ticks": ""
             }
            },
            "type": "scattercarpet"
           }
          ],
          "scattergeo": [
           {
            "marker": {
             "colorbar": {
              "outlinewidth": 0,
              "ticks": ""
             }
            },
            "type": "scattergeo"
           }
          ],
          "scattergl": [
           {
            "marker": {
             "colorbar": {
              "outlinewidth": 0,
              "ticks": ""
             }
            },
            "type": "scattergl"
           }
          ],
          "scattermapbox": [
           {
            "marker": {
             "colorbar": {
              "outlinewidth": 0,
              "ticks": ""
             }
            },
            "type": "scattermapbox"
           }
          ],
          "scatterpolar": [
           {
            "marker": {
             "colorbar": {
              "outlinewidth": 0,
              "ticks": ""
             }
            },
            "type": "scatterpolar"
           }
          ],
          "scatterpolargl": [
           {
            "marker": {
             "colorbar": {
              "outlinewidth": 0,
              "ticks": ""
             }
            },
            "type": "scatterpolargl"
           }
          ],
          "scatterternary": [
           {
            "marker": {
             "colorbar": {
              "outlinewidth": 0,
              "ticks": ""
             }
            },
            "type": "scatterternary"
           }
          ],
          "surface": [
           {
            "colorbar": {
             "outlinewidth": 0,
             "ticks": ""
            },
            "colorscale": [
             [
              0,
              "#0d0887"
             ],
             [
              0.1111111111111111,
              "#46039f"
             ],
             [
              0.2222222222222222,
              "#7201a8"
             ],
             [
              0.3333333333333333,
              "#9c179e"
             ],
             [
              0.4444444444444444,
              "#bd3786"
             ],
             [
              0.5555555555555556,
              "#d8576b"
             ],
             [
              0.6666666666666666,
              "#ed7953"
             ],
             [
              0.7777777777777778,
              "#fb9f3a"
             ],
             [
              0.8888888888888888,
              "#fdca26"
             ],
             [
              1,
              "#f0f921"
             ]
            ],
            "type": "surface"
           }
          ],
          "table": [
           {
            "cells": {
             "fill": {
              "color": "#EBF0F8"
             },
             "line": {
              "color": "white"
             }
            },
            "header": {
             "fill": {
              "color": "#C8D4E3"
             },
             "line": {
              "color": "white"
             }
            },
            "type": "table"
           }
          ]
         },
         "layout": {
          "annotationdefaults": {
           "arrowcolor": "#2a3f5f",
           "arrowhead": 0,
           "arrowwidth": 1
          },
          "autotypenumbers": "strict",
          "coloraxis": {
           "colorbar": {
            "outlinewidth": 0,
            "ticks": ""
           }
          },
          "colorscale": {
           "diverging": [
            [
             0,
             "#8e0152"
            ],
            [
             0.1,
             "#c51b7d"
            ],
            [
             0.2,
             "#de77ae"
            ],
            [
             0.3,
             "#f1b6da"
            ],
            [
             0.4,
             "#fde0ef"
            ],
            [
             0.5,
             "#f7f7f7"
            ],
            [
             0.6,
             "#e6f5d0"
            ],
            [
             0.7,
             "#b8e186"
            ],
            [
             0.8,
             "#7fbc41"
            ],
            [
             0.9,
             "#4d9221"
            ],
            [
             1,
             "#276419"
            ]
           ],
           "sequential": [
            [
             0,
             "#0d0887"
            ],
            [
             0.1111111111111111,
             "#46039f"
            ],
            [
             0.2222222222222222,
             "#7201a8"
            ],
            [
             0.3333333333333333,
             "#9c179e"
            ],
            [
             0.4444444444444444,
             "#bd3786"
            ],
            [
             0.5555555555555556,
             "#d8576b"
            ],
            [
             0.6666666666666666,
             "#ed7953"
            ],
            [
             0.7777777777777778,
             "#fb9f3a"
            ],
            [
             0.8888888888888888,
             "#fdca26"
            ],
            [
             1,
             "#f0f921"
            ]
           ],
           "sequentialminus": [
            [
             0,
             "#0d0887"
            ],
            [
             0.1111111111111111,
             "#46039f"
            ],
            [
             0.2222222222222222,
             "#7201a8"
            ],
            [
             0.3333333333333333,
             "#9c179e"
            ],
            [
             0.4444444444444444,
             "#bd3786"
            ],
            [
             0.5555555555555556,
             "#d8576b"
            ],
            [
             0.6666666666666666,
             "#ed7953"
            ],
            [
             0.7777777777777778,
             "#fb9f3a"
            ],
            [
             0.8888888888888888,
             "#fdca26"
            ],
            [
             1,
             "#f0f921"
            ]
           ]
          },
          "colorway": [
           "#636efa",
           "#EF553B",
           "#00cc96",
           "#ab63fa",
           "#FFA15A",
           "#19d3f3",
           "#FF6692",
           "#B6E880",
           "#FF97FF",
           "#FECB52"
          ],
          "font": {
           "color": "#2a3f5f"
          },
          "geo": {
           "bgcolor": "white",
           "lakecolor": "white",
           "landcolor": "#E5ECF6",
           "showlakes": true,
           "showland": true,
           "subunitcolor": "white"
          },
          "hoverlabel": {
           "align": "left"
          },
          "hovermode": "closest",
          "mapbox": {
           "style": "light"
          },
          "paper_bgcolor": "white",
          "plot_bgcolor": "#E5ECF6",
          "polar": {
           "angularaxis": {
            "gridcolor": "white",
            "linecolor": "white",
            "ticks": ""
           },
           "bgcolor": "#E5ECF6",
           "radialaxis": {
            "gridcolor": "white",
            "linecolor": "white",
            "ticks": ""
           }
          },
          "scene": {
           "xaxis": {
            "backgroundcolor": "#E5ECF6",
            "gridcolor": "white",
            "gridwidth": 2,
            "linecolor": "white",
            "showbackground": true,
            "ticks": "",
            "zerolinecolor": "white"
           },
           "yaxis": {
            "backgroundcolor": "#E5ECF6",
            "gridcolor": "white",
            "gridwidth": 2,
            "linecolor": "white",
            "showbackground": true,
            "ticks": "",
            "zerolinecolor": "white"
           },
           "zaxis": {
            "backgroundcolor": "#E5ECF6",
            "gridcolor": "white",
            "gridwidth": 2,
            "linecolor": "white",
            "showbackground": true,
            "ticks": "",
            "zerolinecolor": "white"
           }
          },
          "shapedefaults": {
           "line": {
            "color": "#2a3f5f"
           }
          },
          "ternary": {
           "aaxis": {
            "gridcolor": "white",
            "linecolor": "white",
            "ticks": ""
           },
           "baxis": {
            "gridcolor": "white",
            "linecolor": "white",
            "ticks": ""
           },
           "bgcolor": "#E5ECF6",
           "caxis": {
            "gridcolor": "white",
            "linecolor": "white",
            "ticks": ""
           }
          },
          "title": {
           "x": 0.05
          },
          "xaxis": {
           "automargin": true,
           "gridcolor": "white",
           "linecolor": "white",
           "ticks": "",
           "title": {
            "standoff": 15
           },
           "zerolinecolor": "white",
           "zerolinewidth": 2
          },
          "yaxis": {
           "automargin": true,
           "gridcolor": "white",
           "linecolor": "white",
           "ticks": "",
           "title": {
            "standoff": 15
           },
           "zerolinecolor": "white",
           "zerolinewidth": 2
          }
         }
        },
        "title": {
         "text": "Distribution of Dust Allergy"
        },
        "xaxis": {
         "anchor": "y",
         "domain": [
          0,
          1
         ],
         "title": {
          "text": "Dust Allergy"
         }
        },
        "yaxis": {
         "anchor": "x",
         "domain": [
          0,
          1
         ],
         "title": {
          "text": "count"
         }
        }
       }
      }
     },
     "metadata": {},
     "output_type": "display_data"
    }
   ],
   "source": [
    "# Dust Allergy and Coughing of Blood\n",
    "fig = px.histogram(lung, x = 'Dust Allergy', color = 'Coughing of Blood', nbins = 10, title = 'Distribution of Dust Allergy', text_auto = True)\n",
    "fig.show()"
   ]
  },
  {
   "cell_type": "code",
   "execution_count": 62,
   "metadata": {},
   "outputs": [
    {
     "data": {
      "application/vnd.plotly.v1+json": {
       "config": {
        "plotlyServerURL": "https://plot.ly"
       },
       "data": [
        {
         "alignmentgroup": "True",
         "bingroup": "x",
         "hovertemplate": "Shortness of Breath=2<br>Dust Allergy=%{x}<br>count=%{y}<extra></extra>",
         "legendgroup": "2",
         "marker": {
          "color": "#636efa",
          "pattern": {
           "shape": ""
          }
         },
         "name": "2",
         "nbinsx": 10,
         "offsetgroup": "2",
         "orientation": "v",
         "showlegend": true,
         "texttemplate": "%{value}",
         "type": "histogram",
         "x": [
          5,
          5,
          4,
          7,
          6,
          5,
          5,
          5,
          4,
          5,
          4,
          2,
          2,
          1,
          1,
          3,
          5,
          3,
          5,
          5,
          3,
          5,
          3,
          7,
          7,
          5,
          7,
          4,
          5,
          4,
          7,
          6,
          5,
          5,
          5,
          4,
          4,
          2,
          2,
          1,
          1,
          3,
          5,
          5,
          3,
          5,
          5,
          4,
          3,
          5,
          3,
          7,
          7,
          7,
          5,
          4,
          7,
          6,
          5,
          4,
          5,
          5,
          4,
          4,
          2,
          2,
          1,
          1,
          3,
          5,
          3,
          5,
          5,
          3,
          5,
          3,
          7,
          2,
          7,
          7,
          5,
          4,
          7,
          6,
          5,
          5,
          5,
          4,
          2,
          4,
          2,
          2,
          1,
          1,
          3,
          5,
          3,
          5,
          5,
          3,
          5,
          3,
          7,
          7,
          7,
          7,
          1,
          5,
          4,
          7,
          6,
          5,
          1,
          5,
          5,
          4,
          3,
          4,
          2,
          2,
          5,
          1,
          1,
          3,
          5,
          3,
          5,
          5,
          3,
          5,
          3,
          7,
          7,
          3,
          7,
          5,
          4,
          7,
          6,
          5,
          5,
          5,
          5,
          4,
          4,
          5,
          2,
          2,
          1,
          1,
          3,
          5,
          3,
          5,
          5,
          3,
          5,
          3,
          7,
          3,
          7,
          7,
          6,
          5,
          4,
          7,
          6,
          5,
          5,
          5,
          5,
          4,
          3,
          4,
          2,
          2,
          7,
          1,
          1,
          3,
          5,
          3,
          5,
          5,
          3,
          5,
          3,
          7,
          7,
          7,
          5,
          4,
          7,
          6,
          5,
          5,
          5,
          4,
          4,
          7,
          2,
          2,
          1,
          1,
          3,
          5,
          3,
          5,
          5,
          3,
          5,
          3,
          7,
          7,
          7,
          5,
          4,
          7,
          6,
          5,
          5,
          5,
          4,
          7,
          4,
          2,
          2,
          1,
          1,
          3,
          5,
          3,
          5,
          5,
          3,
          5,
          3,
          7,
          5,
          4,
          3,
          7,
          7
         ],
         "xaxis": "x",
         "yaxis": "y"
        },
        {
         "alignmentgroup": "True",
         "bingroup": "x",
         "hovertemplate": "Shortness of Breath=7<br>Dust Allergy=%{x}<br>count=%{y}<extra></extra>",
         "legendgroup": "7",
         "marker": {
          "color": "#EF553B",
          "pattern": {
           "shape": ""
          }
         },
         "name": "7",
         "nbinsx": 10,
         "offsetgroup": "7",
         "orientation": "v",
         "showlegend": true,
         "texttemplate": "%{value}",
         "type": "histogram",
         "x": [
          5,
          5,
          7,
          7,
          7,
          5,
          4,
          7,
          7,
          7,
          7,
          5,
          7,
          7,
          7,
          5,
          4,
          5,
          7,
          7,
          7,
          7,
          4,
          5,
          7,
          7,
          5,
          4,
          7,
          7,
          7,
          7,
          5,
          7,
          7,
          5,
          4,
          7,
          7,
          7,
          7,
          5,
          7,
          7,
          5,
          4,
          7,
          7,
          7,
          7,
          7,
          5,
          7,
          7,
          5,
          4,
          7,
          7,
          7,
          7,
          7,
          5,
          7,
          7,
          5,
          4,
          7,
          7,
          7,
          7,
          5,
          7,
          7,
          5,
          7,
          4,
          7,
          7,
          7,
          7,
          5,
          7,
          7,
          7,
          5,
          4,
          7,
          7,
          7
         ],
         "xaxis": "x",
         "yaxis": "y"
        },
        {
         "alignmentgroup": "True",
         "bingroup": "x",
         "hovertemplate": "Shortness of Breath=9<br>Dust Allergy=%{x}<br>count=%{y}<extra></extra>",
         "legendgroup": "9",
         "marker": {
          "color": "#00cc96",
          "pattern": {
           "shape": ""
          }
         },
         "name": "9",
         "nbinsx": 10,
         "offsetgroup": "9",
         "orientation": "v",
         "showlegend": true,
         "texttemplate": "%{value}",
         "type": "histogram",
         "x": [
          6,
          6,
          6,
          6,
          6,
          6,
          6,
          6,
          6,
          6,
          6,
          6,
          6,
          6,
          6,
          6,
          6,
          6,
          6,
          6,
          6,
          6,
          6,
          6,
          6,
          6,
          6,
          6,
          6,
          6,
          6,
          6,
          6,
          6,
          6,
          6,
          6,
          6,
          6,
          6,
          6,
          6,
          6,
          6,
          6,
          6,
          6,
          6,
          6,
          6,
          6,
          6,
          6,
          6,
          6,
          6,
          6,
          6,
          6,
          6,
          6,
          6,
          6,
          6,
          6,
          6,
          6,
          6,
          6,
          6
         ],
         "xaxis": "x",
         "yaxis": "y"
        },
        {
         "alignmentgroup": "True",
         "bingroup": "x",
         "hovertemplate": "Shortness of Breath=3<br>Dust Allergy=%{x}<br>count=%{y}<extra></extra>",
         "legendgroup": "3",
         "marker": {
          "color": "#ab63fa",
          "pattern": {
           "shape": ""
          }
         },
         "name": "3",
         "nbinsx": 10,
         "offsetgroup": "3",
         "orientation": "v",
         "showlegend": true,
         "texttemplate": "%{value}",
         "type": "histogram",
         "x": [
          7,
          6,
          7,
          4,
          7,
          4,
          6,
          1,
          3,
          3,
          2,
          5,
          4,
          7,
          7,
          7,
          6,
          4,
          7,
          4,
          6,
          1,
          3,
          3,
          2,
          5,
          4,
          4,
          7,
          7,
          6,
          6,
          7,
          6,
          4,
          7,
          1,
          4,
          6,
          1,
          3,
          3,
          3,
          2,
          5,
          4,
          7,
          7,
          3,
          7,
          6,
          4,
          7,
          4,
          6,
          1,
          3,
          3,
          2,
          5,
          4,
          2,
          7,
          5,
          7,
          7,
          6,
          4,
          4,
          7,
          4,
          6,
          1,
          3,
          3,
          2,
          5,
          4,
          7,
          7,
          7,
          6,
          4,
          7,
          4,
          6,
          1,
          3,
          3,
          2,
          5,
          4,
          7,
          7,
          7,
          6,
          4,
          7,
          4,
          6,
          1,
          3,
          3,
          2,
          5,
          4,
          7,
          7,
          4,
          7,
          6,
          4,
          7,
          7,
          4,
          6,
          1,
          3,
          3,
          2,
          5,
          4,
          7,
          7,
          7,
          6,
          7,
          4,
          7,
          4,
          6,
          1,
          3,
          3,
          2,
          5,
          4,
          4,
          7,
          7
         ],
         "xaxis": "x",
         "yaxis": "y"
        },
        {
         "alignmentgroup": "True",
         "bingroup": "x",
         "hovertemplate": "Shortness of Breath=4<br>Dust Allergy=%{x}<br>count=%{y}<extra></extra>",
         "legendgroup": "4",
         "marker": {
          "color": "#FFA15A",
          "pattern": {
           "shape": ""
          }
         },
         "name": "4",
         "nbinsx": 10,
         "offsetgroup": "4",
         "orientation": "v",
         "showlegend": true,
         "texttemplate": "%{value}",
         "type": "histogram",
         "x": [
          7,
          4,
          7,
          2,
          3,
          7,
          7,
          7,
          7,
          7,
          7,
          4,
          7,
          2,
          2,
          3,
          7,
          7,
          7,
          7,
          7,
          4,
          7,
          2,
          3,
          7,
          7,
          7,
          7,
          4,
          7,
          4,
          7,
          3,
          2,
          3,
          7,
          7,
          7,
          7,
          7,
          4,
          7,
          2,
          3,
          7,
          7,
          7,
          7,
          7,
          4,
          7,
          2,
          3,
          7,
          7,
          7,
          7,
          7,
          4,
          7,
          2,
          3,
          7,
          7,
          7,
          7,
          7,
          7,
          4,
          7,
          2,
          3,
          7,
          7,
          7,
          7,
          7,
          7,
          7,
          4,
          7,
          2,
          3,
          7,
          7,
          7,
          7,
          7,
          7
         ],
         "xaxis": "x",
         "yaxis": "y"
        },
        {
         "alignmentgroup": "True",
         "bingroup": "x",
         "hovertemplate": "Shortness of Breath=5<br>Dust Allergy=%{x}<br>count=%{y}<extra></extra>",
         "legendgroup": "5",
         "marker": {
          "color": "#19d3f3",
          "pattern": {
           "shape": ""
          }
         },
         "name": "5",
         "nbinsx": 10,
         "offsetgroup": "5",
         "orientation": "v",
         "showlegend": true,
         "texttemplate": "%{value}",
         "type": "histogram",
         "x": [
          7,
          7,
          7,
          7,
          2,
          7,
          7,
          7,
          7,
          7,
          7,
          7,
          7,
          7,
          2,
          7,
          7,
          7,
          7,
          7,
          7,
          7,
          7,
          2,
          7,
          7,
          7,
          7,
          7,
          7,
          7,
          7,
          2,
          2,
          7,
          7,
          7,
          7,
          7,
          7,
          7,
          7,
          2,
          7,
          7,
          7,
          7,
          7,
          7,
          7,
          7,
          7,
          2,
          7,
          7,
          7,
          7,
          7,
          7,
          7,
          7,
          2,
          7,
          7,
          7,
          7,
          7,
          7,
          7,
          7,
          7,
          7,
          7,
          2,
          7,
          7,
          7,
          7,
          7,
          7,
          7,
          7,
          7,
          7,
          2,
          7,
          7
         ],
         "xaxis": "x",
         "yaxis": "y"
        },
        {
         "alignmentgroup": "True",
         "bingroup": "x",
         "hovertemplate": "Shortness of Breath=6<br>Dust Allergy=%{x}<br>count=%{y}<extra></extra>",
         "legendgroup": "6",
         "marker": {
          "color": "#FF6692",
          "pattern": {
           "shape": ""
          }
         },
         "name": "6",
         "nbinsx": 10,
         "offsetgroup": "6",
         "orientation": "v",
         "showlegend": true,
         "texttemplate": "%{value}",
         "type": "histogram",
         "x": [
          6,
          7,
          7,
          4,
          7,
          8,
          7,
          4,
          7,
          7,
          4,
          7,
          4,
          7,
          7,
          7,
          7,
          4,
          7,
          7,
          7,
          7,
          4,
          6,
          7,
          7,
          4,
          7,
          8,
          7,
          7,
          4,
          7,
          7,
          4,
          7,
          4,
          7,
          7,
          7,
          4,
          7,
          7,
          8,
          7,
          6,
          7,
          7,
          4,
          7,
          8,
          7,
          4,
          7,
          7,
          4,
          7,
          4,
          7,
          7,
          7,
          4,
          7,
          7,
          7,
          6,
          7,
          7,
          4,
          7,
          8,
          7,
          4,
          7,
          7,
          4,
          7,
          4,
          7,
          7,
          7,
          4,
          7,
          7,
          7,
          6,
          7,
          7,
          4,
          7,
          8,
          7,
          7,
          4,
          7,
          4,
          7,
          4,
          7,
          4,
          7,
          7,
          7,
          7,
          4,
          7,
          7,
          7,
          7,
          6,
          7,
          4,
          7,
          4,
          7,
          7,
          8,
          4,
          7,
          4,
          7,
          7,
          7,
          4,
          7,
          4,
          7,
          7,
          7,
          4,
          7,
          7,
          7,
          7,
          7,
          6,
          7,
          4,
          7,
          4,
          7,
          8,
          7,
          7,
          4,
          7,
          7,
          4,
          7,
          4,
          7,
          7,
          7,
          4,
          7,
          7,
          7,
          7,
          6,
          7,
          7,
          4,
          7,
          8,
          7,
          4,
          7,
          7,
          4,
          7,
          4,
          7,
          7,
          7,
          4,
          7,
          7,
          7,
          6,
          7,
          6,
          7,
          7,
          4,
          7,
          8,
          7,
          4,
          7,
          7,
          4,
          7,
          4,
          7,
          7,
          7,
          4,
          7,
          7,
          4,
          7
         ],
         "xaxis": "x",
         "yaxis": "y"
        },
        {
         "alignmentgroup": "True",
         "bingroup": "x",
         "hovertemplate": "Shortness of Breath=1<br>Dust Allergy=%{x}<br>count=%{y}<extra></extra>",
         "legendgroup": "1",
         "marker": {
          "color": "#B6E880",
          "pattern": {
           "shape": ""
          }
         },
         "name": "1",
         "nbinsx": 10,
         "offsetgroup": "1",
         "orientation": "v",
         "showlegend": true,
         "texttemplate": "%{value}",
         "type": "histogram",
         "x": [
          3,
          3,
          2,
          2,
          1,
          3,
          1,
          1,
          3,
          3,
          2,
          2,
          1,
          3,
          1,
          1,
          3,
          3,
          2,
          3,
          2,
          1,
          3,
          1,
          1,
          3,
          2,
          2,
          1,
          3,
          3,
          2,
          2,
          1,
          3,
          1,
          1,
          3,
          1,
          1,
          3,
          3,
          2,
          2,
          1,
          3,
          1,
          1,
          3,
          3,
          2,
          2,
          1,
          3,
          1,
          1,
          3,
          3,
          2,
          2,
          1,
          3,
          1,
          1,
          3,
          3,
          2,
          2,
          1,
          3,
          1,
          1,
          3,
          3,
          2,
          2,
          1,
          3,
          1,
          1
         ],
         "xaxis": "x",
         "yaxis": "y"
        }
       ],
       "layout": {
        "barmode": "relative",
        "legend": {
         "title": {
          "text": "Shortness of Breath"
         },
         "tracegroupgap": 0
        },
        "template": {
         "data": {
          "bar": [
           {
            "error_x": {
             "color": "#2a3f5f"
            },
            "error_y": {
             "color": "#2a3f5f"
            },
            "marker": {
             "line": {
              "color": "#E5ECF6",
              "width": 0.5
             },
             "pattern": {
              "fillmode": "overlay",
              "size": 10,
              "solidity": 0.2
             }
            },
            "type": "bar"
           }
          ],
          "barpolar": [
           {
            "marker": {
             "line": {
              "color": "#E5ECF6",
              "width": 0.5
             },
             "pattern": {
              "fillmode": "overlay",
              "size": 10,
              "solidity": 0.2
             }
            },
            "type": "barpolar"
           }
          ],
          "carpet": [
           {
            "aaxis": {
             "endlinecolor": "#2a3f5f",
             "gridcolor": "white",
             "linecolor": "white",
             "minorgridcolor": "white",
             "startlinecolor": "#2a3f5f"
            },
            "baxis": {
             "endlinecolor": "#2a3f5f",
             "gridcolor": "white",
             "linecolor": "white",
             "minorgridcolor": "white",
             "startlinecolor": "#2a3f5f"
            },
            "type": "carpet"
           }
          ],
          "choropleth": [
           {
            "colorbar": {
             "outlinewidth": 0,
             "ticks": ""
            },
            "type": "choropleth"
           }
          ],
          "contour": [
           {
            "colorbar": {
             "outlinewidth": 0,
             "ticks": ""
            },
            "colorscale": [
             [
              0,
              "#0d0887"
             ],
             [
              0.1111111111111111,
              "#46039f"
             ],
             [
              0.2222222222222222,
              "#7201a8"
             ],
             [
              0.3333333333333333,
              "#9c179e"
             ],
             [
              0.4444444444444444,
              "#bd3786"
             ],
             [
              0.5555555555555556,
              "#d8576b"
             ],
             [
              0.6666666666666666,
              "#ed7953"
             ],
             [
              0.7777777777777778,
              "#fb9f3a"
             ],
             [
              0.8888888888888888,
              "#fdca26"
             ],
             [
              1,
              "#f0f921"
             ]
            ],
            "type": "contour"
           }
          ],
          "contourcarpet": [
           {
            "colorbar": {
             "outlinewidth": 0,
             "ticks": ""
            },
            "type": "contourcarpet"
           }
          ],
          "heatmap": [
           {
            "colorbar": {
             "outlinewidth": 0,
             "ticks": ""
            },
            "colorscale": [
             [
              0,
              "#0d0887"
             ],
             [
              0.1111111111111111,
              "#46039f"
             ],
             [
              0.2222222222222222,
              "#7201a8"
             ],
             [
              0.3333333333333333,
              "#9c179e"
             ],
             [
              0.4444444444444444,
              "#bd3786"
             ],
             [
              0.5555555555555556,
              "#d8576b"
             ],
             [
              0.6666666666666666,
              "#ed7953"
             ],
             [
              0.7777777777777778,
              "#fb9f3a"
             ],
             [
              0.8888888888888888,
              "#fdca26"
             ],
             [
              1,
              "#f0f921"
             ]
            ],
            "type": "heatmap"
           }
          ],
          "heatmapgl": [
           {
            "colorbar": {
             "outlinewidth": 0,
             "ticks": ""
            },
            "colorscale": [
             [
              0,
              "#0d0887"
             ],
             [
              0.1111111111111111,
              "#46039f"
             ],
             [
              0.2222222222222222,
              "#7201a8"
             ],
             [
              0.3333333333333333,
              "#9c179e"
             ],
             [
              0.4444444444444444,
              "#bd3786"
             ],
             [
              0.5555555555555556,
              "#d8576b"
             ],
             [
              0.6666666666666666,
              "#ed7953"
             ],
             [
              0.7777777777777778,
              "#fb9f3a"
             ],
             [
              0.8888888888888888,
              "#fdca26"
             ],
             [
              1,
              "#f0f921"
             ]
            ],
            "type": "heatmapgl"
           }
          ],
          "histogram": [
           {
            "marker": {
             "pattern": {
              "fillmode": "overlay",
              "size": 10,
              "solidity": 0.2
             }
            },
            "type": "histogram"
           }
          ],
          "histogram2d": [
           {
            "colorbar": {
             "outlinewidth": 0,
             "ticks": ""
            },
            "colorscale": [
             [
              0,
              "#0d0887"
             ],
             [
              0.1111111111111111,
              "#46039f"
             ],
             [
              0.2222222222222222,
              "#7201a8"
             ],
             [
              0.3333333333333333,
              "#9c179e"
             ],
             [
              0.4444444444444444,
              "#bd3786"
             ],
             [
              0.5555555555555556,
              "#d8576b"
             ],
             [
              0.6666666666666666,
              "#ed7953"
             ],
             [
              0.7777777777777778,
              "#fb9f3a"
             ],
             [
              0.8888888888888888,
              "#fdca26"
             ],
             [
              1,
              "#f0f921"
             ]
            ],
            "type": "histogram2d"
           }
          ],
          "histogram2dcontour": [
           {
            "colorbar": {
             "outlinewidth": 0,
             "ticks": ""
            },
            "colorscale": [
             [
              0,
              "#0d0887"
             ],
             [
              0.1111111111111111,
              "#46039f"
             ],
             [
              0.2222222222222222,
              "#7201a8"
             ],
             [
              0.3333333333333333,
              "#9c179e"
             ],
             [
              0.4444444444444444,
              "#bd3786"
             ],
             [
              0.5555555555555556,
              "#d8576b"
             ],
             [
              0.6666666666666666,
              "#ed7953"
             ],
             [
              0.7777777777777778,
              "#fb9f3a"
             ],
             [
              0.8888888888888888,
              "#fdca26"
             ],
             [
              1,
              "#f0f921"
             ]
            ],
            "type": "histogram2dcontour"
           }
          ],
          "mesh3d": [
           {
            "colorbar": {
             "outlinewidth": 0,
             "ticks": ""
            },
            "type": "mesh3d"
           }
          ],
          "parcoords": [
           {
            "line": {
             "colorbar": {
              "outlinewidth": 0,
              "ticks": ""
             }
            },
            "type": "parcoords"
           }
          ],
          "pie": [
           {
            "automargin": true,
            "type": "pie"
           }
          ],
          "scatter": [
           {
            "fillpattern": {
             "fillmode": "overlay",
             "size": 10,
             "solidity": 0.2
            },
            "type": "scatter"
           }
          ],
          "scatter3d": [
           {
            "line": {
             "colorbar": {
              "outlinewidth": 0,
              "ticks": ""
             }
            },
            "marker": {
             "colorbar": {
              "outlinewidth": 0,
              "ticks": ""
             }
            },
            "type": "scatter3d"
           }
          ],
          "scattercarpet": [
           {
            "marker": {
             "colorbar": {
              "outlinewidth": 0,
              "ticks": ""
             }
            },
            "type": "scattercarpet"
           }
          ],
          "scattergeo": [
           {
            "marker": {
             "colorbar": {
              "outlinewidth": 0,
              "ticks": ""
             }
            },
            "type": "scattergeo"
           }
          ],
          "scattergl": [
           {
            "marker": {
             "colorbar": {
              "outlinewidth": 0,
              "ticks": ""
             }
            },
            "type": "scattergl"
           }
          ],
          "scattermapbox": [
           {
            "marker": {
             "colorbar": {
              "outlinewidth": 0,
              "ticks": ""
             }
            },
            "type": "scattermapbox"
           }
          ],
          "scatterpolar": [
           {
            "marker": {
             "colorbar": {
              "outlinewidth": 0,
              "ticks": ""
             }
            },
            "type": "scatterpolar"
           }
          ],
          "scatterpolargl": [
           {
            "marker": {
             "colorbar": {
              "outlinewidth": 0,
              "ticks": ""
             }
            },
            "type": "scatterpolargl"
           }
          ],
          "scatterternary": [
           {
            "marker": {
             "colorbar": {
              "outlinewidth": 0,
              "ticks": ""
             }
            },
            "type": "scatterternary"
           }
          ],
          "surface": [
           {
            "colorbar": {
             "outlinewidth": 0,
             "ticks": ""
            },
            "colorscale": [
             [
              0,
              "#0d0887"
             ],
             [
              0.1111111111111111,
              "#46039f"
             ],
             [
              0.2222222222222222,
              "#7201a8"
             ],
             [
              0.3333333333333333,
              "#9c179e"
             ],
             [
              0.4444444444444444,
              "#bd3786"
             ],
             [
              0.5555555555555556,
              "#d8576b"
             ],
             [
              0.6666666666666666,
              "#ed7953"
             ],
             [
              0.7777777777777778,
              "#fb9f3a"
             ],
             [
              0.8888888888888888,
              "#fdca26"
             ],
             [
              1,
              "#f0f921"
             ]
            ],
            "type": "surface"
           }
          ],
          "table": [
           {
            "cells": {
             "fill": {
              "color": "#EBF0F8"
             },
             "line": {
              "color": "white"
             }
            },
            "header": {
             "fill": {
              "color": "#C8D4E3"
             },
             "line": {
              "color": "white"
             }
            },
            "type": "table"
           }
          ]
         },
         "layout": {
          "annotationdefaults": {
           "arrowcolor": "#2a3f5f",
           "arrowhead": 0,
           "arrowwidth": 1
          },
          "autotypenumbers": "strict",
          "coloraxis": {
           "colorbar": {
            "outlinewidth": 0,
            "ticks": ""
           }
          },
          "colorscale": {
           "diverging": [
            [
             0,
             "#8e0152"
            ],
            [
             0.1,
             "#c51b7d"
            ],
            [
             0.2,
             "#de77ae"
            ],
            [
             0.3,
             "#f1b6da"
            ],
            [
             0.4,
             "#fde0ef"
            ],
            [
             0.5,
             "#f7f7f7"
            ],
            [
             0.6,
             "#e6f5d0"
            ],
            [
             0.7,
             "#b8e186"
            ],
            [
             0.8,
             "#7fbc41"
            ],
            [
             0.9,
             "#4d9221"
            ],
            [
             1,
             "#276419"
            ]
           ],
           "sequential": [
            [
             0,
             "#0d0887"
            ],
            [
             0.1111111111111111,
             "#46039f"
            ],
            [
             0.2222222222222222,
             "#7201a8"
            ],
            [
             0.3333333333333333,
             "#9c179e"
            ],
            [
             0.4444444444444444,
             "#bd3786"
            ],
            [
             0.5555555555555556,
             "#d8576b"
            ],
            [
             0.6666666666666666,
             "#ed7953"
            ],
            [
             0.7777777777777778,
             "#fb9f3a"
            ],
            [
             0.8888888888888888,
             "#fdca26"
            ],
            [
             1,
             "#f0f921"
            ]
           ],
           "sequentialminus": [
            [
             0,
             "#0d0887"
            ],
            [
             0.1111111111111111,
             "#46039f"
            ],
            [
             0.2222222222222222,
             "#7201a8"
            ],
            [
             0.3333333333333333,
             "#9c179e"
            ],
            [
             0.4444444444444444,
             "#bd3786"
            ],
            [
             0.5555555555555556,
             "#d8576b"
            ],
            [
             0.6666666666666666,
             "#ed7953"
            ],
            [
             0.7777777777777778,
             "#fb9f3a"
            ],
            [
             0.8888888888888888,
             "#fdca26"
            ],
            [
             1,
             "#f0f921"
            ]
           ]
          },
          "colorway": [
           "#636efa",
           "#EF553B",
           "#00cc96",
           "#ab63fa",
           "#FFA15A",
           "#19d3f3",
           "#FF6692",
           "#B6E880",
           "#FF97FF",
           "#FECB52"
          ],
          "font": {
           "color": "#2a3f5f"
          },
          "geo": {
           "bgcolor": "white",
           "lakecolor": "white",
           "landcolor": "#E5ECF6",
           "showlakes": true,
           "showland": true,
           "subunitcolor": "white"
          },
          "hoverlabel": {
           "align": "left"
          },
          "hovermode": "closest",
          "mapbox": {
           "style": "light"
          },
          "paper_bgcolor": "white",
          "plot_bgcolor": "#E5ECF6",
          "polar": {
           "angularaxis": {
            "gridcolor": "white",
            "linecolor": "white",
            "ticks": ""
           },
           "bgcolor": "#E5ECF6",
           "radialaxis": {
            "gridcolor": "white",
            "linecolor": "white",
            "ticks": ""
           }
          },
          "scene": {
           "xaxis": {
            "backgroundcolor": "#E5ECF6",
            "gridcolor": "white",
            "gridwidth": 2,
            "linecolor": "white",
            "showbackground": true,
            "ticks": "",
            "zerolinecolor": "white"
           },
           "yaxis": {
            "backgroundcolor": "#E5ECF6",
            "gridcolor": "white",
            "gridwidth": 2,
            "linecolor": "white",
            "showbackground": true,
            "ticks": "",
            "zerolinecolor": "white"
           },
           "zaxis": {
            "backgroundcolor": "#E5ECF6",
            "gridcolor": "white",
            "gridwidth": 2,
            "linecolor": "white",
            "showbackground": true,
            "ticks": "",
            "zerolinecolor": "white"
           }
          },
          "shapedefaults": {
           "line": {
            "color": "#2a3f5f"
           }
          },
          "ternary": {
           "aaxis": {
            "gridcolor": "white",
            "linecolor": "white",
            "ticks": ""
           },
           "baxis": {
            "gridcolor": "white",
            "linecolor": "white",
            "ticks": ""
           },
           "bgcolor": "#E5ECF6",
           "caxis": {
            "gridcolor": "white",
            "linecolor": "white",
            "ticks": ""
           }
          },
          "title": {
           "x": 0.05
          },
          "xaxis": {
           "automargin": true,
           "gridcolor": "white",
           "linecolor": "white",
           "ticks": "",
           "title": {
            "standoff": 15
           },
           "zerolinecolor": "white",
           "zerolinewidth": 2
          },
          "yaxis": {
           "automargin": true,
           "gridcolor": "white",
           "linecolor": "white",
           "ticks": "",
           "title": {
            "standoff": 15
           },
           "zerolinecolor": "white",
           "zerolinewidth": 2
          }
         }
        },
        "title": {
         "text": "Distribution of Dust Allergy"
        },
        "xaxis": {
         "anchor": "y",
         "domain": [
          0,
          1
         ],
         "title": {
          "text": "Dust Allergy"
         }
        },
        "yaxis": {
         "anchor": "x",
         "domain": [
          0,
          1
         ],
         "title": {
          "text": "count"
         }
        }
       }
      }
     },
     "metadata": {},
     "output_type": "display_data"
    }
   ],
   "source": [
    "# Dust Allergy and Shortness of Breath\n",
    "fig = px.histogram(lung, x = 'Dust Allergy', color = 'Shortness of Breath', nbins = 10, title = 'Distribution of Dust Allergy', text_auto = True)\n",
    "fig.show()"
   ]
  },
  {
   "cell_type": "code",
   "execution_count": 63,
   "metadata": {},
   "outputs": [
    {
     "data": {
      "application/vnd.plotly.v1+json": {
       "config": {
        "plotlyServerURL": "https://plot.ly"
       },
       "data": [
        {
         "alignmentgroup": "True",
         "bingroup": "x",
         "hovertemplate": "Chest Pain=2<br>Dust Allergy=%{x}<br>count=%{y}<extra></extra>",
         "legendgroup": "2",
         "marker": {
          "color": "#636efa",
          "pattern": {
           "shape": ""
          }
         },
         "name": "2",
         "nbinsx": 10,
         "offsetgroup": "2",
         "orientation": "v",
         "showlegend": true,
         "texttemplate": "%{value}",
         "type": "histogram",
         "x": [
          5,
          5,
          5,
          5,
          5,
          7,
          5,
          5,
          1,
          3,
          2,
          1,
          2,
          5,
          5,
          7,
          5,
          5,
          7,
          5,
          5,
          5,
          5,
          7,
          5,
          7,
          5,
          5,
          5,
          1,
          3,
          2,
          1,
          2,
          5,
          5,
          5,
          7,
          5,
          5,
          7,
          5,
          5,
          5,
          5,
          7,
          5,
          5,
          1,
          3,
          2,
          1,
          2,
          5,
          5,
          7,
          5,
          5,
          7,
          5,
          5,
          1,
          5,
          3,
          5,
          7,
          5,
          5,
          2,
          1,
          3,
          2,
          1,
          2,
          5,
          5,
          1,
          7,
          5,
          5,
          7,
          5,
          2,
          5,
          5,
          5,
          5,
          7,
          5,
          5,
          1,
          3,
          2,
          1,
          5,
          2,
          5,
          5,
          7,
          5,
          5,
          7,
          5,
          7,
          5,
          5,
          5,
          5,
          7,
          5,
          5,
          5,
          1,
          3,
          2,
          1,
          2,
          5,
          5,
          7,
          5,
          5,
          7,
          7,
          5,
          5,
          5,
          5,
          5,
          7,
          5,
          5,
          1,
          3,
          2,
          1,
          2,
          5,
          5,
          7,
          5,
          5,
          7,
          5,
          5,
          5,
          5,
          7,
          5,
          5,
          1,
          3,
          2,
          1,
          2,
          5,
          5,
          7,
          5,
          5,
          7,
          5,
          5,
          5,
          5,
          7,
          5,
          5,
          1,
          3,
          2,
          1,
          2,
          5,
          5,
          7,
          5,
          5,
          7,
          5,
          5
         ],
         "xaxis": "x",
         "yaxis": "y"
        },
        {
         "alignmentgroup": "True",
         "bingroup": "x",
         "hovertemplate": "Chest Pain=4<br>Dust Allergy=%{x}<br>count=%{y}<extra></extra>",
         "legendgroup": "4",
         "marker": {
          "color": "#EF553B",
          "pattern": {
           "shape": ""
          }
         },
         "name": "4",
         "nbinsx": 10,
         "offsetgroup": "4",
         "orientation": "v",
         "showlegend": true,
         "texttemplate": "%{value}",
         "type": "histogram",
         "x": [
          6,
          6,
          4,
          4,
          6,
          7,
          4,
          1,
          6,
          1,
          7,
          7,
          7,
          7,
          7,
          7,
          7,
          6,
          6,
          6,
          6,
          6,
          6,
          4,
          4,
          6,
          7,
          4,
          1,
          1,
          7,
          7,
          7,
          7,
          7,
          7,
          4,
          6,
          6,
          6,
          6,
          6,
          6,
          4,
          4,
          6,
          7,
          1,
          4,
          1,
          1,
          7,
          7,
          7,
          7,
          7,
          7,
          6,
          6,
          6,
          6,
          6,
          4,
          6,
          4,
          4,
          6,
          7,
          4,
          1,
          1,
          7,
          7,
          7,
          7,
          7,
          7,
          6,
          6,
          6,
          6,
          6,
          6,
          4,
          4,
          6,
          1,
          7,
          4,
          1,
          7,
          1,
          7,
          7,
          7,
          7,
          7,
          7,
          6,
          6,
          6,
          6,
          6,
          7,
          6,
          4,
          4,
          6,
          7,
          7,
          4,
          1,
          1,
          7,
          7,
          7,
          7,
          7,
          7,
          6,
          6,
          7,
          6,
          6,
          6,
          7,
          6,
          4,
          4,
          6,
          7,
          4,
          1,
          7,
          1,
          7,
          7,
          7,
          7,
          7,
          7,
          6,
          6,
          6,
          6,
          6,
          6,
          4,
          6,
          4,
          4,
          6,
          7,
          4,
          1,
          1,
          7,
          6,
          7,
          7,
          7,
          7,
          7,
          6,
          6,
          6,
          6,
          6,
          6,
          6,
          4,
          4,
          6,
          7,
          4,
          1,
          6,
          1,
          7,
          7,
          7,
          6,
          7,
          7,
          7,
          4,
          6,
          6,
          6,
          6,
          6
         ],
         "xaxis": "x",
         "yaxis": "y"
        },
        {
         "alignmentgroup": "True",
         "bingroup": "x",
         "hovertemplate": "Chest Pain=7<br>Dust Allergy=%{x}<br>count=%{y}<extra></extra>",
         "legendgroup": "7",
         "marker": {
          "color": "#00cc96",
          "pattern": {
           "shape": ""
          }
         },
         "name": "7",
         "nbinsx": 10,
         "offsetgroup": "7",
         "orientation": "v",
         "showlegend": true,
         "texttemplate": "%{value}",
         "type": "histogram",
         "x": [
          7,
          7,
          7,
          7,
          7,
          7,
          7,
          7,
          7,
          7,
          7,
          2,
          8,
          6,
          4,
          7,
          7,
          7,
          7,
          7,
          7,
          7,
          7,
          7,
          7,
          7,
          7,
          7,
          7,
          7,
          7,
          7,
          7,
          7,
          7,
          7,
          7,
          7,
          7,
          7,
          7,
          7,
          7,
          7,
          2,
          2,
          8,
          6,
          4,
          7,
          7,
          7,
          7,
          7,
          7,
          7,
          7,
          7,
          7,
          8,
          7,
          7,
          7,
          7,
          7,
          7,
          7,
          6,
          7,
          7,
          7,
          7,
          4,
          7,
          7,
          7,
          7,
          7,
          2,
          8,
          6,
          4,
          7,
          7,
          7,
          7,
          7,
          7,
          7,
          7,
          7,
          7,
          7,
          7,
          7,
          7,
          7,
          7,
          7,
          7,
          7,
          7,
          7,
          7,
          7,
          7,
          7,
          7,
          2,
          8,
          6,
          4,
          7,
          7,
          7,
          7,
          7,
          7,
          7,
          7,
          7,
          7,
          7,
          7,
          7,
          7,
          7,
          7,
          7,
          7,
          7,
          7,
          7,
          7,
          7,
          7,
          7,
          7,
          7,
          2,
          8,
          6,
          4,
          7,
          7,
          7,
          7,
          7,
          7,
          7,
          7,
          7,
          7,
          7,
          7,
          7,
          7,
          7,
          7,
          7,
          7,
          7,
          7,
          7,
          7,
          7,
          7,
          7,
          7,
          7,
          2,
          8,
          6,
          4,
          7,
          7,
          7,
          7,
          7,
          7,
          7,
          7,
          7,
          7,
          7,
          7,
          7,
          7,
          7,
          7,
          7,
          7,
          7,
          7,
          7,
          7,
          7,
          7,
          7,
          7,
          2,
          8,
          6,
          4,
          7,
          7,
          7,
          7,
          7,
          7,
          7,
          7,
          7,
          7,
          7,
          7,
          7,
          7,
          7,
          7,
          7,
          7,
          7,
          7,
          7,
          7,
          7,
          7,
          7,
          7,
          7,
          7,
          7,
          7,
          7,
          7,
          2,
          7,
          8,
          6,
          4,
          7,
          7,
          7,
          7,
          7,
          7,
          7,
          7,
          7,
          7,
          7,
          7,
          7,
          7,
          7,
          7,
          7,
          7,
          7,
          7,
          7,
          7,
          7,
          7,
          7,
          7,
          7,
          7,
          7,
          7,
          7,
          7,
          7,
          2,
          7,
          8,
          6,
          4,
          7,
          7,
          7,
          7,
          7,
          7,
          7,
          7,
          7,
          7,
          7,
          7,
          7,
          7,
          7,
          7,
          7
         ],
         "xaxis": "x",
         "yaxis": "y"
        },
        {
         "alignmentgroup": "True",
         "bingroup": "x",
         "hovertemplate": "Chest Pain=3<br>Dust Allergy=%{x}<br>count=%{y}<extra></extra>",
         "legendgroup": "3",
         "marker": {
          "color": "#ab63fa",
          "pattern": {
           "shape": ""
          }
         },
         "name": "3",
         "nbinsx": 10,
         "offsetgroup": "3",
         "orientation": "v",
         "showlegend": true,
         "texttemplate": "%{value}",
         "type": "histogram",
         "x": [
          4,
          4,
          4,
          4,
          2,
          2,
          1,
          3,
          4,
          3,
          4,
          4,
          3,
          4,
          3,
          4,
          4,
          4,
          4,
          4,
          4,
          2,
          2,
          1,
          3,
          4,
          3,
          4,
          4,
          4,
          3,
          4,
          3,
          4,
          4,
          4,
          4,
          4,
          2,
          2,
          1,
          3,
          4,
          3,
          4,
          4,
          3,
          4,
          3,
          2,
          4,
          4,
          4,
          2,
          4,
          2,
          2,
          1,
          3,
          4,
          3,
          4,
          4,
          3,
          4,
          3,
          1,
          4,
          4,
          4,
          3,
          4,
          2,
          2,
          1,
          3,
          4,
          4,
          3,
          4,
          4,
          3,
          4,
          3,
          3,
          4,
          4,
          4,
          4,
          4,
          2,
          2,
          4,
          1,
          3,
          4,
          3,
          4,
          4,
          3,
          4,
          3,
          3,
          4,
          4,
          4,
          4,
          3,
          4,
          2,
          2,
          1,
          3,
          4,
          3,
          4,
          4,
          3,
          4,
          3,
          4,
          4,
          4,
          4,
          2,
          2,
          1,
          3,
          4,
          3,
          4,
          4,
          3,
          4,
          3,
          4,
          4,
          4,
          4,
          2,
          2,
          1,
          3,
          4,
          3,
          4,
          4,
          3,
          4,
          3,
          4,
          4,
          3
         ],
         "xaxis": "x",
         "yaxis": "y"
        },
        {
         "alignmentgroup": "True",
         "bingroup": "x",
         "hovertemplate": "Chest Pain=6<br>Dust Allergy=%{x}<br>count=%{y}<extra></extra>",
         "legendgroup": "6",
         "marker": {
          "color": "#FFA15A",
          "pattern": {
           "shape": ""
          }
         },
         "name": "6",
         "nbinsx": 10,
         "offsetgroup": "6",
         "orientation": "v",
         "showlegend": true,
         "texttemplate": "%{value}",
         "type": "histogram",
         "x": [
          6,
          6,
          5,
          5,
          2,
          6,
          6,
          5,
          2,
          6,
          6,
          6,
          5,
          2,
          2,
          6,
          6,
          5,
          2,
          6,
          6,
          5,
          2,
          6,
          6,
          5,
          2,
          6,
          6,
          6,
          5,
          2,
          6,
          6,
          5,
          2,
          6,
          6,
          5,
          2
         ],
         "xaxis": "x",
         "yaxis": "y"
        },
        {
         "alignmentgroup": "True",
         "bingroup": "x",
         "hovertemplate": "Chest Pain=5<br>Dust Allergy=%{x}<br>count=%{y}<extra></extra>",
         "legendgroup": "5",
         "marker": {
          "color": "#19d3f3",
          "pattern": {
           "shape": ""
          }
         },
         "name": "5",
         "nbinsx": 10,
         "offsetgroup": "5",
         "orientation": "v",
         "showlegend": true,
         "texttemplate": "%{value}",
         "type": "histogram",
         "x": [
          6,
          6,
          6,
          6,
          6,
          6,
          6,
          6,
          6,
          6
         ],
         "xaxis": "x",
         "yaxis": "y"
        },
        {
         "alignmentgroup": "True",
         "bingroup": "x",
         "hovertemplate": "Chest Pain=9<br>Dust Allergy=%{x}<br>count=%{y}<extra></extra>",
         "legendgroup": "9",
         "marker": {
          "color": "#FF6692",
          "pattern": {
           "shape": ""
          }
         },
         "name": "9",
         "nbinsx": 10,
         "offsetgroup": "9",
         "orientation": "v",
         "showlegend": true,
         "texttemplate": "%{value}",
         "type": "histogram",
         "x": [
          7,
          7,
          7,
          7,
          7,
          7,
          7,
          7,
          7,
          7,
          7,
          7,
          7,
          7,
          7,
          7,
          7,
          7,
          7
         ],
         "xaxis": "x",
         "yaxis": "y"
        },
        {
         "alignmentgroup": "True",
         "bingroup": "x",
         "hovertemplate": "Chest Pain=8<br>Dust Allergy=%{x}<br>count=%{y}<extra></extra>",
         "legendgroup": "8",
         "marker": {
          "color": "#B6E880",
          "pattern": {
           "shape": ""
          }
         },
         "name": "8",
         "nbinsx": 10,
         "offsetgroup": "8",
         "orientation": "v",
         "showlegend": true,
         "texttemplate": "%{value}",
         "type": "histogram",
         "x": [
          7,
          7,
          7,
          7,
          7,
          7,
          7,
          7,
          7,
          7,
          7,
          7,
          7,
          7,
          7,
          7,
          7,
          7,
          7,
          7,
          7,
          7,
          7,
          7,
          7,
          7,
          7,
          7,
          7,
          7
         ],
         "xaxis": "x",
         "yaxis": "y"
        },
        {
         "alignmentgroup": "True",
         "bingroup": "x",
         "hovertemplate": "Chest Pain=1<br>Dust Allergy=%{x}<br>count=%{y}<extra></extra>",
         "legendgroup": "1",
         "marker": {
          "color": "#FF97FF",
          "pattern": {
           "shape": ""
          }
         },
         "name": "1",
         "nbinsx": 10,
         "offsetgroup": "1",
         "orientation": "v",
         "showlegend": true,
         "texttemplate": "%{value}",
         "type": "histogram",
         "x": [
          3,
          3,
          3,
          2,
          3,
          3,
          1,
          4,
          3,
          3,
          3,
          2,
          3,
          3,
          1,
          4,
          3,
          3,
          3,
          3,
          2,
          3,
          3,
          1,
          3,
          4,
          3,
          2,
          3,
          3,
          3,
          3,
          2,
          3,
          3,
          1,
          3,
          4,
          1,
          4,
          3,
          3,
          3,
          2,
          3,
          3,
          1,
          4,
          3,
          3,
          3,
          2,
          3,
          3,
          1,
          4,
          3,
          3,
          3,
          2,
          3,
          3,
          1,
          4,
          3,
          3,
          3,
          2,
          3,
          3,
          1,
          4,
          3,
          3,
          3,
          2,
          3,
          3,
          1,
          4
         ],
         "xaxis": "x",
         "yaxis": "y"
        }
       ],
       "layout": {
        "barmode": "relative",
        "legend": {
         "title": {
          "text": "Chest Pain"
         },
         "tracegroupgap": 0
        },
        "template": {
         "data": {
          "bar": [
           {
            "error_x": {
             "color": "#2a3f5f"
            },
            "error_y": {
             "color": "#2a3f5f"
            },
            "marker": {
             "line": {
              "color": "#E5ECF6",
              "width": 0.5
             },
             "pattern": {
              "fillmode": "overlay",
              "size": 10,
              "solidity": 0.2
             }
            },
            "type": "bar"
           }
          ],
          "barpolar": [
           {
            "marker": {
             "line": {
              "color": "#E5ECF6",
              "width": 0.5
             },
             "pattern": {
              "fillmode": "overlay",
              "size": 10,
              "solidity": 0.2
             }
            },
            "type": "barpolar"
           }
          ],
          "carpet": [
           {
            "aaxis": {
             "endlinecolor": "#2a3f5f",
             "gridcolor": "white",
             "linecolor": "white",
             "minorgridcolor": "white",
             "startlinecolor": "#2a3f5f"
            },
            "baxis": {
             "endlinecolor": "#2a3f5f",
             "gridcolor": "white",
             "linecolor": "white",
             "minorgridcolor": "white",
             "startlinecolor": "#2a3f5f"
            },
            "type": "carpet"
           }
          ],
          "choropleth": [
           {
            "colorbar": {
             "outlinewidth": 0,
             "ticks": ""
            },
            "type": "choropleth"
           }
          ],
          "contour": [
           {
            "colorbar": {
             "outlinewidth": 0,
             "ticks": ""
            },
            "colorscale": [
             [
              0,
              "#0d0887"
             ],
             [
              0.1111111111111111,
              "#46039f"
             ],
             [
              0.2222222222222222,
              "#7201a8"
             ],
             [
              0.3333333333333333,
              "#9c179e"
             ],
             [
              0.4444444444444444,
              "#bd3786"
             ],
             [
              0.5555555555555556,
              "#d8576b"
             ],
             [
              0.6666666666666666,
              "#ed7953"
             ],
             [
              0.7777777777777778,
              "#fb9f3a"
             ],
             [
              0.8888888888888888,
              "#fdca26"
             ],
             [
              1,
              "#f0f921"
             ]
            ],
            "type": "contour"
           }
          ],
          "contourcarpet": [
           {
            "colorbar": {
             "outlinewidth": 0,
             "ticks": ""
            },
            "type": "contourcarpet"
           }
          ],
          "heatmap": [
           {
            "colorbar": {
             "outlinewidth": 0,
             "ticks": ""
            },
            "colorscale": [
             [
              0,
              "#0d0887"
             ],
             [
              0.1111111111111111,
              "#46039f"
             ],
             [
              0.2222222222222222,
              "#7201a8"
             ],
             [
              0.3333333333333333,
              "#9c179e"
             ],
             [
              0.4444444444444444,
              "#bd3786"
             ],
             [
              0.5555555555555556,
              "#d8576b"
             ],
             [
              0.6666666666666666,
              "#ed7953"
             ],
             [
              0.7777777777777778,
              "#fb9f3a"
             ],
             [
              0.8888888888888888,
              "#fdca26"
             ],
             [
              1,
              "#f0f921"
             ]
            ],
            "type": "heatmap"
           }
          ],
          "heatmapgl": [
           {
            "colorbar": {
             "outlinewidth": 0,
             "ticks": ""
            },
            "colorscale": [
             [
              0,
              "#0d0887"
             ],
             [
              0.1111111111111111,
              "#46039f"
             ],
             [
              0.2222222222222222,
              "#7201a8"
             ],
             [
              0.3333333333333333,
              "#9c179e"
             ],
             [
              0.4444444444444444,
              "#bd3786"
             ],
             [
              0.5555555555555556,
              "#d8576b"
             ],
             [
              0.6666666666666666,
              "#ed7953"
             ],
             [
              0.7777777777777778,
              "#fb9f3a"
             ],
             [
              0.8888888888888888,
              "#fdca26"
             ],
             [
              1,
              "#f0f921"
             ]
            ],
            "type": "heatmapgl"
           }
          ],
          "histogram": [
           {
            "marker": {
             "pattern": {
              "fillmode": "overlay",
              "size": 10,
              "solidity": 0.2
             }
            },
            "type": "histogram"
           }
          ],
          "histogram2d": [
           {
            "colorbar": {
             "outlinewidth": 0,
             "ticks": ""
            },
            "colorscale": [
             [
              0,
              "#0d0887"
             ],
             [
              0.1111111111111111,
              "#46039f"
             ],
             [
              0.2222222222222222,
              "#7201a8"
             ],
             [
              0.3333333333333333,
              "#9c179e"
             ],
             [
              0.4444444444444444,
              "#bd3786"
             ],
             [
              0.5555555555555556,
              "#d8576b"
             ],
             [
              0.6666666666666666,
              "#ed7953"
             ],
             [
              0.7777777777777778,
              "#fb9f3a"
             ],
             [
              0.8888888888888888,
              "#fdca26"
             ],
             [
              1,
              "#f0f921"
             ]
            ],
            "type": "histogram2d"
           }
          ],
          "histogram2dcontour": [
           {
            "colorbar": {
             "outlinewidth": 0,
             "ticks": ""
            },
            "colorscale": [
             [
              0,
              "#0d0887"
             ],
             [
              0.1111111111111111,
              "#46039f"
             ],
             [
              0.2222222222222222,
              "#7201a8"
             ],
             [
              0.3333333333333333,
              "#9c179e"
             ],
             [
              0.4444444444444444,
              "#bd3786"
             ],
             [
              0.5555555555555556,
              "#d8576b"
             ],
             [
              0.6666666666666666,
              "#ed7953"
             ],
             [
              0.7777777777777778,
              "#fb9f3a"
             ],
             [
              0.8888888888888888,
              "#fdca26"
             ],
             [
              1,
              "#f0f921"
             ]
            ],
            "type": "histogram2dcontour"
           }
          ],
          "mesh3d": [
           {
            "colorbar": {
             "outlinewidth": 0,
             "ticks": ""
            },
            "type": "mesh3d"
           }
          ],
          "parcoords": [
           {
            "line": {
             "colorbar": {
              "outlinewidth": 0,
              "ticks": ""
             }
            },
            "type": "parcoords"
           }
          ],
          "pie": [
           {
            "automargin": true,
            "type": "pie"
           }
          ],
          "scatter": [
           {
            "fillpattern": {
             "fillmode": "overlay",
             "size": 10,
             "solidity": 0.2
            },
            "type": "scatter"
           }
          ],
          "scatter3d": [
           {
            "line": {
             "colorbar": {
              "outlinewidth": 0,
              "ticks": ""
             }
            },
            "marker": {
             "colorbar": {
              "outlinewidth": 0,
              "ticks": ""
             }
            },
            "type": "scatter3d"
           }
          ],
          "scattercarpet": [
           {
            "marker": {
             "colorbar": {
              "outlinewidth": 0,
              "ticks": ""
             }
            },
            "type": "scattercarpet"
           }
          ],
          "scattergeo": [
           {
            "marker": {
             "colorbar": {
              "outlinewidth": 0,
              "ticks": ""
             }
            },
            "type": "scattergeo"
           }
          ],
          "scattergl": [
           {
            "marker": {
             "colorbar": {
              "outlinewidth": 0,
              "ticks": ""
             }
            },
            "type": "scattergl"
           }
          ],
          "scattermapbox": [
           {
            "marker": {
             "colorbar": {
              "outlinewidth": 0,
              "ticks": ""
             }
            },
            "type": "scattermapbox"
           }
          ],
          "scatterpolar": [
           {
            "marker": {
             "colorbar": {
              "outlinewidth": 0,
              "ticks": ""
             }
            },
            "type": "scatterpolar"
           }
          ],
          "scatterpolargl": [
           {
            "marker": {
             "colorbar": {
              "outlinewidth": 0,
              "ticks": ""
             }
            },
            "type": "scatterpolargl"
           }
          ],
          "scatterternary": [
           {
            "marker": {
             "colorbar": {
              "outlinewidth": 0,
              "ticks": ""
             }
            },
            "type": "scatterternary"
           }
          ],
          "surface": [
           {
            "colorbar": {
             "outlinewidth": 0,
             "ticks": ""
            },
            "colorscale": [
             [
              0,
              "#0d0887"
             ],
             [
              0.1111111111111111,
              "#46039f"
             ],
             [
              0.2222222222222222,
              "#7201a8"
             ],
             [
              0.3333333333333333,
              "#9c179e"
             ],
             [
              0.4444444444444444,
              "#bd3786"
             ],
             [
              0.5555555555555556,
              "#d8576b"
             ],
             [
              0.6666666666666666,
              "#ed7953"
             ],
             [
              0.7777777777777778,
              "#fb9f3a"
             ],
             [
              0.8888888888888888,
              "#fdca26"
             ],
             [
              1,
              "#f0f921"
             ]
            ],
            "type": "surface"
           }
          ],
          "table": [
           {
            "cells": {
             "fill": {
              "color": "#EBF0F8"
             },
             "line": {
              "color": "white"
             }
            },
            "header": {
             "fill": {
              "color": "#C8D4E3"
             },
             "line": {
              "color": "white"
             }
            },
            "type": "table"
           }
          ]
         },
         "layout": {
          "annotationdefaults": {
           "arrowcolor": "#2a3f5f",
           "arrowhead": 0,
           "arrowwidth": 1
          },
          "autotypenumbers": "strict",
          "coloraxis": {
           "colorbar": {
            "outlinewidth": 0,
            "ticks": ""
           }
          },
          "colorscale": {
           "diverging": [
            [
             0,
             "#8e0152"
            ],
            [
             0.1,
             "#c51b7d"
            ],
            [
             0.2,
             "#de77ae"
            ],
            [
             0.3,
             "#f1b6da"
            ],
            [
             0.4,
             "#fde0ef"
            ],
            [
             0.5,
             "#f7f7f7"
            ],
            [
             0.6,
             "#e6f5d0"
            ],
            [
             0.7,
             "#b8e186"
            ],
            [
             0.8,
             "#7fbc41"
            ],
            [
             0.9,
             "#4d9221"
            ],
            [
             1,
             "#276419"
            ]
           ],
           "sequential": [
            [
             0,
             "#0d0887"
            ],
            [
             0.1111111111111111,
             "#46039f"
            ],
            [
             0.2222222222222222,
             "#7201a8"
            ],
            [
             0.3333333333333333,
             "#9c179e"
            ],
            [
             0.4444444444444444,
             "#bd3786"
            ],
            [
             0.5555555555555556,
             "#d8576b"
            ],
            [
             0.6666666666666666,
             "#ed7953"
            ],
            [
             0.7777777777777778,
             "#fb9f3a"
            ],
            [
             0.8888888888888888,
             "#fdca26"
            ],
            [
             1,
             "#f0f921"
            ]
           ],
           "sequentialminus": [
            [
             0,
             "#0d0887"
            ],
            [
             0.1111111111111111,
             "#46039f"
            ],
            [
             0.2222222222222222,
             "#7201a8"
            ],
            [
             0.3333333333333333,
             "#9c179e"
            ],
            [
             0.4444444444444444,
             "#bd3786"
            ],
            [
             0.5555555555555556,
             "#d8576b"
            ],
            [
             0.6666666666666666,
             "#ed7953"
            ],
            [
             0.7777777777777778,
             "#fb9f3a"
            ],
            [
             0.8888888888888888,
             "#fdca26"
            ],
            [
             1,
             "#f0f921"
            ]
           ]
          },
          "colorway": [
           "#636efa",
           "#EF553B",
           "#00cc96",
           "#ab63fa",
           "#FFA15A",
           "#19d3f3",
           "#FF6692",
           "#B6E880",
           "#FF97FF",
           "#FECB52"
          ],
          "font": {
           "color": "#2a3f5f"
          },
          "geo": {
           "bgcolor": "white",
           "lakecolor": "white",
           "landcolor": "#E5ECF6",
           "showlakes": true,
           "showland": true,
           "subunitcolor": "white"
          },
          "hoverlabel": {
           "align": "left"
          },
          "hovermode": "closest",
          "mapbox": {
           "style": "light"
          },
          "paper_bgcolor": "white",
          "plot_bgcolor": "#E5ECF6",
          "polar": {
           "angularaxis": {
            "gridcolor": "white",
            "linecolor": "white",
            "ticks": ""
           },
           "bgcolor": "#E5ECF6",
           "radialaxis": {
            "gridcolor": "white",
            "linecolor": "white",
            "ticks": ""
           }
          },
          "scene": {
           "xaxis": {
            "backgroundcolor": "#E5ECF6",
            "gridcolor": "white",
            "gridwidth": 2,
            "linecolor": "white",
            "showbackground": true,
            "ticks": "",
            "zerolinecolor": "white"
           },
           "yaxis": {
            "backgroundcolor": "#E5ECF6",
            "gridcolor": "white",
            "gridwidth": 2,
            "linecolor": "white",
            "showbackground": true,
            "ticks": "",
            "zerolinecolor": "white"
           },
           "zaxis": {
            "backgroundcolor": "#E5ECF6",
            "gridcolor": "white",
            "gridwidth": 2,
            "linecolor": "white",
            "showbackground": true,
            "ticks": "",
            "zerolinecolor": "white"
           }
          },
          "shapedefaults": {
           "line": {
            "color": "#2a3f5f"
           }
          },
          "ternary": {
           "aaxis": {
            "gridcolor": "white",
            "linecolor": "white",
            "ticks": ""
           },
           "baxis": {
            "gridcolor": "white",
            "linecolor": "white",
            "ticks": ""
           },
           "bgcolor": "#E5ECF6",
           "caxis": {
            "gridcolor": "white",
            "linecolor": "white",
            "ticks": ""
           }
          },
          "title": {
           "x": 0.05
          },
          "xaxis": {
           "automargin": true,
           "gridcolor": "white",
           "linecolor": "white",
           "ticks": "",
           "title": {
            "standoff": 15
           },
           "zerolinecolor": "white",
           "zerolinewidth": 2
          },
          "yaxis": {
           "automargin": true,
           "gridcolor": "white",
           "linecolor": "white",
           "ticks": "",
           "title": {
            "standoff": 15
           },
           "zerolinecolor": "white",
           "zerolinewidth": 2
          }
         }
        },
        "title": {
         "text": "Distribution of Dust Allergy"
        },
        "xaxis": {
         "anchor": "y",
         "domain": [
          0,
          1
         ],
         "title": {
          "text": "Dust Allergy"
         }
        },
        "yaxis": {
         "anchor": "x",
         "domain": [
          0,
          1
         ],
         "title": {
          "text": "count"
         }
        }
       }
      }
     },
     "metadata": {},
     "output_type": "display_data"
    }
   ],
   "source": [
    "# Dust Allergy and Chest Pain\n",
    "fig = px.histogram(lung, x = 'Dust Allergy', color = 'Chest Pain', nbins = 10, title = 'Distribution of Dust Allergy', text_auto = True)\n",
    "fig.show()"
   ]
  },
  {
   "attachments": {},
   "cell_type": "markdown",
   "metadata": {},
   "source": [
    "Once again while shortness of breath is quite random, chest pain and coughing of blood shows a significant skew. It does appear that high levels of dust allergy may leave one predisposed to lung cancer. "
   ]
  },
  {
   "attachments": {},
   "cell_type": "markdown",
   "metadata": {},
   "source": [
    "#### Smoking"
   ]
  },
  {
   "cell_type": "code",
   "execution_count": 64,
   "metadata": {},
   "outputs": [
    {
     "data": {
      "application/vnd.plotly.v1+json": {
       "config": {
        "plotlyServerURL": "https://plot.ly"
       },
       "data": [
        {
         "alignmentgroup": "True",
         "bingroup": "x",
         "hovertemplate": "Coughing of Blood=4<br>Smoking=%{x}<br>count=%{y}<extra></extra>",
         "legendgroup": "4",
         "marker": {
          "color": "#636efa",
          "pattern": {
           "shape": ""
          }
         },
         "name": "4",
         "nbinsx": 10,
         "offsetgroup": "4",
         "orientation": "v",
         "showlegend": true,
         "texttemplate": "%{value}",
         "type": "histogram",
         "x": [
          3,
          3,
          2,
          1,
          3,
          4,
          1,
          2,
          2,
          4,
          3,
          1,
          3,
          1,
          1,
          3,
          1,
          3,
          1,
          3,
          2,
          1,
          3,
          4,
          1,
          2,
          2,
          4,
          3,
          1,
          3,
          3,
          1,
          1,
          3,
          1,
          3,
          4,
          3,
          2,
          1,
          3,
          4,
          1,
          1,
          2,
          2,
          4,
          3,
          1,
          3,
          1,
          1,
          3,
          1,
          3,
          2,
          2,
          3,
          2,
          2,
          1,
          3,
          4,
          1,
          2,
          2,
          4,
          3,
          1,
          3,
          1,
          1,
          3,
          1,
          3,
          4,
          3,
          2,
          1,
          3,
          3,
          4,
          1,
          2,
          2,
          1,
          4,
          3,
          1,
          3,
          1,
          1,
          3,
          1,
          3,
          3,
          3,
          2,
          1,
          1,
          3,
          4,
          1,
          1,
          2,
          2,
          4,
          3,
          1,
          3,
          1,
          1,
          3,
          1,
          3,
          3,
          3,
          2,
          1,
          1,
          3,
          3,
          4,
          1,
          2,
          2,
          4,
          3,
          1,
          3,
          1,
          1,
          3,
          1,
          3,
          3,
          2,
          1,
          3,
          4,
          1,
          2,
          2,
          4,
          3,
          1,
          3,
          1,
          1,
          3,
          1,
          3,
          3,
          2,
          1,
          3,
          4,
          1,
          2,
          2,
          4,
          3,
          1,
          3,
          1,
          1,
          3,
          1,
          3,
          3,
          3
         ],
         "xaxis": "x",
         "yaxis": "y"
        },
        {
         "alignmentgroup": "True",
         "bingroup": "x",
         "hovertemplate": "Coughing of Blood=3<br>Smoking=%{x}<br>count=%{y}<extra></extra>",
         "legendgroup": "3",
         "marker": {
          "color": "#EF553B",
          "pattern": {
           "shape": ""
          }
         },
         "name": "3",
         "nbinsx": 10,
         "offsetgroup": "3",
         "orientation": "v",
         "showlegend": true,
         "texttemplate": "%{value}",
         "type": "histogram",
         "x": [
          2,
          2,
          1,
          2,
          7,
          3,
          2,
          3,
          1,
          2,
          1,
          2,
          1,
          2,
          1,
          1,
          2,
          1,
          1,
          2,
          2,
          1,
          2,
          7,
          3,
          7,
          2,
          3,
          1,
          2,
          1,
          2,
          1,
          2,
          1,
          1,
          2,
          1,
          2,
          1,
          2,
          7,
          3,
          3,
          2,
          3,
          1,
          2,
          1,
          2,
          1,
          2,
          1,
          1,
          2,
          1,
          2,
          1,
          2,
          7,
          3,
          2,
          2,
          3,
          1,
          2,
          1,
          2,
          1,
          2,
          1,
          1,
          2,
          1,
          2,
          3,
          1,
          2,
          7,
          3,
          1,
          2,
          3,
          1,
          2,
          2,
          1,
          2,
          1,
          2,
          1,
          1,
          2,
          1,
          1,
          2,
          2,
          1,
          2,
          7,
          1,
          3,
          2,
          2,
          3,
          1,
          2,
          1,
          2,
          1,
          2,
          1,
          1,
          2,
          1,
          1,
          1,
          2,
          2,
          1,
          2,
          7,
          3,
          1,
          2,
          3,
          1,
          2,
          1,
          2,
          1,
          2,
          1,
          1,
          2,
          1,
          2,
          1,
          2,
          7,
          3,
          2,
          3,
          1,
          2,
          1,
          2,
          1,
          2,
          1,
          1,
          2,
          1,
          2,
          1,
          2,
          7,
          3,
          2,
          3,
          1,
          2,
          1,
          2,
          1,
          2,
          1,
          1,
          2,
          1,
          2
         ],
         "xaxis": "x",
         "yaxis": "y"
        },
        {
         "alignmentgroup": "True",
         "bingroup": "x",
         "hovertemplate": "Coughing of Blood=8<br>Smoking=%{x}<br>count=%{y}<extra></extra>",
         "legendgroup": "8",
         "marker": {
          "color": "#00cc96",
          "pattern": {
           "shape": ""
          }
         },
         "name": "8",
         "nbinsx": 10,
         "offsetgroup": "8",
         "orientation": "v",
         "showlegend": true,
         "texttemplate": "%{value}",
         "type": "histogram",
         "x": [
          2,
          7,
          2,
          7,
          7,
          2,
          4,
          2,
          2,
          7,
          2,
          2,
          7,
          2,
          2,
          7,
          2,
          7,
          2,
          4,
          2,
          7,
          2,
          4,
          2,
          7,
          2,
          2,
          7,
          2,
          7,
          2,
          4,
          2,
          7,
          2,
          2,
          7,
          2,
          2,
          7,
          2,
          7,
          2,
          4,
          2,
          7,
          2,
          2,
          7,
          2,
          2,
          7,
          2,
          7,
          2,
          4,
          2,
          7,
          2,
          2,
          7,
          2,
          2,
          7,
          2,
          7,
          2,
          4,
          2,
          7,
          2,
          2,
          7,
          2,
          2,
          7,
          2,
          7,
          2,
          4,
          2,
          7,
          2,
          2,
          2,
          7,
          2,
          2,
          7,
          2,
          7,
          2,
          7,
          4,
          2,
          2,
          2,
          7,
          2,
          2,
          7,
          2,
          2,
          7,
          2,
          7,
          7,
          2,
          4,
          2,
          2,
          2,
          2,
          7,
          2,
          7,
          2,
          2
         ],
         "xaxis": "x",
         "yaxis": "y"
        },
        {
         "alignmentgroup": "True",
         "bingroup": "x",
         "hovertemplate": "Coughing of Blood=9<br>Smoking=%{x}<br>count=%{y}<extra></extra>",
         "legendgroup": "9",
         "marker": {
          "color": "#ab63fa",
          "pattern": {
           "shape": ""
          }
         },
         "name": "9",
         "nbinsx": 10,
         "offsetgroup": "9",
         "orientation": "v",
         "showlegend": true,
         "texttemplate": "%{value}",
         "type": "histogram",
         "x": [
          8,
          8,
          8,
          8,
          8,
          8,
          8,
          8,
          8,
          8,
          8,
          8,
          8,
          8,
          8,
          8,
          8,
          8,
          8,
          8,
          8,
          8,
          8,
          8,
          8,
          8,
          8,
          8,
          8,
          8,
          8,
          8,
          8,
          8,
          8,
          8,
          8,
          8,
          8,
          8,
          8,
          8,
          8,
          8,
          8,
          8,
          8,
          8,
          8,
          8,
          8,
          8,
          8,
          8,
          8,
          8,
          8,
          8,
          8,
          8
         ],
         "xaxis": "x",
         "yaxis": "y"
        },
        {
         "alignmentgroup": "True",
         "bingroup": "x",
         "hovertemplate": "Coughing of Blood=1<br>Smoking=%{x}<br>count=%{y}<extra></extra>",
         "legendgroup": "1",
         "marker": {
          "color": "#FFA15A",
          "pattern": {
           "shape": ""
          }
         },
         "name": "1",
         "nbinsx": 10,
         "offsetgroup": "1",
         "orientation": "v",
         "showlegend": true,
         "texttemplate": "%{value}",
         "type": "histogram",
         "x": [
          1,
          1,
          1,
          2,
          3,
          2,
          7,
          1,
          1,
          1,
          1,
          2,
          3,
          2,
          7,
          1,
          1,
          1,
          1,
          1,
          2,
          3,
          2,
          7,
          2,
          3,
          1,
          1,
          1,
          2,
          2,
          3,
          2,
          7,
          7,
          1,
          1,
          1,
          2,
          3,
          2,
          7,
          1,
          1,
          1,
          2,
          3,
          2,
          7,
          1,
          1,
          1,
          2,
          3,
          2,
          7,
          1,
          1,
          1,
          2,
          3,
          2,
          7,
          1,
          1,
          1,
          2,
          3,
          2,
          7,
          1
         ],
         "xaxis": "x",
         "yaxis": "y"
        },
        {
         "alignmentgroup": "True",
         "bingroup": "x",
         "hovertemplate": "Coughing of Blood=5<br>Smoking=%{x}<br>count=%{y}<extra></extra>",
         "legendgroup": "5",
         "marker": {
          "color": "#19d3f3",
          "pattern": {
           "shape": ""
          }
         },
         "name": "5",
         "nbinsx": 10,
         "offsetgroup": "5",
         "orientation": "v",
         "showlegend": true,
         "texttemplate": "%{value}",
         "type": "histogram",
         "x": [
          6,
          8,
          5,
          5,
          2,
          3,
          6,
          8,
          5,
          2,
          3,
          6,
          6,
          8,
          5,
          2,
          3,
          6,
          8,
          5,
          2,
          3,
          2,
          6,
          3,
          8,
          5,
          2,
          3,
          6,
          8,
          5,
          2,
          3,
          6,
          8,
          5,
          2,
          3,
          6,
          8,
          5,
          2,
          3,
          8,
          6,
          8,
          5,
          2,
          3
         ],
         "xaxis": "x",
         "yaxis": "y"
        },
        {
         "alignmentgroup": "True",
         "bingroup": "x",
         "hovertemplate": "Coughing of Blood=7<br>Smoking=%{x}<br>count=%{y}<extra></extra>",
         "legendgroup": "7",
         "marker": {
          "color": "#FF6692",
          "pattern": {
           "shape": ""
          }
         },
         "name": "7",
         "nbinsx": 10,
         "offsetgroup": "7",
         "orientation": "v",
         "showlegend": true,
         "texttemplate": "%{value}",
         "type": "histogram",
         "x": [
          7,
          7,
          7,
          7,
          7,
          4,
          3,
          3,
          3,
          7,
          7,
          7,
          4,
          7,
          7,
          7,
          7,
          7,
          7,
          7,
          7,
          7,
          7,
          4,
          7,
          7,
          4,
          3,
          3,
          3,
          3,
          7,
          7,
          4,
          7,
          7,
          7,
          7,
          7,
          7,
          7,
          7,
          7,
          7,
          7,
          7,
          4,
          3,
          3,
          3,
          7,
          7,
          4,
          7,
          7,
          7,
          7,
          7,
          7,
          7,
          7,
          7,
          7,
          7,
          7,
          4,
          3,
          3,
          3,
          7,
          7,
          4,
          7,
          7,
          7,
          7,
          7,
          7,
          7,
          7,
          7,
          7,
          7,
          7,
          7,
          4,
          3,
          3,
          3,
          3,
          7,
          7,
          4,
          7,
          7,
          7,
          7,
          7,
          7,
          7,
          7,
          7,
          7,
          7,
          7,
          7,
          4,
          3,
          3,
          3,
          3,
          7,
          7,
          4,
          7,
          7,
          7,
          7,
          7,
          7,
          7,
          7,
          7,
          7,
          7,
          7,
          4,
          3,
          7,
          3,
          7,
          3,
          4,
          7,
          7,
          4,
          7,
          7,
          7,
          7,
          7,
          7,
          7,
          7,
          7,
          7,
          7,
          7,
          7,
          4,
          3,
          7,
          7,
          7,
          3,
          3,
          7,
          7,
          4,
          7,
          7,
          7,
          7,
          7,
          7,
          7,
          7,
          7,
          7,
          7,
          7,
          7,
          7,
          4,
          3,
          7,
          7,
          3,
          3,
          7,
          7,
          7,
          7,
          7,
          7,
          7,
          7
         ],
         "xaxis": "x",
         "yaxis": "y"
        },
        {
         "alignmentgroup": "True",
         "bingroup": "x",
         "hovertemplate": "Coughing of Blood=6<br>Smoking=%{x}<br>count=%{y}<extra></extra>",
         "legendgroup": "6",
         "marker": {
          "color": "#B6E880",
          "pattern": {
           "shape": ""
          }
         },
         "name": "6",
         "nbinsx": 10,
         "offsetgroup": "6",
         "orientation": "v",
         "showlegend": true,
         "texttemplate": "%{value}",
         "type": "histogram",
         "x": [
          6,
          8,
          6,
          8,
          4,
          8,
          6,
          8,
          6,
          6,
          4,
          8,
          6,
          8,
          6,
          4,
          8,
          6,
          8,
          6,
          4,
          4,
          8,
          6,
          8,
          6,
          4,
          8,
          6,
          8,
          6,
          4,
          8,
          6,
          6,
          8,
          6,
          4,
          8,
          8,
          6,
          8,
          6,
          4,
          8,
          6,
          8,
          6,
          4
         ],
         "xaxis": "x",
         "yaxis": "y"
        },
        {
         "alignmentgroup": "True",
         "bingroup": "x",
         "hovertemplate": "Coughing of Blood=2<br>Smoking=%{x}<br>count=%{y}<extra></extra>",
         "legendgroup": "2",
         "marker": {
          "color": "#FF97FF",
          "pattern": {
           "shape": ""
          }
         },
         "name": "2",
         "nbinsx": 10,
         "offsetgroup": "2",
         "orientation": "v",
         "showlegend": true,
         "texttemplate": "%{value}",
         "type": "histogram",
         "x": [
          2,
          3,
          2,
          6,
          3,
          6,
          1,
          1,
          7,
          6,
          3,
          3,
          2,
          3,
          3,
          2,
          6,
          3,
          6,
          1,
          1,
          7,
          6,
          3,
          3,
          2,
          6,
          2,
          3,
          2,
          6,
          3,
          6,
          1,
          1,
          3,
          7,
          6,
          6,
          3,
          3,
          1,
          1,
          2,
          3,
          2,
          6,
          3,
          6,
          1,
          1,
          7,
          6,
          3,
          3,
          7,
          6,
          2,
          3,
          2,
          6,
          3,
          6,
          1,
          1,
          7,
          6,
          3,
          3,
          3,
          2,
          3,
          2,
          6,
          3,
          6,
          1,
          1,
          7,
          6,
          3,
          3,
          3,
          2,
          3,
          2,
          6,
          3,
          6,
          1,
          1,
          7,
          6,
          3,
          3,
          2,
          2,
          3,
          2,
          6,
          3,
          6,
          1,
          1,
          7,
          6,
          3,
          3,
          2,
          3,
          2,
          6,
          3,
          6,
          1,
          1,
          7,
          6,
          3,
          3,
          2
         ],
         "xaxis": "x",
         "yaxis": "y"
        }
       ],
       "layout": {
        "barmode": "relative",
        "legend": {
         "title": {
          "text": "Coughing of Blood"
         },
         "tracegroupgap": 0
        },
        "template": {
         "data": {
          "bar": [
           {
            "error_x": {
             "color": "#2a3f5f"
            },
            "error_y": {
             "color": "#2a3f5f"
            },
            "marker": {
             "line": {
              "color": "#E5ECF6",
              "width": 0.5
             },
             "pattern": {
              "fillmode": "overlay",
              "size": 10,
              "solidity": 0.2
             }
            },
            "type": "bar"
           }
          ],
          "barpolar": [
           {
            "marker": {
             "line": {
              "color": "#E5ECF6",
              "width": 0.5
             },
             "pattern": {
              "fillmode": "overlay",
              "size": 10,
              "solidity": 0.2
             }
            },
            "type": "barpolar"
           }
          ],
          "carpet": [
           {
            "aaxis": {
             "endlinecolor": "#2a3f5f",
             "gridcolor": "white",
             "linecolor": "white",
             "minorgridcolor": "white",
             "startlinecolor": "#2a3f5f"
            },
            "baxis": {
             "endlinecolor": "#2a3f5f",
             "gridcolor": "white",
             "linecolor": "white",
             "minorgridcolor": "white",
             "startlinecolor": "#2a3f5f"
            },
            "type": "carpet"
           }
          ],
          "choropleth": [
           {
            "colorbar": {
             "outlinewidth": 0,
             "ticks": ""
            },
            "type": "choropleth"
           }
          ],
          "contour": [
           {
            "colorbar": {
             "outlinewidth": 0,
             "ticks": ""
            },
            "colorscale": [
             [
              0,
              "#0d0887"
             ],
             [
              0.1111111111111111,
              "#46039f"
             ],
             [
              0.2222222222222222,
              "#7201a8"
             ],
             [
              0.3333333333333333,
              "#9c179e"
             ],
             [
              0.4444444444444444,
              "#bd3786"
             ],
             [
              0.5555555555555556,
              "#d8576b"
             ],
             [
              0.6666666666666666,
              "#ed7953"
             ],
             [
              0.7777777777777778,
              "#fb9f3a"
             ],
             [
              0.8888888888888888,
              "#fdca26"
             ],
             [
              1,
              "#f0f921"
             ]
            ],
            "type": "contour"
           }
          ],
          "contourcarpet": [
           {
            "colorbar": {
             "outlinewidth": 0,
             "ticks": ""
            },
            "type": "contourcarpet"
           }
          ],
          "heatmap": [
           {
            "colorbar": {
             "outlinewidth": 0,
             "ticks": ""
            },
            "colorscale": [
             [
              0,
              "#0d0887"
             ],
             [
              0.1111111111111111,
              "#46039f"
             ],
             [
              0.2222222222222222,
              "#7201a8"
             ],
             [
              0.3333333333333333,
              "#9c179e"
             ],
             [
              0.4444444444444444,
              "#bd3786"
             ],
             [
              0.5555555555555556,
              "#d8576b"
             ],
             [
              0.6666666666666666,
              "#ed7953"
             ],
             [
              0.7777777777777778,
              "#fb9f3a"
             ],
             [
              0.8888888888888888,
              "#fdca26"
             ],
             [
              1,
              "#f0f921"
             ]
            ],
            "type": "heatmap"
           }
          ],
          "heatmapgl": [
           {
            "colorbar": {
             "outlinewidth": 0,
             "ticks": ""
            },
            "colorscale": [
             [
              0,
              "#0d0887"
             ],
             [
              0.1111111111111111,
              "#46039f"
             ],
             [
              0.2222222222222222,
              "#7201a8"
             ],
             [
              0.3333333333333333,
              "#9c179e"
             ],
             [
              0.4444444444444444,
              "#bd3786"
             ],
             [
              0.5555555555555556,
              "#d8576b"
             ],
             [
              0.6666666666666666,
              "#ed7953"
             ],
             [
              0.7777777777777778,
              "#fb9f3a"
             ],
             [
              0.8888888888888888,
              "#fdca26"
             ],
             [
              1,
              "#f0f921"
             ]
            ],
            "type": "heatmapgl"
           }
          ],
          "histogram": [
           {
            "marker": {
             "pattern": {
              "fillmode": "overlay",
              "size": 10,
              "solidity": 0.2
             }
            },
            "type": "histogram"
           }
          ],
          "histogram2d": [
           {
            "colorbar": {
             "outlinewidth": 0,
             "ticks": ""
            },
            "colorscale": [
             [
              0,
              "#0d0887"
             ],
             [
              0.1111111111111111,
              "#46039f"
             ],
             [
              0.2222222222222222,
              "#7201a8"
             ],
             [
              0.3333333333333333,
              "#9c179e"
             ],
             [
              0.4444444444444444,
              "#bd3786"
             ],
             [
              0.5555555555555556,
              "#d8576b"
             ],
             [
              0.6666666666666666,
              "#ed7953"
             ],
             [
              0.7777777777777778,
              "#fb9f3a"
             ],
             [
              0.8888888888888888,
              "#fdca26"
             ],
             [
              1,
              "#f0f921"
             ]
            ],
            "type": "histogram2d"
           }
          ],
          "histogram2dcontour": [
           {
            "colorbar": {
             "outlinewidth": 0,
             "ticks": ""
            },
            "colorscale": [
             [
              0,
              "#0d0887"
             ],
             [
              0.1111111111111111,
              "#46039f"
             ],
             [
              0.2222222222222222,
              "#7201a8"
             ],
             [
              0.3333333333333333,
              "#9c179e"
             ],
             [
              0.4444444444444444,
              "#bd3786"
             ],
             [
              0.5555555555555556,
              "#d8576b"
             ],
             [
              0.6666666666666666,
              "#ed7953"
             ],
             [
              0.7777777777777778,
              "#fb9f3a"
             ],
             [
              0.8888888888888888,
              "#fdca26"
             ],
             [
              1,
              "#f0f921"
             ]
            ],
            "type": "histogram2dcontour"
           }
          ],
          "mesh3d": [
           {
            "colorbar": {
             "outlinewidth": 0,
             "ticks": ""
            },
            "type": "mesh3d"
           }
          ],
          "parcoords": [
           {
            "line": {
             "colorbar": {
              "outlinewidth": 0,
              "ticks": ""
             }
            },
            "type": "parcoords"
           }
          ],
          "pie": [
           {
            "automargin": true,
            "type": "pie"
           }
          ],
          "scatter": [
           {
            "fillpattern": {
             "fillmode": "overlay",
             "size": 10,
             "solidity": 0.2
            },
            "type": "scatter"
           }
          ],
          "scatter3d": [
           {
            "line": {
             "colorbar": {
              "outlinewidth": 0,
              "ticks": ""
             }
            },
            "marker": {
             "colorbar": {
              "outlinewidth": 0,
              "ticks": ""
             }
            },
            "type": "scatter3d"
           }
          ],
          "scattercarpet": [
           {
            "marker": {
             "colorbar": {
              "outlinewidth": 0,
              "ticks": ""
             }
            },
            "type": "scattercarpet"
           }
          ],
          "scattergeo": [
           {
            "marker": {
             "colorbar": {
              "outlinewidth": 0,
              "ticks": ""
             }
            },
            "type": "scattergeo"
           }
          ],
          "scattergl": [
           {
            "marker": {
             "colorbar": {
              "outlinewidth": 0,
              "ticks": ""
             }
            },
            "type": "scattergl"
           }
          ],
          "scattermapbox": [
           {
            "marker": {
             "colorbar": {
              "outlinewidth": 0,
              "ticks": ""
             }
            },
            "type": "scattermapbox"
           }
          ],
          "scatterpolar": [
           {
            "marker": {
             "colorbar": {
              "outlinewidth": 0,
              "ticks": ""
             }
            },
            "type": "scatterpolar"
           }
          ],
          "scatterpolargl": [
           {
            "marker": {
             "colorbar": {
              "outlinewidth": 0,
              "ticks": ""
             }
            },
            "type": "scatterpolargl"
           }
          ],
          "scatterternary": [
           {
            "marker": {
             "colorbar": {
              "outlinewidth": 0,
              "ticks": ""
             }
            },
            "type": "scatterternary"
           }
          ],
          "surface": [
           {
            "colorbar": {
             "outlinewidth": 0,
             "ticks": ""
            },
            "colorscale": [
             [
              0,
              "#0d0887"
             ],
             [
              0.1111111111111111,
              "#46039f"
             ],
             [
              0.2222222222222222,
              "#7201a8"
             ],
             [
              0.3333333333333333,
              "#9c179e"
             ],
             [
              0.4444444444444444,
              "#bd3786"
             ],
             [
              0.5555555555555556,
              "#d8576b"
             ],
             [
              0.6666666666666666,
              "#ed7953"
             ],
             [
              0.7777777777777778,
              "#fb9f3a"
             ],
             [
              0.8888888888888888,
              "#fdca26"
             ],
             [
              1,
              "#f0f921"
             ]
            ],
            "type": "surface"
           }
          ],
          "table": [
           {
            "cells": {
             "fill": {
              "color": "#EBF0F8"
             },
             "line": {
              "color": "white"
             }
            },
            "header": {
             "fill": {
              "color": "#C8D4E3"
             },
             "line": {
              "color": "white"
             }
            },
            "type": "table"
           }
          ]
         },
         "layout": {
          "annotationdefaults": {
           "arrowcolor": "#2a3f5f",
           "arrowhead": 0,
           "arrowwidth": 1
          },
          "autotypenumbers": "strict",
          "coloraxis": {
           "colorbar": {
            "outlinewidth": 0,
            "ticks": ""
           }
          },
          "colorscale": {
           "diverging": [
            [
             0,
             "#8e0152"
            ],
            [
             0.1,
             "#c51b7d"
            ],
            [
             0.2,
             "#de77ae"
            ],
            [
             0.3,
             "#f1b6da"
            ],
            [
             0.4,
             "#fde0ef"
            ],
            [
             0.5,
             "#f7f7f7"
            ],
            [
             0.6,
             "#e6f5d0"
            ],
            [
             0.7,
             "#b8e186"
            ],
            [
             0.8,
             "#7fbc41"
            ],
            [
             0.9,
             "#4d9221"
            ],
            [
             1,
             "#276419"
            ]
           ],
           "sequential": [
            [
             0,
             "#0d0887"
            ],
            [
             0.1111111111111111,
             "#46039f"
            ],
            [
             0.2222222222222222,
             "#7201a8"
            ],
            [
             0.3333333333333333,
             "#9c179e"
            ],
            [
             0.4444444444444444,
             "#bd3786"
            ],
            [
             0.5555555555555556,
             "#d8576b"
            ],
            [
             0.6666666666666666,
             "#ed7953"
            ],
            [
             0.7777777777777778,
             "#fb9f3a"
            ],
            [
             0.8888888888888888,
             "#fdca26"
            ],
            [
             1,
             "#f0f921"
            ]
           ],
           "sequentialminus": [
            [
             0,
             "#0d0887"
            ],
            [
             0.1111111111111111,
             "#46039f"
            ],
            [
             0.2222222222222222,
             "#7201a8"
            ],
            [
             0.3333333333333333,
             "#9c179e"
            ],
            [
             0.4444444444444444,
             "#bd3786"
            ],
            [
             0.5555555555555556,
             "#d8576b"
            ],
            [
             0.6666666666666666,
             "#ed7953"
            ],
            [
             0.7777777777777778,
             "#fb9f3a"
            ],
            [
             0.8888888888888888,
             "#fdca26"
            ],
            [
             1,
             "#f0f921"
            ]
           ]
          },
          "colorway": [
           "#636efa",
           "#EF553B",
           "#00cc96",
           "#ab63fa",
           "#FFA15A",
           "#19d3f3",
           "#FF6692",
           "#B6E880",
           "#FF97FF",
           "#FECB52"
          ],
          "font": {
           "color": "#2a3f5f"
          },
          "geo": {
           "bgcolor": "white",
           "lakecolor": "white",
           "landcolor": "#E5ECF6",
           "showlakes": true,
           "showland": true,
           "subunitcolor": "white"
          },
          "hoverlabel": {
           "align": "left"
          },
          "hovermode": "closest",
          "mapbox": {
           "style": "light"
          },
          "paper_bgcolor": "white",
          "plot_bgcolor": "#E5ECF6",
          "polar": {
           "angularaxis": {
            "gridcolor": "white",
            "linecolor": "white",
            "ticks": ""
           },
           "bgcolor": "#E5ECF6",
           "radialaxis": {
            "gridcolor": "white",
            "linecolor": "white",
            "ticks": ""
           }
          },
          "scene": {
           "xaxis": {
            "backgroundcolor": "#E5ECF6",
            "gridcolor": "white",
            "gridwidth": 2,
            "linecolor": "white",
            "showbackground": true,
            "ticks": "",
            "zerolinecolor": "white"
           },
           "yaxis": {
            "backgroundcolor": "#E5ECF6",
            "gridcolor": "white",
            "gridwidth": 2,
            "linecolor": "white",
            "showbackground": true,
            "ticks": "",
            "zerolinecolor": "white"
           },
           "zaxis": {
            "backgroundcolor": "#E5ECF6",
            "gridcolor": "white",
            "gridwidth": 2,
            "linecolor": "white",
            "showbackground": true,
            "ticks": "",
            "zerolinecolor": "white"
           }
          },
          "shapedefaults": {
           "line": {
            "color": "#2a3f5f"
           }
          },
          "ternary": {
           "aaxis": {
            "gridcolor": "white",
            "linecolor": "white",
            "ticks": ""
           },
           "baxis": {
            "gridcolor": "white",
            "linecolor": "white",
            "ticks": ""
           },
           "bgcolor": "#E5ECF6",
           "caxis": {
            "gridcolor": "white",
            "linecolor": "white",
            "ticks": ""
           }
          },
          "title": {
           "x": 0.05
          },
          "xaxis": {
           "automargin": true,
           "gridcolor": "white",
           "linecolor": "white",
           "ticks": "",
           "title": {
            "standoff": 15
           },
           "zerolinecolor": "white",
           "zerolinewidth": 2
          },
          "yaxis": {
           "automargin": true,
           "gridcolor": "white",
           "linecolor": "white",
           "ticks": "",
           "title": {
            "standoff": 15
           },
           "zerolinecolor": "white",
           "zerolinewidth": 2
          }
         }
        },
        "title": {
         "text": "Distribution of Smoking"
        },
        "xaxis": {
         "anchor": "y",
         "domain": [
          0,
          1
         ],
         "title": {
          "text": "Smoking"
         }
        },
        "yaxis": {
         "anchor": "x",
         "domain": [
          0,
          1
         ],
         "title": {
          "text": "count"
         }
        }
       }
      }
     },
     "metadata": {},
     "output_type": "display_data"
    }
   ],
   "source": [
    "# Smoking and Coughing of Blood\n",
    "fig = px.histogram(lung, x = 'Smoking', color = 'Coughing of Blood', nbins = 10, title = 'Distribution of Smoking', text_auto = True)\n",
    "fig.show()"
   ]
  },
  {
   "cell_type": "code",
   "execution_count": 65,
   "metadata": {},
   "outputs": [
    {
     "data": {
      "application/vnd.plotly.v1+json": {
       "config": {
        "plotlyServerURL": "https://plot.ly"
       },
       "data": [
        {
         "alignmentgroup": "True",
         "bingroup": "x",
         "hovertemplate": "Shortness of Breath=2<br>Smoking=%{x}<br>count=%{y}<extra></extra>",
         "legendgroup": "2",
         "marker": {
          "color": "#636efa",
          "pattern": {
           "shape": ""
          }
         },
         "name": "2",
         "nbinsx": 10,
         "offsetgroup": "2",
         "orientation": "v",
         "showlegend": true,
         "texttemplate": "%{value}",
         "type": "histogram",
         "x": [
          3,
          3,
          1,
          7,
          6,
          5,
          1,
          3,
          1,
          5,
          1,
          2,
          4,
          6,
          3,
          3,
          1,
          3,
          1,
          1,
          3,
          1,
          3,
          7,
          7,
          1,
          7,
          1,
          3,
          1,
          7,
          6,
          5,
          1,
          3,
          1,
          1,
          2,
          4,
          6,
          3,
          3,
          1,
          3,
          3,
          1,
          1,
          1,
          3,
          1,
          3,
          7,
          7,
          7,
          3,
          1,
          7,
          6,
          5,
          1,
          1,
          3,
          1,
          1,
          2,
          4,
          6,
          3,
          3,
          1,
          3,
          1,
          1,
          3,
          1,
          3,
          7,
          2,
          7,
          7,
          3,
          1,
          7,
          6,
          5,
          1,
          3,
          1,
          4,
          1,
          2,
          4,
          6,
          3,
          3,
          1,
          3,
          1,
          1,
          3,
          1,
          3,
          7,
          7,
          7,
          7,
          6,
          3,
          1,
          7,
          6,
          5,
          3,
          1,
          3,
          1,
          3,
          1,
          2,
          4,
          1,
          6,
          3,
          3,
          1,
          3,
          1,
          1,
          3,
          1,
          3,
          7,
          7,
          3,
          7,
          3,
          1,
          7,
          6,
          1,
          5,
          1,
          3,
          1,
          1,
          1,
          2,
          4,
          6,
          3,
          3,
          1,
          3,
          1,
          1,
          3,
          1,
          3,
          7,
          3,
          7,
          7,
          6,
          3,
          1,
          7,
          6,
          1,
          5,
          1,
          3,
          1,
          3,
          1,
          2,
          4,
          7,
          6,
          3,
          3,
          1,
          3,
          1,
          1,
          3,
          1,
          3,
          7,
          7,
          7,
          3,
          1,
          7,
          6,
          5,
          1,
          3,
          1,
          1,
          7,
          2,
          4,
          6,
          3,
          3,
          1,
          3,
          1,
          1,
          3,
          1,
          3,
          7,
          7,
          7,
          3,
          1,
          7,
          6,
          5,
          1,
          3,
          1,
          7,
          1,
          2,
          4,
          6,
          3,
          3,
          1,
          3,
          1,
          1,
          3,
          1,
          3,
          7,
          3,
          1,
          3,
          7,
          7
         ],
         "xaxis": "x",
         "yaxis": "y"
        },
        {
         "alignmentgroup": "True",
         "bingroup": "x",
         "hovertemplate": "Shortness of Breath=7<br>Smoking=%{x}<br>count=%{y}<extra></extra>",
         "legendgroup": "7",
         "marker": {
          "color": "#EF553B",
          "pattern": {
           "shape": ""
          }
         },
         "name": "7",
         "nbinsx": 10,
         "offsetgroup": "7",
         "orientation": "v",
         "showlegend": true,
         "texttemplate": "%{value}",
         "type": "histogram",
         "x": [
          2,
          2,
          7,
          7,
          3,
          7,
          6,
          3,
          3,
          7,
          7,
          2,
          7,
          3,
          3,
          7,
          6,
          7,
          3,
          3,
          7,
          7,
          6,
          2,
          7,
          3,
          7,
          6,
          3,
          3,
          7,
          7,
          2,
          7,
          3,
          7,
          6,
          3,
          3,
          7,
          7,
          2,
          7,
          3,
          7,
          6,
          3,
          3,
          3,
          7,
          7,
          2,
          7,
          3,
          7,
          6,
          3,
          3,
          3,
          7,
          7,
          2,
          7,
          3,
          7,
          6,
          3,
          3,
          7,
          7,
          2,
          7,
          3,
          7,
          7,
          6,
          3,
          3,
          7,
          7,
          2,
          7,
          7,
          3,
          7,
          6,
          3,
          3,
          7
         ],
         "xaxis": "x",
         "yaxis": "y"
        },
        {
         "alignmentgroup": "True",
         "bingroup": "x",
         "hovertemplate": "Shortness of Breath=9<br>Smoking=%{x}<br>count=%{y}<extra></extra>",
         "legendgroup": "9",
         "marker": {
          "color": "#00cc96",
          "pattern": {
           "shape": ""
          }
         },
         "name": "9",
         "nbinsx": 10,
         "offsetgroup": "9",
         "orientation": "v",
         "showlegend": true,
         "texttemplate": "%{value}",
         "type": "histogram",
         "x": [
          2,
          2,
          2,
          2,
          2,
          2,
          2,
          2,
          2,
          2,
          2,
          2,
          2,
          2,
          2,
          2,
          2,
          2,
          2,
          2,
          2,
          2,
          2,
          2,
          2,
          2,
          2,
          2,
          2,
          2,
          2,
          2,
          2,
          2,
          2,
          2,
          2,
          2,
          2,
          2,
          2,
          2,
          2,
          2,
          2,
          2,
          2,
          2,
          2,
          2,
          2,
          2,
          2,
          2,
          2,
          2,
          2,
          2,
          2,
          2,
          2,
          2,
          2,
          2,
          2,
          2,
          2,
          2,
          2,
          2
         ],
         "xaxis": "x",
         "yaxis": "y"
        },
        {
         "alignmentgroup": "True",
         "bingroup": "x",
         "hovertemplate": "Shortness of Breath=3<br>Smoking=%{x}<br>count=%{y}<extra></extra>",
         "legendgroup": "3",
         "marker": {
          "color": "#ab63fa",
          "pattern": {
           "shape": ""
          }
         },
         "name": "3",
         "nbinsx": 10,
         "offsetgroup": "3",
         "orientation": "v",
         "showlegend": true,
         "texttemplate": "%{value}",
         "type": "histogram",
         "x": [
          7,
          6,
          7,
          2,
          7,
          2,
          4,
          3,
          3,
          3,
          7,
          4,
          3,
          7,
          7,
          7,
          6,
          2,
          7,
          2,
          4,
          3,
          3,
          3,
          7,
          4,
          3,
          2,
          7,
          7,
          6,
          4,
          7,
          6,
          2,
          7,
          3,
          2,
          4,
          3,
          3,
          3,
          3,
          7,
          4,
          3,
          7,
          7,
          3,
          7,
          6,
          2,
          7,
          2,
          4,
          3,
          3,
          3,
          7,
          4,
          3,
          7,
          7,
          4,
          7,
          7,
          6,
          3,
          2,
          7,
          2,
          4,
          3,
          3,
          3,
          7,
          4,
          3,
          7,
          7,
          7,
          6,
          2,
          7,
          2,
          4,
          3,
          3,
          3,
          7,
          4,
          3,
          7,
          7,
          7,
          6,
          2,
          7,
          2,
          4,
          3,
          3,
          3,
          7,
          4,
          3,
          7,
          7,
          2,
          7,
          6,
          2,
          7,
          7,
          2,
          4,
          3,
          3,
          3,
          7,
          4,
          3,
          7,
          7,
          7,
          6,
          7,
          2,
          7,
          2,
          4,
          3,
          3,
          3,
          7,
          4,
          3,
          2,
          7,
          7
         ],
         "xaxis": "x",
         "yaxis": "y"
        },
        {
         "alignmentgroup": "True",
         "bingroup": "x",
         "hovertemplate": "Shortness of Breath=4<br>Smoking=%{x}<br>count=%{y}<extra></extra>",
         "legendgroup": "4",
         "marker": {
          "color": "#FFA15A",
          "pattern": {
           "shape": ""
          }
         },
         "name": "4",
         "nbinsx": 10,
         "offsetgroup": "4",
         "orientation": "v",
         "showlegend": true,
         "texttemplate": "%{value}",
         "type": "histogram",
         "x": [
          8,
          2,
          8,
          6,
          2,
          8,
          8,
          8,
          8,
          8,
          8,
          2,
          8,
          6,
          6,
          2,
          8,
          8,
          8,
          8,
          8,
          2,
          8,
          6,
          2,
          8,
          8,
          8,
          8,
          2,
          8,
          2,
          8,
          2,
          6,
          2,
          8,
          8,
          8,
          8,
          8,
          2,
          8,
          6,
          2,
          8,
          8,
          8,
          8,
          8,
          2,
          8,
          6,
          2,
          8,
          8,
          8,
          8,
          8,
          2,
          8,
          6,
          2,
          8,
          8,
          8,
          8,
          8,
          8,
          2,
          8,
          6,
          2,
          8,
          8,
          8,
          8,
          8,
          8,
          8,
          2,
          8,
          6,
          2,
          8,
          8,
          8,
          8,
          8,
          8
         ],
         "xaxis": "x",
         "yaxis": "y"
        },
        {
         "alignmentgroup": "True",
         "bingroup": "x",
         "hovertemplate": "Shortness of Breath=5<br>Smoking=%{x}<br>count=%{y}<extra></extra>",
         "legendgroup": "5",
         "marker": {
          "color": "#19d3f3",
          "pattern": {
           "shape": ""
          }
         },
         "name": "5",
         "nbinsx": 10,
         "offsetgroup": "5",
         "orientation": "v",
         "showlegend": true,
         "texttemplate": "%{value}",
         "type": "histogram",
         "x": [
          7,
          8,
          4,
          8,
          2,
          7,
          4,
          8,
          7,
          7,
          7,
          4,
          8,
          4,
          2,
          7,
          4,
          8,
          7,
          7,
          7,
          8,
          4,
          2,
          7,
          4,
          8,
          7,
          7,
          7,
          8,
          4,
          2,
          2,
          7,
          4,
          8,
          7,
          7,
          7,
          8,
          4,
          2,
          7,
          4,
          8,
          7,
          7,
          7,
          7,
          8,
          4,
          2,
          7,
          4,
          8,
          7,
          7,
          7,
          8,
          4,
          2,
          7,
          4,
          7,
          4,
          8,
          8,
          7,
          7,
          7,
          8,
          4,
          2,
          7,
          7,
          4,
          8,
          7,
          7,
          7,
          8,
          4,
          7,
          2,
          7,
          7
         ],
         "xaxis": "x",
         "yaxis": "y"
        },
        {
         "alignmentgroup": "True",
         "bingroup": "x",
         "hovertemplate": "Shortness of Breath=6<br>Smoking=%{x}<br>count=%{y}<extra></extra>",
         "legendgroup": "6",
         "marker": {
          "color": "#FF6692",
          "pattern": {
           "shape": ""
          }
         },
         "name": "6",
         "nbinsx": 10,
         "offsetgroup": "6",
         "orientation": "v",
         "showlegend": true,
         "texttemplate": "%{value}",
         "type": "histogram",
         "x": [
          8,
          7,
          1,
          2,
          3,
          4,
          1,
          2,
          3,
          1,
          2,
          1,
          2,
          3,
          7,
          1,
          1,
          2,
          1,
          1,
          7,
          7,
          2,
          8,
          7,
          1,
          2,
          3,
          4,
          3,
          1,
          2,
          3,
          1,
          2,
          1,
          2,
          3,
          1,
          1,
          2,
          1,
          7,
          4,
          7,
          8,
          7,
          1,
          2,
          3,
          4,
          1,
          2,
          3,
          1,
          2,
          1,
          2,
          3,
          1,
          1,
          2,
          1,
          7,
          7,
          8,
          7,
          1,
          2,
          3,
          4,
          1,
          2,
          3,
          1,
          2,
          1,
          2,
          3,
          1,
          1,
          2,
          1,
          7,
          7,
          8,
          7,
          1,
          2,
          3,
          4,
          1,
          1,
          2,
          3,
          2,
          1,
          2,
          1,
          2,
          3,
          3,
          1,
          1,
          2,
          1,
          7,
          7,
          1,
          8,
          7,
          2,
          1,
          2,
          3,
          1,
          4,
          2,
          1,
          2,
          3,
          3,
          1,
          2,
          1,
          2,
          3,
          1,
          1,
          2,
          1,
          7,
          1,
          7,
          1,
          8,
          7,
          2,
          1,
          2,
          3,
          4,
          1,
          1,
          2,
          3,
          1,
          2,
          1,
          2,
          3,
          1,
          1,
          2,
          1,
          7,
          7,
          7,
          8,
          7,
          1,
          2,
          3,
          4,
          1,
          2,
          3,
          1,
          2,
          1,
          2,
          3,
          1,
          1,
          2,
          1,
          7,
          7,
          8,
          7,
          8,
          7,
          1,
          2,
          3,
          4,
          1,
          2,
          3,
          1,
          2,
          1,
          2,
          3,
          1,
          1,
          2,
          1,
          7,
          2,
          7
         ],
         "xaxis": "x",
         "yaxis": "y"
        },
        {
         "alignmentgroup": "True",
         "bingroup": "x",
         "hovertemplate": "Shortness of Breath=1<br>Smoking=%{x}<br>count=%{y}<extra></extra>",
         "legendgroup": "1",
         "marker": {
          "color": "#B6E880",
          "pattern": {
           "shape": ""
          }
         },
         "name": "1",
         "nbinsx": 10,
         "offsetgroup": "1",
         "orientation": "v",
         "showlegend": true,
         "texttemplate": "%{value}",
         "type": "histogram",
         "x": [
          1,
          6,
          1,
          2,
          1,
          2,
          2,
          7,
          1,
          6,
          1,
          2,
          1,
          2,
          2,
          7,
          1,
          6,
          1,
          1,
          2,
          1,
          2,
          2,
          7,
          6,
          1,
          2,
          1,
          1,
          6,
          1,
          2,
          1,
          2,
          2,
          7,
          2,
          2,
          7,
          1,
          6,
          1,
          2,
          1,
          2,
          2,
          7,
          1,
          6,
          1,
          2,
          1,
          2,
          2,
          7,
          1,
          6,
          1,
          2,
          1,
          2,
          2,
          7,
          1,
          6,
          1,
          2,
          1,
          2,
          2,
          7,
          1,
          6,
          1,
          2,
          1,
          2,
          2,
          7
         ],
         "xaxis": "x",
         "yaxis": "y"
        }
       ],
       "layout": {
        "barmode": "relative",
        "legend": {
         "title": {
          "text": "Shortness of Breath"
         },
         "tracegroupgap": 0
        },
        "template": {
         "data": {
          "bar": [
           {
            "error_x": {
             "color": "#2a3f5f"
            },
            "error_y": {
             "color": "#2a3f5f"
            },
            "marker": {
             "line": {
              "color": "#E5ECF6",
              "width": 0.5
             },
             "pattern": {
              "fillmode": "overlay",
              "size": 10,
              "solidity": 0.2
             }
            },
            "type": "bar"
           }
          ],
          "barpolar": [
           {
            "marker": {
             "line": {
              "color": "#E5ECF6",
              "width": 0.5
             },
             "pattern": {
              "fillmode": "overlay",
              "size": 10,
              "solidity": 0.2
             }
            },
            "type": "barpolar"
           }
          ],
          "carpet": [
           {
            "aaxis": {
             "endlinecolor": "#2a3f5f",
             "gridcolor": "white",
             "linecolor": "white",
             "minorgridcolor": "white",
             "startlinecolor": "#2a3f5f"
            },
            "baxis": {
             "endlinecolor": "#2a3f5f",
             "gridcolor": "white",
             "linecolor": "white",
             "minorgridcolor": "white",
             "startlinecolor": "#2a3f5f"
            },
            "type": "carpet"
           }
          ],
          "choropleth": [
           {
            "colorbar": {
             "outlinewidth": 0,
             "ticks": ""
            },
            "type": "choropleth"
           }
          ],
          "contour": [
           {
            "colorbar": {
             "outlinewidth": 0,
             "ticks": ""
            },
            "colorscale": [
             [
              0,
              "#0d0887"
             ],
             [
              0.1111111111111111,
              "#46039f"
             ],
             [
              0.2222222222222222,
              "#7201a8"
             ],
             [
              0.3333333333333333,
              "#9c179e"
             ],
             [
              0.4444444444444444,
              "#bd3786"
             ],
             [
              0.5555555555555556,
              "#d8576b"
             ],
             [
              0.6666666666666666,
              "#ed7953"
             ],
             [
              0.7777777777777778,
              "#fb9f3a"
             ],
             [
              0.8888888888888888,
              "#fdca26"
             ],
             [
              1,
              "#f0f921"
             ]
            ],
            "type": "contour"
           }
          ],
          "contourcarpet": [
           {
            "colorbar": {
             "outlinewidth": 0,
             "ticks": ""
            },
            "type": "contourcarpet"
           }
          ],
          "heatmap": [
           {
            "colorbar": {
             "outlinewidth": 0,
             "ticks": ""
            },
            "colorscale": [
             [
              0,
              "#0d0887"
             ],
             [
              0.1111111111111111,
              "#46039f"
             ],
             [
              0.2222222222222222,
              "#7201a8"
             ],
             [
              0.3333333333333333,
              "#9c179e"
             ],
             [
              0.4444444444444444,
              "#bd3786"
             ],
             [
              0.5555555555555556,
              "#d8576b"
             ],
             [
              0.6666666666666666,
              "#ed7953"
             ],
             [
              0.7777777777777778,
              "#fb9f3a"
             ],
             [
              0.8888888888888888,
              "#fdca26"
             ],
             [
              1,
              "#f0f921"
             ]
            ],
            "type": "heatmap"
           }
          ],
          "heatmapgl": [
           {
            "colorbar": {
             "outlinewidth": 0,
             "ticks": ""
            },
            "colorscale": [
             [
              0,
              "#0d0887"
             ],
             [
              0.1111111111111111,
              "#46039f"
             ],
             [
              0.2222222222222222,
              "#7201a8"
             ],
             [
              0.3333333333333333,
              "#9c179e"
             ],
             [
              0.4444444444444444,
              "#bd3786"
             ],
             [
              0.5555555555555556,
              "#d8576b"
             ],
             [
              0.6666666666666666,
              "#ed7953"
             ],
             [
              0.7777777777777778,
              "#fb9f3a"
             ],
             [
              0.8888888888888888,
              "#fdca26"
             ],
             [
              1,
              "#f0f921"
             ]
            ],
            "type": "heatmapgl"
           }
          ],
          "histogram": [
           {
            "marker": {
             "pattern": {
              "fillmode": "overlay",
              "size": 10,
              "solidity": 0.2
             }
            },
            "type": "histogram"
           }
          ],
          "histogram2d": [
           {
            "colorbar": {
             "outlinewidth": 0,
             "ticks": ""
            },
            "colorscale": [
             [
              0,
              "#0d0887"
             ],
             [
              0.1111111111111111,
              "#46039f"
             ],
             [
              0.2222222222222222,
              "#7201a8"
             ],
             [
              0.3333333333333333,
              "#9c179e"
             ],
             [
              0.4444444444444444,
              "#bd3786"
             ],
             [
              0.5555555555555556,
              "#d8576b"
             ],
             [
              0.6666666666666666,
              "#ed7953"
             ],
             [
              0.7777777777777778,
              "#fb9f3a"
             ],
             [
              0.8888888888888888,
              "#fdca26"
             ],
             [
              1,
              "#f0f921"
             ]
            ],
            "type": "histogram2d"
           }
          ],
          "histogram2dcontour": [
           {
            "colorbar": {
             "outlinewidth": 0,
             "ticks": ""
            },
            "colorscale": [
             [
              0,
              "#0d0887"
             ],
             [
              0.1111111111111111,
              "#46039f"
             ],
             [
              0.2222222222222222,
              "#7201a8"
             ],
             [
              0.3333333333333333,
              "#9c179e"
             ],
             [
              0.4444444444444444,
              "#bd3786"
             ],
             [
              0.5555555555555556,
              "#d8576b"
             ],
             [
              0.6666666666666666,
              "#ed7953"
             ],
             [
              0.7777777777777778,
              "#fb9f3a"
             ],
             [
              0.8888888888888888,
              "#fdca26"
             ],
             [
              1,
              "#f0f921"
             ]
            ],
            "type": "histogram2dcontour"
           }
          ],
          "mesh3d": [
           {
            "colorbar": {
             "outlinewidth": 0,
             "ticks": ""
            },
            "type": "mesh3d"
           }
          ],
          "parcoords": [
           {
            "line": {
             "colorbar": {
              "outlinewidth": 0,
              "ticks": ""
             }
            },
            "type": "parcoords"
           }
          ],
          "pie": [
           {
            "automargin": true,
            "type": "pie"
           }
          ],
          "scatter": [
           {
            "fillpattern": {
             "fillmode": "overlay",
             "size": 10,
             "solidity": 0.2
            },
            "type": "scatter"
           }
          ],
          "scatter3d": [
           {
            "line": {
             "colorbar": {
              "outlinewidth": 0,
              "ticks": ""
             }
            },
            "marker": {
             "colorbar": {
              "outlinewidth": 0,
              "ticks": ""
             }
            },
            "type": "scatter3d"
           }
          ],
          "scattercarpet": [
           {
            "marker": {
             "colorbar": {
              "outlinewidth": 0,
              "ticks": ""
             }
            },
            "type": "scattercarpet"
           }
          ],
          "scattergeo": [
           {
            "marker": {
             "colorbar": {
              "outlinewidth": 0,
              "ticks": ""
             }
            },
            "type": "scattergeo"
           }
          ],
          "scattergl": [
           {
            "marker": {
             "colorbar": {
              "outlinewidth": 0,
              "ticks": ""
             }
            },
            "type": "scattergl"
           }
          ],
          "scattermapbox": [
           {
            "marker": {
             "colorbar": {
              "outlinewidth": 0,
              "ticks": ""
             }
            },
            "type": "scattermapbox"
           }
          ],
          "scatterpolar": [
           {
            "marker": {
             "colorbar": {
              "outlinewidth": 0,
              "ticks": ""
             }
            },
            "type": "scatterpolar"
           }
          ],
          "scatterpolargl": [
           {
            "marker": {
             "colorbar": {
              "outlinewidth": 0,
              "ticks": ""
             }
            },
            "type": "scatterpolargl"
           }
          ],
          "scatterternary": [
           {
            "marker": {
             "colorbar": {
              "outlinewidth": 0,
              "ticks": ""
             }
            },
            "type": "scatterternary"
           }
          ],
          "surface": [
           {
            "colorbar": {
             "outlinewidth": 0,
             "ticks": ""
            },
            "colorscale": [
             [
              0,
              "#0d0887"
             ],
             [
              0.1111111111111111,
              "#46039f"
             ],
             [
              0.2222222222222222,
              "#7201a8"
             ],
             [
              0.3333333333333333,
              "#9c179e"
             ],
             [
              0.4444444444444444,
              "#bd3786"
             ],
             [
              0.5555555555555556,
              "#d8576b"
             ],
             [
              0.6666666666666666,
              "#ed7953"
             ],
             [
              0.7777777777777778,
              "#fb9f3a"
             ],
             [
              0.8888888888888888,
              "#fdca26"
             ],
             [
              1,
              "#f0f921"
             ]
            ],
            "type": "surface"
           }
          ],
          "table": [
           {
            "cells": {
             "fill": {
              "color": "#EBF0F8"
             },
             "line": {
              "color": "white"
             }
            },
            "header": {
             "fill": {
              "color": "#C8D4E3"
             },
             "line": {
              "color": "white"
             }
            },
            "type": "table"
           }
          ]
         },
         "layout": {
          "annotationdefaults": {
           "arrowcolor": "#2a3f5f",
           "arrowhead": 0,
           "arrowwidth": 1
          },
          "autotypenumbers": "strict",
          "coloraxis": {
           "colorbar": {
            "outlinewidth": 0,
            "ticks": ""
           }
          },
          "colorscale": {
           "diverging": [
            [
             0,
             "#8e0152"
            ],
            [
             0.1,
             "#c51b7d"
            ],
            [
             0.2,
             "#de77ae"
            ],
            [
             0.3,
             "#f1b6da"
            ],
            [
             0.4,
             "#fde0ef"
            ],
            [
             0.5,
             "#f7f7f7"
            ],
            [
             0.6,
             "#e6f5d0"
            ],
            [
             0.7,
             "#b8e186"
            ],
            [
             0.8,
             "#7fbc41"
            ],
            [
             0.9,
             "#4d9221"
            ],
            [
             1,
             "#276419"
            ]
           ],
           "sequential": [
            [
             0,
             "#0d0887"
            ],
            [
             0.1111111111111111,
             "#46039f"
            ],
            [
             0.2222222222222222,
             "#7201a8"
            ],
            [
             0.3333333333333333,
             "#9c179e"
            ],
            [
             0.4444444444444444,
             "#bd3786"
            ],
            [
             0.5555555555555556,
             "#d8576b"
            ],
            [
             0.6666666666666666,
             "#ed7953"
            ],
            [
             0.7777777777777778,
             "#fb9f3a"
            ],
            [
             0.8888888888888888,
             "#fdca26"
            ],
            [
             1,
             "#f0f921"
            ]
           ],
           "sequentialminus": [
            [
             0,
             "#0d0887"
            ],
            [
             0.1111111111111111,
             "#46039f"
            ],
            [
             0.2222222222222222,
             "#7201a8"
            ],
            [
             0.3333333333333333,
             "#9c179e"
            ],
            [
             0.4444444444444444,
             "#bd3786"
            ],
            [
             0.5555555555555556,
             "#d8576b"
            ],
            [
             0.6666666666666666,
             "#ed7953"
            ],
            [
             0.7777777777777778,
             "#fb9f3a"
            ],
            [
             0.8888888888888888,
             "#fdca26"
            ],
            [
             1,
             "#f0f921"
            ]
           ]
          },
          "colorway": [
           "#636efa",
           "#EF553B",
           "#00cc96",
           "#ab63fa",
           "#FFA15A",
           "#19d3f3",
           "#FF6692",
           "#B6E880",
           "#FF97FF",
           "#FECB52"
          ],
          "font": {
           "color": "#2a3f5f"
          },
          "geo": {
           "bgcolor": "white",
           "lakecolor": "white",
           "landcolor": "#E5ECF6",
           "showlakes": true,
           "showland": true,
           "subunitcolor": "white"
          },
          "hoverlabel": {
           "align": "left"
          },
          "hovermode": "closest",
          "mapbox": {
           "style": "light"
          },
          "paper_bgcolor": "white",
          "plot_bgcolor": "#E5ECF6",
          "polar": {
           "angularaxis": {
            "gridcolor": "white",
            "linecolor": "white",
            "ticks": ""
           },
           "bgcolor": "#E5ECF6",
           "radialaxis": {
            "gridcolor": "white",
            "linecolor": "white",
            "ticks": ""
           }
          },
          "scene": {
           "xaxis": {
            "backgroundcolor": "#E5ECF6",
            "gridcolor": "white",
            "gridwidth": 2,
            "linecolor": "white",
            "showbackground": true,
            "ticks": "",
            "zerolinecolor": "white"
           },
           "yaxis": {
            "backgroundcolor": "#E5ECF6",
            "gridcolor": "white",
            "gridwidth": 2,
            "linecolor": "white",
            "showbackground": true,
            "ticks": "",
            "zerolinecolor": "white"
           },
           "zaxis": {
            "backgroundcolor": "#E5ECF6",
            "gridcolor": "white",
            "gridwidth": 2,
            "linecolor": "white",
            "showbackground": true,
            "ticks": "",
            "zerolinecolor": "white"
           }
          },
          "shapedefaults": {
           "line": {
            "color": "#2a3f5f"
           }
          },
          "ternary": {
           "aaxis": {
            "gridcolor": "white",
            "linecolor": "white",
            "ticks": ""
           },
           "baxis": {
            "gridcolor": "white",
            "linecolor": "white",
            "ticks": ""
           },
           "bgcolor": "#E5ECF6",
           "caxis": {
            "gridcolor": "white",
            "linecolor": "white",
            "ticks": ""
           }
          },
          "title": {
           "x": 0.05
          },
          "xaxis": {
           "automargin": true,
           "gridcolor": "white",
           "linecolor": "white",
           "ticks": "",
           "title": {
            "standoff": 15
           },
           "zerolinecolor": "white",
           "zerolinewidth": 2
          },
          "yaxis": {
           "automargin": true,
           "gridcolor": "white",
           "linecolor": "white",
           "ticks": "",
           "title": {
            "standoff": 15
           },
           "zerolinecolor": "white",
           "zerolinewidth": 2
          }
         }
        },
        "title": {
         "text": "Distribution of Smoking"
        },
        "xaxis": {
         "anchor": "y",
         "domain": [
          0,
          1
         ],
         "title": {
          "text": "Smoking"
         }
        },
        "yaxis": {
         "anchor": "x",
         "domain": [
          0,
          1
         ],
         "title": {
          "text": "count"
         }
        }
       }
      }
     },
     "metadata": {},
     "output_type": "display_data"
    }
   ],
   "source": [
    "# Smoking and Shortness of Breath\n",
    "fig = px.histogram(lung, x = 'Smoking', color = 'Shortness of Breath', nbins = 10, title = 'Distribution of Smoking', text_auto = True)\n",
    "fig.show()"
   ]
  },
  {
   "cell_type": "code",
   "execution_count": 66,
   "metadata": {},
   "outputs": [
    {
     "data": {
      "application/vnd.plotly.v1+json": {
       "config": {
        "plotlyServerURL": "https://plot.ly"
       },
       "data": [
        {
         "alignmentgroup": "True",
         "bingroup": "x",
         "hovertemplate": "Chest Pain=2<br>Smoking=%{x}<br>count=%{y}<extra></extra>",
         "legendgroup": "2",
         "marker": {
          "color": "#636efa",
          "pattern": {
           "shape": ""
          }
         },
         "name": "2",
         "nbinsx": 10,
         "offsetgroup": "2",
         "orientation": "v",
         "showlegend": true,
         "texttemplate": "%{value}",
         "type": "histogram",
         "x": [
          3,
          2,
          3,
          2,
          1,
          3,
          7,
          3,
          1,
          2,
          2,
          2,
          7,
          4,
          1,
          3,
          1,
          1,
          3,
          1,
          1,
          3,
          2,
          3,
          1,
          3,
          7,
          3,
          7,
          1,
          2,
          2,
          2,
          7,
          4,
          1,
          3,
          3,
          1,
          1,
          3,
          1,
          3,
          2,
          1,
          3,
          7,
          3,
          1,
          2,
          2,
          2,
          7,
          4,
          1,
          3,
          1,
          1,
          3,
          1,
          3,
          1,
          2,
          2,
          1,
          3,
          7,
          3,
          2,
          1,
          2,
          2,
          2,
          7,
          4,
          1,
          2,
          3,
          1,
          1,
          3,
          1,
          7,
          4,
          3,
          2,
          1,
          3,
          7,
          3,
          1,
          2,
          2,
          2,
          1,
          7,
          4,
          1,
          3,
          1,
          1,
          3,
          1,
          3,
          3,
          1,
          2,
          1,
          3,
          7,
          3,
          1,
          1,
          2,
          2,
          2,
          7,
          4,
          1,
          3,
          1,
          1,
          3,
          3,
          1,
          3,
          1,
          2,
          1,
          3,
          7,
          3,
          1,
          2,
          2,
          2,
          7,
          4,
          1,
          3,
          1,
          1,
          3,
          1,
          3,
          2,
          1,
          3,
          7,
          3,
          1,
          2,
          2,
          2,
          7,
          4,
          1,
          3,
          1,
          1,
          3,
          1,
          3,
          2,
          1,
          3,
          7,
          3,
          1,
          2,
          2,
          2,
          7,
          4,
          1,
          3,
          1,
          1,
          3,
          1,
          3
         ],
         "xaxis": "x",
         "yaxis": "y"
        },
        {
         "alignmentgroup": "True",
         "bingroup": "x",
         "hovertemplate": "Chest Pain=4<br>Smoking=%{x}<br>count=%{y}<extra></extra>",
         "legendgroup": "4",
         "marker": {
          "color": "#EF553B",
          "pattern": {
           "shape": ""
          }
         },
         "name": "4",
         "nbinsx": 10,
         "offsetgroup": "4",
         "orientation": "v",
         "showlegend": true,
         "texttemplate": "%{value}",
         "type": "histogram",
         "x": [
          2,
          2,
          2,
          2,
          2,
          1,
          2,
          3,
          2,
          3,
          1,
          1,
          1,
          1,
          1,
          1,
          1,
          2,
          2,
          2,
          2,
          2,
          2,
          2,
          2,
          2,
          1,
          2,
          3,
          3,
          1,
          1,
          1,
          1,
          1,
          1,
          2,
          2,
          2,
          2,
          2,
          2,
          2,
          2,
          2,
          2,
          1,
          3,
          2,
          3,
          3,
          1,
          1,
          1,
          1,
          1,
          1,
          2,
          2,
          2,
          2,
          2,
          2,
          2,
          2,
          2,
          2,
          1,
          2,
          3,
          3,
          1,
          1,
          1,
          1,
          1,
          1,
          2,
          2,
          2,
          2,
          2,
          2,
          2,
          2,
          2,
          3,
          1,
          2,
          3,
          1,
          3,
          1,
          1,
          1,
          1,
          1,
          1,
          2,
          2,
          2,
          2,
          2,
          1,
          2,
          2,
          2,
          2,
          1,
          1,
          2,
          3,
          3,
          1,
          1,
          1,
          1,
          1,
          1,
          2,
          2,
          1,
          2,
          2,
          2,
          1,
          2,
          2,
          2,
          2,
          1,
          2,
          3,
          1,
          3,
          1,
          1,
          1,
          1,
          1,
          1,
          2,
          2,
          2,
          2,
          2,
          2,
          2,
          2,
          2,
          2,
          2,
          1,
          2,
          3,
          3,
          1,
          2,
          1,
          1,
          1,
          1,
          1,
          2,
          2,
          2,
          2,
          2,
          2,
          2,
          2,
          2,
          2,
          1,
          2,
          3,
          2,
          3,
          1,
          1,
          1,
          2,
          1,
          1,
          1,
          2,
          2,
          2,
          2,
          2,
          2
         ],
         "xaxis": "x",
         "yaxis": "y"
        },
        {
         "alignmentgroup": "True",
         "bingroup": "x",
         "hovertemplate": "Chest Pain=7<br>Smoking=%{x}<br>count=%{y}<extra></extra>",
         "legendgroup": "7",
         "marker": {
          "color": "#00cc96",
          "pattern": {
           "shape": ""
          }
         },
         "name": "7",
         "nbinsx": 10,
         "offsetgroup": "7",
         "orientation": "v",
         "showlegend": true,
         "texttemplate": "%{value}",
         "type": "histogram",
         "x": [
          7,
          8,
          7,
          7,
          7,
          7,
          7,
          8,
          7,
          7,
          4,
          6,
          4,
          4,
          6,
          8,
          7,
          7,
          7,
          4,
          8,
          7,
          7,
          7,
          7,
          7,
          8,
          8,
          7,
          7,
          7,
          7,
          7,
          8,
          8,
          7,
          7,
          7,
          4,
          7,
          7,
          8,
          7,
          4,
          6,
          6,
          4,
          4,
          6,
          7,
          7,
          4,
          8,
          7,
          7,
          7,
          7,
          7,
          8,
          4,
          8,
          7,
          7,
          7,
          7,
          7,
          8,
          4,
          8,
          7,
          7,
          7,
          6,
          7,
          7,
          8,
          7,
          4,
          6,
          4,
          4,
          6,
          7,
          7,
          4,
          8,
          7,
          7,
          7,
          7,
          7,
          8,
          8,
          7,
          7,
          7,
          7,
          7,
          8,
          8,
          7,
          7,
          7,
          7,
          7,
          8,
          7,
          4,
          6,
          4,
          4,
          6,
          7,
          7,
          4,
          8,
          7,
          7,
          7,
          7,
          7,
          8,
          8,
          7,
          7,
          7,
          7,
          7,
          8,
          7,
          8,
          7,
          7,
          7,
          7,
          7,
          8,
          7,
          4,
          6,
          4,
          4,
          6,
          7,
          7,
          4,
          8,
          7,
          7,
          7,
          7,
          7,
          8,
          8,
          7,
          7,
          7,
          7,
          7,
          8,
          7,
          8,
          7,
          7,
          7,
          7,
          7,
          8,
          7,
          4,
          6,
          4,
          4,
          6,
          7,
          7,
          4,
          8,
          7,
          7,
          7,
          7,
          7,
          8,
          8,
          7,
          7,
          7,
          7,
          7,
          8,
          8,
          7,
          7,
          7,
          7,
          7,
          8,
          7,
          4,
          6,
          4,
          4,
          6,
          7,
          7,
          4,
          7,
          7,
          4,
          8,
          7,
          7,
          7,
          7,
          7,
          8,
          8,
          7,
          7,
          7,
          7,
          7,
          8,
          8,
          8,
          7,
          7,
          7,
          7,
          7,
          7,
          8,
          7,
          7,
          4,
          6,
          7,
          4,
          4,
          6,
          7,
          7,
          8,
          7,
          7,
          4,
          8,
          7,
          7,
          7,
          7,
          7,
          8,
          8,
          8,
          7,
          7,
          7,
          7,
          7,
          8,
          7,
          8,
          7,
          7,
          7,
          7,
          7,
          7,
          8,
          7,
          7,
          4,
          6,
          7,
          4,
          4,
          6,
          7,
          8,
          7,
          8,
          8,
          7,
          7,
          7,
          8,
          7,
          8,
          7,
          7,
          7,
          7,
          7,
          8
         ],
         "xaxis": "x",
         "yaxis": "y"
        },
        {
         "alignmentgroup": "True",
         "bingroup": "x",
         "hovertemplate": "Chest Pain=3<br>Smoking=%{x}<br>count=%{y}<extra></extra>",
         "legendgroup": "3",
         "marker": {
          "color": "#ab63fa",
          "pattern": {
           "shape": ""
          }
         },
         "name": "3",
         "nbinsx": 10,
         "offsetgroup": "3",
         "orientation": "v",
         "showlegend": true,
         "texttemplate": "%{value}",
         "type": "histogram",
         "x": [
          1,
          2,
          1,
          1,
          2,
          4,
          6,
          3,
          2,
          3,
          2,
          2,
          3,
          2,
          3,
          1,
          2,
          1,
          2,
          1,
          1,
          2,
          4,
          6,
          3,
          2,
          3,
          2,
          2,
          1,
          3,
          2,
          3,
          1,
          1,
          2,
          1,
          1,
          2,
          4,
          6,
          3,
          2,
          3,
          2,
          2,
          3,
          2,
          3,
          2,
          1,
          2,
          1,
          4,
          1,
          2,
          4,
          6,
          3,
          2,
          3,
          2,
          2,
          3,
          2,
          3,
          6,
          1,
          2,
          1,
          3,
          1,
          2,
          4,
          6,
          3,
          2,
          2,
          3,
          2,
          2,
          3,
          2,
          3,
          3,
          1,
          2,
          2,
          1,
          1,
          2,
          4,
          2,
          6,
          3,
          2,
          3,
          2,
          2,
          3,
          2,
          3,
          3,
          1,
          2,
          2,
          1,
          3,
          1,
          2,
          4,
          6,
          3,
          2,
          3,
          2,
          2,
          3,
          2,
          3,
          1,
          2,
          1,
          1,
          2,
          4,
          6,
          3,
          2,
          3,
          2,
          2,
          3,
          2,
          3,
          1,
          2,
          1,
          1,
          2,
          4,
          6,
          3,
          2,
          3,
          2,
          2,
          3,
          2,
          3,
          1,
          2,
          3
         ],
         "xaxis": "x",
         "yaxis": "y"
        },
        {
         "alignmentgroup": "True",
         "bingroup": "x",
         "hovertemplate": "Chest Pain=6<br>Smoking=%{x}<br>count=%{y}<extra></extra>",
         "legendgroup": "6",
         "marker": {
          "color": "#FFA15A",
          "pattern": {
           "shape": ""
          }
         },
         "name": "6",
         "nbinsx": 10,
         "offsetgroup": "6",
         "orientation": "v",
         "showlegend": true,
         "texttemplate": "%{value}",
         "type": "histogram",
         "x": [
          6,
          6,
          5,
          5,
          1,
          6,
          6,
          5,
          1,
          6,
          6,
          6,
          5,
          1,
          1,
          6,
          6,
          5,
          1,
          6,
          6,
          5,
          1,
          6,
          6,
          5,
          1,
          6,
          6,
          6,
          5,
          1,
          6,
          6,
          5,
          1,
          6,
          6,
          5,
          1
         ],
         "xaxis": "x",
         "yaxis": "y"
        },
        {
         "alignmentgroup": "True",
         "bingroup": "x",
         "hovertemplate": "Chest Pain=5<br>Smoking=%{x}<br>count=%{y}<extra></extra>",
         "legendgroup": "5",
         "marker": {
          "color": "#19d3f3",
          "pattern": {
           "shape": ""
          }
         },
         "name": "5",
         "nbinsx": 10,
         "offsetgroup": "5",
         "orientation": "v",
         "showlegend": true,
         "texttemplate": "%{value}",
         "type": "histogram",
         "x": [
          8,
          8,
          8,
          8,
          8,
          8,
          8,
          8,
          8,
          8
         ],
         "xaxis": "x",
         "yaxis": "y"
        },
        {
         "alignmentgroup": "True",
         "bingroup": "x",
         "hovertemplate": "Chest Pain=9<br>Smoking=%{x}<br>count=%{y}<extra></extra>",
         "legendgroup": "9",
         "marker": {
          "color": "#FF6692",
          "pattern": {
           "shape": ""
          }
         },
         "name": "9",
         "nbinsx": 10,
         "offsetgroup": "9",
         "orientation": "v",
         "showlegend": true,
         "texttemplate": "%{value}",
         "type": "histogram",
         "x": [
          8,
          8,
          8,
          8,
          8,
          8,
          8,
          8,
          8,
          8,
          8,
          8,
          8,
          8,
          8,
          8,
          8,
          8,
          8
         ],
         "xaxis": "x",
         "yaxis": "y"
        },
        {
         "alignmentgroup": "True",
         "bingroup": "x",
         "hovertemplate": "Chest Pain=8<br>Smoking=%{x}<br>count=%{y}<extra></extra>",
         "legendgroup": "8",
         "marker": {
          "color": "#B6E880",
          "pattern": {
           "shape": ""
          }
         },
         "name": "8",
         "nbinsx": 10,
         "offsetgroup": "8",
         "orientation": "v",
         "showlegend": true,
         "texttemplate": "%{value}",
         "type": "histogram",
         "x": [
          3,
          3,
          3,
          3,
          3,
          3,
          3,
          3,
          3,
          3,
          3,
          3,
          3,
          3,
          3,
          3,
          3,
          3,
          3,
          3,
          3,
          3,
          3,
          3,
          3,
          3,
          3,
          3,
          3,
          3
         ],
         "xaxis": "x",
         "yaxis": "y"
        },
        {
         "alignmentgroup": "True",
         "bingroup": "x",
         "hovertemplate": "Chest Pain=1<br>Smoking=%{x}<br>count=%{y}<extra></extra>",
         "legendgroup": "1",
         "marker": {
          "color": "#FF97FF",
          "pattern": {
           "shape": ""
          }
         },
         "name": "1",
         "nbinsx": 10,
         "offsetgroup": "1",
         "orientation": "v",
         "showlegend": true,
         "texttemplate": "%{value}",
         "type": "histogram",
         "x": [
          1,
          3,
          6,
          2,
          3,
          2,
          7,
          3,
          1,
          3,
          6,
          2,
          3,
          2,
          7,
          3,
          1,
          3,
          6,
          1,
          2,
          3,
          2,
          7,
          3,
          3,
          6,
          2,
          3,
          1,
          3,
          6,
          2,
          3,
          2,
          7,
          2,
          3,
          7,
          3,
          1,
          3,
          6,
          2,
          3,
          2,
          7,
          3,
          1,
          3,
          6,
          2,
          3,
          2,
          7,
          3,
          1,
          3,
          6,
          2,
          3,
          2,
          7,
          3,
          1,
          3,
          6,
          2,
          3,
          2,
          7,
          3,
          1,
          3,
          6,
          2,
          3,
          2,
          7,
          3
         ],
         "xaxis": "x",
         "yaxis": "y"
        }
       ],
       "layout": {
        "barmode": "relative",
        "legend": {
         "title": {
          "text": "Chest Pain"
         },
         "tracegroupgap": 0
        },
        "template": {
         "data": {
          "bar": [
           {
            "error_x": {
             "color": "#2a3f5f"
            },
            "error_y": {
             "color": "#2a3f5f"
            },
            "marker": {
             "line": {
              "color": "#E5ECF6",
              "width": 0.5
             },
             "pattern": {
              "fillmode": "overlay",
              "size": 10,
              "solidity": 0.2
             }
            },
            "type": "bar"
           }
          ],
          "barpolar": [
           {
            "marker": {
             "line": {
              "color": "#E5ECF6",
              "width": 0.5
             },
             "pattern": {
              "fillmode": "overlay",
              "size": 10,
              "solidity": 0.2
             }
            },
            "type": "barpolar"
           }
          ],
          "carpet": [
           {
            "aaxis": {
             "endlinecolor": "#2a3f5f",
             "gridcolor": "white",
             "linecolor": "white",
             "minorgridcolor": "white",
             "startlinecolor": "#2a3f5f"
            },
            "baxis": {
             "endlinecolor": "#2a3f5f",
             "gridcolor": "white",
             "linecolor": "white",
             "minorgridcolor": "white",
             "startlinecolor": "#2a3f5f"
            },
            "type": "carpet"
           }
          ],
          "choropleth": [
           {
            "colorbar": {
             "outlinewidth": 0,
             "ticks": ""
            },
            "type": "choropleth"
           }
          ],
          "contour": [
           {
            "colorbar": {
             "outlinewidth": 0,
             "ticks": ""
            },
            "colorscale": [
             [
              0,
              "#0d0887"
             ],
             [
              0.1111111111111111,
              "#46039f"
             ],
             [
              0.2222222222222222,
              "#7201a8"
             ],
             [
              0.3333333333333333,
              "#9c179e"
             ],
             [
              0.4444444444444444,
              "#bd3786"
             ],
             [
              0.5555555555555556,
              "#d8576b"
             ],
             [
              0.6666666666666666,
              "#ed7953"
             ],
             [
              0.7777777777777778,
              "#fb9f3a"
             ],
             [
              0.8888888888888888,
              "#fdca26"
             ],
             [
              1,
              "#f0f921"
             ]
            ],
            "type": "contour"
           }
          ],
          "contourcarpet": [
           {
            "colorbar": {
             "outlinewidth": 0,
             "ticks": ""
            },
            "type": "contourcarpet"
           }
          ],
          "heatmap": [
           {
            "colorbar": {
             "outlinewidth": 0,
             "ticks": ""
            },
            "colorscale": [
             [
              0,
              "#0d0887"
             ],
             [
              0.1111111111111111,
              "#46039f"
             ],
             [
              0.2222222222222222,
              "#7201a8"
             ],
             [
              0.3333333333333333,
              "#9c179e"
             ],
             [
              0.4444444444444444,
              "#bd3786"
             ],
             [
              0.5555555555555556,
              "#d8576b"
             ],
             [
              0.6666666666666666,
              "#ed7953"
             ],
             [
              0.7777777777777778,
              "#fb9f3a"
             ],
             [
              0.8888888888888888,
              "#fdca26"
             ],
             [
              1,
              "#f0f921"
             ]
            ],
            "type": "heatmap"
           }
          ],
          "heatmapgl": [
           {
            "colorbar": {
             "outlinewidth": 0,
             "ticks": ""
            },
            "colorscale": [
             [
              0,
              "#0d0887"
             ],
             [
              0.1111111111111111,
              "#46039f"
             ],
             [
              0.2222222222222222,
              "#7201a8"
             ],
             [
              0.3333333333333333,
              "#9c179e"
             ],
             [
              0.4444444444444444,
              "#bd3786"
             ],
             [
              0.5555555555555556,
              "#d8576b"
             ],
             [
              0.6666666666666666,
              "#ed7953"
             ],
             [
              0.7777777777777778,
              "#fb9f3a"
             ],
             [
              0.8888888888888888,
              "#fdca26"
             ],
             [
              1,
              "#f0f921"
             ]
            ],
            "type": "heatmapgl"
           }
          ],
          "histogram": [
           {
            "marker": {
             "pattern": {
              "fillmode": "overlay",
              "size": 10,
              "solidity": 0.2
             }
            },
            "type": "histogram"
           }
          ],
          "histogram2d": [
           {
            "colorbar": {
             "outlinewidth": 0,
             "ticks": ""
            },
            "colorscale": [
             [
              0,
              "#0d0887"
             ],
             [
              0.1111111111111111,
              "#46039f"
             ],
             [
              0.2222222222222222,
              "#7201a8"
             ],
             [
              0.3333333333333333,
              "#9c179e"
             ],
             [
              0.4444444444444444,
              "#bd3786"
             ],
             [
              0.5555555555555556,
              "#d8576b"
             ],
             [
              0.6666666666666666,
              "#ed7953"
             ],
             [
              0.7777777777777778,
              "#fb9f3a"
             ],
             [
              0.8888888888888888,
              "#fdca26"
             ],
             [
              1,
              "#f0f921"
             ]
            ],
            "type": "histogram2d"
           }
          ],
          "histogram2dcontour": [
           {
            "colorbar": {
             "outlinewidth": 0,
             "ticks": ""
            },
            "colorscale": [
             [
              0,
              "#0d0887"
             ],
             [
              0.1111111111111111,
              "#46039f"
             ],
             [
              0.2222222222222222,
              "#7201a8"
             ],
             [
              0.3333333333333333,
              "#9c179e"
             ],
             [
              0.4444444444444444,
              "#bd3786"
             ],
             [
              0.5555555555555556,
              "#d8576b"
             ],
             [
              0.6666666666666666,
              "#ed7953"
             ],
             [
              0.7777777777777778,
              "#fb9f3a"
             ],
             [
              0.8888888888888888,
              "#fdca26"
             ],
             [
              1,
              "#f0f921"
             ]
            ],
            "type": "histogram2dcontour"
           }
          ],
          "mesh3d": [
           {
            "colorbar": {
             "outlinewidth": 0,
             "ticks": ""
            },
            "type": "mesh3d"
           }
          ],
          "parcoords": [
           {
            "line": {
             "colorbar": {
              "outlinewidth": 0,
              "ticks": ""
             }
            },
            "type": "parcoords"
           }
          ],
          "pie": [
           {
            "automargin": true,
            "type": "pie"
           }
          ],
          "scatter": [
           {
            "fillpattern": {
             "fillmode": "overlay",
             "size": 10,
             "solidity": 0.2
            },
            "type": "scatter"
           }
          ],
          "scatter3d": [
           {
            "line": {
             "colorbar": {
              "outlinewidth": 0,
              "ticks": ""
             }
            },
            "marker": {
             "colorbar": {
              "outlinewidth": 0,
              "ticks": ""
             }
            },
            "type": "scatter3d"
           }
          ],
          "scattercarpet": [
           {
            "marker": {
             "colorbar": {
              "outlinewidth": 0,
              "ticks": ""
             }
            },
            "type": "scattercarpet"
           }
          ],
          "scattergeo": [
           {
            "marker": {
             "colorbar": {
              "outlinewidth": 0,
              "ticks": ""
             }
            },
            "type": "scattergeo"
           }
          ],
          "scattergl": [
           {
            "marker": {
             "colorbar": {
              "outlinewidth": 0,
              "ticks": ""
             }
            },
            "type": "scattergl"
           }
          ],
          "scattermapbox": [
           {
            "marker": {
             "colorbar": {
              "outlinewidth": 0,
              "ticks": ""
             }
            },
            "type": "scattermapbox"
           }
          ],
          "scatterpolar": [
           {
            "marker": {
             "colorbar": {
              "outlinewidth": 0,
              "ticks": ""
             }
            },
            "type": "scatterpolar"
           }
          ],
          "scatterpolargl": [
           {
            "marker": {
             "colorbar": {
              "outlinewidth": 0,
              "ticks": ""
             }
            },
            "type": "scatterpolargl"
           }
          ],
          "scatterternary": [
           {
            "marker": {
             "colorbar": {
              "outlinewidth": 0,
              "ticks": ""
             }
            },
            "type": "scatterternary"
           }
          ],
          "surface": [
           {
            "colorbar": {
             "outlinewidth": 0,
             "ticks": ""
            },
            "colorscale": [
             [
              0,
              "#0d0887"
             ],
             [
              0.1111111111111111,
              "#46039f"
             ],
             [
              0.2222222222222222,
              "#7201a8"
             ],
             [
              0.3333333333333333,
              "#9c179e"
             ],
             [
              0.4444444444444444,
              "#bd3786"
             ],
             [
              0.5555555555555556,
              "#d8576b"
             ],
             [
              0.6666666666666666,
              "#ed7953"
             ],
             [
              0.7777777777777778,
              "#fb9f3a"
             ],
             [
              0.8888888888888888,
              "#fdca26"
             ],
             [
              1,
              "#f0f921"
             ]
            ],
            "type": "surface"
           }
          ],
          "table": [
           {
            "cells": {
             "fill": {
              "color": "#EBF0F8"
             },
             "line": {
              "color": "white"
             }
            },
            "header": {
             "fill": {
              "color": "#C8D4E3"
             },
             "line": {
              "color": "white"
             }
            },
            "type": "table"
           }
          ]
         },
         "layout": {
          "annotationdefaults": {
           "arrowcolor": "#2a3f5f",
           "arrowhead": 0,
           "arrowwidth": 1
          },
          "autotypenumbers": "strict",
          "coloraxis": {
           "colorbar": {
            "outlinewidth": 0,
            "ticks": ""
           }
          },
          "colorscale": {
           "diverging": [
            [
             0,
             "#8e0152"
            ],
            [
             0.1,
             "#c51b7d"
            ],
            [
             0.2,
             "#de77ae"
            ],
            [
             0.3,
             "#f1b6da"
            ],
            [
             0.4,
             "#fde0ef"
            ],
            [
             0.5,
             "#f7f7f7"
            ],
            [
             0.6,
             "#e6f5d0"
            ],
            [
             0.7,
             "#b8e186"
            ],
            [
             0.8,
             "#7fbc41"
            ],
            [
             0.9,
             "#4d9221"
            ],
            [
             1,
             "#276419"
            ]
           ],
           "sequential": [
            [
             0,
             "#0d0887"
            ],
            [
             0.1111111111111111,
             "#46039f"
            ],
            [
             0.2222222222222222,
             "#7201a8"
            ],
            [
             0.3333333333333333,
             "#9c179e"
            ],
            [
             0.4444444444444444,
             "#bd3786"
            ],
            [
             0.5555555555555556,
             "#d8576b"
            ],
            [
             0.6666666666666666,
             "#ed7953"
            ],
            [
             0.7777777777777778,
             "#fb9f3a"
            ],
            [
             0.8888888888888888,
             "#fdca26"
            ],
            [
             1,
             "#f0f921"
            ]
           ],
           "sequentialminus": [
            [
             0,
             "#0d0887"
            ],
            [
             0.1111111111111111,
             "#46039f"
            ],
            [
             0.2222222222222222,
             "#7201a8"
            ],
            [
             0.3333333333333333,
             "#9c179e"
            ],
            [
             0.4444444444444444,
             "#bd3786"
            ],
            [
             0.5555555555555556,
             "#d8576b"
            ],
            [
             0.6666666666666666,
             "#ed7953"
            ],
            [
             0.7777777777777778,
             "#fb9f3a"
            ],
            [
             0.8888888888888888,
             "#fdca26"
            ],
            [
             1,
             "#f0f921"
            ]
           ]
          },
          "colorway": [
           "#636efa",
           "#EF553B",
           "#00cc96",
           "#ab63fa",
           "#FFA15A",
           "#19d3f3",
           "#FF6692",
           "#B6E880",
           "#FF97FF",
           "#FECB52"
          ],
          "font": {
           "color": "#2a3f5f"
          },
          "geo": {
           "bgcolor": "white",
           "lakecolor": "white",
           "landcolor": "#E5ECF6",
           "showlakes": true,
           "showland": true,
           "subunitcolor": "white"
          },
          "hoverlabel": {
           "align": "left"
          },
          "hovermode": "closest",
          "mapbox": {
           "style": "light"
          },
          "paper_bgcolor": "white",
          "plot_bgcolor": "#E5ECF6",
          "polar": {
           "angularaxis": {
            "gridcolor": "white",
            "linecolor": "white",
            "ticks": ""
           },
           "bgcolor": "#E5ECF6",
           "radialaxis": {
            "gridcolor": "white",
            "linecolor": "white",
            "ticks": ""
           }
          },
          "scene": {
           "xaxis": {
            "backgroundcolor": "#E5ECF6",
            "gridcolor": "white",
            "gridwidth": 2,
            "linecolor": "white",
            "showbackground": true,
            "ticks": "",
            "zerolinecolor": "white"
           },
           "yaxis": {
            "backgroundcolor": "#E5ECF6",
            "gridcolor": "white",
            "gridwidth": 2,
            "linecolor": "white",
            "showbackground": true,
            "ticks": "",
            "zerolinecolor": "white"
           },
           "zaxis": {
            "backgroundcolor": "#E5ECF6",
            "gridcolor": "white",
            "gridwidth": 2,
            "linecolor": "white",
            "showbackground": true,
            "ticks": "",
            "zerolinecolor": "white"
           }
          },
          "shapedefaults": {
           "line": {
            "color": "#2a3f5f"
           }
          },
          "ternary": {
           "aaxis": {
            "gridcolor": "white",
            "linecolor": "white",
            "ticks": ""
           },
           "baxis": {
            "gridcolor": "white",
            "linecolor": "white",
            "ticks": ""
           },
           "bgcolor": "#E5ECF6",
           "caxis": {
            "gridcolor": "white",
            "linecolor": "white",
            "ticks": ""
           }
          },
          "title": {
           "x": 0.05
          },
          "xaxis": {
           "automargin": true,
           "gridcolor": "white",
           "linecolor": "white",
           "ticks": "",
           "title": {
            "standoff": 15
           },
           "zerolinecolor": "white",
           "zerolinewidth": 2
          },
          "yaxis": {
           "automargin": true,
           "gridcolor": "white",
           "linecolor": "white",
           "ticks": "",
           "title": {
            "standoff": 15
           },
           "zerolinecolor": "white",
           "zerolinewidth": 2
          }
         }
        },
        "title": {
         "text": "Distribution of Smoking"
        },
        "xaxis": {
         "anchor": "y",
         "domain": [
          0,
          1
         ],
         "title": {
          "text": "Smoking"
         }
        },
        "yaxis": {
         "anchor": "x",
         "domain": [
          0,
          1
         ],
         "title": {
          "text": "count"
         }
        }
       }
      }
     },
     "metadata": {},
     "output_type": "display_data"
    }
   ],
   "source": [
    "# Smoking and Chest Pain\n",
    "fig = px.histogram(lung, x = 'Smoking', color = 'Chest Pain', nbins = 10, title = 'Distribution of Smoking', text_auto = True)\n",
    "fig.show()"
   ]
  },
  {
   "attachments": {},
   "cell_type": "markdown",
   "metadata": {},
   "source": [
    "Similarly it does appear that smoking has an impact on lung cancer with chest pain and coughing of blood being high for those who have a high level of smoking"
   ]
  },
  {
   "attachments": {},
   "cell_type": "markdown",
   "metadata": {},
   "source": [
    "### Further Analysis\n",
    "\n",
    "It appears that shortness of breath is prominent even for people who do not have the typical causes of cancer. I want to explore that anomaly, and I am first going to compare shortness of breath to those who have lung disease. As lung disease does come with shortness of breath. Maybe shortness of breath is a symptom of lung disease rather than lung cancer. "
   ]
  },
  {
   "cell_type": "code",
   "execution_count": 68,
   "metadata": {},
   "outputs": [
    {
     "data": {
      "application/vnd.plotly.v1+json": {
       "config": {
        "plotlyServerURL": "https://plot.ly"
       },
       "data": [
        {
         "alignmentgroup": "True",
         "bingroup": "x",
         "hovertemplate": "Shortness of Breath=2<br>chronic Lung Disease=%{x}<br>count=%{y}<extra></extra>",
         "legendgroup": "2",
         "marker": {
          "color": "#636efa",
          "pattern": {
           "shape": ""
          }
         },
         "name": "2",
         "nbinsx": 10,
         "offsetgroup": "2",
         "orientation": "v",
         "showlegend": true,
         "texttemplate": "%{value}",
         "type": "histogram",
         "x": [
          2,
          2,
          3,
          6,
          4,
          5,
          3,
          2,
          3,
          5,
          3,
          6,
          1,
          4,
          3,
          4,
          3,
          4,
          3,
          3,
          4,
          3,
          4,
          6,
          6,
          3,
          6,
          3,
          2,
          3,
          6,
          4,
          5,
          3,
          2,
          3,
          3,
          6,
          1,
          4,
          3,
          4,
          3,
          2,
          4,
          3,
          3,
          3,
          4,
          3,
          4,
          6,
          6,
          6,
          2,
          3,
          6,
          4,
          5,
          3,
          3,
          2,
          3,
          3,
          6,
          1,
          4,
          3,
          4,
          3,
          4,
          3,
          3,
          4,
          3,
          4,
          6,
          6,
          6,
          6,
          2,
          3,
          6,
          4,
          5,
          3,
          2,
          3,
          1,
          3,
          6,
          1,
          4,
          3,
          4,
          3,
          4,
          3,
          3,
          4,
          3,
          4,
          6,
          6,
          6,
          6,
          4,
          2,
          3,
          6,
          4,
          5,
          3,
          3,
          2,
          3,
          4,
          3,
          6,
          1,
          3,
          4,
          3,
          4,
          3,
          4,
          3,
          3,
          4,
          3,
          4,
          6,
          6,
          4,
          6,
          2,
          3,
          6,
          4,
          3,
          5,
          3,
          2,
          3,
          3,
          3,
          6,
          1,
          4,
          3,
          4,
          3,
          4,
          3,
          3,
          4,
          3,
          4,
          6,
          4,
          6,
          6,
          4,
          2,
          3,
          6,
          4,
          3,
          5,
          3,
          2,
          3,
          4,
          3,
          6,
          1,
          6,
          4,
          3,
          4,
          3,
          4,
          3,
          3,
          4,
          3,
          4,
          6,
          6,
          6,
          2,
          3,
          6,
          4,
          5,
          3,
          2,
          3,
          3,
          6,
          6,
          1,
          4,
          3,
          4,
          3,
          4,
          3,
          3,
          4,
          3,
          4,
          6,
          6,
          6,
          2,
          3,
          6,
          4,
          5,
          3,
          2,
          3,
          6,
          3,
          6,
          1,
          4,
          3,
          4,
          3,
          4,
          3,
          3,
          4,
          3,
          4,
          6,
          2,
          3,
          4,
          6,
          6
         ],
         "xaxis": "x",
         "yaxis": "y"
        },
        {
         "alignmentgroup": "True",
         "bingroup": "x",
         "hovertemplate": "Shortness of Breath=7<br>chronic Lung Disease=%{x}<br>count=%{y}<extra></extra>",
         "legendgroup": "7",
         "marker": {
          "color": "#EF553B",
          "pattern": {
           "shape": ""
          }
         },
         "name": "7",
         "nbinsx": 10,
         "offsetgroup": "7",
         "orientation": "v",
         "showlegend": true,
         "texttemplate": "%{value}",
         "type": "histogram",
         "x": [
          2,
          2,
          7,
          7,
          2,
          5,
          5,
          2,
          2,
          7,
          7,
          2,
          7,
          2,
          2,
          5,
          5,
          5,
          2,
          2,
          7,
          7,
          5,
          2,
          7,
          2,
          5,
          5,
          2,
          2,
          7,
          7,
          2,
          7,
          2,
          5,
          5,
          2,
          2,
          7,
          7,
          2,
          7,
          2,
          5,
          5,
          2,
          2,
          2,
          7,
          7,
          2,
          7,
          2,
          5,
          5,
          2,
          2,
          2,
          7,
          7,
          2,
          7,
          2,
          5,
          5,
          2,
          2,
          7,
          7,
          2,
          7,
          2,
          5,
          7,
          5,
          2,
          2,
          7,
          7,
          2,
          7,
          7,
          2,
          5,
          5,
          2,
          2,
          7
         ],
         "xaxis": "x",
         "yaxis": "y"
        },
        {
         "alignmentgroup": "True",
         "bingroup": "x",
         "hovertemplate": "Shortness of Breath=9<br>chronic Lung Disease=%{x}<br>count=%{y}<extra></extra>",
         "legendgroup": "9",
         "marker": {
          "color": "#00cc96",
          "pattern": {
           "shape": ""
          }
         },
         "name": "9",
         "nbinsx": 10,
         "offsetgroup": "9",
         "orientation": "v",
         "showlegend": true,
         "texttemplate": "%{value}",
         "type": "histogram",
         "x": [
          4,
          4,
          4,
          4,
          4,
          4,
          4,
          4,
          4,
          4,
          4,
          4,
          4,
          4,
          4,
          4,
          4,
          4,
          4,
          4,
          4,
          4,
          4,
          4,
          4,
          4,
          4,
          4,
          4,
          4,
          4,
          4,
          4,
          4,
          4,
          4,
          4,
          4,
          4,
          4,
          4,
          4,
          4,
          4,
          4,
          4,
          4,
          4,
          4,
          4,
          4,
          4,
          4,
          4,
          4,
          4,
          4,
          4,
          4,
          4,
          4,
          4,
          4,
          4,
          4,
          4,
          4,
          4,
          4,
          4
         ],
         "xaxis": "x",
         "yaxis": "y"
        },
        {
         "alignmentgroup": "True",
         "bingroup": "x",
         "hovertemplate": "Shortness of Breath=3<br>chronic Lung Disease=%{x}<br>count=%{y}<extra></extra>",
         "legendgroup": "3",
         "marker": {
          "color": "#ab63fa",
          "pattern": {
           "shape": ""
          }
         },
         "name": "3",
         "nbinsx": 10,
         "offsetgroup": "3",
         "orientation": "v",
         "showlegend": true,
         "texttemplate": "%{value}",
         "type": "histogram",
         "x": [
          7,
          5,
          7,
          2,
          7,
          2,
          7,
          2,
          3,
          2,
          2,
          1,
          1,
          7,
          7,
          7,
          5,
          2,
          7,
          2,
          7,
          2,
          3,
          2,
          2,
          1,
          1,
          2,
          7,
          7,
          5,
          7,
          7,
          5,
          2,
          7,
          2,
          2,
          7,
          2,
          3,
          2,
          3,
          2,
          1,
          1,
          7,
          7,
          2,
          7,
          5,
          2,
          7,
          2,
          7,
          2,
          3,
          2,
          2,
          1,
          1,
          2,
          7,
          1,
          7,
          7,
          5,
          1,
          2,
          7,
          2,
          7,
          2,
          3,
          2,
          2,
          1,
          1,
          7,
          7,
          7,
          5,
          2,
          7,
          2,
          7,
          2,
          3,
          2,
          2,
          1,
          1,
          7,
          7,
          7,
          5,
          2,
          7,
          2,
          7,
          2,
          3,
          2,
          2,
          1,
          1,
          7,
          7,
          2,
          7,
          5,
          2,
          7,
          7,
          2,
          7,
          2,
          3,
          2,
          2,
          1,
          1,
          7,
          7,
          7,
          5,
          7,
          2,
          7,
          2,
          7,
          2,
          3,
          2,
          2,
          1,
          1,
          2,
          7,
          7
         ],
         "xaxis": "x",
         "yaxis": "y"
        },
        {
         "alignmentgroup": "True",
         "bingroup": "x",
         "hovertemplate": "Shortness of Breath=4<br>chronic Lung Disease=%{x}<br>count=%{y}<extra></extra>",
         "legendgroup": "4",
         "marker": {
          "color": "#FFA15A",
          "pattern": {
           "shape": ""
          }
         },
         "name": "4",
         "nbinsx": 10,
         "offsetgroup": "4",
         "orientation": "v",
         "showlegend": true,
         "texttemplate": "%{value}",
         "type": "histogram",
         "x": [
          6,
          3,
          6,
          6,
          3,
          6,
          6,
          6,
          6,
          6,
          6,
          3,
          6,
          6,
          6,
          3,
          6,
          6,
          6,
          6,
          6,
          3,
          6,
          6,
          3,
          6,
          6,
          6,
          6,
          3,
          6,
          3,
          6,
          3,
          6,
          3,
          6,
          6,
          6,
          6,
          6,
          3,
          6,
          6,
          3,
          6,
          6,
          6,
          6,
          6,
          3,
          6,
          6,
          3,
          6,
          6,
          6,
          6,
          6,
          3,
          6,
          6,
          3,
          6,
          6,
          6,
          6,
          6,
          6,
          3,
          6,
          6,
          3,
          6,
          6,
          6,
          6,
          6,
          6,
          6,
          3,
          6,
          6,
          3,
          6,
          6,
          6,
          6,
          6,
          6
         ],
         "xaxis": "x",
         "yaxis": "y"
        },
        {
         "alignmentgroup": "True",
         "bingroup": "x",
         "hovertemplate": "Shortness of Breath=5<br>chronic Lung Disease=%{x}<br>count=%{y}<extra></extra>",
         "legendgroup": "5",
         "marker": {
          "color": "#19d3f3",
          "pattern": {
           "shape": ""
          }
         },
         "name": "5",
         "nbinsx": 10,
         "offsetgroup": "5",
         "orientation": "v",
         "showlegend": true,
         "texttemplate": "%{value}",
         "type": "histogram",
         "x": [
          6,
          7,
          6,
          7,
          1,
          6,
          6,
          7,
          6,
          6,
          6,
          6,
          7,
          6,
          1,
          6,
          6,
          7,
          6,
          6,
          6,
          7,
          6,
          1,
          6,
          6,
          7,
          6,
          6,
          6,
          7,
          6,
          1,
          1,
          6,
          6,
          7,
          6,
          6,
          6,
          7,
          6,
          1,
          6,
          6,
          7,
          6,
          6,
          6,
          6,
          7,
          6,
          1,
          6,
          6,
          7,
          6,
          6,
          6,
          7,
          6,
          1,
          6,
          6,
          6,
          6,
          7,
          7,
          6,
          6,
          6,
          7,
          6,
          1,
          6,
          6,
          6,
          7,
          6,
          6,
          6,
          7,
          6,
          6,
          1,
          6,
          6
         ],
         "xaxis": "x",
         "yaxis": "y"
        },
        {
         "alignmentgroup": "True",
         "bingroup": "x",
         "hovertemplate": "Shortness of Breath=6<br>chronic Lung Disease=%{x}<br>count=%{y}<extra></extra>",
         "legendgroup": "6",
         "marker": {
          "color": "#FF6692",
          "pattern": {
           "shape": ""
          }
         },
         "name": "6",
         "nbinsx": 10,
         "offsetgroup": "6",
         "orientation": "v",
         "showlegend": true,
         "texttemplate": "%{value}",
         "type": "histogram",
         "x": [
          5,
          6,
          6,
          2,
          6,
          7,
          6,
          2,
          6,
          6,
          2,
          6,
          2,
          6,
          6,
          6,
          6,
          2,
          6,
          6,
          6,
          6,
          2,
          5,
          6,
          6,
          2,
          6,
          7,
          6,
          6,
          2,
          6,
          6,
          2,
          6,
          2,
          6,
          6,
          6,
          2,
          6,
          6,
          7,
          6,
          5,
          6,
          6,
          2,
          6,
          7,
          6,
          2,
          6,
          6,
          2,
          6,
          2,
          6,
          6,
          6,
          2,
          6,
          6,
          6,
          5,
          6,
          6,
          2,
          6,
          7,
          6,
          2,
          6,
          6,
          2,
          6,
          2,
          6,
          6,
          6,
          2,
          6,
          6,
          6,
          5,
          6,
          6,
          2,
          6,
          7,
          6,
          6,
          2,
          6,
          2,
          6,
          2,
          6,
          2,
          6,
          6,
          6,
          6,
          2,
          6,
          6,
          6,
          6,
          5,
          6,
          2,
          6,
          2,
          6,
          6,
          7,
          2,
          6,
          2,
          6,
          6,
          6,
          2,
          6,
          2,
          6,
          6,
          6,
          2,
          6,
          6,
          6,
          6,
          6,
          5,
          6,
          2,
          6,
          2,
          6,
          7,
          6,
          6,
          2,
          6,
          6,
          2,
          6,
          2,
          6,
          6,
          6,
          2,
          6,
          6,
          6,
          6,
          5,
          6,
          6,
          2,
          6,
          7,
          6,
          2,
          6,
          6,
          2,
          6,
          2,
          6,
          6,
          6,
          2,
          6,
          6,
          6,
          5,
          6,
          5,
          6,
          6,
          2,
          6,
          7,
          6,
          2,
          6,
          6,
          2,
          6,
          2,
          6,
          6,
          6,
          2,
          6,
          6,
          2,
          6
         ],
         "xaxis": "x",
         "yaxis": "y"
        },
        {
         "alignmentgroup": "True",
         "bingroup": "x",
         "hovertemplate": "Shortness of Breath=1<br>chronic Lung Disease=%{x}<br>count=%{y}<extra></extra>",
         "legendgroup": "1",
         "marker": {
          "color": "#B6E880",
          "pattern": {
           "shape": ""
          }
         },
         "name": "1",
         "nbinsx": 10,
         "offsetgroup": "1",
         "orientation": "v",
         "showlegend": true,
         "texttemplate": "%{value}",
         "type": "histogram",
         "x": [
          2,
          5,
          3,
          4,
          1,
          3,
          5,
          5,
          2,
          5,
          3,
          4,
          1,
          3,
          5,
          5,
          2,
          5,
          3,
          2,
          4,
          1,
          3,
          5,
          5,
          5,
          3,
          4,
          1,
          2,
          5,
          3,
          4,
          1,
          3,
          5,
          5,
          3,
          5,
          5,
          2,
          5,
          3,
          4,
          1,
          3,
          5,
          5,
          2,
          5,
          3,
          4,
          1,
          3,
          5,
          5,
          2,
          5,
          3,
          4,
          1,
          3,
          5,
          5,
          2,
          5,
          3,
          4,
          1,
          3,
          5,
          5,
          2,
          5,
          3,
          4,
          1,
          3,
          5,
          5
         ],
         "xaxis": "x",
         "yaxis": "y"
        }
       ],
       "layout": {
        "barmode": "relative",
        "legend": {
         "title": {
          "text": "Shortness of Breath"
         },
         "tracegroupgap": 0
        },
        "template": {
         "data": {
          "bar": [
           {
            "error_x": {
             "color": "#2a3f5f"
            },
            "error_y": {
             "color": "#2a3f5f"
            },
            "marker": {
             "line": {
              "color": "#E5ECF6",
              "width": 0.5
             },
             "pattern": {
              "fillmode": "overlay",
              "size": 10,
              "solidity": 0.2
             }
            },
            "type": "bar"
           }
          ],
          "barpolar": [
           {
            "marker": {
             "line": {
              "color": "#E5ECF6",
              "width": 0.5
             },
             "pattern": {
              "fillmode": "overlay",
              "size": 10,
              "solidity": 0.2
             }
            },
            "type": "barpolar"
           }
          ],
          "carpet": [
           {
            "aaxis": {
             "endlinecolor": "#2a3f5f",
             "gridcolor": "white",
             "linecolor": "white",
             "minorgridcolor": "white",
             "startlinecolor": "#2a3f5f"
            },
            "baxis": {
             "endlinecolor": "#2a3f5f",
             "gridcolor": "white",
             "linecolor": "white",
             "minorgridcolor": "white",
             "startlinecolor": "#2a3f5f"
            },
            "type": "carpet"
           }
          ],
          "choropleth": [
           {
            "colorbar": {
             "outlinewidth": 0,
             "ticks": ""
            },
            "type": "choropleth"
           }
          ],
          "contour": [
           {
            "colorbar": {
             "outlinewidth": 0,
             "ticks": ""
            },
            "colorscale": [
             [
              0,
              "#0d0887"
             ],
             [
              0.1111111111111111,
              "#46039f"
             ],
             [
              0.2222222222222222,
              "#7201a8"
             ],
             [
              0.3333333333333333,
              "#9c179e"
             ],
             [
              0.4444444444444444,
              "#bd3786"
             ],
             [
              0.5555555555555556,
              "#d8576b"
             ],
             [
              0.6666666666666666,
              "#ed7953"
             ],
             [
              0.7777777777777778,
              "#fb9f3a"
             ],
             [
              0.8888888888888888,
              "#fdca26"
             ],
             [
              1,
              "#f0f921"
             ]
            ],
            "type": "contour"
           }
          ],
          "contourcarpet": [
           {
            "colorbar": {
             "outlinewidth": 0,
             "ticks": ""
            },
            "type": "contourcarpet"
           }
          ],
          "heatmap": [
           {
            "colorbar": {
             "outlinewidth": 0,
             "ticks": ""
            },
            "colorscale": [
             [
              0,
              "#0d0887"
             ],
             [
              0.1111111111111111,
              "#46039f"
             ],
             [
              0.2222222222222222,
              "#7201a8"
             ],
             [
              0.3333333333333333,
              "#9c179e"
             ],
             [
              0.4444444444444444,
              "#bd3786"
             ],
             [
              0.5555555555555556,
              "#d8576b"
             ],
             [
              0.6666666666666666,
              "#ed7953"
             ],
             [
              0.7777777777777778,
              "#fb9f3a"
             ],
             [
              0.8888888888888888,
              "#fdca26"
             ],
             [
              1,
              "#f0f921"
             ]
            ],
            "type": "heatmap"
           }
          ],
          "heatmapgl": [
           {
            "colorbar": {
             "outlinewidth": 0,
             "ticks": ""
            },
            "colorscale": [
             [
              0,
              "#0d0887"
             ],
             [
              0.1111111111111111,
              "#46039f"
             ],
             [
              0.2222222222222222,
              "#7201a8"
             ],
             [
              0.3333333333333333,
              "#9c179e"
             ],
             [
              0.4444444444444444,
              "#bd3786"
             ],
             [
              0.5555555555555556,
              "#d8576b"
             ],
             [
              0.6666666666666666,
              "#ed7953"
             ],
             [
              0.7777777777777778,
              "#fb9f3a"
             ],
             [
              0.8888888888888888,
              "#fdca26"
             ],
             [
              1,
              "#f0f921"
             ]
            ],
            "type": "heatmapgl"
           }
          ],
          "histogram": [
           {
            "marker": {
             "pattern": {
              "fillmode": "overlay",
              "size": 10,
              "solidity": 0.2
             }
            },
            "type": "histogram"
           }
          ],
          "histogram2d": [
           {
            "colorbar": {
             "outlinewidth": 0,
             "ticks": ""
            },
            "colorscale": [
             [
              0,
              "#0d0887"
             ],
             [
              0.1111111111111111,
              "#46039f"
             ],
             [
              0.2222222222222222,
              "#7201a8"
             ],
             [
              0.3333333333333333,
              "#9c179e"
             ],
             [
              0.4444444444444444,
              "#bd3786"
             ],
             [
              0.5555555555555556,
              "#d8576b"
             ],
             [
              0.6666666666666666,
              "#ed7953"
             ],
             [
              0.7777777777777778,
              "#fb9f3a"
             ],
             [
              0.8888888888888888,
              "#fdca26"
             ],
             [
              1,
              "#f0f921"
             ]
            ],
            "type": "histogram2d"
           }
          ],
          "histogram2dcontour": [
           {
            "colorbar": {
             "outlinewidth": 0,
             "ticks": ""
            },
            "colorscale": [
             [
              0,
              "#0d0887"
             ],
             [
              0.1111111111111111,
              "#46039f"
             ],
             [
              0.2222222222222222,
              "#7201a8"
             ],
             [
              0.3333333333333333,
              "#9c179e"
             ],
             [
              0.4444444444444444,
              "#bd3786"
             ],
             [
              0.5555555555555556,
              "#d8576b"
             ],
             [
              0.6666666666666666,
              "#ed7953"
             ],
             [
              0.7777777777777778,
              "#fb9f3a"
             ],
             [
              0.8888888888888888,
              "#fdca26"
             ],
             [
              1,
              "#f0f921"
             ]
            ],
            "type": "histogram2dcontour"
           }
          ],
          "mesh3d": [
           {
            "colorbar": {
             "outlinewidth": 0,
             "ticks": ""
            },
            "type": "mesh3d"
           }
          ],
          "parcoords": [
           {
            "line": {
             "colorbar": {
              "outlinewidth": 0,
              "ticks": ""
             }
            },
            "type": "parcoords"
           }
          ],
          "pie": [
           {
            "automargin": true,
            "type": "pie"
           }
          ],
          "scatter": [
           {
            "fillpattern": {
             "fillmode": "overlay",
             "size": 10,
             "solidity": 0.2
            },
            "type": "scatter"
           }
          ],
          "scatter3d": [
           {
            "line": {
             "colorbar": {
              "outlinewidth": 0,
              "ticks": ""
             }
            },
            "marker": {
             "colorbar": {
              "outlinewidth": 0,
              "ticks": ""
             }
            },
            "type": "scatter3d"
           }
          ],
          "scattercarpet": [
           {
            "marker": {
             "colorbar": {
              "outlinewidth": 0,
              "ticks": ""
             }
            },
            "type": "scattercarpet"
           }
          ],
          "scattergeo": [
           {
            "marker": {
             "colorbar": {
              "outlinewidth": 0,
              "ticks": ""
             }
            },
            "type": "scattergeo"
           }
          ],
          "scattergl": [
           {
            "marker": {
             "colorbar": {
              "outlinewidth": 0,
              "ticks": ""
             }
            },
            "type": "scattergl"
           }
          ],
          "scattermapbox": [
           {
            "marker": {
             "colorbar": {
              "outlinewidth": 0,
              "ticks": ""
             }
            },
            "type": "scattermapbox"
           }
          ],
          "scatterpolar": [
           {
            "marker": {
             "colorbar": {
              "outlinewidth": 0,
              "ticks": ""
             }
            },
            "type": "scatterpolar"
           }
          ],
          "scatterpolargl": [
           {
            "marker": {
             "colorbar": {
              "outlinewidth": 0,
              "ticks": ""
             }
            },
            "type": "scatterpolargl"
           }
          ],
          "scatterternary": [
           {
            "marker": {
             "colorbar": {
              "outlinewidth": 0,
              "ticks": ""
             }
            },
            "type": "scatterternary"
           }
          ],
          "surface": [
           {
            "colorbar": {
             "outlinewidth": 0,
             "ticks": ""
            },
            "colorscale": [
             [
              0,
              "#0d0887"
             ],
             [
              0.1111111111111111,
              "#46039f"
             ],
             [
              0.2222222222222222,
              "#7201a8"
             ],
             [
              0.3333333333333333,
              "#9c179e"
             ],
             [
              0.4444444444444444,
              "#bd3786"
             ],
             [
              0.5555555555555556,
              "#d8576b"
             ],
             [
              0.6666666666666666,
              "#ed7953"
             ],
             [
              0.7777777777777778,
              "#fb9f3a"
             ],
             [
              0.8888888888888888,
              "#fdca26"
             ],
             [
              1,
              "#f0f921"
             ]
            ],
            "type": "surface"
           }
          ],
          "table": [
           {
            "cells": {
             "fill": {
              "color": "#EBF0F8"
             },
             "line": {
              "color": "white"
             }
            },
            "header": {
             "fill": {
              "color": "#C8D4E3"
             },
             "line": {
              "color": "white"
             }
            },
            "type": "table"
           }
          ]
         },
         "layout": {
          "annotationdefaults": {
           "arrowcolor": "#2a3f5f",
           "arrowhead": 0,
           "arrowwidth": 1
          },
          "autotypenumbers": "strict",
          "coloraxis": {
           "colorbar": {
            "outlinewidth": 0,
            "ticks": ""
           }
          },
          "colorscale": {
           "diverging": [
            [
             0,
             "#8e0152"
            ],
            [
             0.1,
             "#c51b7d"
            ],
            [
             0.2,
             "#de77ae"
            ],
            [
             0.3,
             "#f1b6da"
            ],
            [
             0.4,
             "#fde0ef"
            ],
            [
             0.5,
             "#f7f7f7"
            ],
            [
             0.6,
             "#e6f5d0"
            ],
            [
             0.7,
             "#b8e186"
            ],
            [
             0.8,
             "#7fbc41"
            ],
            [
             0.9,
             "#4d9221"
            ],
            [
             1,
             "#276419"
            ]
           ],
           "sequential": [
            [
             0,
             "#0d0887"
            ],
            [
             0.1111111111111111,
             "#46039f"
            ],
            [
             0.2222222222222222,
             "#7201a8"
            ],
            [
             0.3333333333333333,
             "#9c179e"
            ],
            [
             0.4444444444444444,
             "#bd3786"
            ],
            [
             0.5555555555555556,
             "#d8576b"
            ],
            [
             0.6666666666666666,
             "#ed7953"
            ],
            [
             0.7777777777777778,
             "#fb9f3a"
            ],
            [
             0.8888888888888888,
             "#fdca26"
            ],
            [
             1,
             "#f0f921"
            ]
           ],
           "sequentialminus": [
            [
             0,
             "#0d0887"
            ],
            [
             0.1111111111111111,
             "#46039f"
            ],
            [
             0.2222222222222222,
             "#7201a8"
            ],
            [
             0.3333333333333333,
             "#9c179e"
            ],
            [
             0.4444444444444444,
             "#bd3786"
            ],
            [
             0.5555555555555556,
             "#d8576b"
            ],
            [
             0.6666666666666666,
             "#ed7953"
            ],
            [
             0.7777777777777778,
             "#fb9f3a"
            ],
            [
             0.8888888888888888,
             "#fdca26"
            ],
            [
             1,
             "#f0f921"
            ]
           ]
          },
          "colorway": [
           "#636efa",
           "#EF553B",
           "#00cc96",
           "#ab63fa",
           "#FFA15A",
           "#19d3f3",
           "#FF6692",
           "#B6E880",
           "#FF97FF",
           "#FECB52"
          ],
          "font": {
           "color": "#2a3f5f"
          },
          "geo": {
           "bgcolor": "white",
           "lakecolor": "white",
           "landcolor": "#E5ECF6",
           "showlakes": true,
           "showland": true,
           "subunitcolor": "white"
          },
          "hoverlabel": {
           "align": "left"
          },
          "hovermode": "closest",
          "mapbox": {
           "style": "light"
          },
          "paper_bgcolor": "white",
          "plot_bgcolor": "#E5ECF6",
          "polar": {
           "angularaxis": {
            "gridcolor": "white",
            "linecolor": "white",
            "ticks": ""
           },
           "bgcolor": "#E5ECF6",
           "radialaxis": {
            "gridcolor": "white",
            "linecolor": "white",
            "ticks": ""
           }
          },
          "scene": {
           "xaxis": {
            "backgroundcolor": "#E5ECF6",
            "gridcolor": "white",
            "gridwidth": 2,
            "linecolor": "white",
            "showbackground": true,
            "ticks": "",
            "zerolinecolor": "white"
           },
           "yaxis": {
            "backgroundcolor": "#E5ECF6",
            "gridcolor": "white",
            "gridwidth": 2,
            "linecolor": "white",
            "showbackground": true,
            "ticks": "",
            "zerolinecolor": "white"
           },
           "zaxis": {
            "backgroundcolor": "#E5ECF6",
            "gridcolor": "white",
            "gridwidth": 2,
            "linecolor": "white",
            "showbackground": true,
            "ticks": "",
            "zerolinecolor": "white"
           }
          },
          "shapedefaults": {
           "line": {
            "color": "#2a3f5f"
           }
          },
          "ternary": {
           "aaxis": {
            "gridcolor": "white",
            "linecolor": "white",
            "ticks": ""
           },
           "baxis": {
            "gridcolor": "white",
            "linecolor": "white",
            "ticks": ""
           },
           "bgcolor": "#E5ECF6",
           "caxis": {
            "gridcolor": "white",
            "linecolor": "white",
            "ticks": ""
           }
          },
          "title": {
           "x": 0.05
          },
          "xaxis": {
           "automargin": true,
           "gridcolor": "white",
           "linecolor": "white",
           "ticks": "",
           "title": {
            "standoff": 15
           },
           "zerolinecolor": "white",
           "zerolinewidth": 2
          },
          "yaxis": {
           "automargin": true,
           "gridcolor": "white",
           "linecolor": "white",
           "ticks": "",
           "title": {
            "standoff": 15
           },
           "zerolinecolor": "white",
           "zerolinewidth": 2
          }
         }
        },
        "title": {
         "text": "Distribution of Lung Disease"
        },
        "xaxis": {
         "anchor": "y",
         "domain": [
          0,
          1
         ],
         "title": {
          "text": "chronic Lung Disease"
         }
        },
        "yaxis": {
         "anchor": "x",
         "domain": [
          0,
          1
         ],
         "title": {
          "text": "count"
         }
        }
       }
      }
     },
     "metadata": {},
     "output_type": "display_data"
    }
   ],
   "source": [
    "# Lung Disease and Shortness of Breath\n",
    "fig = px.histogram(lung, x = 'chronic Lung Disease', color = 'Shortness of Breath', nbins = 10, title = 'Distribution of Lung Disease', text_auto = True)\n",
    "fig.show()"
   ]
  },
  {
   "attachments": {},
   "cell_type": "markdown",
   "metadata": {},
   "source": [
    "## Conclusion\n",
    "\n",
    "People who smoke, live in places with severe air pollution and have a dust allergy are generally more prone to lung cancer.\n",
    "\n",
    "However, if one notices chest pain and start coughing up blood, they should also check if they have lung cancer.\n",
    "\n",
    "Lung cancer is one of the many cancers that only show symptoms in the later stages were the illness is terminal. Hence, people who are more predisposed to lung cancer due to environmental and physiological factors should be even more aware and get tested regularly. "
   ]
  },
  {
   "attachments": {},
   "cell_type": "markdown",
   "metadata": {},
   "source": [
    "### Limitations\n",
    "\n",
    "1. Dataset does not say what \"levels\" refers to, so I am assuming 10 refers to a relative high and 1 refers to a relative low. \n",
    "    1.1 Dust allergy levels refers to severity and sensitivity of allergy\n",
    "2. Gender: 1 refers to male, 2 refers to female\n",
    "3. Assuming Level refers to severity of disease"
   ]
  }
 ],
 "metadata": {
  "kernelspec": {
   "display_name": "Python 3",
   "language": "python",
   "name": "python3"
  },
  "language_info": {
   "codemirror_mode": {
    "name": "ipython",
    "version": 3
   },
   "file_extension": ".py",
   "mimetype": "text/x-python",
   "name": "python",
   "nbconvert_exporter": "python",
   "pygments_lexer": "ipython3",
   "version": "3.9.13"
  },
  "orig_nbformat": 4
 },
 "nbformat": 4,
 "nbformat_minor": 2
}
